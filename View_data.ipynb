{
 "cells": [
  {
   "metadata": {},
   "cell_type": "markdown",
   "source": [
    "训练zinc数据集的指令为\n",
    "`python train_zinc.py --abs-pe rw --se khopgnn --gnn-type pna2 --dropout 0.2 --k-hop 3 --use-edge-attr`"
   ],
   "id": "b577a1a119f61d02"
  },
  {
   "cell_type": "code",
   "id": "initial_id",
   "metadata": {
    "collapsed": true,
    "ExecuteTime": {
     "end_time": "2025-03-11T01:14:39.512083Z",
     "start_time": "2025-03-11T01:14:39.489180Z"
    }
   },
   "source": [
    "\n",
    "'''\n",
    "Namespace(abs_pe='rw',\n",
    "            abs_pe_dim=20,\n",
    "            batch_norm=True,\n",
    "            batch_size=128,\n",
    "            crystal_dataset='ZINC',\n",
    "            dim_hidden=64, dropout=0.2,\n",
    "            edge_dim=32,\n",
    "            epochs=2000,\n",
    "            global_pool='mean',\n",
    "            gnn_type='pna2',\n",
    "            k_hop=3,\n",
    "            layer_norm=False,\n",
    "            lr=0.001,\n",
    "            num_heads=8,\n",
    "            num_layers=6,\n",
    "            outdir='',\n",
    "            save_logs=False,\n",
    "            se='khopgnn',\n",
    "            seed=0,\n",
    "            use_cuda=True,\n",
    "            use_edge_attr=True,\n",
    "            warmup=5000,\n",
    "            weight_decay=1e-05)\n",
    "'''"
   ],
   "outputs": [
    {
     "data": {
      "text/plain": [
       "\"\\nNamespace(abs_pe='rw',\\n            abs_pe_dim=20,\\n            batch_norm=True,\\n            batch_size=128,\\n            crystal_dataset='ZINC',\\n            dim_hidden=64, dropout=0.2,\\n            edge_dim=32,\\n            epochs=2000,\\n            global_pool='mean',\\n            gnn_type='pna2',\\n            k_hop=3,\\n            layer_norm=False,\\n            lr=0.001,\\n            num_heads=8,\\n            num_layers=6,\\n            outdir='',\\n            save_logs=False,\\n            se='khopgnn',\\n            seed=0,\\n            use_cuda=True,\\n            use_edge_attr=True,\\n            warmup=5000,\\n            weight_decay=1e-05)\\n\""
      ]
     },
     "execution_count": 154,
     "metadata": {},
     "output_type": "execute_result"
    }
   ],
   "execution_count": 154
  },
  {
   "metadata": {},
   "cell_type": "markdown",
   "source": "在这个project中，train_zinc是可以运行的，请放心，接下来，我们来对比看看zinc数据和crystal数据的差别，为什么crystal经过转化之后就不可以运行",
   "id": "8a6cdceb7c3a8856"
  },
  {
   "metadata": {},
   "cell_type": "markdown",
   "source": "# import here",
   "id": "b9571164f3d22fdf"
  },
  {
   "metadata": {
    "ExecuteTime": {
     "end_time": "2025-03-11T02:23:24.821125Z",
     "start_time": "2025-03-11T02:23:24.790256Z"
    }
   },
   "cell_type": "code",
   "source": [
    "import importlib\n",
    "from csat.data import GraphDataset\n",
    "\n",
    "from torch_geometric.data import DataLoader\n",
    "from torch_geometric import datasets\n",
    "import csat.crytal_data\n",
    "importlib.reload(csat.crytal_data)\n",
    "from csat.crytal_data import crystal_graph_list,CIFData\n",
    "from csat.models import GraphTransformer\n",
    "import os\n",
    "import copy\n",
    "import argparse\n",
    "import numpy as np\n",
    "import pandas as pd\n",
    "from collections import defaultdict\n",
    "import torch\n",
    "from torch import nn, optim\n",
    "import torch.nn.functional as F\n",
    "import torch_geometric.utils as utils\n",
    "from torch.utils.data import  Subset\n",
    "\n",
    "import warnings\n",
    "warnings.filterwarnings(\"ignore\")\n",
    "\n",
    "abs_pe='rw'\n",
    "k_hop = 2\n",
    "se = 'khopgnn'\n",
    "use_edge_attr = True\n",
    "abs_pe='rw'\n",
    "abs_pe_dim=20\n",
    "batch_norm=True\n",
    "batch_size=128\n",
    "dim_hidden=64\n",
    "dropout=0.2\n",
    "edge_dim=32\n",
    "epochs=50\n",
    "global_pool='mean'\n",
    "gnn_type='pna2'\n",
    "layer_norm=False\n",
    "lr=0.001\n",
    "num_heads=8\n",
    "num_layers=6\n",
    "outdir=''\n",
    "save_logs=False\n",
    "seed=0\n",
    "use_cuda=True\n",
    "epochs = 50\n",
    "warmup=5000\n",
    "weight_decay=1e-05\n",
    "device = torch.device('cuda' if torch.cuda.is_available() else 'cpu')"
   ],
   "id": "cbb212a4b2cd23fb",
   "outputs": [],
   "execution_count": 167
  },
  {
   "metadata": {},
   "cell_type": "markdown",
   "source": "# 文件地址",
   "id": "514e8d5d37c40160"
  },
  {
   "metadata": {
    "ExecuteTime": {
     "end_time": "2025-03-11T01:14:46.664277Z",
     "start_time": "2025-03-11T01:14:46.649397Z"
    }
   },
   "cell_type": "code",
   "source": [
    "zinc_data_path = './zinc_datasets/ZINC'\n",
    "crystal_data_path = './sample-regression'"
   ],
   "id": "7578a72dd2fffd40",
   "outputs": [],
   "execution_count": 156
  },
  {
   "metadata": {},
   "cell_type": "markdown",
   "source": "# ZINC and Crystal",
   "id": "5cd92b2ab0b10099"
  },
  {
   "metadata": {
    "ExecuteTime": {
     "end_time": "2025-03-11T01:59:31.516133Z",
     "start_time": "2025-03-11T01:59:31.493232Z"
    }
   },
   "cell_type": "code",
   "source": [
    "train_zinc = datasets.ZINC(zinc_data_path, subset=True,split='train')\n",
    "print(len(train_zinc))\n",
    "#indices = range(0, 10) # 1~10\n",
    "#train_zinc = torch.utils.data.Subset(train_zinc, indices)\n",
    "\n",
    "\n",
    "\n",
    "print(train_zinc,'zinc数据集是一个图的list集合。')\n",
    "print(type(train_zinc))\n",
    "print('zinc数据集图的数量：',len(train_zinc))\n",
    "print(train_zinc[0].x)\n",
    "print('zinc数据集第1张图的数据类型为：',train_zinc[0])\n",
    "print('zinc数据集第10张图的数据类型为：',train_zinc[9])"
   ],
   "id": "69adcaf49935e0d",
   "outputs": [
    {
     "name": "stdout",
     "output_type": "stream",
     "text": [
      "10000\n",
      "ZINC(10000) zinc数据集是一个图的list集合。\n",
      "<class 'torch_geometric.datasets.zinc.ZINC'>\n",
      "zinc数据集图的数量： 10000\n",
      "tensor([[0],\n",
      "        [1],\n",
      "        [0],\n",
      "        [0],\n",
      "        [0],\n",
      "        [0],\n",
      "        [0],\n",
      "        [0],\n",
      "        [0],\n",
      "        [1],\n",
      "        [0],\n",
      "        [0],\n",
      "        [2],\n",
      "        [0],\n",
      "        [0],\n",
      "        [2],\n",
      "        [5],\n",
      "        [1],\n",
      "        [1],\n",
      "        [0],\n",
      "        [0],\n",
      "        [2],\n",
      "        [0],\n",
      "        [0],\n",
      "        [0],\n",
      "        [0],\n",
      "        [0],\n",
      "        [0],\n",
      "        [0]])\n",
      "zinc数据集第1张图的数据类型为： Data(x=[29, 1], edge_index=[2, 64], edge_attr=[64], y=[1])\n",
      "zinc数据集第10张图的数据类型为： Data(x=[18, 1], edge_index=[2, 38], edge_attr=[38], y=[1])\n"
     ]
    }
   ],
   "execution_count": 166
  },
  {
   "metadata": {},
   "cell_type": "markdown",
   "source": [
    "在这里有一个矛盾的地方：\n",
    "x=[29,28]\n",
    "官方说明zinc数据集中num_node_fea应该是28，这是全部为1，启发了我的降维想法"
   ],
   "id": "ab5852c344e7218d"
  },
  {
   "metadata": {
    "ExecuteTime": {
     "end_time": "2025-03-11T02:23:29.830352Z",
     "start_time": "2025-03-11T02:23:29.782534Z"
    }
   },
   "cell_type": "code",
   "source": [
    "crystal_data = CIFData(crystal_data_path)\n",
    "print(crystal_data)\n",
    "print(\"crystal data 是一个元组的形式，其数据结构为(atom_fea, nbr_fea, nbr_fea_idx), target, cif_id\")\n",
    "print(\"对应的图数据类型为                             x,  edge_attr,   edge_index\")\n",
    "c_structures, target, cif_id = crystal_data[0]\n",
    "print('atom_fea: (n_i, atom_fea_len)',c_structures[0].shape)\n",
    "print('nbr_fea: (n_i, M, nbr_fea_len)',c_structures[1].shape)\n",
    "print('nbr_fea_idx: (n_i, M)',c_structures[2].shape)\n",
    "print(\"于是，我们需要把他转化为与zinc一样的graph_list\")"
   ],
   "id": "6bc19469c260a38",
   "outputs": [
    {
     "name": "stdout",
     "output_type": "stream",
     "text": [
      "<csat.crytal_data.CIFData object at 0x000001E1B71BC490>\n",
      "crystal data 是一个元组的形式，其数据结构为(atom_fea, nbr_fea, nbr_fea_idx), target, cif_id\n",
      "对应的图数据类型为                             x,  edge_attr,   edge_index\n",
      "atom_fea: (n_i, atom_fea_len) torch.Size([8, 92])\n",
      "nbr_fea: (n_i, M, nbr_fea_len) torch.Size([8, 12, 41])\n",
      "nbr_fea_idx: (n_i, M) torch.Size([8, 12])\n",
      "于是，我们需要把他转化为与zinc一样的graph_list\n"
     ]
    }
   ],
   "execution_count": 168
  },
  {
   "metadata": {},
   "cell_type": "markdown",
   "source": "## 从此处隔断",
   "id": "dd5eb93e46f2cb40"
  },
  {
   "metadata": {
    "ExecuteTime": {
     "end_time": "2025-03-09T10:18:54.927909Z",
     "start_time": "2025-03-09T10:18:54.676412Z"
    }
   },
   "cell_type": "code",
   "outputs": [
    {
     "name": "stdout",
     "output_type": "stream",
     "text": [
      "<csat.crytal_data.CIFData object at 0x000001F21DD33340>\n",
      "crystal data 是一个元组的形式，其数据结构为(atom_fea, nbr_fea, nbr_fea_idx), target, cif_id\n",
      "对应的图数据类型为                             x,       \n",
      "于是，我们需要把他转化为与zinc一样的graph_list\n",
      "正在转化的数据集大小为： 10\n"
     ]
    },
    {
     "name": "stderr",
     "output_type": "stream",
     "text": [
      "100%|██████████| 10/10 [00:00<00:00, 43.00it/s]"
     ]
    },
    {
     "name": "stdout",
     "output_type": "stream",
     "text": [
      "这是crystal list的数据类型 <class 'list'>\n",
      "crystal list图的数量： 10\n",
      "crystal list第1张图的数据类型为 Data(x=[8, 92], edge_index=[8, 12], edge_attr=[8, 12, 41], y=[1])\n",
      "crystal list第10张图的数据类型为 Data(x=[8, 92], edge_index=[8, 12], edge_attr=[8, 12, 41], y=[1])\n"
     ]
    },
    {
     "name": "stderr",
     "output_type": "stream",
     "text": [
      "\n"
     ]
    }
   ],
   "execution_count": 12,
   "source": [
    "crystal_list = crystal_graph_list(crystal_data)\n",
    "print('这是crystal list的数据类型',type(crystal_list))\n",
    "print('crystal list图的数量：',len(crystal_list))\n",
    "print('crystal list第1张图的数据类型为',crystal_list[0])\n",
    "print('crystal list第10张图的数据类型为',crystal_list[9])"
   ],
   "id": "ee7aaaa1fbbe3af"
  },
  {
   "metadata": {},
   "cell_type": "markdown",
   "source": [
    "由此我们可以发现\n",
    "\n",
    "zinc：\n",
    "\n",
    "\n",
    "zinc数据集第1张图的数据类型为： Data(x=[29, 1], edge_index=[2, 64], edge_attr=[64], y=[1])\n",
    "\n",
    "zinc数据集第100张图的数据类型为： Data(x=[27, 1], edge_index=[2, 60], edge_attr=[60], y=[1])\n",
    "\n",
    "crystal：\n",
    "\n",
    "crystal list第1张图的数据类型为 Data(x=[8, 92], edge_index=[8, 12], edge_attr=[8, 12, 41], y=[1])\n",
    "\n",
    "crystal list第10张图的数据类型为 Data(x=[8, 92], edge_index=[8, 12], edge_attr=[8, 12, 41],y=[1])\n",
    "\n",
    "在CIFDATA数据中\n",
    "```text\n",
    "atom_fea: torch.Tensor shape (n_i, atom_fea_len)\n",
    "nbr_fea: torch.Tensor shape (n_i, M, nbr_fea_len)\n",
    "nbr_fea_idx: torch.LongTensor shape (n_i, M)\n",
    "target: torch.Tensor shape (1, )\n",
    "```\n",
    "\n",
    "我们就需要对其做出修改,将egde_index改为[2, num_edges],将edge_attr降维为1维度。"
   ],
   "id": "409942864eb2bb29"
  },
  {
   "metadata": {
    "ExecuteTime": {
     "end_time": "2025-03-09T10:37:48.317826Z",
     "start_time": "2025-03-09T10:37:48.298774Z"
    }
   },
   "cell_type": "code",
   "source": [
    "print('这是重新编写之后的crystal list！')\n",
    "crystal_list = crystal_graph_list(crystal_data)\n",
    "print('这是crystal list的数据类型',type(crystal_list))\n",
    "print('crystal list图的数量：',len(crystal_list))\n",
    "print('crystal list第1张图的数据类型为',crystal_list[0])\n",
    "print('crystal list第10张图的数据类型为',crystal_list[9])"
   ],
   "id": "1f959852d6bb0f18",
   "outputs": [
    {
     "name": "stdout",
     "output_type": "stream",
     "text": [
      "这是重新编写之后的crystal list！\n",
      "正在转化的数据集大小为： 10\n"
     ]
    },
    {
     "name": "stderr",
     "output_type": "stream",
     "text": [
      "100%|██████████| 10/10 [00:00<00:00, 5024.32it/s]"
     ]
    },
    {
     "name": "stdout",
     "output_type": "stream",
     "text": [
      "这是crystal list的数据类型 <class 'list'>\n",
      "crystal list图的数量： 10\n",
      "crystal list第1张图的数据类型为 Data(x=[8, 92], edge_index=[2, 48], edge_attr=[96], y=[1])\n",
      "crystal list第10张图的数据类型为 Data(x=[8, 92], edge_index=[2, 48], edge_attr=[96], y=[1])\n"
     ]
    },
    {
     "name": "stderr",
     "output_type": "stream",
     "text": [
      "\n"
     ]
    }
   ],
   "execution_count": 26
  },
  {
   "metadata": {},
   "cell_type": "markdown",
   "source": [
    "这是\n",
    "然后调用sat的graphdataset提取子图"
   ],
   "id": "82856bf3114c0498"
  },
  {
   "metadata": {
    "ExecuteTime": {
     "end_time": "2025-03-09T13:22:49.015790Z",
     "start_time": "2025-03-09T13:22:48.933141Z"
    }
   },
   "cell_type": "code",
   "source": [
    "train_zinc_dset = GraphDataset(train_zinc,degree=True, k_hop=k_hop, se=se,use_subgraph_edge_attr=use_edge_attr)\n",
    "print(train_zinc_dset)\n",
    "print('含有子图第一张图数据为：',train_zinc_dset[0])"
   ],
   "id": "16d26f70396f620a",
   "outputs": [
    {
     "name": "stdout",
     "output_type": "stream",
     "text": [
      "Extracting 2-hop subgraphs...\n",
      "Done!\n",
      "<csat.data.GraphDataset object at 0x000001F2AA118CD0>\n",
      "含有子图第一张图数据为： Data(x=[29], edge_index=[2, 64], edge_attr=[64], y=[1, 1], complete_edge_index=[2, 841], degree=[29], subgraph_edge_index=[2, 326], num_subgraph_nodes=187, subgraph_node_idx=[187], subgraph_edge_attr=[326], subgraph_indicator=[187])\n"
     ]
    }
   ],
   "execution_count": 97
  },
  {
   "metadata": {},
   "cell_type": "markdown",
   "source": "",
   "id": "8941049b11a2d294"
  },
  {
   "metadata": {
    "ExecuteTime": {
     "end_time": "2025-03-09T14:47:27.391682Z",
     "start_time": "2025-03-09T14:47:27.343885Z"
    }
   },
   "cell_type": "code",
   "source": [
    "train_c_dset = GraphDataset(crystal_list,degree=True, k_hop=k_hop, se=se,use_subgraph_edge_attr=use_edge_attr)\n",
    "print('含有子图的crystal数据集第一张图数据为：',trian_c_dset[0])"
   ],
   "id": "11a5a7f6afb2f86e",
   "outputs": [
    {
     "name": "stdout",
     "output_type": "stream",
     "text": [
      "Extracting 2-hop subgraphs...\n",
      "Done!\n",
      "含有子图的crystal数据集第一张图数据为： Data(x=[8, 92], edge_index=[2, 12], edge_attr=[12], y=[1, 1], complete_edge_index=[2, 64], subgraph_edge_index=[2, 14], num_subgraph_nodes=15, subgraph_node_idx=[15], subgraph_edge_attr=[14], subgraph_indicator=[15], degree=[8])\n"
     ]
    }
   ],
   "execution_count": 163
  },
  {
   "metadata": {},
   "cell_type": "markdown",
   "source": [
    "我的原数据为`Data(x=[8, 92], edge_index=[8, 12], edge_attr=[8, 12, 41], y=[1])`，再经过edge_index转化[2,n]以及edge_attr降维之后变成：`Data(x=[8, 92], edge_index=[2, 48], edge_attr=[96], y=[1])`。\n",
    "\n",
    "于是出现了问题：edge_mask 是一个布尔张量，用于选择与当前子图相关的边。它的长度应该等于graph.edge_index 的边数（即 graph.edge_index.shape[1]）。但是graph.edge_attr 的长度是 96，因此无法用 edge_mask 对 graph.edge_attr 进行索引。\n",
    "\n",
    "因此对crystal_graph_list进行改写，使用了稀疏矩阵的方法重新改写，再测试"
   ],
   "id": "e320268c0563cff9"
  },
  {
   "metadata": {},
   "cell_type": "markdown",
   "source": "## 从此处开始运行",
   "id": "e9514fa7db5542da"
  },
  {
   "metadata": {
    "ExecuteTime": {
     "end_time": "2025-03-11T02:23:32.651375Z",
     "start_time": "2025-03-11T02:23:32.265405Z"
    }
   },
   "cell_type": "code",
   "source": [
    "print('这是第二次重新编写之后的crystal list！')\n",
    "crystal_list = crystal_graph_list(crystal_data)\n",
    "print('这是crystal list的数据类型',type(crystal_list))\n",
    "print('crystal list图的数量：',len(crystal_list))\n",
    "print('crystal list第1张图的数据类型为',crystal_list[0])\n",
    "print('crystal list第10张图的数据类型为',crystal_list[9])"
   ],
   "id": "27791441310f579d",
   "outputs": [
    {
     "name": "stdout",
     "output_type": "stream",
     "text": [
      "这是第二次重新编写之后的crystal list！\n"
     ]
    },
    {
     "name": "stderr",
     "output_type": "stream",
     "text": [
      " 40%|████      | 4/10 [00:00<00:00, 22.69it/s]"
     ]
    },
    {
     "name": "stdout",
     "output_type": "stream",
     "text": [
      "Warning: edge_index contains self-loops.\n",
      "Warning: edge_index contains self-loops.\n",
      "Warning: edge_index contains self-loops.\n",
      "Warning: edge_index contains self-loops.\n"
     ]
    },
    {
     "name": "stderr",
     "output_type": "stream",
     "text": [
      "100%|██████████| 10/10 [00:00<00:00, 26.88it/s]"
     ]
    },
    {
     "name": "stdout",
     "output_type": "stream",
     "text": [
      "Warning: edge_index contains self-loops.\n",
      "这是crystal list的数据类型 <class 'list'>\n",
      "crystal list图的数量： 10\n",
      "crystal list第1张图的数据类型为 Data(x=[8, 92], edge_index=[2, 56], edge_attr=[56, 41], y=[1])\n",
      "crystal list第10张图的数据类型为 Data(x=[8, 92], edge_index=[2, 48], edge_attr=[48, 41], y=[1])\n"
     ]
    },
    {
     "name": "stderr",
     "output_type": "stream",
     "text": [
      "\n"
     ]
    }
   ],
   "execution_count": 169
  },
  {
   "metadata": {},
   "cell_type": "markdown",
   "source": "结果表明很成功",
   "id": "5ce1a5ff3d29d8f0"
  },
  {
   "metadata": {
    "ExecuteTime": {
     "end_time": "2025-03-11T02:25:00.565482Z",
     "start_time": "2025-03-11T02:23:38.624613Z"
    }
   },
   "cell_type": "code",
   "source": [
    "train_c_dset = GraphDataset(crystal_list,degree=True, k_hop=k_hop, se=se,use_subgraph_edge_attr=use_edge_attr)\n",
    "print('c',train_c_dset[0])\n",
    "\n",
    "train_zinc_dset = GraphDataset(train_zinc, degree=True, k_hop=k_hop, se=se, use_subgraph_edge_attr=use_edge_attr)\n",
    "print(train_zinc_dset)\n",
    "print('z', train_zinc_dset[0])"
   ],
   "id": "446185615707cd1c",
   "outputs": [
    {
     "name": "stdout",
     "output_type": "stream",
     "text": [
      "Extracting 2-hop subgraphs...\n",
      "Done!\n",
      "c Data(x=[8, 92], edge_index=[2, 56], edge_attr=[56, 41], y=[1, 1], complete_edge_index=[2, 64], degree=[8], subgraph_edge_index=[2, 448], num_subgraph_nodes=64, subgraph_node_idx=[64], subgraph_edge_attr=[448, 41], subgraph_indicator=[64])\n",
      "Extracting 2-hop subgraphs...\n",
      "Done!\n",
      "<csat.data.GraphDataset object at 0x000001E0927F4850>\n",
      "z Data(x=[29], edge_index=[2, 64], edge_attr=[64], y=[1, 1], complete_edge_index=[2, 841], degree=[29], subgraph_edge_index=[2, 326], num_subgraph_nodes=187, subgraph_node_idx=[187], subgraph_edge_attr=[326], subgraph_indicator=[187])\n"
     ]
    }
   ],
   "execution_count": 170
  },
  {
   "metadata": {},
   "cell_type": "markdown",
   "source": [
    "# 检查model(dataset)\n",
    "在开始训练之前，出现了如下：\n",
    "\n",
    "RuntimeError: The expanded size of the tensor (276) must match the existing size (3) at non-singleton dimension 0.  Target sizes: [276, 64].  Tensor sizes: [3, 1]"
   ],
   "id": "95d4fb0b572712e4"
  },
  {
   "metadata": {
    "ExecuteTime": {
     "end_time": "2025-03-11T02:25:03.825078Z",
     "start_time": "2025-03-11T02:25:00.659692Z"
    }
   },
   "cell_type": "code",
   "source": [
    "print('zinc数据集第1张图的数据类型为：',train_zinc[0])\n",
    "print('\\n')\n",
    "print('含有子图的zinc第1张',train_zinc_dset[0])\n",
    "print('\\n')\n",
    "print('zinc数据集在loader前',train_zinc_dset[0])\n",
    "train_zinc_loader = DataLoader(train_zinc_dset, batch_size=128,shuffle=True)\n",
    "print('\\n')\n",
    "for batch in train_zinc_loader:\n",
    "    print('loader之后：',batch)"
   ],
   "id": "e81c340cc5dc006b",
   "outputs": [
    {
     "name": "stdout",
     "output_type": "stream",
     "text": [
      "zinc数据集第1张图的数据类型为： Data(x=[29, 1], edge_index=[2, 64], edge_attr=[64], y=[1])\n",
      "\n",
      "\n",
      "含有子图的zinc第1张 Data(x=[29], edge_index=[2, 64], edge_attr=[64], y=[1, 1], complete_edge_index=[2, 841], degree=[29], subgraph_edge_index=[2, 326], num_subgraph_nodes=187, subgraph_node_idx=[187], subgraph_edge_attr=[326], subgraph_indicator=[187])\n",
      "\n",
      "\n",
      "zinc数据集在loader前 Data(x=[29], edge_index=[2, 64], edge_attr=[64], y=[1, 1], complete_edge_index=[2, 841], degree=[29], subgraph_edge_index=[2, 326], num_subgraph_nodes=187, subgraph_node_idx=[187], subgraph_edge_attr=[326], subgraph_indicator=[187])\n",
      "\n",
      "\n",
      "loader之后： DataBatch(x=[2939], edge_index=[2, 6338], edge_attr=[6338], y=[128, 1], complete_edge_index=[2, 70089], degree=[2939], subgraph_edge_index=[2, 31422], num_subgraph_nodes=[128], subgraph_node_idx=[18063], subgraph_edge_attr=[31422], subgraph_indicator=[18063], batch=[2939], ptr=[129])\n",
      "loader之后： DataBatch(x=[2936], edge_index=[2, 6312], edge_attr=[6312], y=[128, 1], complete_edge_index=[2, 69484], degree=[2936], subgraph_edge_index=[2, 31204], num_subgraph_nodes=[128], subgraph_node_idx=[17926], subgraph_edge_attr=[31204], subgraph_indicator=[17926], batch=[2936], ptr=[129])\n",
      "loader之后： DataBatch(x=[2942], edge_index=[2, 6318], edge_attr=[6318], y=[128, 1], complete_edge_index=[2, 70386], degree=[2942], subgraph_edge_index=[2, 31274], num_subgraph_nodes=[128], subgraph_node_idx=[17994], subgraph_edge_attr=[31274], subgraph_indicator=[17994], batch=[2942], ptr=[129])\n",
      "loader之后： DataBatch(x=[2945], edge_index=[2, 6340], edge_attr=[6340], y=[128, 1], complete_edge_index=[2, 70201], degree=[2945], subgraph_edge_index=[2, 31532], num_subgraph_nodes=[128], subgraph_node_idx=[18087], subgraph_edge_attr=[31532], subgraph_indicator=[18087], batch=[2945], ptr=[129])\n",
      "loader之后： DataBatch(x=[2919], edge_index=[2, 6308], edge_attr=[6308], y=[128, 1], complete_edge_index=[2, 69117], degree=[2919], subgraph_edge_index=[2, 31340], num_subgraph_nodes=[128], subgraph_node_idx=[17943], subgraph_edge_attr=[31340], subgraph_indicator=[17943], batch=[2919], ptr=[129])\n",
      "loader之后： DataBatch(x=[2924], edge_index=[2, 6290], edge_attr=[6290], y=[128, 1], complete_edge_index=[2, 69090], degree=[2924], subgraph_edge_index=[2, 30996], num_subgraph_nodes=[128], subgraph_node_idx=[17878], subgraph_edge_attr=[30996], subgraph_indicator=[17878], batch=[2924], ptr=[129])\n",
      "loader之后： DataBatch(x=[2888], edge_index=[2, 6220], edge_attr=[6220], y=[128, 1], complete_edge_index=[2, 67914], degree=[2888], subgraph_edge_index=[2, 30788], num_subgraph_nodes=[128], subgraph_node_idx=[17692], subgraph_edge_attr=[30788], subgraph_indicator=[17692], batch=[2888], ptr=[129])\n",
      "loader之后： DataBatch(x=[3050], edge_index=[2, 6576], edge_attr=[6576], y=[128, 1], complete_edge_index=[2, 75056], degree=[3050], subgraph_edge_index=[2, 32398], num_subgraph_nodes=[128], subgraph_node_idx=[18638], subgraph_edge_attr=[32398], subgraph_indicator=[18638], batch=[3050], ptr=[129])\n",
      "loader之后： DataBatch(x=[3001], edge_index=[2, 6416], edge_attr=[6416], y=[128, 1], complete_edge_index=[2, 72857], degree=[3001], subgraph_edge_index=[2, 31594], num_subgraph_nodes=[128], subgraph_node_idx=[18275], subgraph_edge_attr=[31594], subgraph_indicator=[18275], batch=[3001], ptr=[129])\n",
      "loader之后： DataBatch(x=[2952], edge_index=[2, 6360], edge_attr=[6360], y=[128, 1], complete_edge_index=[2, 71124], degree=[2952], subgraph_edge_index=[2, 31574], num_subgraph_nodes=[128], subgraph_node_idx=[18116], subgraph_edge_attr=[31574], subgraph_indicator=[18116], batch=[2952], ptr=[129])\n",
      "loader之后： DataBatch(x=[3023], edge_index=[2, 6506], edge_attr=[6506], y=[128, 1], complete_edge_index=[2, 73367], degree=[3023], subgraph_edge_index=[2, 32140], num_subgraph_nodes=[128], subgraph_node_idx=[18507], subgraph_edge_attr=[32140], subgraph_indicator=[18507], batch=[3023], ptr=[129])\n",
      "loader之后： DataBatch(x=[2950], edge_index=[2, 6336], edge_attr=[6336], y=[128, 1], complete_edge_index=[2, 69996], degree=[2950], subgraph_edge_index=[2, 31160], num_subgraph_nodes=[128], subgraph_node_idx=[18018], subgraph_edge_attr=[31160], subgraph_indicator=[18018], batch=[2950], ptr=[129])\n",
      "loader之后： DataBatch(x=[2880], edge_index=[2, 6190], edge_attr=[6190], y=[128, 1], complete_edge_index=[2, 66782], degree=[2880], subgraph_edge_index=[2, 30506], num_subgraph_nodes=[128], subgraph_node_idx=[17552], subgraph_edge_attr=[30506], subgraph_indicator=[17552], batch=[2880], ptr=[129])\n",
      "loader之后： DataBatch(x=[2974], edge_index=[2, 6418], edge_attr=[6418], y=[128, 1], complete_edge_index=[2, 72064], degree=[2974], subgraph_edge_index=[2, 31790], num_subgraph_nodes=[128], subgraph_node_idx=[18246], subgraph_edge_attr=[31790], subgraph_indicator=[18246], batch=[2974], ptr=[129])\n",
      "loader之后： DataBatch(x=[2984], edge_index=[2, 6424], edge_attr=[6424], y=[128, 1], complete_edge_index=[2, 71926], degree=[2984], subgraph_edge_index=[2, 31768], num_subgraph_nodes=[128], subgraph_node_idx=[18274], subgraph_edge_attr=[31768], subgraph_indicator=[18274], batch=[2984], ptr=[129])\n",
      "loader之后： DataBatch(x=[2999], edge_index=[2, 6480], edge_attr=[6480], y=[128, 1], complete_edge_index=[2, 72765], degree=[2999], subgraph_edge_index=[2, 32228], num_subgraph_nodes=[128], subgraph_node_idx=[18447], subgraph_edge_attr=[32228], subgraph_indicator=[18447], batch=[2999], ptr=[129])\n",
      "loader之后： DataBatch(x=[2956], edge_index=[2, 6370], edge_attr=[6370], y=[128, 1], complete_edge_index=[2, 70998], degree=[2956], subgraph_edge_index=[2, 31422], num_subgraph_nodes=[128], subgraph_node_idx=[18098], subgraph_edge_attr=[31422], subgraph_indicator=[18098], batch=[2956], ptr=[129])\n",
      "loader之后： DataBatch(x=[3030], edge_index=[2, 6552], edge_attr=[6552], y=[128, 1], complete_edge_index=[2, 74094], degree=[3030], subgraph_edge_index=[2, 32558], num_subgraph_nodes=[128], subgraph_node_idx=[18644], subgraph_edge_attr=[32558], subgraph_indicator=[18644], batch=[3030], ptr=[129])\n",
      "loader之后： DataBatch(x=[2965], edge_index=[2, 6380], edge_attr=[6380], y=[128, 1], complete_edge_index=[2, 71457], degree=[2965], subgraph_edge_index=[2, 31596], num_subgraph_nodes=[128], subgraph_node_idx=[18199], subgraph_edge_attr=[31596], subgraph_indicator=[18199], batch=[2965], ptr=[129])\n",
      "loader之后： DataBatch(x=[2944], edge_index=[2, 6318], edge_attr=[6318], y=[128, 1], complete_edge_index=[2, 70476], degree=[2944], subgraph_edge_index=[2, 31284], num_subgraph_nodes=[128], subgraph_node_idx=[17994], subgraph_edge_attr=[31284], subgraph_indicator=[17994], batch=[2944], ptr=[129])\n",
      "loader之后： DataBatch(x=[2934], edge_index=[2, 6294], edge_attr=[6294], y=[128, 1], complete_edge_index=[2, 69494], degree=[2934], subgraph_edge_index=[2, 30972], num_subgraph_nodes=[128], subgraph_node_idx=[17914], subgraph_edge_attr=[30972], subgraph_indicator=[17914], batch=[2934], ptr=[129])\n",
      "loader之后： DataBatch(x=[3007], edge_index=[2, 6492], edge_attr=[6492], y=[128, 1], complete_edge_index=[2, 73511], degree=[3007], subgraph_edge_index=[2, 32264], num_subgraph_nodes=[128], subgraph_node_idx=[18513], subgraph_edge_attr=[32264], subgraph_indicator=[18513], batch=[3007], ptr=[129])\n",
      "loader之后： DataBatch(x=[2974], edge_index=[2, 6386], edge_attr=[6386], y=[128, 1], complete_edge_index=[2, 71974], degree=[2974], subgraph_edge_index=[2, 31652], num_subgraph_nodes=[128], subgraph_node_idx=[18248], subgraph_edge_attr=[31652], subgraph_indicator=[18248], batch=[2974], ptr=[129])\n",
      "loader之后： DataBatch(x=[2965], edge_index=[2, 6378], edge_attr=[6378], y=[128, 1], complete_edge_index=[2, 70557], degree=[2965], subgraph_edge_index=[2, 31434], num_subgraph_nodes=[128], subgraph_node_idx=[18119], subgraph_edge_attr=[31434], subgraph_indicator=[18119], batch=[2965], ptr=[129])\n",
      "loader之后： DataBatch(x=[3017], edge_index=[2, 6484], edge_attr=[6484], y=[128, 1], complete_edge_index=[2, 74165], degree=[3017], subgraph_edge_index=[2, 32040], num_subgraph_nodes=[128], subgraph_node_idx=[18483], subgraph_edge_attr=[32040], subgraph_indicator=[18483], batch=[3017], ptr=[129])\n",
      "loader之后： DataBatch(x=[2941], edge_index=[2, 6348], edge_attr=[6348], y=[128, 1], complete_edge_index=[2, 69949], degree=[2941], subgraph_edge_index=[2, 31446], num_subgraph_nodes=[128], subgraph_node_idx=[18065], subgraph_edge_attr=[31446], subgraph_indicator=[18065], batch=[2941], ptr=[129])\n",
      "loader之后： DataBatch(x=[2852], edge_index=[2, 6074], edge_attr=[6074], y=[128, 1], complete_edge_index=[2, 66450], degree=[2852], subgraph_edge_index=[2, 29934], num_subgraph_nodes=[128], subgraph_node_idx=[17292], subgraph_edge_attr=[29934], subgraph_indicator=[17292], batch=[2852], ptr=[129])\n",
      "loader之后： DataBatch(x=[3074], edge_index=[2, 6644], edge_attr=[6644], y=[128, 1], complete_edge_index=[2, 76718], degree=[3074], subgraph_edge_index=[2, 32830], num_subgraph_nodes=[128], subgraph_node_idx=[18902], subgraph_edge_attr=[32830], subgraph_indicator=[18902], batch=[3074], ptr=[129])\n",
      "loader之后： DataBatch(x=[2932], edge_index=[2, 6294], edge_attr=[6294], y=[128, 1], complete_edge_index=[2, 69530], degree=[2932], subgraph_edge_index=[2, 31054], num_subgraph_nodes=[128], subgraph_node_idx=[17902], subgraph_edge_attr=[31054], subgraph_indicator=[17902], batch=[2932], ptr=[129])\n",
      "loader之后： DataBatch(x=[2975], edge_index=[2, 6388], edge_attr=[6388], y=[128, 1], complete_edge_index=[2, 71173], degree=[2975], subgraph_edge_index=[2, 31410], num_subgraph_nodes=[128], subgraph_node_idx=[18141], subgraph_edge_attr=[31410], subgraph_indicator=[18141], batch=[2975], ptr=[129])\n",
      "loader之后： DataBatch(x=[2960], edge_index=[2, 6368], edge_attr=[6368], y=[128, 1], complete_edge_index=[2, 70742], degree=[2960], subgraph_edge_index=[2, 31268], num_subgraph_nodes=[128], subgraph_node_idx=[18084], subgraph_edge_attr=[31268], subgraph_indicator=[18084], batch=[2960], ptr=[129])\n",
      "loader之后： DataBatch(x=[2931], edge_index=[2, 6286], edge_attr=[6286], y=[128, 1], complete_edge_index=[2, 69585], degree=[2931], subgraph_edge_index=[2, 31110], num_subgraph_nodes=[128], subgraph_node_idx=[17875], subgraph_edge_attr=[31110], subgraph_indicator=[17875], batch=[2931], ptr=[129])\n",
      "loader之后： DataBatch(x=[3001], edge_index=[2, 6474], edge_attr=[6474], y=[128, 1], complete_edge_index=[2, 73151], degree=[3001], subgraph_edge_index=[2, 32022], num_subgraph_nodes=[128], subgraph_node_idx=[18425], subgraph_edge_attr=[32022], subgraph_indicator=[18425], batch=[3001], ptr=[129])\n",
      "loader之后： DataBatch(x=[2960], edge_index=[2, 6386], edge_attr=[6386], y=[128, 1], complete_edge_index=[2, 71340], degree=[2960], subgraph_edge_index=[2, 31648], num_subgraph_nodes=[128], subgraph_node_idx=[18126], subgraph_edge_attr=[31648], subgraph_indicator=[18126], batch=[2960], ptr=[129])\n",
      "loader之后： DataBatch(x=[2989], edge_index=[2, 6412], edge_attr=[6412], y=[128, 1], complete_edge_index=[2, 71945], degree=[2989], subgraph_edge_index=[2, 31614], num_subgraph_nodes=[128], subgraph_node_idx=[18237], subgraph_edge_attr=[31614], subgraph_indicator=[18237], batch=[2989], ptr=[129])\n",
      "loader之后： DataBatch(x=[3012], edge_index=[2, 6488], edge_attr=[6488], y=[128, 1], complete_edge_index=[2, 73488], degree=[3012], subgraph_edge_index=[2, 32000], num_subgraph_nodes=[128], subgraph_node_idx=[18424], subgraph_edge_attr=[32000], subgraph_indicator=[18424], batch=[3012], ptr=[129])\n",
      "loader之后： DataBatch(x=[2860], edge_index=[2, 6136], edge_attr=[6136], y=[128, 1], complete_edge_index=[2, 66298], degree=[2860], subgraph_edge_index=[2, 30436], num_subgraph_nodes=[128], subgraph_node_idx=[17478], subgraph_edge_attr=[30436], subgraph_indicator=[17478], batch=[2860], ptr=[129])\n",
      "loader之后： DataBatch(x=[2915], edge_index=[2, 6262], edge_attr=[6262], y=[128, 1], complete_edge_index=[2, 69179], degree=[2915], subgraph_edge_index=[2, 30868], num_subgraph_nodes=[128], subgraph_node_idx=[17759], subgraph_edge_attr=[30868], subgraph_indicator=[17759], batch=[2915], ptr=[129])\n",
      "loader之后： DataBatch(x=[2994], edge_index=[2, 6450], edge_attr=[6450], y=[128, 1], complete_edge_index=[2, 73166], degree=[2994], subgraph_edge_index=[2, 31928], num_subgraph_nodes=[128], subgraph_node_idx=[18356], subgraph_edge_attr=[31928], subgraph_indicator=[18356], batch=[2994], ptr=[129])\n",
      "loader之后： DataBatch(x=[3007], edge_index=[2, 6466], edge_attr=[6466], y=[128, 1], complete_edge_index=[2, 73483], degree=[3007], subgraph_edge_index=[2, 32020], num_subgraph_nodes=[128], subgraph_node_idx=[18427], subgraph_edge_attr=[32020], subgraph_indicator=[18427], batch=[3007], ptr=[129])\n",
      "loader之后： DataBatch(x=[3006], edge_index=[2, 6486], edge_attr=[6486], y=[128, 1], complete_edge_index=[2, 73126], degree=[3006], subgraph_edge_index=[2, 32068], num_subgraph_nodes=[128], subgraph_node_idx=[18430], subgraph_edge_attr=[32068], subgraph_indicator=[18430], batch=[3006], ptr=[129])\n",
      "loader之后： DataBatch(x=[2969], edge_index=[2, 6370], edge_attr=[6370], y=[128, 1], complete_edge_index=[2, 70933], degree=[2969], subgraph_edge_index=[2, 31252], num_subgraph_nodes=[128], subgraph_node_idx=[18071], subgraph_edge_attr=[31252], subgraph_indicator=[18071], batch=[2969], ptr=[129])\n",
      "loader之后： DataBatch(x=[3035], edge_index=[2, 6548], edge_attr=[6548], y=[128, 1], complete_edge_index=[2, 74461], degree=[3035], subgraph_edge_index=[2, 32270], num_subgraph_nodes=[128], subgraph_node_idx=[18591], subgraph_edge_attr=[32270], subgraph_indicator=[18591], batch=[3035], ptr=[129])\n",
      "loader之后： DataBatch(x=[2998], edge_index=[2, 6448], edge_attr=[6448], y=[128, 1], complete_edge_index=[2, 72938], degree=[2998], subgraph_edge_index=[2, 32014], num_subgraph_nodes=[128], subgraph_node_idx=[18424], subgraph_edge_attr=[32014], subgraph_indicator=[18424], batch=[2998], ptr=[129])\n",
      "loader之后： DataBatch(x=[2982], edge_index=[2, 6414], edge_attr=[6414], y=[128, 1], complete_edge_index=[2, 72202], degree=[2982], subgraph_edge_index=[2, 31690], num_subgraph_nodes=[128], subgraph_node_idx=[18222], subgraph_edge_attr=[31690], subgraph_indicator=[18222], batch=[2982], ptr=[129])\n",
      "loader之后： DataBatch(x=[2941], edge_index=[2, 6306], edge_attr=[6306], y=[128, 1], complete_edge_index=[2, 70211], degree=[2941], subgraph_edge_index=[2, 31108], num_subgraph_nodes=[128], subgraph_node_idx=[17935], subgraph_edge_attr=[31108], subgraph_indicator=[17935], batch=[2941], ptr=[129])\n",
      "loader之后： DataBatch(x=[3030], edge_index=[2, 6532], edge_attr=[6532], y=[128, 1], complete_edge_index=[2, 74528], degree=[3030], subgraph_edge_index=[2, 32376], num_subgraph_nodes=[128], subgraph_node_idx=[18622], subgraph_edge_attr=[32376], subgraph_indicator=[18622], batch=[3030], ptr=[129])\n",
      "loader之后： DataBatch(x=[2999], edge_index=[2, 6462], edge_attr=[6462], y=[128, 1], complete_edge_index=[2, 72483], degree=[2999], subgraph_edge_index=[2, 31942], num_subgraph_nodes=[128], subgraph_node_idx=[18387], subgraph_edge_attr=[31942], subgraph_indicator=[18387], batch=[2999], ptr=[129])\n",
      "loader之后： DataBatch(x=[3061], edge_index=[2, 6624], edge_attr=[6624], y=[128, 1], complete_edge_index=[2, 75959], degree=[3061], subgraph_edge_index=[2, 32912], num_subgraph_nodes=[128], subgraph_node_idx=[18865], subgraph_edge_attr=[32912], subgraph_indicator=[18865], batch=[3061], ptr=[129])\n",
      "loader之后： DataBatch(x=[2989], edge_index=[2, 6430], edge_attr=[6430], y=[128, 1], complete_edge_index=[2, 72289], degree=[2989], subgraph_edge_index=[2, 31898], num_subgraph_nodes=[128], subgraph_node_idx=[18283], subgraph_edge_attr=[31898], subgraph_indicator=[18283], batch=[2989], ptr=[129])\n",
      "loader之后： DataBatch(x=[3024], edge_index=[2, 6488], edge_attr=[6488], y=[128, 1], complete_edge_index=[2, 74050], degree=[3024], subgraph_edge_index=[2, 32112], num_subgraph_nodes=[128], subgraph_node_idx=[18540], subgraph_edge_attr=[32112], subgraph_indicator=[18540], batch=[3024], ptr=[129])\n",
      "loader之后： DataBatch(x=[2974], edge_index=[2, 6408], edge_attr=[6408], y=[128, 1], complete_edge_index=[2, 71448], degree=[2974], subgraph_edge_index=[2, 31736], num_subgraph_nodes=[128], subgraph_node_idx=[18230], subgraph_edge_attr=[31736], subgraph_indicator=[18230], batch=[2974], ptr=[129])\n",
      "loader之后： DataBatch(x=[3005], edge_index=[2, 6468], edge_attr=[6468], y=[128, 1], complete_edge_index=[2, 73613], degree=[3005], subgraph_edge_index=[2, 32422], num_subgraph_nodes=[128], subgraph_node_idx=[18503], subgraph_edge_attr=[32422], subgraph_indicator=[18503], batch=[3005], ptr=[129])\n",
      "loader之后： DataBatch(x=[3015], edge_index=[2, 6504], edge_attr=[6504], y=[128, 1], complete_edge_index=[2, 73753], degree=[3015], subgraph_edge_index=[2, 32172], num_subgraph_nodes=[128], subgraph_node_idx=[18537], subgraph_edge_attr=[32172], subgraph_indicator=[18537], batch=[3015], ptr=[129])\n",
      "loader之后： DataBatch(x=[2944], edge_index=[2, 6336], edge_attr=[6336], y=[128, 1], complete_edge_index=[2, 69732], degree=[2944], subgraph_edge_index=[2, 31236], num_subgraph_nodes=[128], subgraph_node_idx=[17974], subgraph_edge_attr=[31236], subgraph_indicator=[17974], batch=[2944], ptr=[129])\n",
      "loader之后： DataBatch(x=[2939], edge_index=[2, 6306], edge_attr=[6306], y=[128, 1], complete_edge_index=[2, 70587], degree=[2939], subgraph_edge_index=[2, 31078], num_subgraph_nodes=[128], subgraph_node_idx=[17925], subgraph_edge_attr=[31078], subgraph_indicator=[17925], batch=[2939], ptr=[129])\n",
      "loader之后： DataBatch(x=[2957], edge_index=[2, 6356], edge_attr=[6356], y=[128, 1], complete_edge_index=[2, 70415], degree=[2957], subgraph_edge_index=[2, 31480], num_subgraph_nodes=[128], subgraph_node_idx=[18095], subgraph_edge_attr=[31480], subgraph_indicator=[18095], batch=[2957], ptr=[129])\n",
      "loader之后： DataBatch(x=[2964], edge_index=[2, 6388], edge_attr=[6388], y=[128, 1], complete_edge_index=[2, 70930], degree=[2964], subgraph_edge_index=[2, 31628], num_subgraph_nodes=[128], subgraph_node_idx=[18152], subgraph_edge_attr=[31628], subgraph_indicator=[18152], batch=[2964], ptr=[129])\n",
      "loader之后： DataBatch(x=[2930], edge_index=[2, 6320], edge_attr=[6320], y=[128, 1], complete_edge_index=[2, 70078], degree=[2930], subgraph_edge_index=[2, 31354], num_subgraph_nodes=[128], subgraph_node_idx=[17986], subgraph_edge_attr=[31354], subgraph_indicator=[17986], batch=[2930], ptr=[129])\n",
      "loader之后： DataBatch(x=[2976], edge_index=[2, 6412], edge_attr=[6412], y=[128, 1], complete_edge_index=[2, 71802], degree=[2976], subgraph_edge_index=[2, 31622], num_subgraph_nodes=[128], subgraph_node_idx=[18222], subgraph_edge_attr=[31622], subgraph_indicator=[18222], batch=[2976], ptr=[129])\n",
      "loader之后： DataBatch(x=[2876], edge_index=[2, 6170], edge_attr=[6170], y=[128, 1], complete_edge_index=[2, 67884], degree=[2876], subgraph_edge_index=[2, 30510], num_subgraph_nodes=[128], subgraph_node_idx=[17598], subgraph_edge_attr=[30510], subgraph_indicator=[17598], batch=[2876], ptr=[129])\n",
      "loader之后： DataBatch(x=[2866], edge_index=[2, 6150], edge_attr=[6150], y=[128, 1], complete_edge_index=[2, 67306], degree=[2866], subgraph_edge_index=[2, 30346], num_subgraph_nodes=[128], subgraph_node_idx=[17502], subgraph_edge_attr=[30346], subgraph_indicator=[17502], batch=[2866], ptr=[129])\n",
      "loader之后： DataBatch(x=[3039], edge_index=[2, 6592], edge_attr=[6592], y=[128, 1], complete_edge_index=[2, 74125], degree=[3039], subgraph_edge_index=[2, 32686], num_subgraph_nodes=[128], subgraph_node_idx=[18767], subgraph_edge_attr=[32686], subgraph_indicator=[18767], batch=[3039], ptr=[129])\n",
      "loader之后： DataBatch(x=[2928], edge_index=[2, 6298], edge_attr=[6298], y=[128, 1], complete_edge_index=[2, 69772], degree=[2928], subgraph_edge_index=[2, 31192], num_subgraph_nodes=[128], subgraph_node_idx=[17922], subgraph_edge_attr=[31192], subgraph_indicator=[17922], batch=[2928], ptr=[129])\n",
      "loader之后： DataBatch(x=[2890], edge_index=[2, 6214], edge_attr=[6214], y=[128, 1], complete_edge_index=[2, 68032], degree=[2890], subgraph_edge_index=[2, 30850], num_subgraph_nodes=[128], subgraph_node_idx=[17708], subgraph_edge_attr=[30850], subgraph_indicator=[17708], batch=[2890], ptr=[129])\n",
      "loader之后： DataBatch(x=[2841], edge_index=[2, 6066], edge_attr=[6066], y=[128, 1], complete_edge_index=[2, 65277], degree=[2841], subgraph_edge_index=[2, 29920], num_subgraph_nodes=[128], subgraph_node_idx=[17273], subgraph_edge_attr=[29920], subgraph_indicator=[17273], batch=[2841], ptr=[129])\n",
      "loader之后： DataBatch(x=[3017], edge_index=[2, 6520], edge_attr=[6520], y=[128, 1], complete_edge_index=[2, 73251], degree=[3017], subgraph_edge_index=[2, 32398], num_subgraph_nodes=[128], subgraph_node_idx=[18527], subgraph_edge_attr=[32398], subgraph_indicator=[18527], batch=[3017], ptr=[129])\n",
      "loader之后： DataBatch(x=[2875], edge_index=[2, 6164], edge_attr=[6164], y=[128, 1], complete_edge_index=[2, 67535], degree=[2875], subgraph_edge_index=[2, 30404], num_subgraph_nodes=[128], subgraph_node_idx=[17529], subgraph_edge_attr=[30404], subgraph_indicator=[17529], batch=[2875], ptr=[129])\n",
      "loader之后： DataBatch(x=[3077], edge_index=[2, 6632], edge_attr=[6632], y=[128, 1], complete_edge_index=[2, 76575], degree=[3077], subgraph_edge_index=[2, 32594], num_subgraph_nodes=[128], subgraph_node_idx=[18821], subgraph_edge_attr=[32594], subgraph_indicator=[18821], batch=[3077], ptr=[129])\n",
      "loader之后： DataBatch(x=[2950], edge_index=[2, 6348], edge_attr=[6348], y=[128, 1], complete_edge_index=[2, 70282], degree=[2950], subgraph_edge_index=[2, 31304], num_subgraph_nodes=[128], subgraph_node_idx=[17994], subgraph_edge_attr=[31304], subgraph_indicator=[17994], batch=[2950], ptr=[129])\n",
      "loader之后： DataBatch(x=[2924], edge_index=[2, 6268], edge_attr=[6268], y=[128, 1], complete_edge_index=[2, 68980], degree=[2924], subgraph_edge_index=[2, 30932], num_subgraph_nodes=[128], subgraph_node_idx=[17824], subgraph_edge_attr=[30932], subgraph_indicator=[17824], batch=[2924], ptr=[129])\n",
      "loader之后： DataBatch(x=[3025], edge_index=[2, 6540], edge_attr=[6540], y=[128, 1], complete_edge_index=[2, 74429], degree=[3025], subgraph_edge_index=[2, 32340], num_subgraph_nodes=[128], subgraph_node_idx=[18629], subgraph_edge_attr=[32340], subgraph_indicator=[18629], batch=[3025], ptr=[129])\n",
      "loader之后： DataBatch(x=[2900], edge_index=[2, 6232], edge_attr=[6232], y=[128, 1], complete_edge_index=[2, 68328], degree=[2900], subgraph_edge_index=[2, 30728], num_subgraph_nodes=[128], subgraph_node_idx=[17666], subgraph_edge_attr=[30728], subgraph_indicator=[17666], batch=[2900], ptr=[129])\n",
      "loader之后： DataBatch(x=[2947], edge_index=[2, 6358], edge_attr=[6358], y=[128, 1], complete_edge_index=[2, 70357], degree=[2947], subgraph_edge_index=[2, 31552], num_subgraph_nodes=[128], subgraph_node_idx=[18099], subgraph_edge_attr=[31552], subgraph_indicator=[18099], batch=[2947], ptr=[129])\n",
      "loader之后： DataBatch(x=[2931], edge_index=[2, 6306], edge_attr=[6306], y=[128, 1], complete_edge_index=[2, 69353], degree=[2931], subgraph_edge_index=[2, 31202], num_subgraph_nodes=[128], subgraph_node_idx=[17937], subgraph_edge_attr=[31202], subgraph_indicator=[17937], batch=[2931], ptr=[129])\n",
      "loader之后： DataBatch(x=[2981], edge_index=[2, 6432], edge_attr=[6432], y=[128, 1], complete_edge_index=[2, 72191], degree=[2981], subgraph_edge_index=[2, 31794], num_subgraph_nodes=[128], subgraph_node_idx=[18309], subgraph_edge_attr=[31794], subgraph_indicator=[18309], batch=[2981], ptr=[129])\n",
      "loader之后： DataBatch(x=[2976], edge_index=[2, 6394], edge_attr=[6394], y=[128, 1], complete_edge_index=[2, 72122], degree=[2976], subgraph_edge_index=[2, 31792], num_subgraph_nodes=[128], subgraph_node_idx=[18234], subgraph_edge_attr=[31792], subgraph_indicator=[18234], batch=[2976], ptr=[129])\n",
      "loader之后： DataBatch(x=[2991], edge_index=[2, 6456], edge_attr=[6456], y=[128, 1], complete_edge_index=[2, 71949], degree=[2991], subgraph_edge_index=[2, 32012], num_subgraph_nodes=[128], subgraph_node_idx=[18379], subgraph_edge_attr=[32012], subgraph_indicator=[18379], batch=[2991], ptr=[129])\n",
      "loader之后： DataBatch(x=[391], edge_index=[2, 850], edge_attr=[850], y=[16, 1], complete_edge_index=[2, 9929], degree=[391], subgraph_edge_index=[2, 4238], num_subgraph_nodes=[16], subgraph_node_idx=[2427], subgraph_edge_attr=[4238], subgraph_indicator=[2427], batch=[391], ptr=[17])\n"
     ]
    }
   ],
   "execution_count": 171
  },
  {
   "metadata": {},
   "cell_type": "markdown",
   "source": "请注意！由于数据量过小，在loader之后，仅有一个",
   "id": "ab63aa4eb948079d"
  },
  {
   "metadata": {
    "ExecuteTime": {
     "end_time": "2025-03-11T02:25:06.870011Z",
     "start_time": "2025-03-11T02:25:06.850120Z"
    }
   },
   "cell_type": "code",
   "source": [
    "print('c数据集第1张图的数据类型为：',crystal_list[0])\n",
    "print('\\n')\n",
    "print('含有子图的c第1张',train_c_dset[0])\n",
    "print('\\n')\n",
    "print('crystal数据集在loader前',train_c_dset[0])\n",
    "print('\\n')\n",
    "\n",
    "train_c_loader = DataLoader(train_c_dset, batch_size=128, shuffle=True)\n",
    "for batch in train_c_loader:\n",
    "    print('loader之后：',batch)\n",
    "    break"
   ],
   "id": "17e02a4a200b4627",
   "outputs": [
    {
     "name": "stdout",
     "output_type": "stream",
     "text": [
      "c数据集第1张图的数据类型为： Data(x=[8, 92], edge_index=[2, 56], edge_attr=[56, 41], y=[1, 1], complete_edge_index=[2, 64], degree=[8], subgraph_edge_index=[2, 448], num_subgraph_nodes=64, subgraph_node_idx=[64], subgraph_edge_attr=[448, 41], subgraph_indicator=[64])\n",
      "\n",
      "\n",
      "含有子图的c第1张 Data(x=[8, 92], edge_index=[2, 56], edge_attr=[56, 41], y=[1, 1], complete_edge_index=[2, 64], subgraph_edge_index=[2, 448], num_subgraph_nodes=64, subgraph_node_idx=[64], subgraph_edge_attr=[448, 41], subgraph_indicator=[64], degree=[8])\n",
      "\n",
      "\n",
      "crystal数据集在loader前 Data(x=[8, 92], edge_index=[2, 56], edge_attr=[56, 41], y=[1, 1], complete_edge_index=[2, 64], subgraph_edge_index=[2, 448], num_subgraph_nodes=64, subgraph_node_idx=[64], subgraph_edge_attr=[448, 41], subgraph_indicator=[64], degree=[8])\n",
      "\n",
      "\n",
      "loader之后： DataBatch(x=[65, 92], edge_index=[2, 348], edge_attr=[348, 41], y=[10, 1], complete_edge_index=[2, 513], degree=[65], subgraph_edge_index=[2, 2844], num_subgraph_nodes=[10], subgraph_node_idx=[481], subgraph_edge_attr=[2844, 41], subgraph_indicator=[481], batch=[65], ptr=[11])\n"
     ]
    }
   ],
   "execution_count": 172
  },
  {
   "metadata": {},
   "cell_type": "markdown",
   "source": "从数据上看，没有什么问题",
   "id": "f3da2bba607c7daf"
  },
  {
   "metadata": {},
   "cell_type": "markdown",
   "source": "#### zincmox",
   "id": "d03bcc173e40eb4c"
  },
  {
   "metadata": {
    "ExecuteTime": {
     "end_time": "2025-03-10T03:05:11.600720Z",
     "start_time": "2025-03-10T03:05:11.502558Z"
    }
   },
   "cell_type": "code",
   "source": [
    "deg = torch.cat([\n",
    "        utils.degree(data.edge_index[1], num_nodes=data.num_nodes) for\n",
    "        data in train_zinc_dset])\n",
    "zinc_model = GraphTransformer(in_size=28,\n",
    "                             num_class=1,\n",
    "                             d_model=dim_hidden,\n",
    "                             dim_feedforward=2 * dim_hidden,\n",
    "                             dropout=dropout,\n",
    "                             num_heads=num_heads,\n",
    "                             num_layers=num_layers,\n",
    "                             batch_norm=batch_norm,\n",
    "                             abs_pe=abs_pe,\n",
    "                             abs_pe_dim=abs_pe_dim,\n",
    "                             gnn_type=gnn_type,\n",
    "                             use_edge_attr=use_edge_attr,\n",
    "                             num_edge_features=4,\n",
    "                             edge_dim=edge_dim,\n",
    "                             k_hop=k_hop,\n",
    "                             se=se,\n",
    "                             deg=deg,\n",
    "                             global_pool=global_pool)"
   ],
   "id": "7920436dc65a1a42",
   "outputs": [],
   "execution_count": 70
  },
  {
   "metadata": {},
   "cell_type": "markdown",
   "source": [
    "在这里需要注意一个问题\n",
    "\n",
    "zinc数据集中\n",
    "\n",
    "number of node attributes for ZINC crystal_dataset\n",
    "\n",
    "n_tags = 28------------>in_size\n",
    "\n",
    "num_edge_features = 4\n",
    "\n",
    "而我们crystal数据集的这两个参数是未知的，于是我使用92，41代替\n"
   ],
   "id": "53492fdfbcb4f565"
  },
  {
   "metadata": {},
   "cell_type": "markdown",
   "source": "#### C模型",
   "id": "287330f8821759ce"
  },
  {
   "metadata": {
    "ExecuteTime": {
     "end_time": "2025-03-11T02:25:27.537857Z",
     "start_time": "2025-03-11T02:25:27.425912Z"
    }
   },
   "cell_type": "code",
   "source": [
    "deg = torch.cat([\n",
    "        utils.degree(data.edge_index[1], num_nodes=data.num_nodes) for\n",
    "        data in train_c_dset])\n",
    "c_model = GraphTransformer(in_size=92,\n",
    "                             num_class=1,\n",
    "                             d_model=dim_hidden,\n",
    "                             dim_feedforward=2 * dim_hidden,\n",
    "                             dropout=dropout,\n",
    "                             num_heads=num_heads,\n",
    "                             num_layers=num_layers,\n",
    "                             batch_norm=batch_norm,\n",
    "                             abs_pe=abs_pe,\n",
    "                             abs_pe_dim=abs_pe_dim,\n",
    "                             gnn_type=gnn_type,\n",
    "                             use_edge_attr=use_edge_attr,\n",
    "                             num_edge_features=41,\n",
    "                             edge_dim=edge_dim,\n",
    "                             k_hop=k_hop,\n",
    "                             se=se,\n",
    "                             deg=deg,\n",
    "                             global_pool=global_pool)"
   ],
   "id": "6305b3612ef5f452",
   "outputs": [],
   "execution_count": 173
  },
  {
   "metadata": {},
   "cell_type": "markdown",
   "source": "#### 训练函数",
   "id": "70fe3fd5d7053270"
  },
  {
   "metadata": {
    "ExecuteTime": {
     "end_time": "2025-03-10T08:21:09.466899Z",
     "start_time": "2025-03-10T08:21:09.458835Z"
    }
   },
   "cell_type": "code",
   "source": [
    "def train_out(loader, model, optimizer):\n",
    "    running_loss = 0.0\n",
    "    model.train()\n",
    "    for i, data in enumerate(loader):\n",
    "        print(i)\n",
    "        print(data)\n",
    "        size = len(data.y)\n",
    "        if use_cuda:\n",
    "            data = data.cuda()\n",
    "\n",
    "        criterion = nn.L1Loss()\n",
    "        optimizer.zero_grad()\n",
    "        output = model(data)\n",
    "        loss = criterion(output, data.y)\n",
    "\n",
    "        loss.backward()\n",
    "        optimizer.step()\n",
    "\n",
    "        running_loss += loss.item() * size\n",
    "\n",
    "    n_sample = len(loader.dataset)\n",
    "    epoch_loss = running_loss / n_sample\n",
    "\n",
    "    print('done!')\n",
    "    print('epoch_loss is',epoch_loss)\n",
    "    return epoch_loss"
   ],
   "id": "fd1c01f4bbde7e64",
   "outputs": [],
   "execution_count": 120
  },
  {
   "metadata": {
    "ExecuteTime": {
     "end_time": "2025-03-10T04:54:04.581924Z",
     "start_time": "2025-03-10T04:54:04.369825Z"
    }
   },
   "cell_type": "code",
   "source": [
    "zinc_model = zinc_model.to(device)\n",
    "optimizer = optim.AdamW(zinc_model.parameters(), lr=lr, weight_decay=weight_decay)\n",
    "zinc_out = train_out(train_zinc_loader, zinc_model,optimizer)\n"
   ],
   "id": "624d37180f2d472c",
   "outputs": [
    {
     "name": "stdout",
     "output_type": "stream",
     "text": [
      "0\n",
      "DataBatch(x=[222], edge_index=[2, 472], edge_attr=[472], y=[10, 1], complete_edge_index=[2, 5152], degree=[222], subgraph_edge_index=[2, 2310], num_subgraph_nodes=[10], subgraph_node_idx=[1334], subgraph_edge_attr=[2310], subgraph_indicator=[1334], batch=[222], ptr=[11])\n",
      "done!\n",
      "epoch_loss is 0.9110336303710938\n"
     ]
    }
   ],
   "execution_count": 89
  },
  {
   "metadata": {
    "ExecuteTime": {
     "end_time": "2025-03-11T02:25:34.200615Z",
     "start_time": "2025-03-11T02:25:32.705468Z"
    }
   },
   "cell_type": "code",
   "source": [
    "c_model = c_model.to(device)\n",
    "optimizer = optim.AdamW(c_model.parameters(), lr=lr, weight_decay=weight_decay)\n",
    "c_out = train_out(train_c_loader, c_model,optimizer)"
   ],
   "id": "a72a9bf13ab73922",
   "outputs": [
    {
     "name": "stdout",
     "output_type": "stream",
     "text": [
      "0\n",
      "DataBatch(x=[65, 92], edge_index=[2, 348], edge_attr=[348, 41], y=[10, 1], complete_edge_index=[2, 513], subgraph_edge_index=[2, 2844], num_subgraph_nodes=[10], subgraph_node_idx=[481], subgraph_edge_attr=[2844, 41], subgraph_indicator=[481], degree=[65], batch=[65], ptr=[11])\n"
     ]
    },
    {
     "ename": "RuntimeError",
     "evalue": "Sizes of tensors must match except in dimension 2. Expected size 2844 but got size 116604 for tensor number 2 in the list.",
     "output_type": "error",
     "traceback": [
      "\u001B[1;31m---------------------------------------------------------------------------\u001B[0m",
      "\u001B[1;31mRuntimeError\u001B[0m                              Traceback (most recent call last)",
      "Cell \u001B[1;32mIn[174], line 3\u001B[0m\n\u001B[0;32m      1\u001B[0m c_model \u001B[38;5;241m=\u001B[39m c_model\u001B[38;5;241m.\u001B[39mto(device)\n\u001B[0;32m      2\u001B[0m optimizer \u001B[38;5;241m=\u001B[39m optim\u001B[38;5;241m.\u001B[39mAdamW(c_model\u001B[38;5;241m.\u001B[39mparameters(), lr\u001B[38;5;241m=\u001B[39mlr, weight_decay\u001B[38;5;241m=\u001B[39mweight_decay)\n\u001B[1;32m----> 3\u001B[0m c_out \u001B[38;5;241m=\u001B[39m \u001B[43mtrain_out\u001B[49m\u001B[43m(\u001B[49m\u001B[43mtrain_c_loader\u001B[49m\u001B[43m,\u001B[49m\u001B[43m \u001B[49m\u001B[43mc_model\u001B[49m\u001B[43m,\u001B[49m\u001B[43moptimizer\u001B[49m\u001B[43m)\u001B[49m\n",
      "Cell \u001B[1;32mIn[120], line 13\u001B[0m, in \u001B[0;36mtrain_out\u001B[1;34m(loader, model, optimizer)\u001B[0m\n\u001B[0;32m     11\u001B[0m criterion \u001B[38;5;241m=\u001B[39m nn\u001B[38;5;241m.\u001B[39mL1Loss()\n\u001B[0;32m     12\u001B[0m optimizer\u001B[38;5;241m.\u001B[39mzero_grad()\n\u001B[1;32m---> 13\u001B[0m output \u001B[38;5;241m=\u001B[39m \u001B[43mmodel\u001B[49m\u001B[43m(\u001B[49m\u001B[43mdata\u001B[49m\u001B[43m)\u001B[49m\n\u001B[0;32m     14\u001B[0m loss \u001B[38;5;241m=\u001B[39m criterion(output, data\u001B[38;5;241m.\u001B[39my)\n\u001B[0;32m     16\u001B[0m loss\u001B[38;5;241m.\u001B[39mbackward()\n",
      "File \u001B[1;32mE:\\anaconda3\\envs\\pytorch\\lib\\site-packages\\torch\\nn\\modules\\module.py:1553\u001B[0m, in \u001B[0;36mModule._wrapped_call_impl\u001B[1;34m(self, *args, **kwargs)\u001B[0m\n\u001B[0;32m   1551\u001B[0m     \u001B[38;5;28;01mreturn\u001B[39;00m \u001B[38;5;28mself\u001B[39m\u001B[38;5;241m.\u001B[39m_compiled_call_impl(\u001B[38;5;241m*\u001B[39margs, \u001B[38;5;241m*\u001B[39m\u001B[38;5;241m*\u001B[39mkwargs)  \u001B[38;5;66;03m# type: ignore[misc]\u001B[39;00m\n\u001B[0;32m   1552\u001B[0m \u001B[38;5;28;01melse\u001B[39;00m:\n\u001B[1;32m-> 1553\u001B[0m     \u001B[38;5;28;01mreturn\u001B[39;00m \u001B[38;5;28;43mself\u001B[39;49m\u001B[38;5;241;43m.\u001B[39;49m\u001B[43m_call_impl\u001B[49m\u001B[43m(\u001B[49m\u001B[38;5;241;43m*\u001B[39;49m\u001B[43margs\u001B[49m\u001B[43m,\u001B[49m\u001B[43m \u001B[49m\u001B[38;5;241;43m*\u001B[39;49m\u001B[38;5;241;43m*\u001B[39;49m\u001B[43mkwargs\u001B[49m\u001B[43m)\u001B[49m\n",
      "File \u001B[1;32mE:\\anaconda3\\envs\\pytorch\\lib\\site-packages\\torch\\nn\\modules\\module.py:1562\u001B[0m, in \u001B[0;36mModule._call_impl\u001B[1;34m(self, *args, **kwargs)\u001B[0m\n\u001B[0;32m   1557\u001B[0m \u001B[38;5;66;03m# If we don't have any hooks, we want to skip the rest of the logic in\u001B[39;00m\n\u001B[0;32m   1558\u001B[0m \u001B[38;5;66;03m# this function, and just call forward.\u001B[39;00m\n\u001B[0;32m   1559\u001B[0m \u001B[38;5;28;01mif\u001B[39;00m \u001B[38;5;129;01mnot\u001B[39;00m (\u001B[38;5;28mself\u001B[39m\u001B[38;5;241m.\u001B[39m_backward_hooks \u001B[38;5;129;01mor\u001B[39;00m \u001B[38;5;28mself\u001B[39m\u001B[38;5;241m.\u001B[39m_backward_pre_hooks \u001B[38;5;129;01mor\u001B[39;00m \u001B[38;5;28mself\u001B[39m\u001B[38;5;241m.\u001B[39m_forward_hooks \u001B[38;5;129;01mor\u001B[39;00m \u001B[38;5;28mself\u001B[39m\u001B[38;5;241m.\u001B[39m_forward_pre_hooks\n\u001B[0;32m   1560\u001B[0m         \u001B[38;5;129;01mor\u001B[39;00m _global_backward_pre_hooks \u001B[38;5;129;01mor\u001B[39;00m _global_backward_hooks\n\u001B[0;32m   1561\u001B[0m         \u001B[38;5;129;01mor\u001B[39;00m _global_forward_hooks \u001B[38;5;129;01mor\u001B[39;00m _global_forward_pre_hooks):\n\u001B[1;32m-> 1562\u001B[0m     \u001B[38;5;28;01mreturn\u001B[39;00m \u001B[43mforward_call\u001B[49m\u001B[43m(\u001B[49m\u001B[38;5;241;43m*\u001B[39;49m\u001B[43margs\u001B[49m\u001B[43m,\u001B[49m\u001B[43m \u001B[49m\u001B[38;5;241;43m*\u001B[39;49m\u001B[38;5;241;43m*\u001B[39;49m\u001B[43mkwargs\u001B[49m\u001B[43m)\u001B[49m\n\u001B[0;32m   1564\u001B[0m \u001B[38;5;28;01mtry\u001B[39;00m:\n\u001B[0;32m   1565\u001B[0m     result \u001B[38;5;241m=\u001B[39m \u001B[38;5;28;01mNone\u001B[39;00m\n",
      "File \u001B[1;32mE:\\WYX_Project\\SAT-CGCN-Demo-1\\csat\\models.py:150\u001B[0m, in \u001B[0;36mGraphTransformer.forward\u001B[1;34m(self, data, return_attn)\u001B[0m\n\u001B[0;32m    147\u001B[0m     cls_tokens \u001B[38;5;241m=\u001B[39m repeat(\u001B[38;5;28mself\u001B[39m\u001B[38;5;241m.\u001B[39mcls_token, \u001B[38;5;124m'\u001B[39m\u001B[38;5;124m() d -> b d\u001B[39m\u001B[38;5;124m'\u001B[39m, b\u001B[38;5;241m=\u001B[39mbsz)\n\u001B[0;32m    148\u001B[0m     output \u001B[38;5;241m=\u001B[39m torch\u001B[38;5;241m.\u001B[39mcat((output, cls_tokens))\n\u001B[1;32m--> 150\u001B[0m output \u001B[38;5;241m=\u001B[39m \u001B[38;5;28;43mself\u001B[39;49m\u001B[38;5;241;43m.\u001B[39;49m\u001B[43mencoder\u001B[49m\u001B[43m(\u001B[49m\n\u001B[0;32m    151\u001B[0m \u001B[43m    \u001B[49m\u001B[43moutput\u001B[49m\u001B[43m,\u001B[49m\u001B[43m \u001B[49m\n\u001B[0;32m    152\u001B[0m \u001B[43m    \u001B[49m\u001B[43medge_index\u001B[49m\u001B[43m,\u001B[49m\u001B[43m \u001B[49m\n\u001B[0;32m    153\u001B[0m \u001B[43m    \u001B[49m\u001B[43mcomplete_edge_index\u001B[49m\u001B[43m,\u001B[49m\n\u001B[0;32m    154\u001B[0m \u001B[43m    \u001B[49m\u001B[43medge_attr\u001B[49m\u001B[38;5;241;43m=\u001B[39;49m\u001B[43medge_attr\u001B[49m\u001B[43m,\u001B[49m\u001B[43m \u001B[49m\n\u001B[0;32m    155\u001B[0m \u001B[43m    \u001B[49m\u001B[43mdegree\u001B[49m\u001B[38;5;241;43m=\u001B[39;49m\u001B[43mdegree\u001B[49m\u001B[43m,\u001B[49m\n\u001B[0;32m    156\u001B[0m \u001B[43m    \u001B[49m\u001B[43msubgraph_node_index\u001B[49m\u001B[38;5;241;43m=\u001B[39;49m\u001B[43msubgraph_node_index\u001B[49m\u001B[43m,\u001B[49m\n\u001B[0;32m    157\u001B[0m \u001B[43m    \u001B[49m\u001B[43msubgraph_edge_index\u001B[49m\u001B[38;5;241;43m=\u001B[39;49m\u001B[43msubgraph_edge_index\u001B[49m\u001B[43m,\u001B[49m\n\u001B[0;32m    158\u001B[0m \u001B[43m    \u001B[49m\u001B[43msubgraph_indicator_index\u001B[49m\u001B[38;5;241;43m=\u001B[39;49m\u001B[43msubgraph_indicator_index\u001B[49m\u001B[43m,\u001B[49m\u001B[43m \u001B[49m\n\u001B[0;32m    159\u001B[0m \u001B[43m    \u001B[49m\u001B[43msubgraph_edge_attr\u001B[49m\u001B[38;5;241;43m=\u001B[39;49m\u001B[43msubgraph_edge_attr\u001B[49m\u001B[43m,\u001B[49m\n\u001B[0;32m    160\u001B[0m \u001B[43m    \u001B[49m\u001B[43mptr\u001B[49m\u001B[38;5;241;43m=\u001B[39;49m\u001B[43mdata\u001B[49m\u001B[38;5;241;43m.\u001B[39;49m\u001B[43mptr\u001B[49m\u001B[43m,\u001B[49m\n\u001B[0;32m    161\u001B[0m \u001B[43m    \u001B[49m\u001B[43mreturn_attn\u001B[49m\u001B[38;5;241;43m=\u001B[39;49m\u001B[43mreturn_attn\u001B[49m\n\u001B[0;32m    162\u001B[0m \u001B[43m\u001B[49m\u001B[43m)\u001B[49m\n\u001B[0;32m    163\u001B[0m \u001B[38;5;66;03m# readout step\u001B[39;00m\n\u001B[0;32m    164\u001B[0m \u001B[38;5;28;01mif\u001B[39;00m \u001B[38;5;28mself\u001B[39m\u001B[38;5;241m.\u001B[39muse_global_pool:\n",
      "File \u001B[1;32mE:\\anaconda3\\envs\\pytorch\\lib\\site-packages\\torch\\nn\\modules\\module.py:1553\u001B[0m, in \u001B[0;36mModule._wrapped_call_impl\u001B[1;34m(self, *args, **kwargs)\u001B[0m\n\u001B[0;32m   1551\u001B[0m     \u001B[38;5;28;01mreturn\u001B[39;00m \u001B[38;5;28mself\u001B[39m\u001B[38;5;241m.\u001B[39m_compiled_call_impl(\u001B[38;5;241m*\u001B[39margs, \u001B[38;5;241m*\u001B[39m\u001B[38;5;241m*\u001B[39mkwargs)  \u001B[38;5;66;03m# type: ignore[misc]\u001B[39;00m\n\u001B[0;32m   1552\u001B[0m \u001B[38;5;28;01melse\u001B[39;00m:\n\u001B[1;32m-> 1553\u001B[0m     \u001B[38;5;28;01mreturn\u001B[39;00m \u001B[38;5;28;43mself\u001B[39;49m\u001B[38;5;241;43m.\u001B[39;49m\u001B[43m_call_impl\u001B[49m\u001B[43m(\u001B[49m\u001B[38;5;241;43m*\u001B[39;49m\u001B[43margs\u001B[49m\u001B[43m,\u001B[49m\u001B[43m \u001B[49m\u001B[38;5;241;43m*\u001B[39;49m\u001B[38;5;241;43m*\u001B[39;49m\u001B[43mkwargs\u001B[49m\u001B[43m)\u001B[49m\n",
      "File \u001B[1;32mE:\\anaconda3\\envs\\pytorch\\lib\\site-packages\\torch\\nn\\modules\\module.py:1562\u001B[0m, in \u001B[0;36mModule._call_impl\u001B[1;34m(self, *args, **kwargs)\u001B[0m\n\u001B[0;32m   1557\u001B[0m \u001B[38;5;66;03m# If we don't have any hooks, we want to skip the rest of the logic in\u001B[39;00m\n\u001B[0;32m   1558\u001B[0m \u001B[38;5;66;03m# this function, and just call forward.\u001B[39;00m\n\u001B[0;32m   1559\u001B[0m \u001B[38;5;28;01mif\u001B[39;00m \u001B[38;5;129;01mnot\u001B[39;00m (\u001B[38;5;28mself\u001B[39m\u001B[38;5;241m.\u001B[39m_backward_hooks \u001B[38;5;129;01mor\u001B[39;00m \u001B[38;5;28mself\u001B[39m\u001B[38;5;241m.\u001B[39m_backward_pre_hooks \u001B[38;5;129;01mor\u001B[39;00m \u001B[38;5;28mself\u001B[39m\u001B[38;5;241m.\u001B[39m_forward_hooks \u001B[38;5;129;01mor\u001B[39;00m \u001B[38;5;28mself\u001B[39m\u001B[38;5;241m.\u001B[39m_forward_pre_hooks\n\u001B[0;32m   1560\u001B[0m         \u001B[38;5;129;01mor\u001B[39;00m _global_backward_pre_hooks \u001B[38;5;129;01mor\u001B[39;00m _global_backward_hooks\n\u001B[0;32m   1561\u001B[0m         \u001B[38;5;129;01mor\u001B[39;00m _global_forward_hooks \u001B[38;5;129;01mor\u001B[39;00m _global_forward_pre_hooks):\n\u001B[1;32m-> 1562\u001B[0m     \u001B[38;5;28;01mreturn\u001B[39;00m \u001B[43mforward_call\u001B[49m\u001B[43m(\u001B[49m\u001B[38;5;241;43m*\u001B[39;49m\u001B[43margs\u001B[49m\u001B[43m,\u001B[49m\u001B[43m \u001B[49m\u001B[38;5;241;43m*\u001B[39;49m\u001B[38;5;241;43m*\u001B[39;49m\u001B[43mkwargs\u001B[49m\u001B[43m)\u001B[49m\n\u001B[0;32m   1564\u001B[0m \u001B[38;5;28;01mtry\u001B[39;00m:\n\u001B[0;32m   1565\u001B[0m     result \u001B[38;5;241m=\u001B[39m \u001B[38;5;28;01mNone\u001B[39;00m\n",
      "File \u001B[1;32mE:\\WYX_Project\\SAT-CGCN-Demo-1\\csat\\models.py:17\u001B[0m, in \u001B[0;36mGraphTransformerEncoder.forward\u001B[1;34m(self, x, edge_index, complete_edge_index, subgraph_node_index, subgraph_edge_index, subgraph_edge_attr, subgraph_indicator_index, edge_attr, degree, ptr, return_attn)\u001B[0m\n\u001B[0;32m     14\u001B[0m output \u001B[38;5;241m=\u001B[39m x\n\u001B[0;32m     16\u001B[0m \u001B[38;5;28;01mfor\u001B[39;00m mod \u001B[38;5;129;01min\u001B[39;00m \u001B[38;5;28mself\u001B[39m\u001B[38;5;241m.\u001B[39mlayers:\n\u001B[1;32m---> 17\u001B[0m     output \u001B[38;5;241m=\u001B[39m \u001B[43mmod\u001B[49m\u001B[43m(\u001B[49m\u001B[43moutput\u001B[49m\u001B[43m,\u001B[49m\u001B[43m \u001B[49m\u001B[43medge_index\u001B[49m\u001B[43m,\u001B[49m\u001B[43m \u001B[49m\u001B[43mcomplete_edge_index\u001B[49m\u001B[43m,\u001B[49m\n\u001B[0;32m     18\u001B[0m \u001B[43m        \u001B[49m\u001B[43medge_attr\u001B[49m\u001B[38;5;241;43m=\u001B[39;49m\u001B[43medge_attr\u001B[49m\u001B[43m,\u001B[49m\u001B[43m \u001B[49m\u001B[43mdegree\u001B[49m\u001B[38;5;241;43m=\u001B[39;49m\u001B[43mdegree\u001B[49m\u001B[43m,\u001B[49m\n\u001B[0;32m     19\u001B[0m \u001B[43m        \u001B[49m\u001B[43msubgraph_node_index\u001B[49m\u001B[38;5;241;43m=\u001B[39;49m\u001B[43msubgraph_node_index\u001B[49m\u001B[43m,\u001B[49m\n\u001B[0;32m     20\u001B[0m \u001B[43m        \u001B[49m\u001B[43msubgraph_edge_index\u001B[49m\u001B[38;5;241;43m=\u001B[39;49m\u001B[43msubgraph_edge_index\u001B[49m\u001B[43m,\u001B[49m\n\u001B[0;32m     21\u001B[0m \u001B[43m        \u001B[49m\u001B[43msubgraph_indicator_index\u001B[49m\u001B[38;5;241;43m=\u001B[39;49m\u001B[43msubgraph_indicator_index\u001B[49m\u001B[43m,\u001B[49m\u001B[43m \u001B[49m\n\u001B[0;32m     22\u001B[0m \u001B[43m        \u001B[49m\u001B[43msubgraph_edge_attr\u001B[49m\u001B[38;5;241;43m=\u001B[39;49m\u001B[43msubgraph_edge_attr\u001B[49m\u001B[43m,\u001B[49m\n\u001B[0;32m     23\u001B[0m \u001B[43m        \u001B[49m\u001B[43mptr\u001B[49m\u001B[38;5;241;43m=\u001B[39;49m\u001B[43mptr\u001B[49m\u001B[43m,\u001B[49m\n\u001B[0;32m     24\u001B[0m \u001B[43m        \u001B[49m\u001B[43mreturn_attn\u001B[49m\u001B[38;5;241;43m=\u001B[39;49m\u001B[43mreturn_attn\u001B[49m\n\u001B[0;32m     25\u001B[0m \u001B[43m    \u001B[49m\u001B[43m)\u001B[49m\n\u001B[0;32m     26\u001B[0m \u001B[38;5;28;01mif\u001B[39;00m \u001B[38;5;28mself\u001B[39m\u001B[38;5;241m.\u001B[39mnorm \u001B[38;5;129;01mis\u001B[39;00m \u001B[38;5;129;01mnot\u001B[39;00m \u001B[38;5;28;01mNone\u001B[39;00m:\n\u001B[0;32m     27\u001B[0m     output \u001B[38;5;241m=\u001B[39m \u001B[38;5;28mself\u001B[39m\u001B[38;5;241m.\u001B[39mnorm(output)\n",
      "File \u001B[1;32mE:\\anaconda3\\envs\\pytorch\\lib\\site-packages\\torch\\nn\\modules\\module.py:1553\u001B[0m, in \u001B[0;36mModule._wrapped_call_impl\u001B[1;34m(self, *args, **kwargs)\u001B[0m\n\u001B[0;32m   1551\u001B[0m     \u001B[38;5;28;01mreturn\u001B[39;00m \u001B[38;5;28mself\u001B[39m\u001B[38;5;241m.\u001B[39m_compiled_call_impl(\u001B[38;5;241m*\u001B[39margs, \u001B[38;5;241m*\u001B[39m\u001B[38;5;241m*\u001B[39mkwargs)  \u001B[38;5;66;03m# type: ignore[misc]\u001B[39;00m\n\u001B[0;32m   1552\u001B[0m \u001B[38;5;28;01melse\u001B[39;00m:\n\u001B[1;32m-> 1553\u001B[0m     \u001B[38;5;28;01mreturn\u001B[39;00m \u001B[38;5;28;43mself\u001B[39;49m\u001B[38;5;241;43m.\u001B[39;49m\u001B[43m_call_impl\u001B[49m\u001B[43m(\u001B[49m\u001B[38;5;241;43m*\u001B[39;49m\u001B[43margs\u001B[49m\u001B[43m,\u001B[49m\u001B[43m \u001B[49m\u001B[38;5;241;43m*\u001B[39;49m\u001B[38;5;241;43m*\u001B[39;49m\u001B[43mkwargs\u001B[49m\u001B[43m)\u001B[49m\n",
      "File \u001B[1;32mE:\\anaconda3\\envs\\pytorch\\lib\\site-packages\\torch\\nn\\modules\\module.py:1562\u001B[0m, in \u001B[0;36mModule._call_impl\u001B[1;34m(self, *args, **kwargs)\u001B[0m\n\u001B[0;32m   1557\u001B[0m \u001B[38;5;66;03m# If we don't have any hooks, we want to skip the rest of the logic in\u001B[39;00m\n\u001B[0;32m   1558\u001B[0m \u001B[38;5;66;03m# this function, and just call forward.\u001B[39;00m\n\u001B[0;32m   1559\u001B[0m \u001B[38;5;28;01mif\u001B[39;00m \u001B[38;5;129;01mnot\u001B[39;00m (\u001B[38;5;28mself\u001B[39m\u001B[38;5;241m.\u001B[39m_backward_hooks \u001B[38;5;129;01mor\u001B[39;00m \u001B[38;5;28mself\u001B[39m\u001B[38;5;241m.\u001B[39m_backward_pre_hooks \u001B[38;5;129;01mor\u001B[39;00m \u001B[38;5;28mself\u001B[39m\u001B[38;5;241m.\u001B[39m_forward_hooks \u001B[38;5;129;01mor\u001B[39;00m \u001B[38;5;28mself\u001B[39m\u001B[38;5;241m.\u001B[39m_forward_pre_hooks\n\u001B[0;32m   1560\u001B[0m         \u001B[38;5;129;01mor\u001B[39;00m _global_backward_pre_hooks \u001B[38;5;129;01mor\u001B[39;00m _global_backward_hooks\n\u001B[0;32m   1561\u001B[0m         \u001B[38;5;129;01mor\u001B[39;00m _global_forward_hooks \u001B[38;5;129;01mor\u001B[39;00m _global_forward_pre_hooks):\n\u001B[1;32m-> 1562\u001B[0m     \u001B[38;5;28;01mreturn\u001B[39;00m \u001B[43mforward_call\u001B[49m\u001B[43m(\u001B[49m\u001B[38;5;241;43m*\u001B[39;49m\u001B[43margs\u001B[49m\u001B[43m,\u001B[49m\u001B[43m \u001B[49m\u001B[38;5;241;43m*\u001B[39;49m\u001B[38;5;241;43m*\u001B[39;49m\u001B[43mkwargs\u001B[49m\u001B[43m)\u001B[49m\n\u001B[0;32m   1564\u001B[0m \u001B[38;5;28;01mtry\u001B[39;00m:\n\u001B[0;32m   1565\u001B[0m     result \u001B[38;5;241m=\u001B[39m \u001B[38;5;28;01mNone\u001B[39;00m\n",
      "File \u001B[1;32mE:\\WYX_Project\\SAT-CGCN-Demo-1\\csat\\layers.py:358\u001B[0m, in \u001B[0;36mTransformerEncoderLayer.forward\u001B[1;34m(self, x, edge_index, complete_edge_index, subgraph_node_index, subgraph_edge_index, subgraph_edge_attr, subgraph_indicator_index, edge_attr, degree, ptr, return_attn)\u001B[0m\n\u001B[0;32m    355\u001B[0m \u001B[38;5;28;01mif\u001B[39;00m \u001B[38;5;28mself\u001B[39m\u001B[38;5;241m.\u001B[39mpre_norm:\n\u001B[0;32m    356\u001B[0m     x \u001B[38;5;241m=\u001B[39m \u001B[38;5;28mself\u001B[39m\u001B[38;5;241m.\u001B[39mnorm1(x)\n\u001B[1;32m--> 358\u001B[0m x2, attn \u001B[38;5;241m=\u001B[39m \u001B[38;5;28;43mself\u001B[39;49m\u001B[38;5;241;43m.\u001B[39;49m\u001B[43mself_attn\u001B[49m\u001B[43m(\u001B[49m\n\u001B[0;32m    359\u001B[0m \u001B[43m    \u001B[49m\u001B[43mx\u001B[49m\u001B[43m,\u001B[49m\n\u001B[0;32m    360\u001B[0m \u001B[43m    \u001B[49m\u001B[43medge_index\u001B[49m\u001B[43m,\u001B[49m\n\u001B[0;32m    361\u001B[0m \u001B[43m    \u001B[49m\u001B[43mcomplete_edge_index\u001B[49m\u001B[43m,\u001B[49m\n\u001B[0;32m    362\u001B[0m \u001B[43m    \u001B[49m\u001B[43medge_attr\u001B[49m\u001B[38;5;241;43m=\u001B[39;49m\u001B[43medge_attr\u001B[49m\u001B[43m,\u001B[49m\n\u001B[0;32m    363\u001B[0m \u001B[43m    \u001B[49m\u001B[43msubgraph_node_index\u001B[49m\u001B[38;5;241;43m=\u001B[39;49m\u001B[43msubgraph_node_index\u001B[49m\u001B[43m,\u001B[49m\n\u001B[0;32m    364\u001B[0m \u001B[43m    \u001B[49m\u001B[43msubgraph_edge_index\u001B[49m\u001B[38;5;241;43m=\u001B[39;49m\u001B[43msubgraph_edge_index\u001B[49m\u001B[43m,\u001B[49m\n\u001B[0;32m    365\u001B[0m \u001B[43m    \u001B[49m\u001B[43msubgraph_indicator_index\u001B[49m\u001B[38;5;241;43m=\u001B[39;49m\u001B[43msubgraph_indicator_index\u001B[49m\u001B[43m,\u001B[49m\n\u001B[0;32m    366\u001B[0m \u001B[43m    \u001B[49m\u001B[43msubgraph_edge_attr\u001B[49m\u001B[38;5;241;43m=\u001B[39;49m\u001B[43msubgraph_edge_attr\u001B[49m\u001B[43m,\u001B[49m\n\u001B[0;32m    367\u001B[0m \u001B[43m    \u001B[49m\u001B[43mptr\u001B[49m\u001B[38;5;241;43m=\u001B[39;49m\u001B[43mptr\u001B[49m\u001B[43m,\u001B[49m\n\u001B[0;32m    368\u001B[0m \u001B[43m    \u001B[49m\u001B[43mreturn_attn\u001B[49m\u001B[38;5;241;43m=\u001B[39;49m\u001B[43mreturn_attn\u001B[49m\n\u001B[0;32m    369\u001B[0m \u001B[43m\u001B[49m\u001B[43m)\u001B[49m\n\u001B[0;32m    371\u001B[0m \u001B[38;5;28;01mif\u001B[39;00m degree \u001B[38;5;129;01mis\u001B[39;00m \u001B[38;5;129;01mnot\u001B[39;00m \u001B[38;5;28;01mNone\u001B[39;00m:\n\u001B[0;32m    372\u001B[0m     x2 \u001B[38;5;241m=\u001B[39m degree\u001B[38;5;241m.\u001B[39munsqueeze(\u001B[38;5;241m-\u001B[39m\u001B[38;5;241m1\u001B[39m) \u001B[38;5;241m*\u001B[39m x2\n",
      "File \u001B[1;32mE:\\anaconda3\\envs\\pytorch\\lib\\site-packages\\torch\\nn\\modules\\module.py:1553\u001B[0m, in \u001B[0;36mModule._wrapped_call_impl\u001B[1;34m(self, *args, **kwargs)\u001B[0m\n\u001B[0;32m   1551\u001B[0m     \u001B[38;5;28;01mreturn\u001B[39;00m \u001B[38;5;28mself\u001B[39m\u001B[38;5;241m.\u001B[39m_compiled_call_impl(\u001B[38;5;241m*\u001B[39margs, \u001B[38;5;241m*\u001B[39m\u001B[38;5;241m*\u001B[39mkwargs)  \u001B[38;5;66;03m# type: ignore[misc]\u001B[39;00m\n\u001B[0;32m   1552\u001B[0m \u001B[38;5;28;01melse\u001B[39;00m:\n\u001B[1;32m-> 1553\u001B[0m     \u001B[38;5;28;01mreturn\u001B[39;00m \u001B[38;5;28;43mself\u001B[39;49m\u001B[38;5;241;43m.\u001B[39;49m\u001B[43m_call_impl\u001B[49m\u001B[43m(\u001B[49m\u001B[38;5;241;43m*\u001B[39;49m\u001B[43margs\u001B[49m\u001B[43m,\u001B[49m\u001B[43m \u001B[49m\u001B[38;5;241;43m*\u001B[39;49m\u001B[38;5;241;43m*\u001B[39;49m\u001B[43mkwargs\u001B[49m\u001B[43m)\u001B[49m\n",
      "File \u001B[1;32mE:\\anaconda3\\envs\\pytorch\\lib\\site-packages\\torch\\nn\\modules\\module.py:1562\u001B[0m, in \u001B[0;36mModule._call_impl\u001B[1;34m(self, *args, **kwargs)\u001B[0m\n\u001B[0;32m   1557\u001B[0m \u001B[38;5;66;03m# If we don't have any hooks, we want to skip the rest of the logic in\u001B[39;00m\n\u001B[0;32m   1558\u001B[0m \u001B[38;5;66;03m# this function, and just call forward.\u001B[39;00m\n\u001B[0;32m   1559\u001B[0m \u001B[38;5;28;01mif\u001B[39;00m \u001B[38;5;129;01mnot\u001B[39;00m (\u001B[38;5;28mself\u001B[39m\u001B[38;5;241m.\u001B[39m_backward_hooks \u001B[38;5;129;01mor\u001B[39;00m \u001B[38;5;28mself\u001B[39m\u001B[38;5;241m.\u001B[39m_backward_pre_hooks \u001B[38;5;129;01mor\u001B[39;00m \u001B[38;5;28mself\u001B[39m\u001B[38;5;241m.\u001B[39m_forward_hooks \u001B[38;5;129;01mor\u001B[39;00m \u001B[38;5;28mself\u001B[39m\u001B[38;5;241m.\u001B[39m_forward_pre_hooks\n\u001B[0;32m   1560\u001B[0m         \u001B[38;5;129;01mor\u001B[39;00m _global_backward_pre_hooks \u001B[38;5;129;01mor\u001B[39;00m _global_backward_hooks\n\u001B[0;32m   1561\u001B[0m         \u001B[38;5;129;01mor\u001B[39;00m _global_forward_hooks \u001B[38;5;129;01mor\u001B[39;00m _global_forward_pre_hooks):\n\u001B[1;32m-> 1562\u001B[0m     \u001B[38;5;28;01mreturn\u001B[39;00m \u001B[43mforward_call\u001B[49m\u001B[43m(\u001B[49m\u001B[38;5;241;43m*\u001B[39;49m\u001B[43margs\u001B[49m\u001B[43m,\u001B[49m\u001B[43m \u001B[49m\u001B[38;5;241;43m*\u001B[39;49m\u001B[38;5;241;43m*\u001B[39;49m\u001B[43mkwargs\u001B[49m\u001B[43m)\u001B[49m\n\u001B[0;32m   1564\u001B[0m \u001B[38;5;28;01mtry\u001B[39;00m:\n\u001B[0;32m   1565\u001B[0m     result \u001B[38;5;241m=\u001B[39m \u001B[38;5;28;01mNone\u001B[39;00m\n",
      "File \u001B[1;32mE:\\WYX_Project\\SAT-CGCN-Demo-1\\csat\\layers.py:113\u001B[0m, in \u001B[0;36mAttention.forward\u001B[1;34m(self, x, edge_index, complete_edge_index, subgraph_node_index, subgraph_edge_index, subgraph_indicator_index, subgraph_edge_attr, edge_attr, ptr, return_attn)\u001B[0m\n\u001B[0;32m    111\u001B[0m \u001B[38;5;66;03m# Compute structure-aware node embeddings \u001B[39;00m\n\u001B[0;32m    112\u001B[0m \u001B[38;5;28;01mif\u001B[39;00m \u001B[38;5;28mself\u001B[39m\u001B[38;5;241m.\u001B[39mse \u001B[38;5;241m==\u001B[39m \u001B[38;5;124m'\u001B[39m\u001B[38;5;124mkhopgnn\u001B[39m\u001B[38;5;124m'\u001B[39m: \u001B[38;5;66;03m# k-subgraph SAT\u001B[39;00m\n\u001B[1;32m--> 113\u001B[0m     x_struct \u001B[38;5;241m=\u001B[39m \u001B[38;5;28;43mself\u001B[39;49m\u001B[38;5;241;43m.\u001B[39;49m\u001B[43mkhop_structure_extractor\u001B[49m\u001B[43m(\u001B[49m\n\u001B[0;32m    114\u001B[0m \u001B[43m        \u001B[49m\u001B[43mx\u001B[49m\u001B[38;5;241;43m=\u001B[39;49m\u001B[43mx\u001B[49m\u001B[43m,\u001B[49m\n\u001B[0;32m    115\u001B[0m \u001B[43m        \u001B[49m\u001B[43medge_index\u001B[49m\u001B[38;5;241;43m=\u001B[39;49m\u001B[43medge_index\u001B[49m\u001B[43m,\u001B[49m\n\u001B[0;32m    116\u001B[0m \u001B[43m        \u001B[49m\u001B[43msubgraph_edge_index\u001B[49m\u001B[38;5;241;43m=\u001B[39;49m\u001B[43msubgraph_edge_index\u001B[49m\u001B[43m,\u001B[49m\n\u001B[0;32m    117\u001B[0m \u001B[43m        \u001B[49m\u001B[43msubgraph_indicator_index\u001B[49m\u001B[38;5;241;43m=\u001B[39;49m\u001B[43msubgraph_indicator_index\u001B[49m\u001B[43m,\u001B[49m\n\u001B[0;32m    118\u001B[0m \u001B[43m        \u001B[49m\u001B[43msubgraph_node_index\u001B[49m\u001B[38;5;241;43m=\u001B[39;49m\u001B[43msubgraph_node_index\u001B[49m\u001B[43m,\u001B[49m\n\u001B[0;32m    119\u001B[0m \u001B[43m        \u001B[49m\u001B[43msubgraph_edge_attr\u001B[49m\u001B[38;5;241;43m=\u001B[39;49m\u001B[43msubgraph_edge_attr\u001B[49m\u001B[43m,\u001B[49m\n\u001B[0;32m    120\u001B[0m \u001B[43m    \u001B[49m\u001B[43m)\u001B[49m\n\u001B[0;32m    121\u001B[0m \u001B[38;5;28;01melse\u001B[39;00m: \u001B[38;5;66;03m# k-subtree SAT\u001B[39;00m\n\u001B[0;32m    122\u001B[0m     x_struct \u001B[38;5;241m=\u001B[39m \u001B[38;5;28mself\u001B[39m\u001B[38;5;241m.\u001B[39mstructure_extractor(x, edge_index, edge_attr)\n",
      "File \u001B[1;32mE:\\anaconda3\\envs\\pytorch\\lib\\site-packages\\torch\\nn\\modules\\module.py:1553\u001B[0m, in \u001B[0;36mModule._wrapped_call_impl\u001B[1;34m(self, *args, **kwargs)\u001B[0m\n\u001B[0;32m   1551\u001B[0m     \u001B[38;5;28;01mreturn\u001B[39;00m \u001B[38;5;28mself\u001B[39m\u001B[38;5;241m.\u001B[39m_compiled_call_impl(\u001B[38;5;241m*\u001B[39margs, \u001B[38;5;241m*\u001B[39m\u001B[38;5;241m*\u001B[39mkwargs)  \u001B[38;5;66;03m# type: ignore[misc]\u001B[39;00m\n\u001B[0;32m   1552\u001B[0m \u001B[38;5;28;01melse\u001B[39;00m:\n\u001B[1;32m-> 1553\u001B[0m     \u001B[38;5;28;01mreturn\u001B[39;00m \u001B[38;5;28;43mself\u001B[39;49m\u001B[38;5;241;43m.\u001B[39;49m\u001B[43m_call_impl\u001B[49m\u001B[43m(\u001B[49m\u001B[38;5;241;43m*\u001B[39;49m\u001B[43margs\u001B[49m\u001B[43m,\u001B[49m\u001B[43m \u001B[49m\u001B[38;5;241;43m*\u001B[39;49m\u001B[38;5;241;43m*\u001B[39;49m\u001B[43mkwargs\u001B[49m\u001B[43m)\u001B[49m\n",
      "File \u001B[1;32mE:\\anaconda3\\envs\\pytorch\\lib\\site-packages\\torch\\nn\\modules\\module.py:1562\u001B[0m, in \u001B[0;36mModule._call_impl\u001B[1;34m(self, *args, **kwargs)\u001B[0m\n\u001B[0;32m   1557\u001B[0m \u001B[38;5;66;03m# If we don't have any hooks, we want to skip the rest of the logic in\u001B[39;00m\n\u001B[0;32m   1558\u001B[0m \u001B[38;5;66;03m# this function, and just call forward.\u001B[39;00m\n\u001B[0;32m   1559\u001B[0m \u001B[38;5;28;01mif\u001B[39;00m \u001B[38;5;129;01mnot\u001B[39;00m (\u001B[38;5;28mself\u001B[39m\u001B[38;5;241m.\u001B[39m_backward_hooks \u001B[38;5;129;01mor\u001B[39;00m \u001B[38;5;28mself\u001B[39m\u001B[38;5;241m.\u001B[39m_backward_pre_hooks \u001B[38;5;129;01mor\u001B[39;00m \u001B[38;5;28mself\u001B[39m\u001B[38;5;241m.\u001B[39m_forward_hooks \u001B[38;5;129;01mor\u001B[39;00m \u001B[38;5;28mself\u001B[39m\u001B[38;5;241m.\u001B[39m_forward_pre_hooks\n\u001B[0;32m   1560\u001B[0m         \u001B[38;5;129;01mor\u001B[39;00m _global_backward_pre_hooks \u001B[38;5;129;01mor\u001B[39;00m _global_backward_hooks\n\u001B[0;32m   1561\u001B[0m         \u001B[38;5;129;01mor\u001B[39;00m _global_forward_hooks \u001B[38;5;129;01mor\u001B[39;00m _global_forward_pre_hooks):\n\u001B[1;32m-> 1562\u001B[0m     \u001B[38;5;28;01mreturn\u001B[39;00m \u001B[43mforward_call\u001B[49m\u001B[43m(\u001B[49m\u001B[38;5;241;43m*\u001B[39;49m\u001B[43margs\u001B[49m\u001B[43m,\u001B[49m\u001B[43m \u001B[49m\u001B[38;5;241;43m*\u001B[39;49m\u001B[38;5;241;43m*\u001B[39;49m\u001B[43mkwargs\u001B[49m\u001B[43m)\u001B[49m\n\u001B[0;32m   1564\u001B[0m \u001B[38;5;28;01mtry\u001B[39;00m:\n\u001B[0;32m   1565\u001B[0m     result \u001B[38;5;241m=\u001B[39m \u001B[38;5;28;01mNone\u001B[39;00m\n",
      "File \u001B[1;32mE:\\WYX_Project\\SAT-CGCN-Demo-1\\csat\\layers.py:301\u001B[0m, in \u001B[0;36mKHopStructureExtractor.forward\u001B[1;34m(self, x, edge_index, subgraph_edge_index, edge_attr, subgraph_indicator_index, subgraph_node_index, subgraph_edge_attr)\u001B[0m\n\u001B[0;32m    297\u001B[0m \u001B[38;5;28;01mdef\u001B[39;00m \u001B[38;5;21mforward\u001B[39m(\u001B[38;5;28mself\u001B[39m, x, edge_index, subgraph_edge_index, edge_attr\u001B[38;5;241m=\u001B[39m\u001B[38;5;28;01mNone\u001B[39;00m,\n\u001B[0;32m    298\u001B[0m         subgraph_indicator_index\u001B[38;5;241m=\u001B[39m\u001B[38;5;28;01mNone\u001B[39;00m, subgraph_node_index\u001B[38;5;241m=\u001B[39m\u001B[38;5;28;01mNone\u001B[39;00m,\n\u001B[0;32m    299\u001B[0m         subgraph_edge_attr\u001B[38;5;241m=\u001B[39m\u001B[38;5;28;01mNone\u001B[39;00m):\n\u001B[1;32m--> 301\u001B[0m     x_struct \u001B[38;5;241m=\u001B[39m \u001B[38;5;28;43mself\u001B[39;49m\u001B[38;5;241;43m.\u001B[39;49m\u001B[43mstructure_extractor\u001B[49m\u001B[43m(\u001B[49m\n\u001B[0;32m    302\u001B[0m \u001B[43m        \u001B[49m\u001B[43mx\u001B[49m\u001B[38;5;241;43m=\u001B[39;49m\u001B[43mx\u001B[49m\u001B[43m[\u001B[49m\u001B[43msubgraph_node_index\u001B[49m\u001B[43m]\u001B[49m\u001B[43m,\u001B[49m\n\u001B[0;32m    303\u001B[0m \u001B[43m        \u001B[49m\u001B[43medge_index\u001B[49m\u001B[38;5;241;43m=\u001B[39;49m\u001B[43msubgraph_edge_index\u001B[49m\u001B[43m,\u001B[49m\n\u001B[0;32m    304\u001B[0m \u001B[43m        \u001B[49m\u001B[43medge_attr\u001B[49m\u001B[38;5;241;43m=\u001B[39;49m\u001B[43msubgraph_edge_attr\u001B[49m\u001B[43m,\u001B[49m\n\u001B[0;32m    305\u001B[0m \u001B[43m        \u001B[49m\u001B[43msubgraph_indicator_index\u001B[49m\u001B[38;5;241;43m=\u001B[39;49m\u001B[43msubgraph_indicator_index\u001B[49m\u001B[43m,\u001B[49m\n\u001B[0;32m    306\u001B[0m \u001B[43m        \u001B[49m\u001B[43magg\u001B[49m\u001B[38;5;241;43m=\u001B[39;49m\u001B[38;5;124;43m\"\u001B[39;49m\u001B[38;5;124;43msum\u001B[39;49m\u001B[38;5;124;43m\"\u001B[39;49m\u001B[43m,\u001B[49m\n\u001B[0;32m    307\u001B[0m \u001B[43m    \u001B[49m\u001B[43m)\u001B[49m\n\u001B[0;32m    308\u001B[0m     x_struct \u001B[38;5;241m=\u001B[39m torch\u001B[38;5;241m.\u001B[39mcat([x, x_struct], dim\u001B[38;5;241m=\u001B[39m\u001B[38;5;241m-\u001B[39m\u001B[38;5;241m1\u001B[39m)\n\u001B[0;32m    309\u001B[0m     \u001B[38;5;28;01mif\u001B[39;00m \u001B[38;5;28mself\u001B[39m\u001B[38;5;241m.\u001B[39mbatch_norm:\n",
      "File \u001B[1;32mE:\\anaconda3\\envs\\pytorch\\lib\\site-packages\\torch\\nn\\modules\\module.py:1553\u001B[0m, in \u001B[0;36mModule._wrapped_call_impl\u001B[1;34m(self, *args, **kwargs)\u001B[0m\n\u001B[0;32m   1551\u001B[0m     \u001B[38;5;28;01mreturn\u001B[39;00m \u001B[38;5;28mself\u001B[39m\u001B[38;5;241m.\u001B[39m_compiled_call_impl(\u001B[38;5;241m*\u001B[39margs, \u001B[38;5;241m*\u001B[39m\u001B[38;5;241m*\u001B[39mkwargs)  \u001B[38;5;66;03m# type: ignore[misc]\u001B[39;00m\n\u001B[0;32m   1552\u001B[0m \u001B[38;5;28;01melse\u001B[39;00m:\n\u001B[1;32m-> 1553\u001B[0m     \u001B[38;5;28;01mreturn\u001B[39;00m \u001B[38;5;28;43mself\u001B[39;49m\u001B[38;5;241;43m.\u001B[39;49m\u001B[43m_call_impl\u001B[49m\u001B[43m(\u001B[49m\u001B[38;5;241;43m*\u001B[39;49m\u001B[43margs\u001B[49m\u001B[43m,\u001B[49m\u001B[43m \u001B[49m\u001B[38;5;241;43m*\u001B[39;49m\u001B[38;5;241;43m*\u001B[39;49m\u001B[43mkwargs\u001B[49m\u001B[43m)\u001B[49m\n",
      "File \u001B[1;32mE:\\anaconda3\\envs\\pytorch\\lib\\site-packages\\torch\\nn\\modules\\module.py:1562\u001B[0m, in \u001B[0;36mModule._call_impl\u001B[1;34m(self, *args, **kwargs)\u001B[0m\n\u001B[0;32m   1557\u001B[0m \u001B[38;5;66;03m# If we don't have any hooks, we want to skip the rest of the logic in\u001B[39;00m\n\u001B[0;32m   1558\u001B[0m \u001B[38;5;66;03m# this function, and just call forward.\u001B[39;00m\n\u001B[0;32m   1559\u001B[0m \u001B[38;5;28;01mif\u001B[39;00m \u001B[38;5;129;01mnot\u001B[39;00m (\u001B[38;5;28mself\u001B[39m\u001B[38;5;241m.\u001B[39m_backward_hooks \u001B[38;5;129;01mor\u001B[39;00m \u001B[38;5;28mself\u001B[39m\u001B[38;5;241m.\u001B[39m_backward_pre_hooks \u001B[38;5;129;01mor\u001B[39;00m \u001B[38;5;28mself\u001B[39m\u001B[38;5;241m.\u001B[39m_forward_hooks \u001B[38;5;129;01mor\u001B[39;00m \u001B[38;5;28mself\u001B[39m\u001B[38;5;241m.\u001B[39m_forward_pre_hooks\n\u001B[0;32m   1560\u001B[0m         \u001B[38;5;129;01mor\u001B[39;00m _global_backward_pre_hooks \u001B[38;5;129;01mor\u001B[39;00m _global_backward_hooks\n\u001B[0;32m   1561\u001B[0m         \u001B[38;5;129;01mor\u001B[39;00m _global_forward_hooks \u001B[38;5;129;01mor\u001B[39;00m _global_forward_pre_hooks):\n\u001B[1;32m-> 1562\u001B[0m     \u001B[38;5;28;01mreturn\u001B[39;00m \u001B[43mforward_call\u001B[49m\u001B[43m(\u001B[49m\u001B[38;5;241;43m*\u001B[39;49m\u001B[43margs\u001B[49m\u001B[43m,\u001B[49m\u001B[43m \u001B[49m\u001B[38;5;241;43m*\u001B[39;49m\u001B[38;5;241;43m*\u001B[39;49m\u001B[43mkwargs\u001B[49m\u001B[43m)\u001B[49m\n\u001B[0;32m   1564\u001B[0m \u001B[38;5;28;01mtry\u001B[39;00m:\n\u001B[0;32m   1565\u001B[0m     result \u001B[38;5;241m=\u001B[39m \u001B[38;5;28;01mNone\u001B[39;00m\n",
      "File \u001B[1;32mE:\\WYX_Project\\SAT-CGCN-Demo-1\\csat\\layers.py:238\u001B[0m, in \u001B[0;36mStructureExtractor.forward\u001B[1;34m(self, x, edge_index, edge_attr, subgraph_indicator_index, agg)\u001B[0m\n\u001B[0;32m    236\u001B[0m         x \u001B[38;5;241m=\u001B[39m \u001B[38;5;28mself\u001B[39m\u001B[38;5;241m.\u001B[39mrelu(gcn_layer(x, edge_index))\n\u001B[0;32m    237\u001B[0m     \u001B[38;5;28;01melse\u001B[39;00m:\n\u001B[1;32m--> 238\u001B[0m         x \u001B[38;5;241m=\u001B[39m \u001B[38;5;28mself\u001B[39m\u001B[38;5;241m.\u001B[39mrelu(\u001B[43mgcn_layer\u001B[49m\u001B[43m(\u001B[49m\u001B[43mx\u001B[49m\u001B[43m,\u001B[49m\u001B[43m \u001B[49m\u001B[43medge_index\u001B[49m\u001B[43m,\u001B[49m\u001B[43m \u001B[49m\u001B[43medge_attr\u001B[49m\u001B[38;5;241;43m=\u001B[39;49m\u001B[43medge_attr\u001B[49m\u001B[43m)\u001B[49m)\n\u001B[0;32m    239\u001B[0m \u001B[38;5;28;01melse\u001B[39;00m:\n\u001B[0;32m    240\u001B[0m     x \u001B[38;5;241m=\u001B[39m \u001B[38;5;28mself\u001B[39m\u001B[38;5;241m.\u001B[39mrelu(gcn_layer(x, edge_index))\n",
      "File \u001B[1;32mE:\\anaconda3\\envs\\pytorch\\lib\\site-packages\\torch\\nn\\modules\\module.py:1553\u001B[0m, in \u001B[0;36mModule._wrapped_call_impl\u001B[1;34m(self, *args, **kwargs)\u001B[0m\n\u001B[0;32m   1551\u001B[0m     \u001B[38;5;28;01mreturn\u001B[39;00m \u001B[38;5;28mself\u001B[39m\u001B[38;5;241m.\u001B[39m_compiled_call_impl(\u001B[38;5;241m*\u001B[39margs, \u001B[38;5;241m*\u001B[39m\u001B[38;5;241m*\u001B[39mkwargs)  \u001B[38;5;66;03m# type: ignore[misc]\u001B[39;00m\n\u001B[0;32m   1552\u001B[0m \u001B[38;5;28;01melse\u001B[39;00m:\n\u001B[1;32m-> 1553\u001B[0m     \u001B[38;5;28;01mreturn\u001B[39;00m \u001B[38;5;28;43mself\u001B[39;49m\u001B[38;5;241;43m.\u001B[39;49m\u001B[43m_call_impl\u001B[49m\u001B[43m(\u001B[49m\u001B[38;5;241;43m*\u001B[39;49m\u001B[43margs\u001B[49m\u001B[43m,\u001B[49m\u001B[43m \u001B[49m\u001B[38;5;241;43m*\u001B[39;49m\u001B[38;5;241;43m*\u001B[39;49m\u001B[43mkwargs\u001B[49m\u001B[43m)\u001B[49m\n",
      "File \u001B[1;32mE:\\anaconda3\\envs\\pytorch\\lib\\site-packages\\torch\\nn\\modules\\module.py:1562\u001B[0m, in \u001B[0;36mModule._call_impl\u001B[1;34m(self, *args, **kwargs)\u001B[0m\n\u001B[0;32m   1557\u001B[0m \u001B[38;5;66;03m# If we don't have any hooks, we want to skip the rest of the logic in\u001B[39;00m\n\u001B[0;32m   1558\u001B[0m \u001B[38;5;66;03m# this function, and just call forward.\u001B[39;00m\n\u001B[0;32m   1559\u001B[0m \u001B[38;5;28;01mif\u001B[39;00m \u001B[38;5;129;01mnot\u001B[39;00m (\u001B[38;5;28mself\u001B[39m\u001B[38;5;241m.\u001B[39m_backward_hooks \u001B[38;5;129;01mor\u001B[39;00m \u001B[38;5;28mself\u001B[39m\u001B[38;5;241m.\u001B[39m_backward_pre_hooks \u001B[38;5;129;01mor\u001B[39;00m \u001B[38;5;28mself\u001B[39m\u001B[38;5;241m.\u001B[39m_forward_hooks \u001B[38;5;129;01mor\u001B[39;00m \u001B[38;5;28mself\u001B[39m\u001B[38;5;241m.\u001B[39m_forward_pre_hooks\n\u001B[0;32m   1560\u001B[0m         \u001B[38;5;129;01mor\u001B[39;00m _global_backward_pre_hooks \u001B[38;5;129;01mor\u001B[39;00m _global_backward_hooks\n\u001B[0;32m   1561\u001B[0m         \u001B[38;5;129;01mor\u001B[39;00m _global_forward_hooks \u001B[38;5;129;01mor\u001B[39;00m _global_forward_pre_hooks):\n\u001B[1;32m-> 1562\u001B[0m     \u001B[38;5;28;01mreturn\u001B[39;00m \u001B[43mforward_call\u001B[49m\u001B[43m(\u001B[49m\u001B[38;5;241;43m*\u001B[39;49m\u001B[43margs\u001B[49m\u001B[43m,\u001B[49m\u001B[43m \u001B[49m\u001B[38;5;241;43m*\u001B[39;49m\u001B[38;5;241;43m*\u001B[39;49m\u001B[43mkwargs\u001B[49m\u001B[43m)\u001B[49m\n\u001B[0;32m   1564\u001B[0m \u001B[38;5;28;01mtry\u001B[39;00m:\n\u001B[0;32m   1565\u001B[0m     result \u001B[38;5;241m=\u001B[39m \u001B[38;5;28;01mNone\u001B[39;00m\n",
      "File \u001B[1;32mE:\\anaconda3\\envs\\pytorch\\lib\\site-packages\\torch_geometric\\nn\\conv\\pna_conv.py:167\u001B[0m, in \u001B[0;36mPNAConv.forward\u001B[1;34m(self, x, edge_index, edge_attr)\u001B[0m\n\u001B[0;32m    164\u001B[0m     x \u001B[38;5;241m=\u001B[39m x\u001B[38;5;241m.\u001B[39mview(\u001B[38;5;241m-\u001B[39m\u001B[38;5;241m1\u001B[39m, \u001B[38;5;241m1\u001B[39m, \u001B[38;5;28mself\u001B[39m\u001B[38;5;241m.\u001B[39mF_in)\u001B[38;5;241m.\u001B[39mrepeat(\u001B[38;5;241m1\u001B[39m, \u001B[38;5;28mself\u001B[39m\u001B[38;5;241m.\u001B[39mtowers, \u001B[38;5;241m1\u001B[39m)\n\u001B[0;32m    166\u001B[0m \u001B[38;5;66;03m# propagate_type: (x: Tensor, edge_attr: OptTensor)\u001B[39;00m\n\u001B[1;32m--> 167\u001B[0m out \u001B[38;5;241m=\u001B[39m \u001B[38;5;28;43mself\u001B[39;49m\u001B[38;5;241;43m.\u001B[39;49m\u001B[43mpropagate\u001B[49m\u001B[43m(\u001B[49m\u001B[43medge_index\u001B[49m\u001B[43m,\u001B[49m\u001B[43m \u001B[49m\u001B[43mx\u001B[49m\u001B[38;5;241;43m=\u001B[39;49m\u001B[43mx\u001B[49m\u001B[43m,\u001B[49m\u001B[43m \u001B[49m\u001B[43medge_attr\u001B[49m\u001B[38;5;241;43m=\u001B[39;49m\u001B[43medge_attr\u001B[49m\u001B[43m)\u001B[49m\n\u001B[0;32m    169\u001B[0m out \u001B[38;5;241m=\u001B[39m torch\u001B[38;5;241m.\u001B[39mcat([x, out], dim\u001B[38;5;241m=\u001B[39m\u001B[38;5;241m-\u001B[39m\u001B[38;5;241m1\u001B[39m)\n\u001B[0;32m    170\u001B[0m outs \u001B[38;5;241m=\u001B[39m [nn(out[:, i]) \u001B[38;5;28;01mfor\u001B[39;00m i, nn \u001B[38;5;129;01min\u001B[39;00m \u001B[38;5;28menumerate\u001B[39m(\u001B[38;5;28mself\u001B[39m\u001B[38;5;241m.\u001B[39mpost_nns)]\n",
      "File \u001B[1;32m~\\AppData\\Local\\Temp\\torch_geometric.nn.conv.pna_conv_PNAConv_propagate_u8iub_1q.py:201\u001B[0m, in \u001B[0;36mpropagate\u001B[1;34m(self, edge_index, x, edge_attr, size)\u001B[0m\n\u001B[0;32m    191\u001B[0m             kwargs \u001B[38;5;241m=\u001B[39m CollectArgs(\n\u001B[0;32m    192\u001B[0m                 x_i\u001B[38;5;241m=\u001B[39mhook_kwargs[\u001B[38;5;124m'\u001B[39m\u001B[38;5;124mx_i\u001B[39m\u001B[38;5;124m'\u001B[39m],\n\u001B[0;32m    193\u001B[0m                 x_j\u001B[38;5;241m=\u001B[39mhook_kwargs[\u001B[38;5;124m'\u001B[39m\u001B[38;5;124mx_j\u001B[39m\u001B[38;5;124m'\u001B[39m],\n\u001B[1;32m   (...)\u001B[0m\n\u001B[0;32m    197\u001B[0m                 dim_size\u001B[38;5;241m=\u001B[39mkwargs\u001B[38;5;241m.\u001B[39mdim_size,\n\u001B[0;32m    198\u001B[0m             )\n\u001B[0;32m    199\u001B[0m \u001B[38;5;66;03m# End Message Forward Pre Hook #########################################\u001B[39;00m\n\u001B[1;32m--> 201\u001B[0m out \u001B[38;5;241m=\u001B[39m \u001B[38;5;28;43mself\u001B[39;49m\u001B[38;5;241;43m.\u001B[39;49m\u001B[43mmessage\u001B[49m\u001B[43m(\u001B[49m\n\u001B[0;32m    202\u001B[0m \u001B[43m    \u001B[49m\u001B[43mx_i\u001B[49m\u001B[38;5;241;43m=\u001B[39;49m\u001B[43mkwargs\u001B[49m\u001B[38;5;241;43m.\u001B[39;49m\u001B[43mx_i\u001B[49m\u001B[43m,\u001B[49m\n\u001B[0;32m    203\u001B[0m \u001B[43m    \u001B[49m\u001B[43mx_j\u001B[49m\u001B[38;5;241;43m=\u001B[39;49m\u001B[43mkwargs\u001B[49m\u001B[38;5;241;43m.\u001B[39;49m\u001B[43mx_j\u001B[49m\u001B[43m,\u001B[49m\n\u001B[0;32m    204\u001B[0m \u001B[43m    \u001B[49m\u001B[43medge_attr\u001B[49m\u001B[38;5;241;43m=\u001B[39;49m\u001B[43mkwargs\u001B[49m\u001B[38;5;241;43m.\u001B[39;49m\u001B[43medge_attr\u001B[49m\u001B[43m,\u001B[49m\n\u001B[0;32m    205\u001B[0m \u001B[43m\u001B[49m\u001B[43m)\u001B[49m\n\u001B[0;32m    207\u001B[0m \u001B[38;5;66;03m# Begin Message Forward Hook ###########################################\u001B[39;00m\n\u001B[0;32m    208\u001B[0m \u001B[38;5;28;01mif\u001B[39;00m \u001B[38;5;129;01mnot\u001B[39;00m torch\u001B[38;5;241m.\u001B[39mjit\u001B[38;5;241m.\u001B[39mis_scripting() \u001B[38;5;129;01mand\u001B[39;00m \u001B[38;5;129;01mnot\u001B[39;00m is_compiling():\n",
      "File \u001B[1;32mE:\\anaconda3\\envs\\pytorch\\lib\\site-packages\\torch_geometric\\nn\\conv\\pna_conv.py:183\u001B[0m, in \u001B[0;36mPNAConv.message\u001B[1;34m(self, x_i, x_j, edge_attr)\u001B[0m\n\u001B[0;32m    181\u001B[0m     edge_attr \u001B[38;5;241m=\u001B[39m edge_attr\u001B[38;5;241m.\u001B[39mview(\u001B[38;5;241m-\u001B[39m\u001B[38;5;241m1\u001B[39m, \u001B[38;5;241m1\u001B[39m, \u001B[38;5;28mself\u001B[39m\u001B[38;5;241m.\u001B[39mF_in)\n\u001B[0;32m    182\u001B[0m     edge_attr \u001B[38;5;241m=\u001B[39m edge_attr\u001B[38;5;241m.\u001B[39mrepeat(\u001B[38;5;241m1\u001B[39m, \u001B[38;5;28mself\u001B[39m\u001B[38;5;241m.\u001B[39mtowers, \u001B[38;5;241m1\u001B[39m)\n\u001B[1;32m--> 183\u001B[0m     h \u001B[38;5;241m=\u001B[39m \u001B[43mtorch\u001B[49m\u001B[38;5;241;43m.\u001B[39;49m\u001B[43mcat\u001B[49m\u001B[43m(\u001B[49m\u001B[43m[\u001B[49m\u001B[43mx_i\u001B[49m\u001B[43m,\u001B[49m\u001B[43m \u001B[49m\u001B[43mx_j\u001B[49m\u001B[43m,\u001B[49m\u001B[43m \u001B[49m\u001B[43medge_attr\u001B[49m\u001B[43m]\u001B[49m\u001B[43m,\u001B[49m\u001B[43m \u001B[49m\u001B[43mdim\u001B[49m\u001B[38;5;241;43m=\u001B[39;49m\u001B[38;5;241;43m-\u001B[39;49m\u001B[38;5;241;43m1\u001B[39;49m\u001B[43m)\u001B[49m\n\u001B[0;32m    184\u001B[0m \u001B[38;5;28;01melse\u001B[39;00m:\n\u001B[0;32m    185\u001B[0m     h \u001B[38;5;241m=\u001B[39m torch\u001B[38;5;241m.\u001B[39mcat([x_i, x_j], dim\u001B[38;5;241m=\u001B[39m\u001B[38;5;241m-\u001B[39m\u001B[38;5;241m1\u001B[39m)\n",
      "\u001B[1;31mRuntimeError\u001B[0m: Sizes of tensors must match except in dimension 2. Expected size 2844 but got size 116604 for tensor number 2 in the list."
     ]
    }
   ],
   "execution_count": 174
  },
  {
   "metadata": {},
   "cell_type": "markdown",
   "source": "# 现在对5000si数据进行同样的测试",
   "id": "db2317310004d4bc"
  },
  {
   "metadata": {
    "ExecuteTime": {
     "end_time": "2025-03-10T06:58:03.783551Z",
     "start_time": "2025-03-10T06:51:58.724475Z"
    }
   },
   "cell_type": "code",
   "source": [
    "crystal_data_path_5000 = './crystal_dataset'\n",
    "crystal_data_5000 = CIFData(crystal_data_path_5000)\n",
    "crystal_list = crystal_graph_list(crystal_data_5000)\n",
    "print('这是crystal list 5000的数据类型',type(crystal_list))\n",
    "print('crystal list 5000图的数量：',len(crystal_list))\n",
    "print('crystal list 5000第1张图的数据类型为',crystal_list[0])\n",
    "print('crystal list 5000第10张图的数据类型为',crystal_list[9])\n",
    "train_c_dset = GraphDataset(crystal_list,degree=True, k_hop=k_hop, se=se,use_subgraph_edge_attr=use_edge_attr)\n",
    "print('c5000含有子图的第一张',train_c_dset[0])\n",
    "train_c_loader = DataLoader(train_c_dset, batch_size=128, shuffle=True)\n",
    "for batch in train_c_loader:\n",
    "    print('loader之后：',batch)\n",
    "    break\n",
    "\n",
    "deg = torch.cat([\n",
    "        utils.degree(data.edge_index[1], num_nodes=data.num_nodes) for\n",
    "        data in train_c_dset])\n",
    "c_model_5000 = GraphTransformer(in_size=92,\n",
    "                             num_class=1,\n",
    "                             d_model=dim_hidden,\n",
    "                             dim_feedforward=2 * dim_hidden,\n",
    "                             dropout=dropout,\n",
    "                             num_heads=num_heads,\n",
    "                             num_layers=num_layers,\n",
    "                             batch_norm=batch_norm,\n",
    "                             abs_pe=abs_pe,\n",
    "                             abs_pe_dim=abs_pe_dim,\n",
    "                             gnn_type=gnn_type,\n",
    "                             use_edge_attr=use_edge_attr,\n",
    "                             num_edge_features=41,\n",
    "                             edge_dim=edge_dim,\n",
    "                             k_hop=k_hop,\n",
    "                             se=se,\n",
    "                             deg=deg,\n",
    "                             global_pool=global_pool)"
   ],
   "id": "176c7f924aacdcd9",
   "outputs": [
    {
     "name": "stdout",
     "output_type": "stream",
     "text": [
      "正在转化的数据集大小为： 5000\n"
     ]
    },
    {
     "name": "stderr",
     "output_type": "stream",
     "text": [
      "100%|██████████| 5000/5000 [05:11<00:00, 16.04it/s]\n"
     ]
    },
    {
     "name": "stdout",
     "output_type": "stream",
     "text": [
      "这是crystal list 5000的数据类型 <class 'list'>\n",
      "crystal list 5000图的数量： 5000\n",
      "crystal list 5000第1张图的数据类型为 Data(x=[16, 1], edge_index=[2, 12], edge_attr=[12], y=[1])\n",
      "crystal list 5000第10张图的数据类型为 Data(x=[80, 1], edge_index=[2, 12], edge_attr=[12], y=[1])\n",
      "Extracting 2-hop subgraphs...\n",
      "Done!\n",
      "c5000含有子图的第一张 Data(x=[16], edge_index=[2, 12], edge_attr=[12], y=[1, 1], complete_edge_index=[2, 256], degree=[16], subgraph_edge_index=[2, 12], num_subgraph_nodes=20, subgraph_node_idx=[20], subgraph_edge_attr=[12], subgraph_indicator=[20])\n",
      "loader之后： DataBatch(x=[3620], edge_index=[2, 1536], edge_attr=[1536], y=[128, 1], complete_edge_index=[2, 296368], degree=[3620], subgraph_edge_index=[2, 1661], num_subgraph_nodes=[128], subgraph_node_idx=[4282], subgraph_edge_attr=[1661], subgraph_indicator=[4282], batch=[3620], ptr=[129])\n"
     ]
    }
   ],
   "execution_count": 102
  },
  {
   "metadata": {
    "ExecuteTime": {
     "end_time": "2025-03-10T06:59:21.838859Z",
     "start_time": "2025-03-10T06:59:18.248977Z"
    }
   },
   "cell_type": "code",
   "source": [
    "c_model_5000 = c_model_5000.to(device)\n",
    "optimizer = optim.AdamW(c_model_5000.parameters(), lr=lr, weight_decay=weight_decay)\n",
    "c_out = train_out(train_c_loader, c_model_5000,optimizer)"
   ],
   "id": "46ede9ce64f08042",
   "outputs": [
    {
     "name": "stdout",
     "output_type": "stream",
     "text": [
      "0\n",
      "DataBatch(x=[3609], edge_index=[2, 1536], edge_attr=[1536], y=[128, 1], complete_edge_index=[2, 212887], subgraph_edge_index=[2, 1659], num_subgraph_nodes=[128], subgraph_node_idx=[4242], subgraph_edge_attr=[1659], subgraph_indicator=[4242], degree=[3609], batch=[3609], ptr=[129])\n",
      "1\n",
      "DataBatch(x=[3817], edge_index=[2, 1536], edge_attr=[1536], y=[128, 1], complete_edge_index=[2, 241015], subgraph_edge_index=[2, 1673], num_subgraph_nodes=[128], subgraph_node_idx=[4440], subgraph_edge_attr=[1673], subgraph_indicator=[4440], degree=[3817], batch=[3817], ptr=[129])\n",
      "2\n",
      "DataBatch(x=[3138], edge_index=[2, 1536], edge_attr=[1536], y=[128, 1], complete_edge_index=[2, 179014], subgraph_edge_index=[2, 1671], num_subgraph_nodes=[128], subgraph_node_idx=[3776], subgraph_edge_attr=[1671], subgraph_indicator=[3776], degree=[3138], batch=[3138], ptr=[129])\n",
      "3\n",
      "DataBatch(x=[3287], edge_index=[2, 1536], edge_attr=[1536], y=[128, 1], complete_edge_index=[2, 173785], subgraph_edge_index=[2, 1690], num_subgraph_nodes=[128], subgraph_node_idx=[3903], subgraph_edge_attr=[1690], subgraph_indicator=[3903], degree=[3287], batch=[3287], ptr=[129])\n"
     ]
    },
    {
     "ename": "IndexError",
     "evalue": "Dimension specified as 0 but tensor has no dimensions",
     "output_type": "error",
     "traceback": [
      "\u001B[1;31m---------------------------------------------------------------------------\u001B[0m",
      "\u001B[1;31mIndexError\u001B[0m                                Traceback (most recent call last)",
      "Cell \u001B[1;32mIn[103], line 3\u001B[0m\n\u001B[0;32m      1\u001B[0m c_model_5000 \u001B[38;5;241m=\u001B[39m c_model_5000\u001B[38;5;241m.\u001B[39mto(device)\n\u001B[0;32m      2\u001B[0m optimizer \u001B[38;5;241m=\u001B[39m optim\u001B[38;5;241m.\u001B[39mAdamW(c_model_5000\u001B[38;5;241m.\u001B[39mparameters(), lr\u001B[38;5;241m=\u001B[39mlr, weight_decay\u001B[38;5;241m=\u001B[39mweight_decay)\n\u001B[1;32m----> 3\u001B[0m c_out \u001B[38;5;241m=\u001B[39m \u001B[43mtrain_out\u001B[49m\u001B[43m(\u001B[49m\u001B[43mtrain_c_loader\u001B[49m\u001B[43m,\u001B[49m\u001B[43m \u001B[49m\u001B[43mc_model_5000\u001B[49m\u001B[43m,\u001B[49m\u001B[43moptimizer\u001B[49m\u001B[43m)\u001B[49m\n",
      "Cell \u001B[1;32mIn[88], line 4\u001B[0m, in \u001B[0;36mtrain_out\u001B[1;34m(loader, model, optimizer)\u001B[0m\n\u001B[0;32m      2\u001B[0m running_loss \u001B[38;5;241m=\u001B[39m \u001B[38;5;241m0.0\u001B[39m\n\u001B[0;32m      3\u001B[0m model\u001B[38;5;241m.\u001B[39mtrain()\n\u001B[1;32m----> 4\u001B[0m \u001B[38;5;28;01mfor\u001B[39;00m i, data \u001B[38;5;129;01min\u001B[39;00m \u001B[38;5;28menumerate\u001B[39m(loader):\n\u001B[0;32m      5\u001B[0m     \u001B[38;5;28mprint\u001B[39m(i)\n\u001B[0;32m      6\u001B[0m     \u001B[38;5;28mprint\u001B[39m(data)\n",
      "File \u001B[1;32mE:\\anaconda3\\envs\\pytorch\\lib\\site-packages\\torch\\utils\\data\\dataloader.py:630\u001B[0m, in \u001B[0;36m_BaseDataLoaderIter.__next__\u001B[1;34m(self)\u001B[0m\n\u001B[0;32m    627\u001B[0m \u001B[38;5;28;01mif\u001B[39;00m \u001B[38;5;28mself\u001B[39m\u001B[38;5;241m.\u001B[39m_sampler_iter \u001B[38;5;129;01mis\u001B[39;00m \u001B[38;5;28;01mNone\u001B[39;00m:\n\u001B[0;32m    628\u001B[0m     \u001B[38;5;66;03m# TODO(https://github.com/pytorch/pytorch/issues/76750)\u001B[39;00m\n\u001B[0;32m    629\u001B[0m     \u001B[38;5;28mself\u001B[39m\u001B[38;5;241m.\u001B[39m_reset()  \u001B[38;5;66;03m# type: ignore[call-arg]\u001B[39;00m\n\u001B[1;32m--> 630\u001B[0m data \u001B[38;5;241m=\u001B[39m \u001B[38;5;28;43mself\u001B[39;49m\u001B[38;5;241;43m.\u001B[39;49m\u001B[43m_next_data\u001B[49m\u001B[43m(\u001B[49m\u001B[43m)\u001B[49m\n\u001B[0;32m    631\u001B[0m \u001B[38;5;28mself\u001B[39m\u001B[38;5;241m.\u001B[39m_num_yielded \u001B[38;5;241m+\u001B[39m\u001B[38;5;241m=\u001B[39m \u001B[38;5;241m1\u001B[39m\n\u001B[0;32m    632\u001B[0m \u001B[38;5;28;01mif\u001B[39;00m \u001B[38;5;28mself\u001B[39m\u001B[38;5;241m.\u001B[39m_dataset_kind \u001B[38;5;241m==\u001B[39m _DatasetKind\u001B[38;5;241m.\u001B[39mIterable \u001B[38;5;129;01mand\u001B[39;00m \\\n\u001B[0;32m    633\u001B[0m         \u001B[38;5;28mself\u001B[39m\u001B[38;5;241m.\u001B[39m_IterableDataset_len_called \u001B[38;5;129;01mis\u001B[39;00m \u001B[38;5;129;01mnot\u001B[39;00m \u001B[38;5;28;01mNone\u001B[39;00m \u001B[38;5;129;01mand\u001B[39;00m \\\n\u001B[0;32m    634\u001B[0m         \u001B[38;5;28mself\u001B[39m\u001B[38;5;241m.\u001B[39m_num_yielded \u001B[38;5;241m>\u001B[39m \u001B[38;5;28mself\u001B[39m\u001B[38;5;241m.\u001B[39m_IterableDataset_len_called:\n",
      "File \u001B[1;32mE:\\anaconda3\\envs\\pytorch\\lib\\site-packages\\torch\\utils\\data\\dataloader.py:673\u001B[0m, in \u001B[0;36m_SingleProcessDataLoaderIter._next_data\u001B[1;34m(self)\u001B[0m\n\u001B[0;32m    671\u001B[0m \u001B[38;5;28;01mdef\u001B[39;00m \u001B[38;5;21m_next_data\u001B[39m(\u001B[38;5;28mself\u001B[39m):\n\u001B[0;32m    672\u001B[0m     index \u001B[38;5;241m=\u001B[39m \u001B[38;5;28mself\u001B[39m\u001B[38;5;241m.\u001B[39m_next_index()  \u001B[38;5;66;03m# may raise StopIteration\u001B[39;00m\n\u001B[1;32m--> 673\u001B[0m     data \u001B[38;5;241m=\u001B[39m \u001B[38;5;28;43mself\u001B[39;49m\u001B[38;5;241;43m.\u001B[39;49m\u001B[43m_dataset_fetcher\u001B[49m\u001B[38;5;241;43m.\u001B[39;49m\u001B[43mfetch\u001B[49m\u001B[43m(\u001B[49m\u001B[43mindex\u001B[49m\u001B[43m)\u001B[49m  \u001B[38;5;66;03m# may raise StopIteration\u001B[39;00m\n\u001B[0;32m    674\u001B[0m     \u001B[38;5;28;01mif\u001B[39;00m \u001B[38;5;28mself\u001B[39m\u001B[38;5;241m.\u001B[39m_pin_memory:\n\u001B[0;32m    675\u001B[0m         data \u001B[38;5;241m=\u001B[39m _utils\u001B[38;5;241m.\u001B[39mpin_memory\u001B[38;5;241m.\u001B[39mpin_memory(data, \u001B[38;5;28mself\u001B[39m\u001B[38;5;241m.\u001B[39m_pin_memory_device)\n",
      "File \u001B[1;32mE:\\anaconda3\\envs\\pytorch\\lib\\site-packages\\torch\\utils\\data\\_utils\\fetch.py:52\u001B[0m, in \u001B[0;36m_MapDatasetFetcher.fetch\u001B[1;34m(self, possibly_batched_index)\u001B[0m\n\u001B[0;32m     50\u001B[0m         data \u001B[38;5;241m=\u001B[39m \u001B[38;5;28mself\u001B[39m\u001B[38;5;241m.\u001B[39mdataset\u001B[38;5;241m.\u001B[39m__getitems__(possibly_batched_index)\n\u001B[0;32m     51\u001B[0m     \u001B[38;5;28;01melse\u001B[39;00m:\n\u001B[1;32m---> 52\u001B[0m         data \u001B[38;5;241m=\u001B[39m [\u001B[38;5;28mself\u001B[39m\u001B[38;5;241m.\u001B[39mdataset[idx] \u001B[38;5;28;01mfor\u001B[39;00m idx \u001B[38;5;129;01min\u001B[39;00m possibly_batched_index]\n\u001B[0;32m     53\u001B[0m \u001B[38;5;28;01melse\u001B[39;00m:\n\u001B[0;32m     54\u001B[0m     data \u001B[38;5;241m=\u001B[39m \u001B[38;5;28mself\u001B[39m\u001B[38;5;241m.\u001B[39mdataset[possibly_batched_index]\n",
      "File \u001B[1;32mE:\\anaconda3\\envs\\pytorch\\lib\\site-packages\\torch\\utils\\data\\_utils\\fetch.py:52\u001B[0m, in \u001B[0;36m<listcomp>\u001B[1;34m(.0)\u001B[0m\n\u001B[0;32m     50\u001B[0m         data \u001B[38;5;241m=\u001B[39m \u001B[38;5;28mself\u001B[39m\u001B[38;5;241m.\u001B[39mdataset\u001B[38;5;241m.\u001B[39m__getitems__(possibly_batched_index)\n\u001B[0;32m     51\u001B[0m     \u001B[38;5;28;01melse\u001B[39;00m:\n\u001B[1;32m---> 52\u001B[0m         data \u001B[38;5;241m=\u001B[39m [\u001B[38;5;28;43mself\u001B[39;49m\u001B[38;5;241;43m.\u001B[39;49m\u001B[43mdataset\u001B[49m\u001B[43m[\u001B[49m\u001B[43midx\u001B[49m\u001B[43m]\u001B[49m \u001B[38;5;28;01mfor\u001B[39;00m idx \u001B[38;5;129;01min\u001B[39;00m possibly_batched_index]\n\u001B[0;32m     53\u001B[0m \u001B[38;5;28;01melse\u001B[39;00m:\n\u001B[0;32m     54\u001B[0m     data \u001B[38;5;241m=\u001B[39m \u001B[38;5;28mself\u001B[39m\u001B[38;5;241m.\u001B[39mdataset[possibly_batched_index]\n",
      "File \u001B[1;32mE:\\WYX_Project\\SAT-CGCN-Demo-1\\csat\\data.py:127\u001B[0m, in \u001B[0;36mGraphDataset.__getitem__\u001B[1;34m(self, index)\u001B[0m\n\u001B[0;32m    125\u001B[0m \u001B[38;5;28;01mif\u001B[39;00m \u001B[38;5;129;01mnot\u001B[39;00m \u001B[38;5;28misinstance\u001B[39m(data\u001B[38;5;241m.\u001B[39my, \u001B[38;5;28mlist\u001B[39m):\n\u001B[0;32m    126\u001B[0m     data\u001B[38;5;241m.\u001B[39my \u001B[38;5;241m=\u001B[39m data\u001B[38;5;241m.\u001B[39my\u001B[38;5;241m.\u001B[39mview(data\u001B[38;5;241m.\u001B[39my\u001B[38;5;241m.\u001B[39mshape[\u001B[38;5;241m0\u001B[39m], \u001B[38;5;241m-\u001B[39m\u001B[38;5;241m1\u001B[39m)\n\u001B[1;32m--> 127\u001B[0m n \u001B[38;5;241m=\u001B[39m \u001B[43mdata\u001B[49m\u001B[38;5;241;43m.\u001B[39;49m\u001B[43mnum_nodes\u001B[49m\n\u001B[0;32m    128\u001B[0m s \u001B[38;5;241m=\u001B[39m torch\u001B[38;5;241m.\u001B[39marange(n)\n\u001B[0;32m    129\u001B[0m \u001B[38;5;28;01mif\u001B[39;00m \u001B[38;5;28mself\u001B[39m\u001B[38;5;241m.\u001B[39mreturn_complete_index:\n",
      "File \u001B[1;32mE:\\anaconda3\\envs\\pytorch\\lib\\site-packages\\torch_geometric\\data\\data.py:616\u001B[0m, in \u001B[0;36mData.num_nodes\u001B[1;34m(self)\u001B[0m\n\u001B[0;32m    614\u001B[0m \u001B[38;5;129m@property\u001B[39m\n\u001B[0;32m    615\u001B[0m \u001B[38;5;28;01mdef\u001B[39;00m \u001B[38;5;21mnum_nodes\u001B[39m(\u001B[38;5;28mself\u001B[39m) \u001B[38;5;241m-\u001B[39m\u001B[38;5;241m>\u001B[39m Optional[\u001B[38;5;28mint\u001B[39m]:\n\u001B[1;32m--> 616\u001B[0m     \u001B[38;5;28;01mreturn\u001B[39;00m \u001B[38;5;28;43msuper\u001B[39;49m\u001B[43m(\u001B[49m\u001B[43m)\u001B[49m\u001B[38;5;241;43m.\u001B[39;49m\u001B[43mnum_nodes\u001B[49m\n",
      "File \u001B[1;32mE:\\anaconda3\\envs\\pytorch\\lib\\site-packages\\torch_geometric\\data\\data.py:186\u001B[0m, in \u001B[0;36mBaseData.num_nodes\u001B[1;34m(self)\u001B[0m\n\u001B[0;32m    170\u001B[0m \u001B[38;5;250m\u001B[39m\u001B[38;5;124mr\u001B[39m\u001B[38;5;124;03m\"\"\"Returns the number of nodes in the graph.\u001B[39;00m\n\u001B[0;32m    171\u001B[0m \n\u001B[0;32m    172\u001B[0m \u001B[38;5;124;03m.. note::\u001B[39;00m\n\u001B[1;32m   (...)\u001B[0m\n\u001B[0;32m    183\u001B[0m \u001B[38;5;124;03m    You will be given a warning that requests you to do so.\u001B[39;00m\n\u001B[0;32m    184\u001B[0m \u001B[38;5;124;03m\"\"\"\u001B[39;00m\n\u001B[0;32m    185\u001B[0m \u001B[38;5;28;01mtry\u001B[39;00m:\n\u001B[1;32m--> 186\u001B[0m     \u001B[38;5;28;01mreturn\u001B[39;00m \u001B[38;5;28msum\u001B[39m([v\u001B[38;5;241m.\u001B[39mnum_nodes \u001B[38;5;28;01mfor\u001B[39;00m v \u001B[38;5;129;01min\u001B[39;00m \u001B[38;5;28mself\u001B[39m\u001B[38;5;241m.\u001B[39mnode_stores])\n\u001B[0;32m    187\u001B[0m \u001B[38;5;28;01mexcept\u001B[39;00m \u001B[38;5;167;01mTypeError\u001B[39;00m:\n\u001B[0;32m    188\u001B[0m     \u001B[38;5;28;01mreturn\u001B[39;00m \u001B[38;5;28;01mNone\u001B[39;00m\n",
      "File \u001B[1;32mE:\\anaconda3\\envs\\pytorch\\lib\\site-packages\\torch_geometric\\data\\data.py:186\u001B[0m, in \u001B[0;36m<listcomp>\u001B[1;34m(.0)\u001B[0m\n\u001B[0;32m    170\u001B[0m \u001B[38;5;250m\u001B[39m\u001B[38;5;124mr\u001B[39m\u001B[38;5;124;03m\"\"\"Returns the number of nodes in the graph.\u001B[39;00m\n\u001B[0;32m    171\u001B[0m \n\u001B[0;32m    172\u001B[0m \u001B[38;5;124;03m.. note::\u001B[39;00m\n\u001B[1;32m   (...)\u001B[0m\n\u001B[0;32m    183\u001B[0m \u001B[38;5;124;03m    You will be given a warning that requests you to do so.\u001B[39;00m\n\u001B[0;32m    184\u001B[0m \u001B[38;5;124;03m\"\"\"\u001B[39;00m\n\u001B[0;32m    185\u001B[0m \u001B[38;5;28;01mtry\u001B[39;00m:\n\u001B[1;32m--> 186\u001B[0m     \u001B[38;5;28;01mreturn\u001B[39;00m \u001B[38;5;28msum\u001B[39m([\u001B[43mv\u001B[49m\u001B[38;5;241;43m.\u001B[39;49m\u001B[43mnum_nodes\u001B[49m \u001B[38;5;28;01mfor\u001B[39;00m v \u001B[38;5;129;01min\u001B[39;00m \u001B[38;5;28mself\u001B[39m\u001B[38;5;241m.\u001B[39mnode_stores])\n\u001B[0;32m    187\u001B[0m \u001B[38;5;28;01mexcept\u001B[39;00m \u001B[38;5;167;01mTypeError\u001B[39;00m:\n\u001B[0;32m    188\u001B[0m     \u001B[38;5;28;01mreturn\u001B[39;00m \u001B[38;5;28;01mNone\u001B[39;00m\n",
      "File \u001B[1;32mE:\\anaconda3\\envs\\pytorch\\lib\\site-packages\\torch_geometric\\data\\storage.py:428\u001B[0m, in \u001B[0;36mNodeStorage.num_nodes\u001B[1;34m(self)\u001B[0m\n\u001B[0;32m    426\u001B[0m \u001B[38;5;28;01mif\u001B[39;00m \u001B[38;5;28misinstance\u001B[39m(value, Tensor) \u001B[38;5;129;01mand\u001B[39;00m key \u001B[38;5;129;01min\u001B[39;00m N_KEYS:\n\u001B[0;32m    427\u001B[0m     cat_dim \u001B[38;5;241m=\u001B[39m \u001B[38;5;28mself\u001B[39m\u001B[38;5;241m.\u001B[39m_parent()\u001B[38;5;241m.\u001B[39m__cat_dim__(key, value, \u001B[38;5;28mself\u001B[39m)\n\u001B[1;32m--> 428\u001B[0m     \u001B[38;5;28;01mreturn\u001B[39;00m \u001B[43mvalue\u001B[49m\u001B[38;5;241;43m.\u001B[39;49m\u001B[43msize\u001B[49m\u001B[43m(\u001B[49m\u001B[43mcat_dim\u001B[49m\u001B[43m)\u001B[49m\n\u001B[0;32m    429\u001B[0m \u001B[38;5;28;01mif\u001B[39;00m \u001B[38;5;28misinstance\u001B[39m(value, np\u001B[38;5;241m.\u001B[39mndarray) \u001B[38;5;129;01mand\u001B[39;00m key \u001B[38;5;129;01min\u001B[39;00m N_KEYS:\n\u001B[0;32m    430\u001B[0m     cat_dim \u001B[38;5;241m=\u001B[39m \u001B[38;5;28mself\u001B[39m\u001B[38;5;241m.\u001B[39m_parent()\u001B[38;5;241m.\u001B[39m__cat_dim__(key, value, \u001B[38;5;28mself\u001B[39m)\n",
      "\u001B[1;31mIndexError\u001B[0m: Dimension specified as 0 but tensor has no dimensions"
     ]
    }
   ],
   "execution_count": 103
  },
  {
   "metadata": {},
   "cell_type": "markdown",
   "source": [
    "问题来了，如果把x降维成1维，5000数据集会出现IndexError: Dimension specified as 0 but tensor has no dimensions；而10个的sample数据集就没问题\n",
    "\n",
    "如果不对x进行降维，那么cuda索引就会报错\n",
    "```\n",
    "RuntimeError: CUDA error: device-side assert triggered\n",
    "CUDA kernel errors might be asynchronously reported at some other API call, so the stacktrace below might be incorrect.\n",
    "For debugging consider passing CUDA_LAUNCH_BLOCKING=1\n",
    "Compile with `TORCH_USE_CUDA_DSA` to enable device-side assertions.\n",
    "```"
   ],
   "id": "920a663fc2b036d"
  },
  {
   "metadata": {},
   "cell_type": "markdown",
   "source": [
    "现在全部拿cpu跑，做如下统计：\n",
    "1. sample-regression\n",
    "    1. 不降维的报错：\n",
    "        ```\n",
    "        IndexError: Found indices in 'edge_index' that are larger than 91 (got 272). Please ensure that all indices in 'edge_index' point to valid indices in the interval [0, 92) in your node feature matrix and try again.\n",
    "        ```\n",
    "    2. 降维无问题：\n",
    "        ```\n",
    "        Train loss: 4.3618 time: 0.11s\n",
    "        Val loss: 2.6525 MSE loss: 7.0357 MAE loss: 2.6525 time: 0.03s\n",
    "        Test loss: 1.6131 MSE loss: 2.6022 MAE loss: 1.6131 time: 0.03s\n",
    "        best epoch: 498 best val loss: 2.6234\n",
    "        Testing...\n",
    "        Test loss: 1.6366 MSE loss: 2.6785 MAE loss: 1.6366 time: 0.03s\n",
    "        test MAE loss 1.6366\n",
    "        ```\n",
    "2. 5000 si数据\n",
    "    1. x不降维度报错：\n",
    "        ```\n",
    "        IndexError: Found indices in 'edge_index' that are larger than 91 (got 95941). Please ensure that all indices in 'edge_index' point to valid indices in the interval [0, 92) in your node feature matrix and try again.\n",
    "        ```\n",
    "    2. x降至1维度\n",
    "        ```\n",
    "        Traceback (most recent call last):\n",
    "        File \"E:\\WYX_Project\\SAT-CGCN-Demo-1\\CSAT_train_si.py\", line 359, in <module>\n",
    "        main()\n",
    "        File \"E:\\WYX_Project\\SAT-CGCN-Demo-1\\CSAT_train_si.py\", line 313, in main\n",
    "        train_loss = train_epoch(model, train_loader, criterion, optimizer, lr_scheduler, epoch, args.use_cuda)\n",
    "        File \"E:\\WYX_Project\\SAT-CGCN-Demo-1\\CSAT_train_si.py\", line 138, in train_epoch\n",
    "                for i, data in enumerate(loader):\n",
    "        File \"E:\\anaconda3\\envs\\pytorch\\lib\\site-packages\\torch\\utils\\data\\dataloader.py\", line 630, in __next__\n",
    "        data = self._next_data()\n",
    "        File \"E:\\anaconda3\\envs\\pytorch\\lib\\site-packages\\torch\\utils\\data\\dataloader.py\", line 673, in _next_data\n",
    "                data = self._dataset_fetcher.fetch(index)  # may raise StopIteration\n",
    "        File \"E:\\anaconda3\\envs\\pytorch\\lib\\site-packages\\torch\\utils\\data\\_utils\\fetch.py\", line 52, in fetch\n",
    "                data = [self.dataset[idx] for idx in possibly_batched_index]\n",
    "        File \"E:\\anaconda3\\envs\\pytorch\\lib\\site-packages\\torch\\utils\\data\\_utils\\fetch.py\", line 52, in <listcomp>\n",
    "                data = [self.dataset[idx] for idx in possibly_batched_index]\n",
    "        File \"E:\\WYX_Project\\SAT-CGCN-Demo-1\\csat\\data.py\", line 128, in __getitem__\n",
    "                n = data.num_nodes\n",
    "        File \"E:\\anaconda3\\envs\\pytorch\\lib\\site-packages\\torch_geometric\\data\\data.py\", line 616, in num_nodes\n",
    "                return super().num_nodes\n",
    "        File \"E:\\anaconda3\\envs\\pytorch\\lib\\site-packages\\torch_geometric\\data\\data.py\", line 186, in num_nodes\n",
    "                return sum([v.num_nodes for v in self.node_stores])\n",
    "        File \"E:\\anaconda3\\envs\\pytorch\\lib\\site-packages\\torch_geometric\\data\\data.py\", line 186, in <listcomp>\n",
    "                return sum([v.num_nodes for v in self.node_stores])\n",
    "        File \"E:\\anaconda3\\envs\\pytorch\\lib\\site-packages\\torch_geometric\\data\\storage.py\", line 428, in num_nodes\n",
    "                return value.size(cat_dim)\n",
    "            IndexError: Dimension specified as 0 but tensor has no dimensions\n",
    "        ```"
   ],
   "id": "d533c737b3f67168"
  },
  {
   "metadata": {
    "ExecuteTime": {
     "end_time": "2025-03-10T10:07:28.018394Z",
     "start_time": "2025-03-10T10:07:27.981499Z"
    }
   },
   "cell_type": "code",
   "source": [
    "full_dataset = crystal_graph_list(crystal_data)\n",
    "indices = list(range(100))\n",
    "subset = Subset(full_dataset, indices)\n",
    "print(full_dataset[0])\n",
    "print(subset[0])"
   ],
   "id": "c002337cec12424e",
   "outputs": [
    {
     "name": "stderr",
     "output_type": "stream",
     "text": [
      "100%|██████████| 10/10 [00:00<00:00, 669.51it/s]"
     ]
    },
    {
     "name": "stdout",
     "output_type": "stream",
     "text": [
      "Warning: edge_index contains self-loops.\n",
      "Warning: edge_index contains self-loops.\n",
      "Warning: edge_index contains self-loops.\n",
      "Warning: edge_index contains self-loops.\n",
      "Warning: edge_index contains self-loops.\n",
      "Data(x=[8, 92], edge_index=[2, 56], edge_attr=[56, 41], y=[1])\n",
      "Data(x=[8, 92], edge_index=[2, 56], edge_attr=[56, 41], y=[1])\n"
     ]
    },
    {
     "name": "stderr",
     "output_type": "stream",
     "text": [
      "\n"
     ]
    }
   ],
   "execution_count": 151
  },
  {
   "metadata": {
    "ExecuteTime": {
     "end_time": "2025-03-10T10:07:00.111743Z",
     "start_time": "2025-03-10T10:07:00.070913Z"
    }
   },
   "cell_type": "code",
   "source": [
    "subset_graph = GraphDataset(subset, degree=True, k_hop=k_hop, se=se, use_subgraph_edge_attr=use_edge_attr)\n",
    "print(subset_graph)"
   ],
   "id": "a4f38162c16dc641",
   "outputs": [
    {
     "name": "stdout",
     "output_type": "stream",
     "text": [
      "Extracting 2-hop subgraphs...\n",
      "Done!\n",
      "<csat.data.GraphDataset object at 0x000001E0946CF5E0>\n"
     ]
    }
   ],
   "execution_count": 149
  },
  {
   "metadata": {
    "ExecuteTime": {
     "end_time": "2025-03-10T10:07:02.673179Z",
     "start_time": "2025-03-10T10:07:01.937236Z"
    }
   },
   "cell_type": "code",
   "source": [
    "subset_loader = DataLoader(subset_graph, batch_size=128, shuffle=True)\n",
    "for batch in subset_loader:\n",
    "    print('loader之后：',batch)\n",
    "    break\n",
    "\n",
    "deg = torch.cat([\n",
    "        utils.degree(data.edge_index[1], num_nodes=data.num_nodes) for\n",
    "        data in subset_graph])\n",
    "sub_model = GraphTransformer(in_size=92,\n",
    "                             num_class=1,\n",
    "                             d_model=dim_hidden,\n",
    "                             dim_feedforward=2 * dim_hidden,\n",
    "                             dropout=dropout,\n",
    "                             num_heads=num_heads,\n",
    "                             num_layers=num_layers,\n",
    "                             batch_norm=batch_norm,\n",
    "                             abs_pe=abs_pe,\n",
    "                             abs_pe_dim=abs_pe_dim,\n",
    "                             gnn_type=gnn_type,\n",
    "                             use_edge_attr=use_edge_attr,\n",
    "                             num_edge_features=41,\n",
    "                             edge_dim=edge_dim,\n",
    "                             k_hop=k_hop,\n",
    "                             se=se,\n",
    "                             deg=deg,\n",
    "                             global_pool=global_pool)\n",
    "\n",
    "sub_model = sub_model.to(device)\n",
    "optimizer = optim.AdamW(sub_model.parameters(), lr=lr, weight_decay=weight_decay)\n",
    "out = train_out(subset_loader, sub_model,optimizer)"
   ],
   "id": "e4e231854a1133ba",
   "outputs": [
    {
     "name": "stdout",
     "output_type": "stream",
     "text": [
      "loader之后： DataBatch(x=[65, 92], edge_index=[2, 348], edge_attr=[348, 41], y=[10, 1], complete_edge_index=[2, 513], degree=[65], subgraph_edge_index=[2, 2844], num_subgraph_nodes=[10], subgraph_node_idx=[481], subgraph_edge_attr=[2844, 41], subgraph_indicator=[481], batch=[65], ptr=[11])\n",
      "0\n",
      "DataBatch(x=[65, 92], edge_index=[2, 348], edge_attr=[348, 41], y=[10, 1], complete_edge_index=[2, 513], subgraph_edge_index=[2, 2844], num_subgraph_nodes=[10], subgraph_node_idx=[481], subgraph_edge_attr=[2844, 41], subgraph_indicator=[481], degree=[65], batch=[65], ptr=[11])\n"
     ]
    },
    {
     "ename": "RuntimeError",
     "evalue": "Sizes of tensors must match except in dimension 2. Expected size 2844 but got size 116604 for tensor number 2 in the list.",
     "output_type": "error",
     "traceback": [
      "\u001B[1;31m---------------------------------------------------------------------------\u001B[0m",
      "\u001B[1;31mRuntimeError\u001B[0m                              Traceback (most recent call last)",
      "Cell \u001B[1;32mIn[150], line 30\u001B[0m\n\u001B[0;32m     28\u001B[0m sub_model \u001B[38;5;241m=\u001B[39m sub_model\u001B[38;5;241m.\u001B[39mto(device)\n\u001B[0;32m     29\u001B[0m optimizer \u001B[38;5;241m=\u001B[39m optim\u001B[38;5;241m.\u001B[39mAdamW(sub_model\u001B[38;5;241m.\u001B[39mparameters(), lr\u001B[38;5;241m=\u001B[39mlr, weight_decay\u001B[38;5;241m=\u001B[39mweight_decay)\n\u001B[1;32m---> 30\u001B[0m out \u001B[38;5;241m=\u001B[39m \u001B[43mtrain_out\u001B[49m\u001B[43m(\u001B[49m\u001B[43msubset_loader\u001B[49m\u001B[43m,\u001B[49m\u001B[43m \u001B[49m\u001B[43msub_model\u001B[49m\u001B[43m,\u001B[49m\u001B[43moptimizer\u001B[49m\u001B[43m)\u001B[49m\n",
      "Cell \u001B[1;32mIn[120], line 13\u001B[0m, in \u001B[0;36mtrain_out\u001B[1;34m(loader, model, optimizer)\u001B[0m\n\u001B[0;32m     11\u001B[0m criterion \u001B[38;5;241m=\u001B[39m nn\u001B[38;5;241m.\u001B[39mL1Loss()\n\u001B[0;32m     12\u001B[0m optimizer\u001B[38;5;241m.\u001B[39mzero_grad()\n\u001B[1;32m---> 13\u001B[0m output \u001B[38;5;241m=\u001B[39m \u001B[43mmodel\u001B[49m\u001B[43m(\u001B[49m\u001B[43mdata\u001B[49m\u001B[43m)\u001B[49m\n\u001B[0;32m     14\u001B[0m loss \u001B[38;5;241m=\u001B[39m criterion(output, data\u001B[38;5;241m.\u001B[39my)\n\u001B[0;32m     16\u001B[0m loss\u001B[38;5;241m.\u001B[39mbackward()\n",
      "File \u001B[1;32mE:\\anaconda3\\envs\\pytorch\\lib\\site-packages\\torch\\nn\\modules\\module.py:1553\u001B[0m, in \u001B[0;36mModule._wrapped_call_impl\u001B[1;34m(self, *args, **kwargs)\u001B[0m\n\u001B[0;32m   1551\u001B[0m     \u001B[38;5;28;01mreturn\u001B[39;00m \u001B[38;5;28mself\u001B[39m\u001B[38;5;241m.\u001B[39m_compiled_call_impl(\u001B[38;5;241m*\u001B[39margs, \u001B[38;5;241m*\u001B[39m\u001B[38;5;241m*\u001B[39mkwargs)  \u001B[38;5;66;03m# type: ignore[misc]\u001B[39;00m\n\u001B[0;32m   1552\u001B[0m \u001B[38;5;28;01melse\u001B[39;00m:\n\u001B[1;32m-> 1553\u001B[0m     \u001B[38;5;28;01mreturn\u001B[39;00m \u001B[38;5;28;43mself\u001B[39;49m\u001B[38;5;241;43m.\u001B[39;49m\u001B[43m_call_impl\u001B[49m\u001B[43m(\u001B[49m\u001B[38;5;241;43m*\u001B[39;49m\u001B[43margs\u001B[49m\u001B[43m,\u001B[49m\u001B[43m \u001B[49m\u001B[38;5;241;43m*\u001B[39;49m\u001B[38;5;241;43m*\u001B[39;49m\u001B[43mkwargs\u001B[49m\u001B[43m)\u001B[49m\n",
      "File \u001B[1;32mE:\\anaconda3\\envs\\pytorch\\lib\\site-packages\\torch\\nn\\modules\\module.py:1562\u001B[0m, in \u001B[0;36mModule._call_impl\u001B[1;34m(self, *args, **kwargs)\u001B[0m\n\u001B[0;32m   1557\u001B[0m \u001B[38;5;66;03m# If we don't have any hooks, we want to skip the rest of the logic in\u001B[39;00m\n\u001B[0;32m   1558\u001B[0m \u001B[38;5;66;03m# this function, and just call forward.\u001B[39;00m\n\u001B[0;32m   1559\u001B[0m \u001B[38;5;28;01mif\u001B[39;00m \u001B[38;5;129;01mnot\u001B[39;00m (\u001B[38;5;28mself\u001B[39m\u001B[38;5;241m.\u001B[39m_backward_hooks \u001B[38;5;129;01mor\u001B[39;00m \u001B[38;5;28mself\u001B[39m\u001B[38;5;241m.\u001B[39m_backward_pre_hooks \u001B[38;5;129;01mor\u001B[39;00m \u001B[38;5;28mself\u001B[39m\u001B[38;5;241m.\u001B[39m_forward_hooks \u001B[38;5;129;01mor\u001B[39;00m \u001B[38;5;28mself\u001B[39m\u001B[38;5;241m.\u001B[39m_forward_pre_hooks\n\u001B[0;32m   1560\u001B[0m         \u001B[38;5;129;01mor\u001B[39;00m _global_backward_pre_hooks \u001B[38;5;129;01mor\u001B[39;00m _global_backward_hooks\n\u001B[0;32m   1561\u001B[0m         \u001B[38;5;129;01mor\u001B[39;00m _global_forward_hooks \u001B[38;5;129;01mor\u001B[39;00m _global_forward_pre_hooks):\n\u001B[1;32m-> 1562\u001B[0m     \u001B[38;5;28;01mreturn\u001B[39;00m \u001B[43mforward_call\u001B[49m\u001B[43m(\u001B[49m\u001B[38;5;241;43m*\u001B[39;49m\u001B[43margs\u001B[49m\u001B[43m,\u001B[49m\u001B[43m \u001B[49m\u001B[38;5;241;43m*\u001B[39;49m\u001B[38;5;241;43m*\u001B[39;49m\u001B[43mkwargs\u001B[49m\u001B[43m)\u001B[49m\n\u001B[0;32m   1564\u001B[0m \u001B[38;5;28;01mtry\u001B[39;00m:\n\u001B[0;32m   1565\u001B[0m     result \u001B[38;5;241m=\u001B[39m \u001B[38;5;28;01mNone\u001B[39;00m\n",
      "File \u001B[1;32mE:\\WYX_Project\\SAT-CGCN-Demo-1\\csat\\models.py:150\u001B[0m, in \u001B[0;36mGraphTransformer.forward\u001B[1;34m(self, data, return_attn)\u001B[0m\n\u001B[0;32m    147\u001B[0m     cls_tokens \u001B[38;5;241m=\u001B[39m repeat(\u001B[38;5;28mself\u001B[39m\u001B[38;5;241m.\u001B[39mcls_token, \u001B[38;5;124m'\u001B[39m\u001B[38;5;124m() d -> b d\u001B[39m\u001B[38;5;124m'\u001B[39m, b\u001B[38;5;241m=\u001B[39mbsz)\n\u001B[0;32m    148\u001B[0m     output \u001B[38;5;241m=\u001B[39m torch\u001B[38;5;241m.\u001B[39mcat((output, cls_tokens))\n\u001B[1;32m--> 150\u001B[0m output \u001B[38;5;241m=\u001B[39m \u001B[38;5;28;43mself\u001B[39;49m\u001B[38;5;241;43m.\u001B[39;49m\u001B[43mencoder\u001B[49m\u001B[43m(\u001B[49m\n\u001B[0;32m    151\u001B[0m \u001B[43m    \u001B[49m\u001B[43moutput\u001B[49m\u001B[43m,\u001B[49m\u001B[43m \u001B[49m\n\u001B[0;32m    152\u001B[0m \u001B[43m    \u001B[49m\u001B[43medge_index\u001B[49m\u001B[43m,\u001B[49m\u001B[43m \u001B[49m\n\u001B[0;32m    153\u001B[0m \u001B[43m    \u001B[49m\u001B[43mcomplete_edge_index\u001B[49m\u001B[43m,\u001B[49m\n\u001B[0;32m    154\u001B[0m \u001B[43m    \u001B[49m\u001B[43medge_attr\u001B[49m\u001B[38;5;241;43m=\u001B[39;49m\u001B[43medge_attr\u001B[49m\u001B[43m,\u001B[49m\u001B[43m \u001B[49m\n\u001B[0;32m    155\u001B[0m \u001B[43m    \u001B[49m\u001B[43mdegree\u001B[49m\u001B[38;5;241;43m=\u001B[39;49m\u001B[43mdegree\u001B[49m\u001B[43m,\u001B[49m\n\u001B[0;32m    156\u001B[0m \u001B[43m    \u001B[49m\u001B[43msubgraph_node_index\u001B[49m\u001B[38;5;241;43m=\u001B[39;49m\u001B[43msubgraph_node_index\u001B[49m\u001B[43m,\u001B[49m\n\u001B[0;32m    157\u001B[0m \u001B[43m    \u001B[49m\u001B[43msubgraph_edge_index\u001B[49m\u001B[38;5;241;43m=\u001B[39;49m\u001B[43msubgraph_edge_index\u001B[49m\u001B[43m,\u001B[49m\n\u001B[0;32m    158\u001B[0m \u001B[43m    \u001B[49m\u001B[43msubgraph_indicator_index\u001B[49m\u001B[38;5;241;43m=\u001B[39;49m\u001B[43msubgraph_indicator_index\u001B[49m\u001B[43m,\u001B[49m\u001B[43m \u001B[49m\n\u001B[0;32m    159\u001B[0m \u001B[43m    \u001B[49m\u001B[43msubgraph_edge_attr\u001B[49m\u001B[38;5;241;43m=\u001B[39;49m\u001B[43msubgraph_edge_attr\u001B[49m\u001B[43m,\u001B[49m\n\u001B[0;32m    160\u001B[0m \u001B[43m    \u001B[49m\u001B[43mptr\u001B[49m\u001B[38;5;241;43m=\u001B[39;49m\u001B[43mdata\u001B[49m\u001B[38;5;241;43m.\u001B[39;49m\u001B[43mptr\u001B[49m\u001B[43m,\u001B[49m\n\u001B[0;32m    161\u001B[0m \u001B[43m    \u001B[49m\u001B[43mreturn_attn\u001B[49m\u001B[38;5;241;43m=\u001B[39;49m\u001B[43mreturn_attn\u001B[49m\n\u001B[0;32m    162\u001B[0m \u001B[43m\u001B[49m\u001B[43m)\u001B[49m\n\u001B[0;32m    163\u001B[0m \u001B[38;5;66;03m# readout step\u001B[39;00m\n\u001B[0;32m    164\u001B[0m \u001B[38;5;28;01mif\u001B[39;00m \u001B[38;5;28mself\u001B[39m\u001B[38;5;241m.\u001B[39muse_global_pool:\n",
      "File \u001B[1;32mE:\\anaconda3\\envs\\pytorch\\lib\\site-packages\\torch\\nn\\modules\\module.py:1553\u001B[0m, in \u001B[0;36mModule._wrapped_call_impl\u001B[1;34m(self, *args, **kwargs)\u001B[0m\n\u001B[0;32m   1551\u001B[0m     \u001B[38;5;28;01mreturn\u001B[39;00m \u001B[38;5;28mself\u001B[39m\u001B[38;5;241m.\u001B[39m_compiled_call_impl(\u001B[38;5;241m*\u001B[39margs, \u001B[38;5;241m*\u001B[39m\u001B[38;5;241m*\u001B[39mkwargs)  \u001B[38;5;66;03m# type: ignore[misc]\u001B[39;00m\n\u001B[0;32m   1552\u001B[0m \u001B[38;5;28;01melse\u001B[39;00m:\n\u001B[1;32m-> 1553\u001B[0m     \u001B[38;5;28;01mreturn\u001B[39;00m \u001B[38;5;28;43mself\u001B[39;49m\u001B[38;5;241;43m.\u001B[39;49m\u001B[43m_call_impl\u001B[49m\u001B[43m(\u001B[49m\u001B[38;5;241;43m*\u001B[39;49m\u001B[43margs\u001B[49m\u001B[43m,\u001B[49m\u001B[43m \u001B[49m\u001B[38;5;241;43m*\u001B[39;49m\u001B[38;5;241;43m*\u001B[39;49m\u001B[43mkwargs\u001B[49m\u001B[43m)\u001B[49m\n",
      "File \u001B[1;32mE:\\anaconda3\\envs\\pytorch\\lib\\site-packages\\torch\\nn\\modules\\module.py:1562\u001B[0m, in \u001B[0;36mModule._call_impl\u001B[1;34m(self, *args, **kwargs)\u001B[0m\n\u001B[0;32m   1557\u001B[0m \u001B[38;5;66;03m# If we don't have any hooks, we want to skip the rest of the logic in\u001B[39;00m\n\u001B[0;32m   1558\u001B[0m \u001B[38;5;66;03m# this function, and just call forward.\u001B[39;00m\n\u001B[0;32m   1559\u001B[0m \u001B[38;5;28;01mif\u001B[39;00m \u001B[38;5;129;01mnot\u001B[39;00m (\u001B[38;5;28mself\u001B[39m\u001B[38;5;241m.\u001B[39m_backward_hooks \u001B[38;5;129;01mor\u001B[39;00m \u001B[38;5;28mself\u001B[39m\u001B[38;5;241m.\u001B[39m_backward_pre_hooks \u001B[38;5;129;01mor\u001B[39;00m \u001B[38;5;28mself\u001B[39m\u001B[38;5;241m.\u001B[39m_forward_hooks \u001B[38;5;129;01mor\u001B[39;00m \u001B[38;5;28mself\u001B[39m\u001B[38;5;241m.\u001B[39m_forward_pre_hooks\n\u001B[0;32m   1560\u001B[0m         \u001B[38;5;129;01mor\u001B[39;00m _global_backward_pre_hooks \u001B[38;5;129;01mor\u001B[39;00m _global_backward_hooks\n\u001B[0;32m   1561\u001B[0m         \u001B[38;5;129;01mor\u001B[39;00m _global_forward_hooks \u001B[38;5;129;01mor\u001B[39;00m _global_forward_pre_hooks):\n\u001B[1;32m-> 1562\u001B[0m     \u001B[38;5;28;01mreturn\u001B[39;00m \u001B[43mforward_call\u001B[49m\u001B[43m(\u001B[49m\u001B[38;5;241;43m*\u001B[39;49m\u001B[43margs\u001B[49m\u001B[43m,\u001B[49m\u001B[43m \u001B[49m\u001B[38;5;241;43m*\u001B[39;49m\u001B[38;5;241;43m*\u001B[39;49m\u001B[43mkwargs\u001B[49m\u001B[43m)\u001B[49m\n\u001B[0;32m   1564\u001B[0m \u001B[38;5;28;01mtry\u001B[39;00m:\n\u001B[0;32m   1565\u001B[0m     result \u001B[38;5;241m=\u001B[39m \u001B[38;5;28;01mNone\u001B[39;00m\n",
      "File \u001B[1;32mE:\\WYX_Project\\SAT-CGCN-Demo-1\\csat\\models.py:17\u001B[0m, in \u001B[0;36mGraphTransformerEncoder.forward\u001B[1;34m(self, x, edge_index, complete_edge_index, subgraph_node_index, subgraph_edge_index, subgraph_edge_attr, subgraph_indicator_index, edge_attr, degree, ptr, return_attn)\u001B[0m\n\u001B[0;32m     14\u001B[0m output \u001B[38;5;241m=\u001B[39m x\n\u001B[0;32m     16\u001B[0m \u001B[38;5;28;01mfor\u001B[39;00m mod \u001B[38;5;129;01min\u001B[39;00m \u001B[38;5;28mself\u001B[39m\u001B[38;5;241m.\u001B[39mlayers:\n\u001B[1;32m---> 17\u001B[0m     output \u001B[38;5;241m=\u001B[39m \u001B[43mmod\u001B[49m\u001B[43m(\u001B[49m\u001B[43moutput\u001B[49m\u001B[43m,\u001B[49m\u001B[43m \u001B[49m\u001B[43medge_index\u001B[49m\u001B[43m,\u001B[49m\u001B[43m \u001B[49m\u001B[43mcomplete_edge_index\u001B[49m\u001B[43m,\u001B[49m\n\u001B[0;32m     18\u001B[0m \u001B[43m        \u001B[49m\u001B[43medge_attr\u001B[49m\u001B[38;5;241;43m=\u001B[39;49m\u001B[43medge_attr\u001B[49m\u001B[43m,\u001B[49m\u001B[43m \u001B[49m\u001B[43mdegree\u001B[49m\u001B[38;5;241;43m=\u001B[39;49m\u001B[43mdegree\u001B[49m\u001B[43m,\u001B[49m\n\u001B[0;32m     19\u001B[0m \u001B[43m        \u001B[49m\u001B[43msubgraph_node_index\u001B[49m\u001B[38;5;241;43m=\u001B[39;49m\u001B[43msubgraph_node_index\u001B[49m\u001B[43m,\u001B[49m\n\u001B[0;32m     20\u001B[0m \u001B[43m        \u001B[49m\u001B[43msubgraph_edge_index\u001B[49m\u001B[38;5;241;43m=\u001B[39;49m\u001B[43msubgraph_edge_index\u001B[49m\u001B[43m,\u001B[49m\n\u001B[0;32m     21\u001B[0m \u001B[43m        \u001B[49m\u001B[43msubgraph_indicator_index\u001B[49m\u001B[38;5;241;43m=\u001B[39;49m\u001B[43msubgraph_indicator_index\u001B[49m\u001B[43m,\u001B[49m\u001B[43m \u001B[49m\n\u001B[0;32m     22\u001B[0m \u001B[43m        \u001B[49m\u001B[43msubgraph_edge_attr\u001B[49m\u001B[38;5;241;43m=\u001B[39;49m\u001B[43msubgraph_edge_attr\u001B[49m\u001B[43m,\u001B[49m\n\u001B[0;32m     23\u001B[0m \u001B[43m        \u001B[49m\u001B[43mptr\u001B[49m\u001B[38;5;241;43m=\u001B[39;49m\u001B[43mptr\u001B[49m\u001B[43m,\u001B[49m\n\u001B[0;32m     24\u001B[0m \u001B[43m        \u001B[49m\u001B[43mreturn_attn\u001B[49m\u001B[38;5;241;43m=\u001B[39;49m\u001B[43mreturn_attn\u001B[49m\n\u001B[0;32m     25\u001B[0m \u001B[43m    \u001B[49m\u001B[43m)\u001B[49m\n\u001B[0;32m     26\u001B[0m \u001B[38;5;28;01mif\u001B[39;00m \u001B[38;5;28mself\u001B[39m\u001B[38;5;241m.\u001B[39mnorm \u001B[38;5;129;01mis\u001B[39;00m \u001B[38;5;129;01mnot\u001B[39;00m \u001B[38;5;28;01mNone\u001B[39;00m:\n\u001B[0;32m     27\u001B[0m     output \u001B[38;5;241m=\u001B[39m \u001B[38;5;28mself\u001B[39m\u001B[38;5;241m.\u001B[39mnorm(output)\n",
      "File \u001B[1;32mE:\\anaconda3\\envs\\pytorch\\lib\\site-packages\\torch\\nn\\modules\\module.py:1553\u001B[0m, in \u001B[0;36mModule._wrapped_call_impl\u001B[1;34m(self, *args, **kwargs)\u001B[0m\n\u001B[0;32m   1551\u001B[0m     \u001B[38;5;28;01mreturn\u001B[39;00m \u001B[38;5;28mself\u001B[39m\u001B[38;5;241m.\u001B[39m_compiled_call_impl(\u001B[38;5;241m*\u001B[39margs, \u001B[38;5;241m*\u001B[39m\u001B[38;5;241m*\u001B[39mkwargs)  \u001B[38;5;66;03m# type: ignore[misc]\u001B[39;00m\n\u001B[0;32m   1552\u001B[0m \u001B[38;5;28;01melse\u001B[39;00m:\n\u001B[1;32m-> 1553\u001B[0m     \u001B[38;5;28;01mreturn\u001B[39;00m \u001B[38;5;28;43mself\u001B[39;49m\u001B[38;5;241;43m.\u001B[39;49m\u001B[43m_call_impl\u001B[49m\u001B[43m(\u001B[49m\u001B[38;5;241;43m*\u001B[39;49m\u001B[43margs\u001B[49m\u001B[43m,\u001B[49m\u001B[43m \u001B[49m\u001B[38;5;241;43m*\u001B[39;49m\u001B[38;5;241;43m*\u001B[39;49m\u001B[43mkwargs\u001B[49m\u001B[43m)\u001B[49m\n",
      "File \u001B[1;32mE:\\anaconda3\\envs\\pytorch\\lib\\site-packages\\torch\\nn\\modules\\module.py:1562\u001B[0m, in \u001B[0;36mModule._call_impl\u001B[1;34m(self, *args, **kwargs)\u001B[0m\n\u001B[0;32m   1557\u001B[0m \u001B[38;5;66;03m# If we don't have any hooks, we want to skip the rest of the logic in\u001B[39;00m\n\u001B[0;32m   1558\u001B[0m \u001B[38;5;66;03m# this function, and just call forward.\u001B[39;00m\n\u001B[0;32m   1559\u001B[0m \u001B[38;5;28;01mif\u001B[39;00m \u001B[38;5;129;01mnot\u001B[39;00m (\u001B[38;5;28mself\u001B[39m\u001B[38;5;241m.\u001B[39m_backward_hooks \u001B[38;5;129;01mor\u001B[39;00m \u001B[38;5;28mself\u001B[39m\u001B[38;5;241m.\u001B[39m_backward_pre_hooks \u001B[38;5;129;01mor\u001B[39;00m \u001B[38;5;28mself\u001B[39m\u001B[38;5;241m.\u001B[39m_forward_hooks \u001B[38;5;129;01mor\u001B[39;00m \u001B[38;5;28mself\u001B[39m\u001B[38;5;241m.\u001B[39m_forward_pre_hooks\n\u001B[0;32m   1560\u001B[0m         \u001B[38;5;129;01mor\u001B[39;00m _global_backward_pre_hooks \u001B[38;5;129;01mor\u001B[39;00m _global_backward_hooks\n\u001B[0;32m   1561\u001B[0m         \u001B[38;5;129;01mor\u001B[39;00m _global_forward_hooks \u001B[38;5;129;01mor\u001B[39;00m _global_forward_pre_hooks):\n\u001B[1;32m-> 1562\u001B[0m     \u001B[38;5;28;01mreturn\u001B[39;00m \u001B[43mforward_call\u001B[49m\u001B[43m(\u001B[49m\u001B[38;5;241;43m*\u001B[39;49m\u001B[43margs\u001B[49m\u001B[43m,\u001B[49m\u001B[43m \u001B[49m\u001B[38;5;241;43m*\u001B[39;49m\u001B[38;5;241;43m*\u001B[39;49m\u001B[43mkwargs\u001B[49m\u001B[43m)\u001B[49m\n\u001B[0;32m   1564\u001B[0m \u001B[38;5;28;01mtry\u001B[39;00m:\n\u001B[0;32m   1565\u001B[0m     result \u001B[38;5;241m=\u001B[39m \u001B[38;5;28;01mNone\u001B[39;00m\n",
      "File \u001B[1;32mE:\\WYX_Project\\SAT-CGCN-Demo-1\\csat\\layers.py:358\u001B[0m, in \u001B[0;36mTransformerEncoderLayer.forward\u001B[1;34m(self, x, edge_index, complete_edge_index, subgraph_node_index, subgraph_edge_index, subgraph_edge_attr, subgraph_indicator_index, edge_attr, degree, ptr, return_attn)\u001B[0m\n\u001B[0;32m    355\u001B[0m \u001B[38;5;28;01mif\u001B[39;00m \u001B[38;5;28mself\u001B[39m\u001B[38;5;241m.\u001B[39mpre_norm:\n\u001B[0;32m    356\u001B[0m     x \u001B[38;5;241m=\u001B[39m \u001B[38;5;28mself\u001B[39m\u001B[38;5;241m.\u001B[39mnorm1(x)\n\u001B[1;32m--> 358\u001B[0m x2, attn \u001B[38;5;241m=\u001B[39m \u001B[38;5;28;43mself\u001B[39;49m\u001B[38;5;241;43m.\u001B[39;49m\u001B[43mself_attn\u001B[49m\u001B[43m(\u001B[49m\n\u001B[0;32m    359\u001B[0m \u001B[43m    \u001B[49m\u001B[43mx\u001B[49m\u001B[43m,\u001B[49m\n\u001B[0;32m    360\u001B[0m \u001B[43m    \u001B[49m\u001B[43medge_index\u001B[49m\u001B[43m,\u001B[49m\n\u001B[0;32m    361\u001B[0m \u001B[43m    \u001B[49m\u001B[43mcomplete_edge_index\u001B[49m\u001B[43m,\u001B[49m\n\u001B[0;32m    362\u001B[0m \u001B[43m    \u001B[49m\u001B[43medge_attr\u001B[49m\u001B[38;5;241;43m=\u001B[39;49m\u001B[43medge_attr\u001B[49m\u001B[43m,\u001B[49m\n\u001B[0;32m    363\u001B[0m \u001B[43m    \u001B[49m\u001B[43msubgraph_node_index\u001B[49m\u001B[38;5;241;43m=\u001B[39;49m\u001B[43msubgraph_node_index\u001B[49m\u001B[43m,\u001B[49m\n\u001B[0;32m    364\u001B[0m \u001B[43m    \u001B[49m\u001B[43msubgraph_edge_index\u001B[49m\u001B[38;5;241;43m=\u001B[39;49m\u001B[43msubgraph_edge_index\u001B[49m\u001B[43m,\u001B[49m\n\u001B[0;32m    365\u001B[0m \u001B[43m    \u001B[49m\u001B[43msubgraph_indicator_index\u001B[49m\u001B[38;5;241;43m=\u001B[39;49m\u001B[43msubgraph_indicator_index\u001B[49m\u001B[43m,\u001B[49m\n\u001B[0;32m    366\u001B[0m \u001B[43m    \u001B[49m\u001B[43msubgraph_edge_attr\u001B[49m\u001B[38;5;241;43m=\u001B[39;49m\u001B[43msubgraph_edge_attr\u001B[49m\u001B[43m,\u001B[49m\n\u001B[0;32m    367\u001B[0m \u001B[43m    \u001B[49m\u001B[43mptr\u001B[49m\u001B[38;5;241;43m=\u001B[39;49m\u001B[43mptr\u001B[49m\u001B[43m,\u001B[49m\n\u001B[0;32m    368\u001B[0m \u001B[43m    \u001B[49m\u001B[43mreturn_attn\u001B[49m\u001B[38;5;241;43m=\u001B[39;49m\u001B[43mreturn_attn\u001B[49m\n\u001B[0;32m    369\u001B[0m \u001B[43m\u001B[49m\u001B[43m)\u001B[49m\n\u001B[0;32m    371\u001B[0m \u001B[38;5;28;01mif\u001B[39;00m degree \u001B[38;5;129;01mis\u001B[39;00m \u001B[38;5;129;01mnot\u001B[39;00m \u001B[38;5;28;01mNone\u001B[39;00m:\n\u001B[0;32m    372\u001B[0m     x2 \u001B[38;5;241m=\u001B[39m degree\u001B[38;5;241m.\u001B[39munsqueeze(\u001B[38;5;241m-\u001B[39m\u001B[38;5;241m1\u001B[39m) \u001B[38;5;241m*\u001B[39m x2\n",
      "File \u001B[1;32mE:\\anaconda3\\envs\\pytorch\\lib\\site-packages\\torch\\nn\\modules\\module.py:1553\u001B[0m, in \u001B[0;36mModule._wrapped_call_impl\u001B[1;34m(self, *args, **kwargs)\u001B[0m\n\u001B[0;32m   1551\u001B[0m     \u001B[38;5;28;01mreturn\u001B[39;00m \u001B[38;5;28mself\u001B[39m\u001B[38;5;241m.\u001B[39m_compiled_call_impl(\u001B[38;5;241m*\u001B[39margs, \u001B[38;5;241m*\u001B[39m\u001B[38;5;241m*\u001B[39mkwargs)  \u001B[38;5;66;03m# type: ignore[misc]\u001B[39;00m\n\u001B[0;32m   1552\u001B[0m \u001B[38;5;28;01melse\u001B[39;00m:\n\u001B[1;32m-> 1553\u001B[0m     \u001B[38;5;28;01mreturn\u001B[39;00m \u001B[38;5;28;43mself\u001B[39;49m\u001B[38;5;241;43m.\u001B[39;49m\u001B[43m_call_impl\u001B[49m\u001B[43m(\u001B[49m\u001B[38;5;241;43m*\u001B[39;49m\u001B[43margs\u001B[49m\u001B[43m,\u001B[49m\u001B[43m \u001B[49m\u001B[38;5;241;43m*\u001B[39;49m\u001B[38;5;241;43m*\u001B[39;49m\u001B[43mkwargs\u001B[49m\u001B[43m)\u001B[49m\n",
      "File \u001B[1;32mE:\\anaconda3\\envs\\pytorch\\lib\\site-packages\\torch\\nn\\modules\\module.py:1562\u001B[0m, in \u001B[0;36mModule._call_impl\u001B[1;34m(self, *args, **kwargs)\u001B[0m\n\u001B[0;32m   1557\u001B[0m \u001B[38;5;66;03m# If we don't have any hooks, we want to skip the rest of the logic in\u001B[39;00m\n\u001B[0;32m   1558\u001B[0m \u001B[38;5;66;03m# this function, and just call forward.\u001B[39;00m\n\u001B[0;32m   1559\u001B[0m \u001B[38;5;28;01mif\u001B[39;00m \u001B[38;5;129;01mnot\u001B[39;00m (\u001B[38;5;28mself\u001B[39m\u001B[38;5;241m.\u001B[39m_backward_hooks \u001B[38;5;129;01mor\u001B[39;00m \u001B[38;5;28mself\u001B[39m\u001B[38;5;241m.\u001B[39m_backward_pre_hooks \u001B[38;5;129;01mor\u001B[39;00m \u001B[38;5;28mself\u001B[39m\u001B[38;5;241m.\u001B[39m_forward_hooks \u001B[38;5;129;01mor\u001B[39;00m \u001B[38;5;28mself\u001B[39m\u001B[38;5;241m.\u001B[39m_forward_pre_hooks\n\u001B[0;32m   1560\u001B[0m         \u001B[38;5;129;01mor\u001B[39;00m _global_backward_pre_hooks \u001B[38;5;129;01mor\u001B[39;00m _global_backward_hooks\n\u001B[0;32m   1561\u001B[0m         \u001B[38;5;129;01mor\u001B[39;00m _global_forward_hooks \u001B[38;5;129;01mor\u001B[39;00m _global_forward_pre_hooks):\n\u001B[1;32m-> 1562\u001B[0m     \u001B[38;5;28;01mreturn\u001B[39;00m \u001B[43mforward_call\u001B[49m\u001B[43m(\u001B[49m\u001B[38;5;241;43m*\u001B[39;49m\u001B[43margs\u001B[49m\u001B[43m,\u001B[49m\u001B[43m \u001B[49m\u001B[38;5;241;43m*\u001B[39;49m\u001B[38;5;241;43m*\u001B[39;49m\u001B[43mkwargs\u001B[49m\u001B[43m)\u001B[49m\n\u001B[0;32m   1564\u001B[0m \u001B[38;5;28;01mtry\u001B[39;00m:\n\u001B[0;32m   1565\u001B[0m     result \u001B[38;5;241m=\u001B[39m \u001B[38;5;28;01mNone\u001B[39;00m\n",
      "File \u001B[1;32mE:\\WYX_Project\\SAT-CGCN-Demo-1\\csat\\layers.py:113\u001B[0m, in \u001B[0;36mAttention.forward\u001B[1;34m(self, x, edge_index, complete_edge_index, subgraph_node_index, subgraph_edge_index, subgraph_indicator_index, subgraph_edge_attr, edge_attr, ptr, return_attn)\u001B[0m\n\u001B[0;32m    111\u001B[0m \u001B[38;5;66;03m# Compute structure-aware node embeddings \u001B[39;00m\n\u001B[0;32m    112\u001B[0m \u001B[38;5;28;01mif\u001B[39;00m \u001B[38;5;28mself\u001B[39m\u001B[38;5;241m.\u001B[39mse \u001B[38;5;241m==\u001B[39m \u001B[38;5;124m'\u001B[39m\u001B[38;5;124mkhopgnn\u001B[39m\u001B[38;5;124m'\u001B[39m: \u001B[38;5;66;03m# k-subgraph SAT\u001B[39;00m\n\u001B[1;32m--> 113\u001B[0m     x_struct \u001B[38;5;241m=\u001B[39m \u001B[38;5;28;43mself\u001B[39;49m\u001B[38;5;241;43m.\u001B[39;49m\u001B[43mkhop_structure_extractor\u001B[49m\u001B[43m(\u001B[49m\n\u001B[0;32m    114\u001B[0m \u001B[43m        \u001B[49m\u001B[43mx\u001B[49m\u001B[38;5;241;43m=\u001B[39;49m\u001B[43mx\u001B[49m\u001B[43m,\u001B[49m\n\u001B[0;32m    115\u001B[0m \u001B[43m        \u001B[49m\u001B[43medge_index\u001B[49m\u001B[38;5;241;43m=\u001B[39;49m\u001B[43medge_index\u001B[49m\u001B[43m,\u001B[49m\n\u001B[0;32m    116\u001B[0m \u001B[43m        \u001B[49m\u001B[43msubgraph_edge_index\u001B[49m\u001B[38;5;241;43m=\u001B[39;49m\u001B[43msubgraph_edge_index\u001B[49m\u001B[43m,\u001B[49m\n\u001B[0;32m    117\u001B[0m \u001B[43m        \u001B[49m\u001B[43msubgraph_indicator_index\u001B[49m\u001B[38;5;241;43m=\u001B[39;49m\u001B[43msubgraph_indicator_index\u001B[49m\u001B[43m,\u001B[49m\n\u001B[0;32m    118\u001B[0m \u001B[43m        \u001B[49m\u001B[43msubgraph_node_index\u001B[49m\u001B[38;5;241;43m=\u001B[39;49m\u001B[43msubgraph_node_index\u001B[49m\u001B[43m,\u001B[49m\n\u001B[0;32m    119\u001B[0m \u001B[43m        \u001B[49m\u001B[43msubgraph_edge_attr\u001B[49m\u001B[38;5;241;43m=\u001B[39;49m\u001B[43msubgraph_edge_attr\u001B[49m\u001B[43m,\u001B[49m\n\u001B[0;32m    120\u001B[0m \u001B[43m    \u001B[49m\u001B[43m)\u001B[49m\n\u001B[0;32m    121\u001B[0m \u001B[38;5;28;01melse\u001B[39;00m: \u001B[38;5;66;03m# k-subtree SAT\u001B[39;00m\n\u001B[0;32m    122\u001B[0m     x_struct \u001B[38;5;241m=\u001B[39m \u001B[38;5;28mself\u001B[39m\u001B[38;5;241m.\u001B[39mstructure_extractor(x, edge_index, edge_attr)\n",
      "File \u001B[1;32mE:\\anaconda3\\envs\\pytorch\\lib\\site-packages\\torch\\nn\\modules\\module.py:1553\u001B[0m, in \u001B[0;36mModule._wrapped_call_impl\u001B[1;34m(self, *args, **kwargs)\u001B[0m\n\u001B[0;32m   1551\u001B[0m     \u001B[38;5;28;01mreturn\u001B[39;00m \u001B[38;5;28mself\u001B[39m\u001B[38;5;241m.\u001B[39m_compiled_call_impl(\u001B[38;5;241m*\u001B[39margs, \u001B[38;5;241m*\u001B[39m\u001B[38;5;241m*\u001B[39mkwargs)  \u001B[38;5;66;03m# type: ignore[misc]\u001B[39;00m\n\u001B[0;32m   1552\u001B[0m \u001B[38;5;28;01melse\u001B[39;00m:\n\u001B[1;32m-> 1553\u001B[0m     \u001B[38;5;28;01mreturn\u001B[39;00m \u001B[38;5;28;43mself\u001B[39;49m\u001B[38;5;241;43m.\u001B[39;49m\u001B[43m_call_impl\u001B[49m\u001B[43m(\u001B[49m\u001B[38;5;241;43m*\u001B[39;49m\u001B[43margs\u001B[49m\u001B[43m,\u001B[49m\u001B[43m \u001B[49m\u001B[38;5;241;43m*\u001B[39;49m\u001B[38;5;241;43m*\u001B[39;49m\u001B[43mkwargs\u001B[49m\u001B[43m)\u001B[49m\n",
      "File \u001B[1;32mE:\\anaconda3\\envs\\pytorch\\lib\\site-packages\\torch\\nn\\modules\\module.py:1562\u001B[0m, in \u001B[0;36mModule._call_impl\u001B[1;34m(self, *args, **kwargs)\u001B[0m\n\u001B[0;32m   1557\u001B[0m \u001B[38;5;66;03m# If we don't have any hooks, we want to skip the rest of the logic in\u001B[39;00m\n\u001B[0;32m   1558\u001B[0m \u001B[38;5;66;03m# this function, and just call forward.\u001B[39;00m\n\u001B[0;32m   1559\u001B[0m \u001B[38;5;28;01mif\u001B[39;00m \u001B[38;5;129;01mnot\u001B[39;00m (\u001B[38;5;28mself\u001B[39m\u001B[38;5;241m.\u001B[39m_backward_hooks \u001B[38;5;129;01mor\u001B[39;00m \u001B[38;5;28mself\u001B[39m\u001B[38;5;241m.\u001B[39m_backward_pre_hooks \u001B[38;5;129;01mor\u001B[39;00m \u001B[38;5;28mself\u001B[39m\u001B[38;5;241m.\u001B[39m_forward_hooks \u001B[38;5;129;01mor\u001B[39;00m \u001B[38;5;28mself\u001B[39m\u001B[38;5;241m.\u001B[39m_forward_pre_hooks\n\u001B[0;32m   1560\u001B[0m         \u001B[38;5;129;01mor\u001B[39;00m _global_backward_pre_hooks \u001B[38;5;129;01mor\u001B[39;00m _global_backward_hooks\n\u001B[0;32m   1561\u001B[0m         \u001B[38;5;129;01mor\u001B[39;00m _global_forward_hooks \u001B[38;5;129;01mor\u001B[39;00m _global_forward_pre_hooks):\n\u001B[1;32m-> 1562\u001B[0m     \u001B[38;5;28;01mreturn\u001B[39;00m \u001B[43mforward_call\u001B[49m\u001B[43m(\u001B[49m\u001B[38;5;241;43m*\u001B[39;49m\u001B[43margs\u001B[49m\u001B[43m,\u001B[49m\u001B[43m \u001B[49m\u001B[38;5;241;43m*\u001B[39;49m\u001B[38;5;241;43m*\u001B[39;49m\u001B[43mkwargs\u001B[49m\u001B[43m)\u001B[49m\n\u001B[0;32m   1564\u001B[0m \u001B[38;5;28;01mtry\u001B[39;00m:\n\u001B[0;32m   1565\u001B[0m     result \u001B[38;5;241m=\u001B[39m \u001B[38;5;28;01mNone\u001B[39;00m\n",
      "File \u001B[1;32mE:\\WYX_Project\\SAT-CGCN-Demo-1\\csat\\layers.py:301\u001B[0m, in \u001B[0;36mKHopStructureExtractor.forward\u001B[1;34m(self, x, edge_index, subgraph_edge_index, edge_attr, subgraph_indicator_index, subgraph_node_index, subgraph_edge_attr)\u001B[0m\n\u001B[0;32m    297\u001B[0m \u001B[38;5;28;01mdef\u001B[39;00m \u001B[38;5;21mforward\u001B[39m(\u001B[38;5;28mself\u001B[39m, x, edge_index, subgraph_edge_index, edge_attr\u001B[38;5;241m=\u001B[39m\u001B[38;5;28;01mNone\u001B[39;00m,\n\u001B[0;32m    298\u001B[0m         subgraph_indicator_index\u001B[38;5;241m=\u001B[39m\u001B[38;5;28;01mNone\u001B[39;00m, subgraph_node_index\u001B[38;5;241m=\u001B[39m\u001B[38;5;28;01mNone\u001B[39;00m,\n\u001B[0;32m    299\u001B[0m         subgraph_edge_attr\u001B[38;5;241m=\u001B[39m\u001B[38;5;28;01mNone\u001B[39;00m):\n\u001B[1;32m--> 301\u001B[0m     x_struct \u001B[38;5;241m=\u001B[39m \u001B[38;5;28;43mself\u001B[39;49m\u001B[38;5;241;43m.\u001B[39;49m\u001B[43mstructure_extractor\u001B[49m\u001B[43m(\u001B[49m\n\u001B[0;32m    302\u001B[0m \u001B[43m        \u001B[49m\u001B[43mx\u001B[49m\u001B[38;5;241;43m=\u001B[39;49m\u001B[43mx\u001B[49m\u001B[43m[\u001B[49m\u001B[43msubgraph_node_index\u001B[49m\u001B[43m]\u001B[49m\u001B[43m,\u001B[49m\n\u001B[0;32m    303\u001B[0m \u001B[43m        \u001B[49m\u001B[43medge_index\u001B[49m\u001B[38;5;241;43m=\u001B[39;49m\u001B[43msubgraph_edge_index\u001B[49m\u001B[43m,\u001B[49m\n\u001B[0;32m    304\u001B[0m \u001B[43m        \u001B[49m\u001B[43medge_attr\u001B[49m\u001B[38;5;241;43m=\u001B[39;49m\u001B[43msubgraph_edge_attr\u001B[49m\u001B[43m,\u001B[49m\n\u001B[0;32m    305\u001B[0m \u001B[43m        \u001B[49m\u001B[43msubgraph_indicator_index\u001B[49m\u001B[38;5;241;43m=\u001B[39;49m\u001B[43msubgraph_indicator_index\u001B[49m\u001B[43m,\u001B[49m\n\u001B[0;32m    306\u001B[0m \u001B[43m        \u001B[49m\u001B[43magg\u001B[49m\u001B[38;5;241;43m=\u001B[39;49m\u001B[38;5;124;43m\"\u001B[39;49m\u001B[38;5;124;43msum\u001B[39;49m\u001B[38;5;124;43m\"\u001B[39;49m\u001B[43m,\u001B[49m\n\u001B[0;32m    307\u001B[0m \u001B[43m    \u001B[49m\u001B[43m)\u001B[49m\n\u001B[0;32m    308\u001B[0m     x_struct \u001B[38;5;241m=\u001B[39m torch\u001B[38;5;241m.\u001B[39mcat([x, x_struct], dim\u001B[38;5;241m=\u001B[39m\u001B[38;5;241m-\u001B[39m\u001B[38;5;241m1\u001B[39m)\n\u001B[0;32m    309\u001B[0m     \u001B[38;5;28;01mif\u001B[39;00m \u001B[38;5;28mself\u001B[39m\u001B[38;5;241m.\u001B[39mbatch_norm:\n",
      "File \u001B[1;32mE:\\anaconda3\\envs\\pytorch\\lib\\site-packages\\torch\\nn\\modules\\module.py:1553\u001B[0m, in \u001B[0;36mModule._wrapped_call_impl\u001B[1;34m(self, *args, **kwargs)\u001B[0m\n\u001B[0;32m   1551\u001B[0m     \u001B[38;5;28;01mreturn\u001B[39;00m \u001B[38;5;28mself\u001B[39m\u001B[38;5;241m.\u001B[39m_compiled_call_impl(\u001B[38;5;241m*\u001B[39margs, \u001B[38;5;241m*\u001B[39m\u001B[38;5;241m*\u001B[39mkwargs)  \u001B[38;5;66;03m# type: ignore[misc]\u001B[39;00m\n\u001B[0;32m   1552\u001B[0m \u001B[38;5;28;01melse\u001B[39;00m:\n\u001B[1;32m-> 1553\u001B[0m     \u001B[38;5;28;01mreturn\u001B[39;00m \u001B[38;5;28;43mself\u001B[39;49m\u001B[38;5;241;43m.\u001B[39;49m\u001B[43m_call_impl\u001B[49m\u001B[43m(\u001B[49m\u001B[38;5;241;43m*\u001B[39;49m\u001B[43margs\u001B[49m\u001B[43m,\u001B[49m\u001B[43m \u001B[49m\u001B[38;5;241;43m*\u001B[39;49m\u001B[38;5;241;43m*\u001B[39;49m\u001B[43mkwargs\u001B[49m\u001B[43m)\u001B[49m\n",
      "File \u001B[1;32mE:\\anaconda3\\envs\\pytorch\\lib\\site-packages\\torch\\nn\\modules\\module.py:1562\u001B[0m, in \u001B[0;36mModule._call_impl\u001B[1;34m(self, *args, **kwargs)\u001B[0m\n\u001B[0;32m   1557\u001B[0m \u001B[38;5;66;03m# If we don't have any hooks, we want to skip the rest of the logic in\u001B[39;00m\n\u001B[0;32m   1558\u001B[0m \u001B[38;5;66;03m# this function, and just call forward.\u001B[39;00m\n\u001B[0;32m   1559\u001B[0m \u001B[38;5;28;01mif\u001B[39;00m \u001B[38;5;129;01mnot\u001B[39;00m (\u001B[38;5;28mself\u001B[39m\u001B[38;5;241m.\u001B[39m_backward_hooks \u001B[38;5;129;01mor\u001B[39;00m \u001B[38;5;28mself\u001B[39m\u001B[38;5;241m.\u001B[39m_backward_pre_hooks \u001B[38;5;129;01mor\u001B[39;00m \u001B[38;5;28mself\u001B[39m\u001B[38;5;241m.\u001B[39m_forward_hooks \u001B[38;5;129;01mor\u001B[39;00m \u001B[38;5;28mself\u001B[39m\u001B[38;5;241m.\u001B[39m_forward_pre_hooks\n\u001B[0;32m   1560\u001B[0m         \u001B[38;5;129;01mor\u001B[39;00m _global_backward_pre_hooks \u001B[38;5;129;01mor\u001B[39;00m _global_backward_hooks\n\u001B[0;32m   1561\u001B[0m         \u001B[38;5;129;01mor\u001B[39;00m _global_forward_hooks \u001B[38;5;129;01mor\u001B[39;00m _global_forward_pre_hooks):\n\u001B[1;32m-> 1562\u001B[0m     \u001B[38;5;28;01mreturn\u001B[39;00m \u001B[43mforward_call\u001B[49m\u001B[43m(\u001B[49m\u001B[38;5;241;43m*\u001B[39;49m\u001B[43margs\u001B[49m\u001B[43m,\u001B[49m\u001B[43m \u001B[49m\u001B[38;5;241;43m*\u001B[39;49m\u001B[38;5;241;43m*\u001B[39;49m\u001B[43mkwargs\u001B[49m\u001B[43m)\u001B[49m\n\u001B[0;32m   1564\u001B[0m \u001B[38;5;28;01mtry\u001B[39;00m:\n\u001B[0;32m   1565\u001B[0m     result \u001B[38;5;241m=\u001B[39m \u001B[38;5;28;01mNone\u001B[39;00m\n",
      "File \u001B[1;32mE:\\WYX_Project\\SAT-CGCN-Demo-1\\csat\\layers.py:238\u001B[0m, in \u001B[0;36mStructureExtractor.forward\u001B[1;34m(self, x, edge_index, edge_attr, subgraph_indicator_index, agg)\u001B[0m\n\u001B[0;32m    236\u001B[0m         x \u001B[38;5;241m=\u001B[39m \u001B[38;5;28mself\u001B[39m\u001B[38;5;241m.\u001B[39mrelu(gcn_layer(x, edge_index))\n\u001B[0;32m    237\u001B[0m     \u001B[38;5;28;01melse\u001B[39;00m:\n\u001B[1;32m--> 238\u001B[0m         x \u001B[38;5;241m=\u001B[39m \u001B[38;5;28mself\u001B[39m\u001B[38;5;241m.\u001B[39mrelu(\u001B[43mgcn_layer\u001B[49m\u001B[43m(\u001B[49m\u001B[43mx\u001B[49m\u001B[43m,\u001B[49m\u001B[43m \u001B[49m\u001B[43medge_index\u001B[49m\u001B[43m,\u001B[49m\u001B[43m \u001B[49m\u001B[43medge_attr\u001B[49m\u001B[38;5;241;43m=\u001B[39;49m\u001B[43medge_attr\u001B[49m\u001B[43m)\u001B[49m)\n\u001B[0;32m    239\u001B[0m \u001B[38;5;28;01melse\u001B[39;00m:\n\u001B[0;32m    240\u001B[0m     x \u001B[38;5;241m=\u001B[39m \u001B[38;5;28mself\u001B[39m\u001B[38;5;241m.\u001B[39mrelu(gcn_layer(x, edge_index))\n",
      "File \u001B[1;32mE:\\anaconda3\\envs\\pytorch\\lib\\site-packages\\torch\\nn\\modules\\module.py:1553\u001B[0m, in \u001B[0;36mModule._wrapped_call_impl\u001B[1;34m(self, *args, **kwargs)\u001B[0m\n\u001B[0;32m   1551\u001B[0m     \u001B[38;5;28;01mreturn\u001B[39;00m \u001B[38;5;28mself\u001B[39m\u001B[38;5;241m.\u001B[39m_compiled_call_impl(\u001B[38;5;241m*\u001B[39margs, \u001B[38;5;241m*\u001B[39m\u001B[38;5;241m*\u001B[39mkwargs)  \u001B[38;5;66;03m# type: ignore[misc]\u001B[39;00m\n\u001B[0;32m   1552\u001B[0m \u001B[38;5;28;01melse\u001B[39;00m:\n\u001B[1;32m-> 1553\u001B[0m     \u001B[38;5;28;01mreturn\u001B[39;00m \u001B[38;5;28;43mself\u001B[39;49m\u001B[38;5;241;43m.\u001B[39;49m\u001B[43m_call_impl\u001B[49m\u001B[43m(\u001B[49m\u001B[38;5;241;43m*\u001B[39;49m\u001B[43margs\u001B[49m\u001B[43m,\u001B[49m\u001B[43m \u001B[49m\u001B[38;5;241;43m*\u001B[39;49m\u001B[38;5;241;43m*\u001B[39;49m\u001B[43mkwargs\u001B[49m\u001B[43m)\u001B[49m\n",
      "File \u001B[1;32mE:\\anaconda3\\envs\\pytorch\\lib\\site-packages\\torch\\nn\\modules\\module.py:1562\u001B[0m, in \u001B[0;36mModule._call_impl\u001B[1;34m(self, *args, **kwargs)\u001B[0m\n\u001B[0;32m   1557\u001B[0m \u001B[38;5;66;03m# If we don't have any hooks, we want to skip the rest of the logic in\u001B[39;00m\n\u001B[0;32m   1558\u001B[0m \u001B[38;5;66;03m# this function, and just call forward.\u001B[39;00m\n\u001B[0;32m   1559\u001B[0m \u001B[38;5;28;01mif\u001B[39;00m \u001B[38;5;129;01mnot\u001B[39;00m (\u001B[38;5;28mself\u001B[39m\u001B[38;5;241m.\u001B[39m_backward_hooks \u001B[38;5;129;01mor\u001B[39;00m \u001B[38;5;28mself\u001B[39m\u001B[38;5;241m.\u001B[39m_backward_pre_hooks \u001B[38;5;129;01mor\u001B[39;00m \u001B[38;5;28mself\u001B[39m\u001B[38;5;241m.\u001B[39m_forward_hooks \u001B[38;5;129;01mor\u001B[39;00m \u001B[38;5;28mself\u001B[39m\u001B[38;5;241m.\u001B[39m_forward_pre_hooks\n\u001B[0;32m   1560\u001B[0m         \u001B[38;5;129;01mor\u001B[39;00m _global_backward_pre_hooks \u001B[38;5;129;01mor\u001B[39;00m _global_backward_hooks\n\u001B[0;32m   1561\u001B[0m         \u001B[38;5;129;01mor\u001B[39;00m _global_forward_hooks \u001B[38;5;129;01mor\u001B[39;00m _global_forward_pre_hooks):\n\u001B[1;32m-> 1562\u001B[0m     \u001B[38;5;28;01mreturn\u001B[39;00m \u001B[43mforward_call\u001B[49m\u001B[43m(\u001B[49m\u001B[38;5;241;43m*\u001B[39;49m\u001B[43margs\u001B[49m\u001B[43m,\u001B[49m\u001B[43m \u001B[49m\u001B[38;5;241;43m*\u001B[39;49m\u001B[38;5;241;43m*\u001B[39;49m\u001B[43mkwargs\u001B[49m\u001B[43m)\u001B[49m\n\u001B[0;32m   1564\u001B[0m \u001B[38;5;28;01mtry\u001B[39;00m:\n\u001B[0;32m   1565\u001B[0m     result \u001B[38;5;241m=\u001B[39m \u001B[38;5;28;01mNone\u001B[39;00m\n",
      "File \u001B[1;32mE:\\anaconda3\\envs\\pytorch\\lib\\site-packages\\torch_geometric\\nn\\conv\\pna_conv.py:167\u001B[0m, in \u001B[0;36mPNAConv.forward\u001B[1;34m(self, x, edge_index, edge_attr)\u001B[0m\n\u001B[0;32m    164\u001B[0m     x \u001B[38;5;241m=\u001B[39m x\u001B[38;5;241m.\u001B[39mview(\u001B[38;5;241m-\u001B[39m\u001B[38;5;241m1\u001B[39m, \u001B[38;5;241m1\u001B[39m, \u001B[38;5;28mself\u001B[39m\u001B[38;5;241m.\u001B[39mF_in)\u001B[38;5;241m.\u001B[39mrepeat(\u001B[38;5;241m1\u001B[39m, \u001B[38;5;28mself\u001B[39m\u001B[38;5;241m.\u001B[39mtowers, \u001B[38;5;241m1\u001B[39m)\n\u001B[0;32m    166\u001B[0m \u001B[38;5;66;03m# propagate_type: (x: Tensor, edge_attr: OptTensor)\u001B[39;00m\n\u001B[1;32m--> 167\u001B[0m out \u001B[38;5;241m=\u001B[39m \u001B[38;5;28;43mself\u001B[39;49m\u001B[38;5;241;43m.\u001B[39;49m\u001B[43mpropagate\u001B[49m\u001B[43m(\u001B[49m\u001B[43medge_index\u001B[49m\u001B[43m,\u001B[49m\u001B[43m \u001B[49m\u001B[43mx\u001B[49m\u001B[38;5;241;43m=\u001B[39;49m\u001B[43mx\u001B[49m\u001B[43m,\u001B[49m\u001B[43m \u001B[49m\u001B[43medge_attr\u001B[49m\u001B[38;5;241;43m=\u001B[39;49m\u001B[43medge_attr\u001B[49m\u001B[43m)\u001B[49m\n\u001B[0;32m    169\u001B[0m out \u001B[38;5;241m=\u001B[39m torch\u001B[38;5;241m.\u001B[39mcat([x, out], dim\u001B[38;5;241m=\u001B[39m\u001B[38;5;241m-\u001B[39m\u001B[38;5;241m1\u001B[39m)\n\u001B[0;32m    170\u001B[0m outs \u001B[38;5;241m=\u001B[39m [nn(out[:, i]) \u001B[38;5;28;01mfor\u001B[39;00m i, nn \u001B[38;5;129;01min\u001B[39;00m \u001B[38;5;28menumerate\u001B[39m(\u001B[38;5;28mself\u001B[39m\u001B[38;5;241m.\u001B[39mpost_nns)]\n",
      "File \u001B[1;32m~\\AppData\\Local\\Temp\\torch_geometric.nn.conv.pna_conv_PNAConv_propagate_u8iub_1q.py:201\u001B[0m, in \u001B[0;36mpropagate\u001B[1;34m(self, edge_index, x, edge_attr, size)\u001B[0m\n\u001B[0;32m    191\u001B[0m             kwargs \u001B[38;5;241m=\u001B[39m CollectArgs(\n\u001B[0;32m    192\u001B[0m                 x_i\u001B[38;5;241m=\u001B[39mhook_kwargs[\u001B[38;5;124m'\u001B[39m\u001B[38;5;124mx_i\u001B[39m\u001B[38;5;124m'\u001B[39m],\n\u001B[0;32m    193\u001B[0m                 x_j\u001B[38;5;241m=\u001B[39mhook_kwargs[\u001B[38;5;124m'\u001B[39m\u001B[38;5;124mx_j\u001B[39m\u001B[38;5;124m'\u001B[39m],\n\u001B[1;32m   (...)\u001B[0m\n\u001B[0;32m    197\u001B[0m                 dim_size\u001B[38;5;241m=\u001B[39mkwargs\u001B[38;5;241m.\u001B[39mdim_size,\n\u001B[0;32m    198\u001B[0m             )\n\u001B[0;32m    199\u001B[0m \u001B[38;5;66;03m# End Message Forward Pre Hook #########################################\u001B[39;00m\n\u001B[1;32m--> 201\u001B[0m out \u001B[38;5;241m=\u001B[39m \u001B[38;5;28;43mself\u001B[39;49m\u001B[38;5;241;43m.\u001B[39;49m\u001B[43mmessage\u001B[49m\u001B[43m(\u001B[49m\n\u001B[0;32m    202\u001B[0m \u001B[43m    \u001B[49m\u001B[43mx_i\u001B[49m\u001B[38;5;241;43m=\u001B[39;49m\u001B[43mkwargs\u001B[49m\u001B[38;5;241;43m.\u001B[39;49m\u001B[43mx_i\u001B[49m\u001B[43m,\u001B[49m\n\u001B[0;32m    203\u001B[0m \u001B[43m    \u001B[49m\u001B[43mx_j\u001B[49m\u001B[38;5;241;43m=\u001B[39;49m\u001B[43mkwargs\u001B[49m\u001B[38;5;241;43m.\u001B[39;49m\u001B[43mx_j\u001B[49m\u001B[43m,\u001B[49m\n\u001B[0;32m    204\u001B[0m \u001B[43m    \u001B[49m\u001B[43medge_attr\u001B[49m\u001B[38;5;241;43m=\u001B[39;49m\u001B[43mkwargs\u001B[49m\u001B[38;5;241;43m.\u001B[39;49m\u001B[43medge_attr\u001B[49m\u001B[43m,\u001B[49m\n\u001B[0;32m    205\u001B[0m \u001B[43m\u001B[49m\u001B[43m)\u001B[49m\n\u001B[0;32m    207\u001B[0m \u001B[38;5;66;03m# Begin Message Forward Hook ###########################################\u001B[39;00m\n\u001B[0;32m    208\u001B[0m \u001B[38;5;28;01mif\u001B[39;00m \u001B[38;5;129;01mnot\u001B[39;00m torch\u001B[38;5;241m.\u001B[39mjit\u001B[38;5;241m.\u001B[39mis_scripting() \u001B[38;5;129;01mand\u001B[39;00m \u001B[38;5;129;01mnot\u001B[39;00m is_compiling():\n",
      "File \u001B[1;32mE:\\anaconda3\\envs\\pytorch\\lib\\site-packages\\torch_geometric\\nn\\conv\\pna_conv.py:183\u001B[0m, in \u001B[0;36mPNAConv.message\u001B[1;34m(self, x_i, x_j, edge_attr)\u001B[0m\n\u001B[0;32m    181\u001B[0m     edge_attr \u001B[38;5;241m=\u001B[39m edge_attr\u001B[38;5;241m.\u001B[39mview(\u001B[38;5;241m-\u001B[39m\u001B[38;5;241m1\u001B[39m, \u001B[38;5;241m1\u001B[39m, \u001B[38;5;28mself\u001B[39m\u001B[38;5;241m.\u001B[39mF_in)\n\u001B[0;32m    182\u001B[0m     edge_attr \u001B[38;5;241m=\u001B[39m edge_attr\u001B[38;5;241m.\u001B[39mrepeat(\u001B[38;5;241m1\u001B[39m, \u001B[38;5;28mself\u001B[39m\u001B[38;5;241m.\u001B[39mtowers, \u001B[38;5;241m1\u001B[39m)\n\u001B[1;32m--> 183\u001B[0m     h \u001B[38;5;241m=\u001B[39m \u001B[43mtorch\u001B[49m\u001B[38;5;241;43m.\u001B[39;49m\u001B[43mcat\u001B[49m\u001B[43m(\u001B[49m\u001B[43m[\u001B[49m\u001B[43mx_i\u001B[49m\u001B[43m,\u001B[49m\u001B[43m \u001B[49m\u001B[43mx_j\u001B[49m\u001B[43m,\u001B[49m\u001B[43m \u001B[49m\u001B[43medge_attr\u001B[49m\u001B[43m]\u001B[49m\u001B[43m,\u001B[49m\u001B[43m \u001B[49m\u001B[43mdim\u001B[49m\u001B[38;5;241;43m=\u001B[39;49m\u001B[38;5;241;43m-\u001B[39;49m\u001B[38;5;241;43m1\u001B[39;49m\u001B[43m)\u001B[49m\n\u001B[0;32m    184\u001B[0m \u001B[38;5;28;01melse\u001B[39;00m:\n\u001B[0;32m    185\u001B[0m     h \u001B[38;5;241m=\u001B[39m torch\u001B[38;5;241m.\u001B[39mcat([x_i, x_j], dim\u001B[38;5;241m=\u001B[39m\u001B[38;5;241m-\u001B[39m\u001B[38;5;241m1\u001B[39m)\n",
      "\u001B[1;31mRuntimeError\u001B[0m: Sizes of tensors must match except in dimension 2. Expected size 2844 but got size 116604 for tensor number 2 in the list."
     ]
    }
   ],
   "execution_count": 150
  },
  {
   "metadata": {},
   "cell_type": "code",
   "outputs": [],
   "execution_count": null,
   "source": [
    "# running_mean------->batch_norm------->128------92\n",
    "[45,92,128]"
   ],
   "id": "b1fd0eb848610cf7"
  }
 ],
 "metadata": {
  "kernelspec": {
   "display_name": "Python 3",
   "language": "python",
   "name": "python3"
  },
  "language_info": {
   "codemirror_mode": {
    "name": "ipython",
    "version": 2
   },
   "file_extension": ".py",
   "mimetype": "text/x-python",
   "name": "python",
   "nbconvert_exporter": "python",
   "pygments_lexer": "ipython2",
   "version": "2.7.6"
  }
 },
 "nbformat": 4,
 "nbformat_minor": 5
}
