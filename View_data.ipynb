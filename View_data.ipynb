{
 "cells": [
  {
   "metadata": {},
   "cell_type": "markdown",
   "source": [
    "训练zinc数据集的指令为\n",
    "`python train_zinc.py --abs-pe rw --se khopgnn --gnn-type pna2 --dropout 0.2 --k-hop 3 --use-edge-attr`"
   ],
   "id": "b577a1a119f61d02"
  },
  {
   "cell_type": "code",
   "execution_count": null,
   "id": "initial_id",
   "metadata": {
    "collapsed": true
   },
   "outputs": [],
   "source": [
    "\n",
    "'''\n",
    "Namespace(abs_pe='rw',\n",
    "            abs_pe_dim=20,\n",
    "            batch_norm=True,\n",
    "            batch_size=128,\n",
    "            crystal_dataset='ZINC',\n",
    "            dim_hidden=64, dropout=0.2,\n",
    "            edge_dim=32,\n",
    "            epochs=2000,\n",
    "            global_pool='mean',\n",
    "            gnn_type='pna2',\n",
    "            k_hop=3,\n",
    "            layer_norm=False,\n",
    "            lr=0.001,\n",
    "            num_heads=8,\n",
    "            num_layers=6,\n",
    "            outdir='',\n",
    "            save_logs=False,\n",
    "            se='khopgnn',\n",
    "            seed=0,\n",
    "            use_cuda=True,\n",
    "            use_edge_attr=True,\n",
    "            warmup=5000,\n",
    "            weight_decay=1e-05)\n",
    "'''"
   ]
  },
  {
   "metadata": {},
   "cell_type": "markdown",
   "source": "在这个project中，train_zinc是可以运行的，请放心，接下来，我们来对比看看zinc数据和crystal数据的差别，为什么crystal经过转化之后就不可以运行",
   "id": "8a6cdceb7c3a8856"
  },
  {
   "metadata": {},
   "cell_type": "markdown",
   "source": "# import here",
   "id": "b9571164f3d22fdf"
  },
  {
   "metadata": {
    "ExecuteTime": {
     "end_time": "2025-03-09T14:42:32.793784Z",
     "start_time": "2025-03-09T14:42:32.763797Z"
    }
   },
   "cell_type": "code",
   "source": [
    "import importlib\n",
    "from csat.data import GraphDataset\n",
    "\n",
    "from torch_geometric.data import DataLoader\n",
    "from torch_geometric import datasets\n",
    "import csat.crytal_data\n",
    "importlib.reload(csat.crytal_data)\n",
    "from csat.crytal_data import crystal_graph_list\n",
    "from csat.models import GraphTransformer\n",
    "import os\n",
    "import copy\n",
    "import argparse\n",
    "import numpy as np\n",
    "import pandas as pd\n",
    "from collections import defaultdict\n",
    "import torch\n",
    "from torch import nn, optim\n",
    "import torch.nn.functional as F\n",
    "import torch_geometric.utils as utils\n",
    "\n",
    "abs_pe='rw'\n",
    "k_hop = 2\n",
    "se = 'khopgnn'\n",
    "use_edge_attr = True\n",
    "abs_pe='rw'\n",
    "abs_pe_dim=20\n",
    "batch_norm=True\n",
    "batch_size=128\n",
    "dim_hidden=64\n",
    "dropout=0.2\n",
    "edge_dim=32\n",
    "epochs=50\n",
    "global_pool='mean'\n",
    "gnn_type='pna2'\n",
    "layer_norm=False\n",
    "lr=0.001\n",
    "num_heads=8\n",
    "num_layers=6\n",
    "outdir=''\n",
    "save_logs=False\n",
    "seed=0\n",
    "use_cuda=True\n",
    "epochs = 50\n",
    "warmup=5000\n",
    "weight_decay=1e-05\n",
    "device = torch.device('cuda' if torch.cuda.is_available() else 'cpu')"
   ],
   "id": "cbb212a4b2cd23fb",
   "outputs": [],
   "execution_count": 151
  },
  {
   "metadata": {},
   "cell_type": "markdown",
   "source": "# 文件地址",
   "id": "514e8d5d37c40160"
  },
  {
   "metadata": {
    "ExecuteTime": {
     "end_time": "2025-03-09T14:48:07.345953Z",
     "start_time": "2025-03-09T14:48:07.335996Z"
    }
   },
   "cell_type": "code",
   "source": [
    "zinc_data_path = './zinc_datasets/ZINC'\n",
    "crystal_data_path = './sample-regression'"
   ],
   "id": "7578a72dd2fffd40",
   "outputs": [],
   "execution_count": 167
  },
  {
   "metadata": {},
   "cell_type": "markdown",
   "source": "# ZINC and Crystal",
   "id": "5cd92b2ab0b10099"
  },
  {
   "metadata": {
    "ExecuteTime": {
     "end_time": "2025-03-09T14:48:16.876315Z",
     "start_time": "2025-03-09T14:48:16.851404Z"
    }
   },
   "cell_type": "code",
   "source": [
    "train_zinc = datasets.ZINC(zinc_data_path, subset=True,split='train')\n",
    "\n",
    "indices = range(0, 10) # 1~10\n",
    "train_zinc = torch.utils.data.Subset(train_zinc, indices)\n",
    "\n",
    "\n",
    "\n",
    "print(train_zinc,'zinc数据集是一个图的list集合。')\n",
    "print(type(train_zinc))\n",
    "print('zinc数据集图的数量：',len(train_zinc))\n",
    "print('zinc数据集第1张图的数据类型为：',train_zinc[0])\n",
    "print('zinc数据集第100张图的数据类型为：',train_zinc[9])"
   ],
   "id": "69adcaf49935e0d",
   "outputs": [
    {
     "name": "stdout",
     "output_type": "stream",
     "text": [
      "<torch.utils.data.dataset.Subset object at 0x000001F224052970> zinc数据集是一个图的list集合。\n",
      "<class 'torch.utils.data.dataset.Subset'>\n",
      "zinc数据集图的数量： 10\n",
      "zinc数据集第1张图的数据类型为： Data(x=[29, 1], edge_index=[2, 64], edge_attr=[64], y=[1])\n",
      "zinc数据集第100张图的数据类型为： Data(x=[18, 1], edge_index=[2, 38], edge_attr=[38], y=[1])\n"
     ]
    }
   ],
   "execution_count": 169
  },
  {
   "metadata": {
    "ExecuteTime": {
     "end_time": "2025-03-09T14:48:19.679887Z",
     "start_time": "2025-03-09T14:48:19.626113Z"
    }
   },
   "cell_type": "code",
   "source": [
    "crystal_data = CIFData(crystal_data_path)\n",
    "print(crystal_data)\n",
    "print(\"crystal data 是一个元组的形式，其数据结构为(atom_fea, nbr_fea, nbr_fea_idx), target, cif_id\")\n",
    "print(\"对应的图数据类型为                             x,  edge_attr,   edge_index\")\n",
    "c_structures, target, cif_id = crystal_data[0]\n",
    "print('atom_fea: (n_i, atom_fea_len)',c_structures[0].shape)\n",
    "print('nbr_fea: (n_i, M, nbr_fea_len)',c_structures[1].shape)\n",
    "print('nbr_fea_idx: (n_i, M)',c_structures[2].shape)\n",
    "print(\"于是，我们需要把他转化为与zinc一样的graph_list\")"
   ],
   "id": "6bc19469c260a38",
   "outputs": [
    {
     "name": "stdout",
     "output_type": "stream",
     "text": [
      "<csat.crytal_data.CIFData object at 0x000001F3284EB310>\n",
      "crystal data 是一个元组的形式，其数据结构为(atom_fea, nbr_fea, nbr_fea_idx), target, cif_id\n",
      "对应的图数据类型为                             x,  edge_attr,   edge_index\n",
      "atom_fea: (n_i, atom_fea_len) torch.Size([8, 92])\n",
      "nbr_fea: (n_i, M, nbr_fea_len) torch.Size([8, 12, 41])\n",
      "nbr_fea_idx: (n_i, M) torch.Size([8, 12])\n",
      "于是，我们需要把他转化为与zinc一样的graph_list\n"
     ]
    }
   ],
   "execution_count": 170
  },
  {
   "metadata": {
    "ExecuteTime": {
     "end_time": "2025-03-09T10:18:54.927909Z",
     "start_time": "2025-03-09T10:18:54.676412Z"
    }
   },
   "cell_type": "code",
   "outputs": [
    {
     "name": "stdout",
     "output_type": "stream",
     "text": [
      "<csat.crytal_data.CIFData object at 0x000001F21DD33340>\n",
      "crystal data 是一个元组的形式，其数据结构为(atom_fea, nbr_fea, nbr_fea_idx), target, cif_id\n",
      "对应的图数据类型为                             x,       \n",
      "于是，我们需要把他转化为与zinc一样的graph_list\n",
      "正在转化的数据集大小为： 10\n"
     ]
    },
    {
     "name": "stderr",
     "output_type": "stream",
     "text": [
      "100%|██████████| 10/10 [00:00<00:00, 43.00it/s]"
     ]
    },
    {
     "name": "stdout",
     "output_type": "stream",
     "text": [
      "这是crystal list的数据类型 <class 'list'>\n",
      "crystal list图的数量： 10\n",
      "crystal list第1张图的数据类型为 Data(x=[8, 92], edge_index=[8, 12], edge_attr=[8, 12, 41], y=[1])\n",
      "crystal list第10张图的数据类型为 Data(x=[8, 92], edge_index=[8, 12], edge_attr=[8, 12, 41], y=[1])\n"
     ]
    },
    {
     "name": "stderr",
     "output_type": "stream",
     "text": [
      "\n"
     ]
    }
   ],
   "execution_count": 12,
   "source": [
    "crystal_list = crystal_graph_list(crystal_data)\n",
    "print('这是crystal list的数据类型',type(crystal_list))\n",
    "print('crystal list图的数量：',len(crystal_list))\n",
    "print('crystal list第1张图的数据类型为',crystal_list[0])\n",
    "print('crystal list第10张图的数据类型为',crystal_list[9])"
   ],
   "id": "ee7aaaa1fbbe3af"
  },
  {
   "metadata": {},
   "cell_type": "markdown",
   "source": [
    "由此我们可以发现\n",
    "\n",
    "zinc：\n",
    "\n",
    "\n",
    "zinc数据集第1张图的数据类型为： Data(x=[29, 1], edge_index=[2, 64], edge_attr=[64], y=[1])\n",
    "\n",
    "zinc数据集第100张图的数据类型为： Data(x=[27, 1], edge_index=[2, 60], edge_attr=[60], y=[1])\n",
    "\n",
    "crystal：\n",
    "\n",
    "crystal list第1张图的数据类型为 Data(x=[8, 92], edge_index=[8, 12], edge_attr=[8, 12, 41], y=[1])\n",
    "\n",
    "crystal list第10张图的数据类型为 Data(x=[8, 92], edge_index=[8, 12], edge_attr=[8, 12, 41],y=[1])\n",
    "\n",
    "在CIFDATA数据中\n",
    "```text\n",
    "atom_fea: torch.Tensor shape (n_i, atom_fea_len)\n",
    "nbr_fea: torch.Tensor shape (n_i, M, nbr_fea_len)\n",
    "nbr_fea_idx: torch.LongTensor shape (n_i, M)\n",
    "target: torch.Tensor shape (1, )\n",
    "```\n",
    "\n",
    "\n",
    "我们就需要对其做出修改,将egde_index改为[2, num_edges],将edge_attr降维为1维度。"
   ],
   "id": "409942864eb2bb29"
  },
  {
   "metadata": {
    "ExecuteTime": {
     "end_time": "2025-03-09T10:37:48.317826Z",
     "start_time": "2025-03-09T10:37:48.298774Z"
    }
   },
   "cell_type": "code",
   "source": [
    "print('这是重新编写之后的crystal list！')\n",
    "crystal_list = crystal_graph_list(crystal_data)\n",
    "print('这是crystal list的数据类型',type(crystal_list))\n",
    "print('crystal list图的数量：',len(crystal_list))\n",
    "print('crystal list第1张图的数据类型为',crystal_list[0])\n",
    "print('crystal list第10张图的数据类型为',crystal_list[9])"
   ],
   "id": "1f959852d6bb0f18",
   "outputs": [
    {
     "name": "stdout",
     "output_type": "stream",
     "text": [
      "这是重新编写之后的crystal list！\n",
      "正在转化的数据集大小为： 10\n"
     ]
    },
    {
     "name": "stderr",
     "output_type": "stream",
     "text": [
      "100%|██████████| 10/10 [00:00<00:00, 5024.32it/s]"
     ]
    },
    {
     "name": "stdout",
     "output_type": "stream",
     "text": [
      "这是crystal list的数据类型 <class 'list'>\n",
      "crystal list图的数量： 10\n",
      "crystal list第1张图的数据类型为 Data(x=[8, 92], edge_index=[2, 48], edge_attr=[96], y=[1])\n",
      "crystal list第10张图的数据类型为 Data(x=[8, 92], edge_index=[2, 48], edge_attr=[96], y=[1])\n"
     ]
    },
    {
     "name": "stderr",
     "output_type": "stream",
     "text": [
      "\n"
     ]
    }
   ],
   "execution_count": 26
  },
  {
   "metadata": {},
   "cell_type": "markdown",
   "source": "然后调用sat的graphdataset提取子图",
   "id": "82856bf3114c0498"
  },
  {
   "metadata": {
    "ExecuteTime": {
     "end_time": "2025-03-09T13:22:49.015790Z",
     "start_time": "2025-03-09T13:22:48.933141Z"
    }
   },
   "cell_type": "code",
   "source": [
    "train_zinc_dset = GraphDataset(train_zinc,degree=True, k_hop=k_hop, se=se,use_subgraph_edge_attr=use_edge_attr)\n",
    "print(train_zinc_dset)\n",
    "print('含有子图第一张图数据为：',train_zinc_dset[0])"
   ],
   "id": "16d26f70396f620a",
   "outputs": [
    {
     "name": "stdout",
     "output_type": "stream",
     "text": [
      "Extracting 2-hop subgraphs...\n",
      "Done!\n",
      "<csat.data.GraphDataset object at 0x000001F2AA118CD0>\n",
      "含有子图第一张图数据为： Data(x=[29], edge_index=[2, 64], edge_attr=[64], y=[1, 1], complete_edge_index=[2, 841], degree=[29], subgraph_edge_index=[2, 326], num_subgraph_nodes=187, subgraph_node_idx=[187], subgraph_edge_attr=[326], subgraph_indicator=[187])\n"
     ]
    }
   ],
   "execution_count": 97
  },
  {
   "metadata": {},
   "cell_type": "markdown",
   "source": "",
   "id": "8941049b11a2d294"
  },
  {
   "metadata": {
    "ExecuteTime": {
     "end_time": "2025-03-09T14:47:27.391682Z",
     "start_time": "2025-03-09T14:47:27.343885Z"
    }
   },
   "cell_type": "code",
   "source": [
    "train_c_dset = GraphDataset(crystal_list,degree=True, k_hop=k_hop, se=se,use_subgraph_edge_attr=use_edge_attr)\n",
    "print('含有子图的crystal数据集第一张图数据为：',trian_c_dset[0])"
   ],
   "id": "11a5a7f6afb2f86e",
   "outputs": [
    {
     "name": "stdout",
     "output_type": "stream",
     "text": [
      "Extracting 2-hop subgraphs...\n",
      "Done!\n",
      "含有子图的crystal数据集第一张图数据为： Data(x=[8, 92], edge_index=[2, 12], edge_attr=[12], y=[1, 1], complete_edge_index=[2, 64], subgraph_edge_index=[2, 14], num_subgraph_nodes=15, subgraph_node_idx=[15], subgraph_edge_attr=[14], subgraph_indicator=[15], degree=[8])\n"
     ]
    }
   ],
   "execution_count": 163
  },
  {
   "metadata": {},
   "cell_type": "markdown",
   "source": [
    "我的原数据为`Data(x=[8, 92], edge_index=[8, 12], edge_attr=[8, 12, 41], y=[1])`，再经过edge_index转化[2,n]以及edge_attr降维之后变成：`Data(x=[8, 92], edge_index=[2, 48], edge_attr=[96], y=[1])`。\n",
    "\n",
    "于是出现了问题：edge_mask 是一个布尔张量，用于选择与当前子图相关的边。它的长度应该等于graph.edge_index 的边数（即 graph.edge_index.shape[1]）。但是graph.edge_attr 的长度是 96，因此无法用 edge_mask 对 graph.edge_attr 进行索引。\n",
    "\n",
    "因此对crystal_graph_list进行改写，使用了稀疏矩阵的方法重新改写，再测试"
   ],
   "id": "e9514fa7db5542da"
  },
  {
   "metadata": {
    "ExecuteTime": {
     "end_time": "2025-03-09T14:48:47.721285Z",
     "start_time": "2025-03-09T14:48:47.517520Z"
    }
   },
   "cell_type": "code",
   "source": [
    "print('这是第二次重新编写之后的crystal list！')\n",
    "crystal_list = crystal_graph_list(crystal_data)\n",
    "print('这是crystal list的数据类型',type(crystal_list))\n",
    "print('crystal list图的数量：',len(crystal_list))\n",
    "print('crystal list第1张图的数据类型为',crystal_list[0])\n",
    "print('crystal list第10张图的数据类型为',crystal_list[9])"
   ],
   "id": "27791441310f579d",
   "outputs": [
    {
     "name": "stdout",
     "output_type": "stream",
     "text": [
      "这是第二次重新编写之后的crystal list！\n",
      "正在转化的数据集大小为： 10\n"
     ]
    },
    {
     "name": "stderr",
     "output_type": "stream",
     "text": [
      "  0%|          | 0/10 [00:00<?, ?it/s]E:\\WYX_Project\\SAT-CGCN-Demo-1\\csat\\crytal_data.py:342: UserWarning: To copy construct from a tensor, it is recommended to use sourceTensor.clone().detach() or sourceTensor.clone().detach().requires_grad_(True), rather than torch.tensor(sourceTensor).\n",
      "  x = torch.tensor(x, dtype=torch.long)\n",
      "E:\\WYX_Project\\SAT-CGCN-Demo-1\\csat\\crytal_data.py:343: UserWarning: To copy construct from a tensor, it is recommended to use sourceTensor.clone().detach() or sourceTensor.clone().detach().requires_grad_(True), rather than torch.tensor(sourceTensor).\n",
      "  edge_attr = torch.tensor(edge_attr, dtype=torch.long)\n",
      "E:\\WYX_Project\\SAT-CGCN-Demo-1\\csat\\crytal_data.py:344: UserWarning: To copy construct from a tensor, it is recommended to use sourceTensor.clone().detach() or sourceTensor.clone().detach().requires_grad_(True), rather than torch.tensor(sourceTensor).\n",
      "  target = torch.tensor(target, dtype=torch.long)\n",
      "E:\\anaconda3\\envs\\pytorch\\lib\\site-packages\\pymatgen\\io\\cif.py:1168: UserWarning: Issues encountered while parsing CIF: Some fractional coordinates rounded to ideal values to avoid issues with finite precision.\n",
      "  warnings.warn(\"Issues encountered while parsing CIF: \" + \"\\n\".join(self.warnings))\n",
      "100%|██████████| 10/10 [00:00<00:00, 54.41it/s]"
     ]
    },
    {
     "name": "stdout",
     "output_type": "stream",
     "text": [
      "这是crystal list的数据类型 <class 'list'>\n",
      "crystal list图的数量： 10\n",
      "crystal list第1张图的数据类型为 Data(x=[8, 92], edge_index=[2, 12], edge_attr=[12], y=[1])\n",
      "crystal list第10张图的数据类型为 Data(x=[8, 92], edge_index=[2, 12], edge_attr=[12], y=[1])\n"
     ]
    },
    {
     "name": "stderr",
     "output_type": "stream",
     "text": [
      "\n"
     ]
    }
   ],
   "execution_count": 171
  },
  {
   "metadata": {},
   "cell_type": "markdown",
   "source": "结果表明很成功",
   "id": "5ce1a5ff3d29d8f0"
  },
  {
   "metadata": {
    "ExecuteTime": {
     "end_time": "2025-03-09T14:48:51.656867Z",
     "start_time": "2025-03-09T14:48:51.531825Z"
    }
   },
   "cell_type": "code",
   "source": [
    "train_c_dset = GraphDataset(crystal_list,degree=True, k_hop=k_hop, se=se,use_subgraph_edge_attr=use_edge_attr)\n",
    "print('c',trian_c_dset[0])\n",
    "\n",
    "train_zinc_dset = GraphDataset(train_zinc, degree=True, k_hop=k_hop, se=se, use_subgraph_edge_attr=use_edge_attr)\n",
    "print(train_zinc_dset)\n",
    "print('z', train_zinc_dset[0])"
   ],
   "id": "446185615707cd1c",
   "outputs": [
    {
     "name": "stdout",
     "output_type": "stream",
     "text": [
      "Extracting 2-hop subgraphs...\n",
      "Done!\n",
      "c Data(x=[8, 92], edge_index=[2, 12], edge_attr=[12], y=[1, 1], complete_edge_index=[2, 64], subgraph_edge_index=[2, 14], num_subgraph_nodes=15, subgraph_node_idx=[15], subgraph_edge_attr=[14], subgraph_indicator=[15], degree=[8])\n",
      "Extracting 2-hop subgraphs...\n",
      "Done!\n",
      "<csat.data.GraphDataset object at 0x000001F3062A91C0>\n",
      "z Data(x=[29], edge_index=[2, 64], edge_attr=[64], y=[1, 1], complete_edge_index=[2, 841], degree=[29], subgraph_edge_index=[2, 326], num_subgraph_nodes=187, subgraph_node_idx=[187], subgraph_edge_attr=[326], subgraph_indicator=[187])\n"
     ]
    }
   ],
   "execution_count": 172
  },
  {
   "metadata": {},
   "cell_type": "markdown",
   "source": [
    "在开始训练之前，出现了如下：\n",
    "\n",
    "RuntimeError: The expanded size of the tensor (276) must match the existing size (3) at non-singleton dimension 0.  Target sizes: [276, 64].  Tensor sizes: [3, 1]"
   ],
   "id": "95d4fb0b572712e4"
  },
  {
   "metadata": {
    "ExecuteTime": {
     "end_time": "2025-03-09T14:47:35.249910Z",
     "start_time": "2025-03-09T14:47:35.217048Z"
    }
   },
   "cell_type": "code",
   "source": [
    "print('zinc数据集第1张图的数据类型为：',train_zinc[0])\n",
    "print('\\n')\n",
    "print('含有子图的zinc第1张',train_zinc_dset[0])\n",
    "print('\\n')\n",
    "print('zinc数据集在loader前',train_zinc_dset[0])\n",
    "train_zinc_loader = DataLoader(train_zinc_dset, batch_size=128,shuffle=True)\n",
    "print('\\n')\n",
    "for batch in train_zinc_loader:\n",
    "    print('loader之后：',batch)\n",
    "    break"
   ],
   "id": "e81c340cc5dc006b",
   "outputs": [
    {
     "name": "stdout",
     "output_type": "stream",
     "text": [
      "zinc数据集第1张图的数据类型为： Data(x=[29, 1], edge_index=[2, 64], edge_attr=[64], y=[1])\n",
      "\n",
      "\n",
      "含有子图的zinc第1张 Data(x=[29], edge_index=[2, 64], edge_attr=[64], y=[1, 1], complete_edge_index=[2, 841], degree=[29], subgraph_edge_index=[2, 326], num_subgraph_nodes=187, subgraph_node_idx=[187], subgraph_edge_attr=[326], subgraph_indicator=[187])\n",
      "\n",
      "\n",
      "zinc数据集在loader前 Data(x=[29], edge_index=[2, 64], edge_attr=[64], y=[1, 1], complete_edge_index=[2, 841], degree=[29], subgraph_edge_index=[2, 326], num_subgraph_nodes=187, subgraph_node_idx=[187], subgraph_edge_attr=[326], subgraph_indicator=[187])\n",
      "\n",
      "\n",
      "loader之后： DataBatch(x=[222], edge_index=[2, 472], edge_attr=[472], y=[10, 1], complete_edge_index=[2, 5152], degree=[222], subgraph_edge_index=[2, 2310], num_subgraph_nodes=[10], subgraph_node_idx=[1334], subgraph_edge_attr=[2310], subgraph_indicator=[1334], batch=[222], ptr=[11])\n"
     ]
    }
   ],
   "execution_count": 165
  },
  {
   "metadata": {
    "ExecuteTime": {
     "end_time": "2025-03-09T14:49:21.202786Z",
     "start_time": "2025-03-09T14:49:21.183865Z"
    }
   },
   "cell_type": "code",
   "source": [
    "print('c数据集第1张图的数据类型为：',crystal_list[0])\n",
    "print('\\n')\n",
    "print('含有子图的c第1张',train_c_dset[0])\n",
    "print('\\n')\n",
    "print('crystal数据集在loader前',train_c_dset[0])\n",
    "print('\\n')\n",
    "\n",
    "train_c_loader = DataLoader(train_c_dset, batch_size=128, shuffle=True)\n",
    "for batch in train_c_loader:\n",
    "    print('loader之后：',batch)\n",
    "    break"
   ],
   "id": "17e02a4a200b4627",
   "outputs": [
    {
     "name": "stdout",
     "output_type": "stream",
     "text": [
      "c数据集第1张图的数据类型为： Data(x=[8, 92], edge_index=[2, 12], edge_attr=[12], y=[1])\n",
      "\n",
      "\n",
      "含有子图的c第1张 Data(x=[8, 92], edge_index=[2, 12], edge_attr=[12], y=[1, 1], complete_edge_index=[2, 64], degree=[8], subgraph_edge_index=[2, 14], num_subgraph_nodes=15, subgraph_node_idx=[15], subgraph_edge_attr=[14], subgraph_indicator=[15])\n",
      "\n",
      "\n",
      "crystal数据集在loader前 Data(x=[8, 92], edge_index=[2, 12], edge_attr=[12], y=[1, 1], complete_edge_index=[2, 64], subgraph_edge_index=[2, 14], num_subgraph_nodes=15, subgraph_node_idx=[15], subgraph_edge_attr=[14], subgraph_indicator=[15], degree=[8])\n",
      "\n",
      "\n",
      "loader之后： DataBatch(x=[65, 92], edge_index=[2, 120], edge_attr=[120], y=[10, 1], complete_edge_index=[2, 513], degree=[65], subgraph_edge_index=[2, 129], num_subgraph_nodes=[10], subgraph_node_idx=[100], subgraph_edge_attr=[129], subgraph_indicator=[100], batch=[65], ptr=[11])\n"
     ]
    }
   ],
   "execution_count": 173
  },
  {
   "metadata": {},
   "cell_type": "markdown",
   "source": "从数据上看，没有什么问题",
   "id": "f3da2bba607c7daf"
  },
  {
   "metadata": {
    "ExecuteTime": {
     "end_time": "2025-03-09T14:03:03.762604Z",
     "start_time": "2025-03-09T14:03:03.656746Z"
    }
   },
   "cell_type": "code",
   "source": [
    "deg = torch.cat([\n",
    "        utils.degree(data.edge_index[1], num_nodes=data.num_nodes) for\n",
    "        data in train_zinc_dset])\n",
    "zinc_model = GraphTransformer(in_size=28,\n",
    "                             num_class=1,\n",
    "                             d_model=dim_hidden,\n",
    "                             dim_feedforward=2 * dim_hidden,\n",
    "                             dropout=dropout,\n",
    "                             num_heads=num_heads,\n",
    "                             num_layers=num_layers,\n",
    "                             batch_norm=batch_norm,\n",
    "                             abs_pe=abs_pe,\n",
    "                             abs_pe_dim=abs_pe_dim,\n",
    "                             gnn_type=gnn_type,\n",
    "                             use_edge_attr=use_edge_attr,\n",
    "                             num_edge_features=4,\n",
    "                             edge_dim=edge_dim,\n",
    "                             k_hop=k_hop,\n",
    "                             se=se,\n",
    "                             deg=deg,\n",
    "                             global_pool=global_pool)"
   ],
   "id": "7920436dc65a1a42",
   "outputs": [],
   "execution_count": 135
  },
  {
   "metadata": {},
   "cell_type": "markdown",
   "source": [
    "在这里需要注意一个问题\n",
    "\n",
    "zinc数据集中\n",
    "\n",
    "number of node attributes for ZINC crystal_dataset\n",
    "\n",
    "n_tags = 28------------>in_size\n",
    "\n",
    "num_edge_features = 4\n",
    "\n",
    "而我们crystal数据集的这两个参数是未知的，于是我使用92，41代替\n"
   ],
   "id": "53492fdfbcb4f565"
  },
  {
   "metadata": {
    "ExecuteTime": {
     "end_time": "2025-03-09T14:36:15.387867Z",
     "start_time": "2025-03-09T14:36:14.447824Z"
    }
   },
   "cell_type": "code",
   "source": [
    "deg = torch.cat([\n",
    "        utils.degree(data.edge_index[1], num_nodes=data.num_nodes) for\n",
    "        data in train_c_dset])\n",
    "c_model = GraphTransformer(in_size=92,\n",
    "                             num_class=1,\n",
    "                             d_model=dim_hidden,\n",
    "                             dim_feedforward=2 * dim_hidden,\n",
    "                             dropout=dropout,\n",
    "                             num_heads=num_heads,\n",
    "                             num_layers=num_layers,\n",
    "                             batch_norm=batch_norm,\n",
    "                             abs_pe=abs_pe,\n",
    "                             abs_pe_dim=abs_pe_dim,\n",
    "                             gnn_type=gnn_type,\n",
    "                             use_edge_attr=use_edge_attr,\n",
    "                             num_edge_features=4,\n",
    "                             edge_dim=edge_dim,\n",
    "                             k_hop=k_hop,\n",
    "                             se=se,\n",
    "                             deg=deg,\n",
    "                             global_pool=global_pool)"
   ],
   "id": "6305b3612ef5f452",
   "outputs": [
    {
     "name": "stderr",
     "output_type": "stream",
     "text": [
      "Exception ignored in: <function _MultiProcessingDataLoaderIter.__del__ at 0x000001F261218160>\n",
      "Traceback (most recent call last):\n",
      "  File \"E:\\anaconda3\\envs\\pytorch\\lib\\site-packages\\torch\\utils\\data\\dataloader.py\", line 1477, in __del__\n",
      "    self._shutdown_workers()\n",
      "  File \"E:\\anaconda3\\envs\\pytorch\\lib\\site-packages\\torch\\utils\\data\\dataloader.py\", line 1435, in _shutdown_workers\n",
      "    if self._persistent_workers or self._workers_status[worker_id]:\n",
      "AttributeError: '_MultiProcessingDataLoaderIter' object has no attribute '_workers_status'\n"
     ]
    }
   ],
   "execution_count": 136
  },
  {
   "metadata": {
    "ExecuteTime": {
     "end_time": "2025-03-09T14:43:18.766115Z",
     "start_time": "2025-03-09T14:43:18.755050Z"
    }
   },
   "cell_type": "code",
   "source": [
    "def train_out(loader, model,optimizer,abs_pe):\n",
    "    for i, data in enumerate(loader):\n",
    "        print(data)\n",
    "        size = len(data.y)\n",
    "        print(abs_pe)\n",
    "        if abs_pe == 'lap':\n",
    "            sign_flip = torch.rand(data.abs_pe.shape[-1])\n",
    "            sign_flip[sign_flip >= 0.5] = 1.0\n",
    "            sign_flip[sign_flip < 0.5] = -1.0\n",
    "            data.abs_pe = data.abs_pe * sign_flip.unsqueeze(0)\n",
    "\n",
    "\n",
    "        if use_cuda:\n",
    "            data = data.cuda()\n",
    "\n",
    "        optimizer.zero_grad()\n",
    "        output = model(data)\n",
    "        return output"
   ],
   "id": "fd1c01f4bbde7e64",
   "outputs": [],
   "execution_count": 156
  },
  {
   "metadata": {
    "ExecuteTime": {
     "end_time": "2025-03-09T14:36:26.231037Z",
     "start_time": "2025-03-09T14:36:26.152371Z"
    }
   },
   "cell_type": "code",
   "source": [
    "zinc_model = zinc_model.to(device)\n",
    "optimizer = optim.AdamW(zinc_model.parameters(), lr=lr, weight_decay=weight_decay)\n",
    "zinc_out = train_out(train_zinc_loader, zinc_model,optimizer,abs_pe)\n"
   ],
   "id": "624d37180f2d472c",
   "outputs": [
    {
     "name": "stdout",
     "output_type": "stream",
     "text": [
      "DataBatch(x=[222], edge_index=[2, 472], edge_attr=[472], y=[10, 1], complete_edge_index=[2, 5152], degree=[222], subgraph_edge_index=[2, 2310], num_subgraph_nodes=[10], subgraph_node_idx=[1334], subgraph_edge_attr=[2310], subgraph_indicator=[1334], batch=[222], ptr=[11])\n",
      "rw\n"
     ]
    }
   ],
   "execution_count": 139
  },
  {
   "metadata": {
    "ExecuteTime": {
     "end_time": "2025-03-09T14:43:28.589883Z",
     "start_time": "2025-03-09T14:43:28.305482Z"
    }
   },
   "cell_type": "code",
   "source": [
    "c_model = zinc_model.to(device)\n",
    "optimizer = optim.AdamW(zinc_model.parameters(), lr=lr, weight_decay=weight_decay)\n",
    "c_out = train_out(train_c_loader, zinc_model,optimizer,abs_pe)"
   ],
   "id": "a72a9bf13ab73922",
   "outputs": [
    {
     "name": "stdout",
     "output_type": "stream",
     "text": [
      "DataBatch(x=[65, 92], edge_index=[2, 120], edge_attr=[120], y=[10, 1], complete_edge_index=[2, 513], subgraph_edge_index=[2, 129], num_subgraph_nodes=[10], subgraph_node_idx=[100], subgraph_edge_attr=[129], subgraph_indicator=[100], degree=[65], batch=[65], ptr=[11])\n",
      "rw\n"
     ]
    },
    {
     "ename": "RuntimeError",
     "evalue": "The expanded size of the tensor (9200) must match the existing size (100) at non-singleton dimension 0.  Target sizes: [9200, 64].  Tensor sizes: [100, 1]",
     "output_type": "error",
     "traceback": [
      "\u001B[1;31m---------------------------------------------------------------------------\u001B[0m",
      "\u001B[1;31mRuntimeError\u001B[0m                              Traceback (most recent call last)",
      "Cell \u001B[1;32mIn[158], line 3\u001B[0m\n\u001B[0;32m      1\u001B[0m c_model \u001B[38;5;241m=\u001B[39m zinc_model\u001B[38;5;241m.\u001B[39mto(device)\n\u001B[0;32m      2\u001B[0m optimizer \u001B[38;5;241m=\u001B[39m optim\u001B[38;5;241m.\u001B[39mAdamW(zinc_model\u001B[38;5;241m.\u001B[39mparameters(), lr\u001B[38;5;241m=\u001B[39mlr, weight_decay\u001B[38;5;241m=\u001B[39mweight_decay)\n\u001B[1;32m----> 3\u001B[0m c_out \u001B[38;5;241m=\u001B[39m \u001B[43mtrain_out\u001B[49m\u001B[43m(\u001B[49m\u001B[43mtrain_c_loader\u001B[49m\u001B[43m,\u001B[49m\u001B[43m \u001B[49m\u001B[43mzinc_model\u001B[49m\u001B[43m,\u001B[49m\u001B[43moptimizer\u001B[49m\u001B[43m,\u001B[49m\u001B[43mabs_pe\u001B[49m\u001B[43m)\u001B[49m\n",
      "Cell \u001B[1;32mIn[156], line 17\u001B[0m, in \u001B[0;36mtrain_out\u001B[1;34m(loader, model, optimizer, abs_pe)\u001B[0m\n\u001B[0;32m     14\u001B[0m     data \u001B[38;5;241m=\u001B[39m data\u001B[38;5;241m.\u001B[39mcuda()\n\u001B[0;32m     16\u001B[0m optimizer\u001B[38;5;241m.\u001B[39mzero_grad()\n\u001B[1;32m---> 17\u001B[0m output \u001B[38;5;241m=\u001B[39m \u001B[43mmodel\u001B[49m\u001B[43m(\u001B[49m\u001B[43mdata\u001B[49m\u001B[43m)\u001B[49m\n\u001B[0;32m     18\u001B[0m \u001B[38;5;28;01mreturn\u001B[39;00m output\n",
      "File \u001B[1;32mE:\\anaconda3\\envs\\pytorch\\lib\\site-packages\\torch\\nn\\modules\\module.py:1553\u001B[0m, in \u001B[0;36mModule._wrapped_call_impl\u001B[1;34m(self, *args, **kwargs)\u001B[0m\n\u001B[0;32m   1551\u001B[0m     \u001B[38;5;28;01mreturn\u001B[39;00m \u001B[38;5;28mself\u001B[39m\u001B[38;5;241m.\u001B[39m_compiled_call_impl(\u001B[38;5;241m*\u001B[39margs, \u001B[38;5;241m*\u001B[39m\u001B[38;5;241m*\u001B[39mkwargs)  \u001B[38;5;66;03m# type: ignore[misc]\u001B[39;00m\n\u001B[0;32m   1552\u001B[0m \u001B[38;5;28;01melse\u001B[39;00m:\n\u001B[1;32m-> 1553\u001B[0m     \u001B[38;5;28;01mreturn\u001B[39;00m \u001B[38;5;28;43mself\u001B[39;49m\u001B[38;5;241;43m.\u001B[39;49m\u001B[43m_call_impl\u001B[49m\u001B[43m(\u001B[49m\u001B[38;5;241;43m*\u001B[39;49m\u001B[43margs\u001B[49m\u001B[43m,\u001B[49m\u001B[43m \u001B[49m\u001B[38;5;241;43m*\u001B[39;49m\u001B[38;5;241;43m*\u001B[39;49m\u001B[43mkwargs\u001B[49m\u001B[43m)\u001B[49m\n",
      "File \u001B[1;32mE:\\anaconda3\\envs\\pytorch\\lib\\site-packages\\torch\\nn\\modules\\module.py:1562\u001B[0m, in \u001B[0;36mModule._call_impl\u001B[1;34m(self, *args, **kwargs)\u001B[0m\n\u001B[0;32m   1557\u001B[0m \u001B[38;5;66;03m# If we don't have any hooks, we want to skip the rest of the logic in\u001B[39;00m\n\u001B[0;32m   1558\u001B[0m \u001B[38;5;66;03m# this function, and just call forward.\u001B[39;00m\n\u001B[0;32m   1559\u001B[0m \u001B[38;5;28;01mif\u001B[39;00m \u001B[38;5;129;01mnot\u001B[39;00m (\u001B[38;5;28mself\u001B[39m\u001B[38;5;241m.\u001B[39m_backward_hooks \u001B[38;5;129;01mor\u001B[39;00m \u001B[38;5;28mself\u001B[39m\u001B[38;5;241m.\u001B[39m_backward_pre_hooks \u001B[38;5;129;01mor\u001B[39;00m \u001B[38;5;28mself\u001B[39m\u001B[38;5;241m.\u001B[39m_forward_hooks \u001B[38;5;129;01mor\u001B[39;00m \u001B[38;5;28mself\u001B[39m\u001B[38;5;241m.\u001B[39m_forward_pre_hooks\n\u001B[0;32m   1560\u001B[0m         \u001B[38;5;129;01mor\u001B[39;00m _global_backward_pre_hooks \u001B[38;5;129;01mor\u001B[39;00m _global_backward_hooks\n\u001B[0;32m   1561\u001B[0m         \u001B[38;5;129;01mor\u001B[39;00m _global_forward_hooks \u001B[38;5;129;01mor\u001B[39;00m _global_forward_pre_hooks):\n\u001B[1;32m-> 1562\u001B[0m     \u001B[38;5;28;01mreturn\u001B[39;00m \u001B[43mforward_call\u001B[49m\u001B[43m(\u001B[49m\u001B[38;5;241;43m*\u001B[39;49m\u001B[43margs\u001B[49m\u001B[43m,\u001B[49m\u001B[43m \u001B[49m\u001B[38;5;241;43m*\u001B[39;49m\u001B[38;5;241;43m*\u001B[39;49m\u001B[43mkwargs\u001B[49m\u001B[43m)\u001B[49m\n\u001B[0;32m   1564\u001B[0m \u001B[38;5;28;01mtry\u001B[39;00m:\n\u001B[0;32m   1565\u001B[0m     result \u001B[38;5;241m=\u001B[39m \u001B[38;5;28;01mNone\u001B[39;00m\n",
      "File \u001B[1;32mE:\\WYX_Project\\SAT-CGCN-Demo-1\\csat\\models.py:150\u001B[0m, in \u001B[0;36mGraphTransformer.forward\u001B[1;34m(self, data, return_attn)\u001B[0m\n\u001B[0;32m    147\u001B[0m     cls_tokens \u001B[38;5;241m=\u001B[39m repeat(\u001B[38;5;28mself\u001B[39m\u001B[38;5;241m.\u001B[39mcls_token, \u001B[38;5;124m'\u001B[39m\u001B[38;5;124m() d -> b d\u001B[39m\u001B[38;5;124m'\u001B[39m, b\u001B[38;5;241m=\u001B[39mbsz)\n\u001B[0;32m    148\u001B[0m     output \u001B[38;5;241m=\u001B[39m torch\u001B[38;5;241m.\u001B[39mcat((output, cls_tokens))\n\u001B[1;32m--> 150\u001B[0m output \u001B[38;5;241m=\u001B[39m \u001B[38;5;28;43mself\u001B[39;49m\u001B[38;5;241;43m.\u001B[39;49m\u001B[43mencoder\u001B[49m\u001B[43m(\u001B[49m\n\u001B[0;32m    151\u001B[0m \u001B[43m    \u001B[49m\u001B[43moutput\u001B[49m\u001B[43m,\u001B[49m\u001B[43m \u001B[49m\n\u001B[0;32m    152\u001B[0m \u001B[43m    \u001B[49m\u001B[43medge_index\u001B[49m\u001B[43m,\u001B[49m\u001B[43m \u001B[49m\n\u001B[0;32m    153\u001B[0m \u001B[43m    \u001B[49m\u001B[43mcomplete_edge_index\u001B[49m\u001B[43m,\u001B[49m\n\u001B[0;32m    154\u001B[0m \u001B[43m    \u001B[49m\u001B[43medge_attr\u001B[49m\u001B[38;5;241;43m=\u001B[39;49m\u001B[43medge_attr\u001B[49m\u001B[43m,\u001B[49m\u001B[43m \u001B[49m\n\u001B[0;32m    155\u001B[0m \u001B[43m    \u001B[49m\u001B[43mdegree\u001B[49m\u001B[38;5;241;43m=\u001B[39;49m\u001B[43mdegree\u001B[49m\u001B[43m,\u001B[49m\n\u001B[0;32m    156\u001B[0m \u001B[43m    \u001B[49m\u001B[43msubgraph_node_index\u001B[49m\u001B[38;5;241;43m=\u001B[39;49m\u001B[43msubgraph_node_index\u001B[49m\u001B[43m,\u001B[49m\n\u001B[0;32m    157\u001B[0m \u001B[43m    \u001B[49m\u001B[43msubgraph_edge_index\u001B[49m\u001B[38;5;241;43m=\u001B[39;49m\u001B[43msubgraph_edge_index\u001B[49m\u001B[43m,\u001B[49m\n\u001B[0;32m    158\u001B[0m \u001B[43m    \u001B[49m\u001B[43msubgraph_indicator_index\u001B[49m\u001B[38;5;241;43m=\u001B[39;49m\u001B[43msubgraph_indicator_index\u001B[49m\u001B[43m,\u001B[49m\u001B[43m \u001B[49m\n\u001B[0;32m    159\u001B[0m \u001B[43m    \u001B[49m\u001B[43msubgraph_edge_attr\u001B[49m\u001B[38;5;241;43m=\u001B[39;49m\u001B[43msubgraph_edge_attr\u001B[49m\u001B[43m,\u001B[49m\n\u001B[0;32m    160\u001B[0m \u001B[43m    \u001B[49m\u001B[43mptr\u001B[49m\u001B[38;5;241;43m=\u001B[39;49m\u001B[43mdata\u001B[49m\u001B[38;5;241;43m.\u001B[39;49m\u001B[43mptr\u001B[49m\u001B[43m,\u001B[49m\n\u001B[0;32m    161\u001B[0m \u001B[43m    \u001B[49m\u001B[43mreturn_attn\u001B[49m\u001B[38;5;241;43m=\u001B[39;49m\u001B[43mreturn_attn\u001B[49m\n\u001B[0;32m    162\u001B[0m \u001B[43m\u001B[49m\u001B[43m)\u001B[49m\n\u001B[0;32m    163\u001B[0m \u001B[38;5;66;03m# readout step\u001B[39;00m\n\u001B[0;32m    164\u001B[0m \u001B[38;5;28;01mif\u001B[39;00m \u001B[38;5;28mself\u001B[39m\u001B[38;5;241m.\u001B[39muse_global_pool:\n",
      "File \u001B[1;32mE:\\anaconda3\\envs\\pytorch\\lib\\site-packages\\torch\\nn\\modules\\module.py:1553\u001B[0m, in \u001B[0;36mModule._wrapped_call_impl\u001B[1;34m(self, *args, **kwargs)\u001B[0m\n\u001B[0;32m   1551\u001B[0m     \u001B[38;5;28;01mreturn\u001B[39;00m \u001B[38;5;28mself\u001B[39m\u001B[38;5;241m.\u001B[39m_compiled_call_impl(\u001B[38;5;241m*\u001B[39margs, \u001B[38;5;241m*\u001B[39m\u001B[38;5;241m*\u001B[39mkwargs)  \u001B[38;5;66;03m# type: ignore[misc]\u001B[39;00m\n\u001B[0;32m   1552\u001B[0m \u001B[38;5;28;01melse\u001B[39;00m:\n\u001B[1;32m-> 1553\u001B[0m     \u001B[38;5;28;01mreturn\u001B[39;00m \u001B[38;5;28;43mself\u001B[39;49m\u001B[38;5;241;43m.\u001B[39;49m\u001B[43m_call_impl\u001B[49m\u001B[43m(\u001B[49m\u001B[38;5;241;43m*\u001B[39;49m\u001B[43margs\u001B[49m\u001B[43m,\u001B[49m\u001B[43m \u001B[49m\u001B[38;5;241;43m*\u001B[39;49m\u001B[38;5;241;43m*\u001B[39;49m\u001B[43mkwargs\u001B[49m\u001B[43m)\u001B[49m\n",
      "File \u001B[1;32mE:\\anaconda3\\envs\\pytorch\\lib\\site-packages\\torch\\nn\\modules\\module.py:1562\u001B[0m, in \u001B[0;36mModule._call_impl\u001B[1;34m(self, *args, **kwargs)\u001B[0m\n\u001B[0;32m   1557\u001B[0m \u001B[38;5;66;03m# If we don't have any hooks, we want to skip the rest of the logic in\u001B[39;00m\n\u001B[0;32m   1558\u001B[0m \u001B[38;5;66;03m# this function, and just call forward.\u001B[39;00m\n\u001B[0;32m   1559\u001B[0m \u001B[38;5;28;01mif\u001B[39;00m \u001B[38;5;129;01mnot\u001B[39;00m (\u001B[38;5;28mself\u001B[39m\u001B[38;5;241m.\u001B[39m_backward_hooks \u001B[38;5;129;01mor\u001B[39;00m \u001B[38;5;28mself\u001B[39m\u001B[38;5;241m.\u001B[39m_backward_pre_hooks \u001B[38;5;129;01mor\u001B[39;00m \u001B[38;5;28mself\u001B[39m\u001B[38;5;241m.\u001B[39m_forward_hooks \u001B[38;5;129;01mor\u001B[39;00m \u001B[38;5;28mself\u001B[39m\u001B[38;5;241m.\u001B[39m_forward_pre_hooks\n\u001B[0;32m   1560\u001B[0m         \u001B[38;5;129;01mor\u001B[39;00m _global_backward_pre_hooks \u001B[38;5;129;01mor\u001B[39;00m _global_backward_hooks\n\u001B[0;32m   1561\u001B[0m         \u001B[38;5;129;01mor\u001B[39;00m _global_forward_hooks \u001B[38;5;129;01mor\u001B[39;00m _global_forward_pre_hooks):\n\u001B[1;32m-> 1562\u001B[0m     \u001B[38;5;28;01mreturn\u001B[39;00m \u001B[43mforward_call\u001B[49m\u001B[43m(\u001B[49m\u001B[38;5;241;43m*\u001B[39;49m\u001B[43margs\u001B[49m\u001B[43m,\u001B[49m\u001B[43m \u001B[49m\u001B[38;5;241;43m*\u001B[39;49m\u001B[38;5;241;43m*\u001B[39;49m\u001B[43mkwargs\u001B[49m\u001B[43m)\u001B[49m\n\u001B[0;32m   1564\u001B[0m \u001B[38;5;28;01mtry\u001B[39;00m:\n\u001B[0;32m   1565\u001B[0m     result \u001B[38;5;241m=\u001B[39m \u001B[38;5;28;01mNone\u001B[39;00m\n",
      "File \u001B[1;32mE:\\WYX_Project\\SAT-CGCN-Demo-1\\csat\\models.py:17\u001B[0m, in \u001B[0;36mGraphTransformerEncoder.forward\u001B[1;34m(self, x, edge_index, complete_edge_index, subgraph_node_index, subgraph_edge_index, subgraph_edge_attr, subgraph_indicator_index, edge_attr, degree, ptr, return_attn)\u001B[0m\n\u001B[0;32m     14\u001B[0m output \u001B[38;5;241m=\u001B[39m x\n\u001B[0;32m     16\u001B[0m \u001B[38;5;28;01mfor\u001B[39;00m mod \u001B[38;5;129;01min\u001B[39;00m \u001B[38;5;28mself\u001B[39m\u001B[38;5;241m.\u001B[39mlayers:\n\u001B[1;32m---> 17\u001B[0m     output \u001B[38;5;241m=\u001B[39m \u001B[43mmod\u001B[49m\u001B[43m(\u001B[49m\u001B[43moutput\u001B[49m\u001B[43m,\u001B[49m\u001B[43m \u001B[49m\u001B[43medge_index\u001B[49m\u001B[43m,\u001B[49m\u001B[43m \u001B[49m\u001B[43mcomplete_edge_index\u001B[49m\u001B[43m,\u001B[49m\n\u001B[0;32m     18\u001B[0m \u001B[43m        \u001B[49m\u001B[43medge_attr\u001B[49m\u001B[38;5;241;43m=\u001B[39;49m\u001B[43medge_attr\u001B[49m\u001B[43m,\u001B[49m\u001B[43m \u001B[49m\u001B[43mdegree\u001B[49m\u001B[38;5;241;43m=\u001B[39;49m\u001B[43mdegree\u001B[49m\u001B[43m,\u001B[49m\n\u001B[0;32m     19\u001B[0m \u001B[43m        \u001B[49m\u001B[43msubgraph_node_index\u001B[49m\u001B[38;5;241;43m=\u001B[39;49m\u001B[43msubgraph_node_index\u001B[49m\u001B[43m,\u001B[49m\n\u001B[0;32m     20\u001B[0m \u001B[43m        \u001B[49m\u001B[43msubgraph_edge_index\u001B[49m\u001B[38;5;241;43m=\u001B[39;49m\u001B[43msubgraph_edge_index\u001B[49m\u001B[43m,\u001B[49m\n\u001B[0;32m     21\u001B[0m \u001B[43m        \u001B[49m\u001B[43msubgraph_indicator_index\u001B[49m\u001B[38;5;241;43m=\u001B[39;49m\u001B[43msubgraph_indicator_index\u001B[49m\u001B[43m,\u001B[49m\u001B[43m \u001B[49m\n\u001B[0;32m     22\u001B[0m \u001B[43m        \u001B[49m\u001B[43msubgraph_edge_attr\u001B[49m\u001B[38;5;241;43m=\u001B[39;49m\u001B[43msubgraph_edge_attr\u001B[49m\u001B[43m,\u001B[49m\n\u001B[0;32m     23\u001B[0m \u001B[43m        \u001B[49m\u001B[43mptr\u001B[49m\u001B[38;5;241;43m=\u001B[39;49m\u001B[43mptr\u001B[49m\u001B[43m,\u001B[49m\n\u001B[0;32m     24\u001B[0m \u001B[43m        \u001B[49m\u001B[43mreturn_attn\u001B[49m\u001B[38;5;241;43m=\u001B[39;49m\u001B[43mreturn_attn\u001B[49m\n\u001B[0;32m     25\u001B[0m \u001B[43m    \u001B[49m\u001B[43m)\u001B[49m\n\u001B[0;32m     26\u001B[0m \u001B[38;5;28;01mif\u001B[39;00m \u001B[38;5;28mself\u001B[39m\u001B[38;5;241m.\u001B[39mnorm \u001B[38;5;129;01mis\u001B[39;00m \u001B[38;5;129;01mnot\u001B[39;00m \u001B[38;5;28;01mNone\u001B[39;00m:\n\u001B[0;32m     27\u001B[0m     output \u001B[38;5;241m=\u001B[39m \u001B[38;5;28mself\u001B[39m\u001B[38;5;241m.\u001B[39mnorm(output)\n",
      "File \u001B[1;32mE:\\anaconda3\\envs\\pytorch\\lib\\site-packages\\torch\\nn\\modules\\module.py:1553\u001B[0m, in \u001B[0;36mModule._wrapped_call_impl\u001B[1;34m(self, *args, **kwargs)\u001B[0m\n\u001B[0;32m   1551\u001B[0m     \u001B[38;5;28;01mreturn\u001B[39;00m \u001B[38;5;28mself\u001B[39m\u001B[38;5;241m.\u001B[39m_compiled_call_impl(\u001B[38;5;241m*\u001B[39margs, \u001B[38;5;241m*\u001B[39m\u001B[38;5;241m*\u001B[39mkwargs)  \u001B[38;5;66;03m# type: ignore[misc]\u001B[39;00m\n\u001B[0;32m   1552\u001B[0m \u001B[38;5;28;01melse\u001B[39;00m:\n\u001B[1;32m-> 1553\u001B[0m     \u001B[38;5;28;01mreturn\u001B[39;00m \u001B[38;5;28;43mself\u001B[39;49m\u001B[38;5;241;43m.\u001B[39;49m\u001B[43m_call_impl\u001B[49m\u001B[43m(\u001B[49m\u001B[38;5;241;43m*\u001B[39;49m\u001B[43margs\u001B[49m\u001B[43m,\u001B[49m\u001B[43m \u001B[49m\u001B[38;5;241;43m*\u001B[39;49m\u001B[38;5;241;43m*\u001B[39;49m\u001B[43mkwargs\u001B[49m\u001B[43m)\u001B[49m\n",
      "File \u001B[1;32mE:\\anaconda3\\envs\\pytorch\\lib\\site-packages\\torch\\nn\\modules\\module.py:1562\u001B[0m, in \u001B[0;36mModule._call_impl\u001B[1;34m(self, *args, **kwargs)\u001B[0m\n\u001B[0;32m   1557\u001B[0m \u001B[38;5;66;03m# If we don't have any hooks, we want to skip the rest of the logic in\u001B[39;00m\n\u001B[0;32m   1558\u001B[0m \u001B[38;5;66;03m# this function, and just call forward.\u001B[39;00m\n\u001B[0;32m   1559\u001B[0m \u001B[38;5;28;01mif\u001B[39;00m \u001B[38;5;129;01mnot\u001B[39;00m (\u001B[38;5;28mself\u001B[39m\u001B[38;5;241m.\u001B[39m_backward_hooks \u001B[38;5;129;01mor\u001B[39;00m \u001B[38;5;28mself\u001B[39m\u001B[38;5;241m.\u001B[39m_backward_pre_hooks \u001B[38;5;129;01mor\u001B[39;00m \u001B[38;5;28mself\u001B[39m\u001B[38;5;241m.\u001B[39m_forward_hooks \u001B[38;5;129;01mor\u001B[39;00m \u001B[38;5;28mself\u001B[39m\u001B[38;5;241m.\u001B[39m_forward_pre_hooks\n\u001B[0;32m   1560\u001B[0m         \u001B[38;5;129;01mor\u001B[39;00m _global_backward_pre_hooks \u001B[38;5;129;01mor\u001B[39;00m _global_backward_hooks\n\u001B[0;32m   1561\u001B[0m         \u001B[38;5;129;01mor\u001B[39;00m _global_forward_hooks \u001B[38;5;129;01mor\u001B[39;00m _global_forward_pre_hooks):\n\u001B[1;32m-> 1562\u001B[0m     \u001B[38;5;28;01mreturn\u001B[39;00m \u001B[43mforward_call\u001B[49m\u001B[43m(\u001B[49m\u001B[38;5;241;43m*\u001B[39;49m\u001B[43margs\u001B[49m\u001B[43m,\u001B[49m\u001B[43m \u001B[49m\u001B[38;5;241;43m*\u001B[39;49m\u001B[38;5;241;43m*\u001B[39;49m\u001B[43mkwargs\u001B[49m\u001B[43m)\u001B[49m\n\u001B[0;32m   1564\u001B[0m \u001B[38;5;28;01mtry\u001B[39;00m:\n\u001B[0;32m   1565\u001B[0m     result \u001B[38;5;241m=\u001B[39m \u001B[38;5;28;01mNone\u001B[39;00m\n",
      "File \u001B[1;32mE:\\WYX_Project\\SAT-CGCN-Demo-1\\csat\\layers.py:358\u001B[0m, in \u001B[0;36mTransformerEncoderLayer.forward\u001B[1;34m(self, x, edge_index, complete_edge_index, subgraph_node_index, subgraph_edge_index, subgraph_edge_attr, subgraph_indicator_index, edge_attr, degree, ptr, return_attn)\u001B[0m\n\u001B[0;32m    355\u001B[0m \u001B[38;5;28;01mif\u001B[39;00m \u001B[38;5;28mself\u001B[39m\u001B[38;5;241m.\u001B[39mpre_norm:\n\u001B[0;32m    356\u001B[0m     x \u001B[38;5;241m=\u001B[39m \u001B[38;5;28mself\u001B[39m\u001B[38;5;241m.\u001B[39mnorm1(x)\n\u001B[1;32m--> 358\u001B[0m x2, attn \u001B[38;5;241m=\u001B[39m \u001B[38;5;28;43mself\u001B[39;49m\u001B[38;5;241;43m.\u001B[39;49m\u001B[43mself_attn\u001B[49m\u001B[43m(\u001B[49m\n\u001B[0;32m    359\u001B[0m \u001B[43m    \u001B[49m\u001B[43mx\u001B[49m\u001B[43m,\u001B[49m\n\u001B[0;32m    360\u001B[0m \u001B[43m    \u001B[49m\u001B[43medge_index\u001B[49m\u001B[43m,\u001B[49m\n\u001B[0;32m    361\u001B[0m \u001B[43m    \u001B[49m\u001B[43mcomplete_edge_index\u001B[49m\u001B[43m,\u001B[49m\n\u001B[0;32m    362\u001B[0m \u001B[43m    \u001B[49m\u001B[43medge_attr\u001B[49m\u001B[38;5;241;43m=\u001B[39;49m\u001B[43medge_attr\u001B[49m\u001B[43m,\u001B[49m\n\u001B[0;32m    363\u001B[0m \u001B[43m    \u001B[49m\u001B[43msubgraph_node_index\u001B[49m\u001B[38;5;241;43m=\u001B[39;49m\u001B[43msubgraph_node_index\u001B[49m\u001B[43m,\u001B[49m\n\u001B[0;32m    364\u001B[0m \u001B[43m    \u001B[49m\u001B[43msubgraph_edge_index\u001B[49m\u001B[38;5;241;43m=\u001B[39;49m\u001B[43msubgraph_edge_index\u001B[49m\u001B[43m,\u001B[49m\n\u001B[0;32m    365\u001B[0m \u001B[43m    \u001B[49m\u001B[43msubgraph_indicator_index\u001B[49m\u001B[38;5;241;43m=\u001B[39;49m\u001B[43msubgraph_indicator_index\u001B[49m\u001B[43m,\u001B[49m\n\u001B[0;32m    366\u001B[0m \u001B[43m    \u001B[49m\u001B[43msubgraph_edge_attr\u001B[49m\u001B[38;5;241;43m=\u001B[39;49m\u001B[43msubgraph_edge_attr\u001B[49m\u001B[43m,\u001B[49m\n\u001B[0;32m    367\u001B[0m \u001B[43m    \u001B[49m\u001B[43mptr\u001B[49m\u001B[38;5;241;43m=\u001B[39;49m\u001B[43mptr\u001B[49m\u001B[43m,\u001B[49m\n\u001B[0;32m    368\u001B[0m \u001B[43m    \u001B[49m\u001B[43mreturn_attn\u001B[49m\u001B[38;5;241;43m=\u001B[39;49m\u001B[43mreturn_attn\u001B[49m\n\u001B[0;32m    369\u001B[0m \u001B[43m\u001B[49m\u001B[43m)\u001B[49m\n\u001B[0;32m    371\u001B[0m \u001B[38;5;28;01mif\u001B[39;00m degree \u001B[38;5;129;01mis\u001B[39;00m \u001B[38;5;129;01mnot\u001B[39;00m \u001B[38;5;28;01mNone\u001B[39;00m:\n\u001B[0;32m    372\u001B[0m     x2 \u001B[38;5;241m=\u001B[39m degree\u001B[38;5;241m.\u001B[39munsqueeze(\u001B[38;5;241m-\u001B[39m\u001B[38;5;241m1\u001B[39m) \u001B[38;5;241m*\u001B[39m x2\n",
      "File \u001B[1;32mE:\\anaconda3\\envs\\pytorch\\lib\\site-packages\\torch\\nn\\modules\\module.py:1553\u001B[0m, in \u001B[0;36mModule._wrapped_call_impl\u001B[1;34m(self, *args, **kwargs)\u001B[0m\n\u001B[0;32m   1551\u001B[0m     \u001B[38;5;28;01mreturn\u001B[39;00m \u001B[38;5;28mself\u001B[39m\u001B[38;5;241m.\u001B[39m_compiled_call_impl(\u001B[38;5;241m*\u001B[39margs, \u001B[38;5;241m*\u001B[39m\u001B[38;5;241m*\u001B[39mkwargs)  \u001B[38;5;66;03m# type: ignore[misc]\u001B[39;00m\n\u001B[0;32m   1552\u001B[0m \u001B[38;5;28;01melse\u001B[39;00m:\n\u001B[1;32m-> 1553\u001B[0m     \u001B[38;5;28;01mreturn\u001B[39;00m \u001B[38;5;28;43mself\u001B[39;49m\u001B[38;5;241;43m.\u001B[39;49m\u001B[43m_call_impl\u001B[49m\u001B[43m(\u001B[49m\u001B[38;5;241;43m*\u001B[39;49m\u001B[43margs\u001B[49m\u001B[43m,\u001B[49m\u001B[43m \u001B[49m\u001B[38;5;241;43m*\u001B[39;49m\u001B[38;5;241;43m*\u001B[39;49m\u001B[43mkwargs\u001B[49m\u001B[43m)\u001B[49m\n",
      "File \u001B[1;32mE:\\anaconda3\\envs\\pytorch\\lib\\site-packages\\torch\\nn\\modules\\module.py:1562\u001B[0m, in \u001B[0;36mModule._call_impl\u001B[1;34m(self, *args, **kwargs)\u001B[0m\n\u001B[0;32m   1557\u001B[0m \u001B[38;5;66;03m# If we don't have any hooks, we want to skip the rest of the logic in\u001B[39;00m\n\u001B[0;32m   1558\u001B[0m \u001B[38;5;66;03m# this function, and just call forward.\u001B[39;00m\n\u001B[0;32m   1559\u001B[0m \u001B[38;5;28;01mif\u001B[39;00m \u001B[38;5;129;01mnot\u001B[39;00m (\u001B[38;5;28mself\u001B[39m\u001B[38;5;241m.\u001B[39m_backward_hooks \u001B[38;5;129;01mor\u001B[39;00m \u001B[38;5;28mself\u001B[39m\u001B[38;5;241m.\u001B[39m_backward_pre_hooks \u001B[38;5;129;01mor\u001B[39;00m \u001B[38;5;28mself\u001B[39m\u001B[38;5;241m.\u001B[39m_forward_hooks \u001B[38;5;129;01mor\u001B[39;00m \u001B[38;5;28mself\u001B[39m\u001B[38;5;241m.\u001B[39m_forward_pre_hooks\n\u001B[0;32m   1560\u001B[0m         \u001B[38;5;129;01mor\u001B[39;00m _global_backward_pre_hooks \u001B[38;5;129;01mor\u001B[39;00m _global_backward_hooks\n\u001B[0;32m   1561\u001B[0m         \u001B[38;5;129;01mor\u001B[39;00m _global_forward_hooks \u001B[38;5;129;01mor\u001B[39;00m _global_forward_pre_hooks):\n\u001B[1;32m-> 1562\u001B[0m     \u001B[38;5;28;01mreturn\u001B[39;00m \u001B[43mforward_call\u001B[49m\u001B[43m(\u001B[49m\u001B[38;5;241;43m*\u001B[39;49m\u001B[43margs\u001B[49m\u001B[43m,\u001B[49m\u001B[43m \u001B[49m\u001B[38;5;241;43m*\u001B[39;49m\u001B[38;5;241;43m*\u001B[39;49m\u001B[43mkwargs\u001B[49m\u001B[43m)\u001B[49m\n\u001B[0;32m   1564\u001B[0m \u001B[38;5;28;01mtry\u001B[39;00m:\n\u001B[0;32m   1565\u001B[0m     result \u001B[38;5;241m=\u001B[39m \u001B[38;5;28;01mNone\u001B[39;00m\n",
      "File \u001B[1;32mE:\\WYX_Project\\SAT-CGCN-Demo-1\\csat\\layers.py:113\u001B[0m, in \u001B[0;36mAttention.forward\u001B[1;34m(self, x, edge_index, complete_edge_index, subgraph_node_index, subgraph_edge_index, subgraph_indicator_index, subgraph_edge_attr, edge_attr, ptr, return_attn)\u001B[0m\n\u001B[0;32m    111\u001B[0m \u001B[38;5;66;03m# Compute structure-aware node embeddings \u001B[39;00m\n\u001B[0;32m    112\u001B[0m \u001B[38;5;28;01mif\u001B[39;00m \u001B[38;5;28mself\u001B[39m\u001B[38;5;241m.\u001B[39mse \u001B[38;5;241m==\u001B[39m \u001B[38;5;124m'\u001B[39m\u001B[38;5;124mkhopgnn\u001B[39m\u001B[38;5;124m'\u001B[39m: \u001B[38;5;66;03m# k-subgraph SAT\u001B[39;00m\n\u001B[1;32m--> 113\u001B[0m     x_struct \u001B[38;5;241m=\u001B[39m \u001B[38;5;28;43mself\u001B[39;49m\u001B[38;5;241;43m.\u001B[39;49m\u001B[43mkhop_structure_extractor\u001B[49m\u001B[43m(\u001B[49m\n\u001B[0;32m    114\u001B[0m \u001B[43m        \u001B[49m\u001B[43mx\u001B[49m\u001B[38;5;241;43m=\u001B[39;49m\u001B[43mx\u001B[49m\u001B[43m,\u001B[49m\n\u001B[0;32m    115\u001B[0m \u001B[43m        \u001B[49m\u001B[43medge_index\u001B[49m\u001B[38;5;241;43m=\u001B[39;49m\u001B[43medge_index\u001B[49m\u001B[43m,\u001B[49m\n\u001B[0;32m    116\u001B[0m \u001B[43m        \u001B[49m\u001B[43msubgraph_edge_index\u001B[49m\u001B[38;5;241;43m=\u001B[39;49m\u001B[43msubgraph_edge_index\u001B[49m\u001B[43m,\u001B[49m\n\u001B[0;32m    117\u001B[0m \u001B[43m        \u001B[49m\u001B[43msubgraph_indicator_index\u001B[49m\u001B[38;5;241;43m=\u001B[39;49m\u001B[43msubgraph_indicator_index\u001B[49m\u001B[43m,\u001B[49m\n\u001B[0;32m    118\u001B[0m \u001B[43m        \u001B[49m\u001B[43msubgraph_node_index\u001B[49m\u001B[38;5;241;43m=\u001B[39;49m\u001B[43msubgraph_node_index\u001B[49m\u001B[43m,\u001B[49m\n\u001B[0;32m    119\u001B[0m \u001B[43m        \u001B[49m\u001B[43msubgraph_edge_attr\u001B[49m\u001B[38;5;241;43m=\u001B[39;49m\u001B[43msubgraph_edge_attr\u001B[49m\u001B[43m,\u001B[49m\n\u001B[0;32m    120\u001B[0m \u001B[43m    \u001B[49m\u001B[43m)\u001B[49m\n\u001B[0;32m    121\u001B[0m \u001B[38;5;28;01melse\u001B[39;00m: \u001B[38;5;66;03m# k-subtree SAT\u001B[39;00m\n\u001B[0;32m    122\u001B[0m     x_struct \u001B[38;5;241m=\u001B[39m \u001B[38;5;28mself\u001B[39m\u001B[38;5;241m.\u001B[39mstructure_extractor(x, edge_index, edge_attr)\n",
      "File \u001B[1;32mE:\\anaconda3\\envs\\pytorch\\lib\\site-packages\\torch\\nn\\modules\\module.py:1553\u001B[0m, in \u001B[0;36mModule._wrapped_call_impl\u001B[1;34m(self, *args, **kwargs)\u001B[0m\n\u001B[0;32m   1551\u001B[0m     \u001B[38;5;28;01mreturn\u001B[39;00m \u001B[38;5;28mself\u001B[39m\u001B[38;5;241m.\u001B[39m_compiled_call_impl(\u001B[38;5;241m*\u001B[39margs, \u001B[38;5;241m*\u001B[39m\u001B[38;5;241m*\u001B[39mkwargs)  \u001B[38;5;66;03m# type: ignore[misc]\u001B[39;00m\n\u001B[0;32m   1552\u001B[0m \u001B[38;5;28;01melse\u001B[39;00m:\n\u001B[1;32m-> 1553\u001B[0m     \u001B[38;5;28;01mreturn\u001B[39;00m \u001B[38;5;28;43mself\u001B[39;49m\u001B[38;5;241;43m.\u001B[39;49m\u001B[43m_call_impl\u001B[49m\u001B[43m(\u001B[49m\u001B[38;5;241;43m*\u001B[39;49m\u001B[43margs\u001B[49m\u001B[43m,\u001B[49m\u001B[43m \u001B[49m\u001B[38;5;241;43m*\u001B[39;49m\u001B[38;5;241;43m*\u001B[39;49m\u001B[43mkwargs\u001B[49m\u001B[43m)\u001B[49m\n",
      "File \u001B[1;32mE:\\anaconda3\\envs\\pytorch\\lib\\site-packages\\torch\\nn\\modules\\module.py:1562\u001B[0m, in \u001B[0;36mModule._call_impl\u001B[1;34m(self, *args, **kwargs)\u001B[0m\n\u001B[0;32m   1557\u001B[0m \u001B[38;5;66;03m# If we don't have any hooks, we want to skip the rest of the logic in\u001B[39;00m\n\u001B[0;32m   1558\u001B[0m \u001B[38;5;66;03m# this function, and just call forward.\u001B[39;00m\n\u001B[0;32m   1559\u001B[0m \u001B[38;5;28;01mif\u001B[39;00m \u001B[38;5;129;01mnot\u001B[39;00m (\u001B[38;5;28mself\u001B[39m\u001B[38;5;241m.\u001B[39m_backward_hooks \u001B[38;5;129;01mor\u001B[39;00m \u001B[38;5;28mself\u001B[39m\u001B[38;5;241m.\u001B[39m_backward_pre_hooks \u001B[38;5;129;01mor\u001B[39;00m \u001B[38;5;28mself\u001B[39m\u001B[38;5;241m.\u001B[39m_forward_hooks \u001B[38;5;129;01mor\u001B[39;00m \u001B[38;5;28mself\u001B[39m\u001B[38;5;241m.\u001B[39m_forward_pre_hooks\n\u001B[0;32m   1560\u001B[0m         \u001B[38;5;129;01mor\u001B[39;00m _global_backward_pre_hooks \u001B[38;5;129;01mor\u001B[39;00m _global_backward_hooks\n\u001B[0;32m   1561\u001B[0m         \u001B[38;5;129;01mor\u001B[39;00m _global_forward_hooks \u001B[38;5;129;01mor\u001B[39;00m _global_forward_pre_hooks):\n\u001B[1;32m-> 1562\u001B[0m     \u001B[38;5;28;01mreturn\u001B[39;00m \u001B[43mforward_call\u001B[49m\u001B[43m(\u001B[49m\u001B[38;5;241;43m*\u001B[39;49m\u001B[43margs\u001B[49m\u001B[43m,\u001B[49m\u001B[43m \u001B[49m\u001B[38;5;241;43m*\u001B[39;49m\u001B[38;5;241;43m*\u001B[39;49m\u001B[43mkwargs\u001B[49m\u001B[43m)\u001B[49m\n\u001B[0;32m   1564\u001B[0m \u001B[38;5;28;01mtry\u001B[39;00m:\n\u001B[0;32m   1565\u001B[0m     result \u001B[38;5;241m=\u001B[39m \u001B[38;5;28;01mNone\u001B[39;00m\n",
      "File \u001B[1;32mE:\\WYX_Project\\SAT-CGCN-Demo-1\\csat\\layers.py:301\u001B[0m, in \u001B[0;36mKHopStructureExtractor.forward\u001B[1;34m(self, x, edge_index, subgraph_edge_index, edge_attr, subgraph_indicator_index, subgraph_node_index, subgraph_edge_attr)\u001B[0m\n\u001B[0;32m    297\u001B[0m \u001B[38;5;28;01mdef\u001B[39;00m \u001B[38;5;21mforward\u001B[39m(\u001B[38;5;28mself\u001B[39m, x, edge_index, subgraph_edge_index, edge_attr\u001B[38;5;241m=\u001B[39m\u001B[38;5;28;01mNone\u001B[39;00m,\n\u001B[0;32m    298\u001B[0m         subgraph_indicator_index\u001B[38;5;241m=\u001B[39m\u001B[38;5;28;01mNone\u001B[39;00m, subgraph_node_index\u001B[38;5;241m=\u001B[39m\u001B[38;5;28;01mNone\u001B[39;00m,\n\u001B[0;32m    299\u001B[0m         subgraph_edge_attr\u001B[38;5;241m=\u001B[39m\u001B[38;5;28;01mNone\u001B[39;00m):\n\u001B[1;32m--> 301\u001B[0m     x_struct \u001B[38;5;241m=\u001B[39m \u001B[38;5;28;43mself\u001B[39;49m\u001B[38;5;241;43m.\u001B[39;49m\u001B[43mstructure_extractor\u001B[49m\u001B[43m(\u001B[49m\n\u001B[0;32m    302\u001B[0m \u001B[43m        \u001B[49m\u001B[43mx\u001B[49m\u001B[38;5;241;43m=\u001B[39;49m\u001B[43mx\u001B[49m\u001B[43m[\u001B[49m\u001B[43msubgraph_node_index\u001B[49m\u001B[43m]\u001B[49m\u001B[43m,\u001B[49m\n\u001B[0;32m    303\u001B[0m \u001B[43m        \u001B[49m\u001B[43medge_index\u001B[49m\u001B[38;5;241;43m=\u001B[39;49m\u001B[43msubgraph_edge_index\u001B[49m\u001B[43m,\u001B[49m\n\u001B[0;32m    304\u001B[0m \u001B[43m        \u001B[49m\u001B[43medge_attr\u001B[49m\u001B[38;5;241;43m=\u001B[39;49m\u001B[43msubgraph_edge_attr\u001B[49m\u001B[43m,\u001B[49m\n\u001B[0;32m    305\u001B[0m \u001B[43m        \u001B[49m\u001B[43msubgraph_indicator_index\u001B[49m\u001B[38;5;241;43m=\u001B[39;49m\u001B[43msubgraph_indicator_index\u001B[49m\u001B[43m,\u001B[49m\n\u001B[0;32m    306\u001B[0m \u001B[43m        \u001B[49m\u001B[43magg\u001B[49m\u001B[38;5;241;43m=\u001B[39;49m\u001B[38;5;124;43m\"\u001B[39;49m\u001B[38;5;124;43msum\u001B[39;49m\u001B[38;5;124;43m\"\u001B[39;49m\u001B[43m,\u001B[49m\n\u001B[0;32m    307\u001B[0m \u001B[43m    \u001B[49m\u001B[43m)\u001B[49m\n\u001B[0;32m    308\u001B[0m     x_struct \u001B[38;5;241m=\u001B[39m torch\u001B[38;5;241m.\u001B[39mcat([x, x_struct], dim\u001B[38;5;241m=\u001B[39m\u001B[38;5;241m-\u001B[39m\u001B[38;5;241m1\u001B[39m)\n\u001B[0;32m    309\u001B[0m     \u001B[38;5;28;01mif\u001B[39;00m \u001B[38;5;28mself\u001B[39m\u001B[38;5;241m.\u001B[39mbatch_norm:\n",
      "File \u001B[1;32mE:\\anaconda3\\envs\\pytorch\\lib\\site-packages\\torch\\nn\\modules\\module.py:1553\u001B[0m, in \u001B[0;36mModule._wrapped_call_impl\u001B[1;34m(self, *args, **kwargs)\u001B[0m\n\u001B[0;32m   1551\u001B[0m     \u001B[38;5;28;01mreturn\u001B[39;00m \u001B[38;5;28mself\u001B[39m\u001B[38;5;241m.\u001B[39m_compiled_call_impl(\u001B[38;5;241m*\u001B[39margs, \u001B[38;5;241m*\u001B[39m\u001B[38;5;241m*\u001B[39mkwargs)  \u001B[38;5;66;03m# type: ignore[misc]\u001B[39;00m\n\u001B[0;32m   1552\u001B[0m \u001B[38;5;28;01melse\u001B[39;00m:\n\u001B[1;32m-> 1553\u001B[0m     \u001B[38;5;28;01mreturn\u001B[39;00m \u001B[38;5;28;43mself\u001B[39;49m\u001B[38;5;241;43m.\u001B[39;49m\u001B[43m_call_impl\u001B[49m\u001B[43m(\u001B[49m\u001B[38;5;241;43m*\u001B[39;49m\u001B[43margs\u001B[49m\u001B[43m,\u001B[49m\u001B[43m \u001B[49m\u001B[38;5;241;43m*\u001B[39;49m\u001B[38;5;241;43m*\u001B[39;49m\u001B[43mkwargs\u001B[49m\u001B[43m)\u001B[49m\n",
      "File \u001B[1;32mE:\\anaconda3\\envs\\pytorch\\lib\\site-packages\\torch\\nn\\modules\\module.py:1562\u001B[0m, in \u001B[0;36mModule._call_impl\u001B[1;34m(self, *args, **kwargs)\u001B[0m\n\u001B[0;32m   1557\u001B[0m \u001B[38;5;66;03m# If we don't have any hooks, we want to skip the rest of the logic in\u001B[39;00m\n\u001B[0;32m   1558\u001B[0m \u001B[38;5;66;03m# this function, and just call forward.\u001B[39;00m\n\u001B[0;32m   1559\u001B[0m \u001B[38;5;28;01mif\u001B[39;00m \u001B[38;5;129;01mnot\u001B[39;00m (\u001B[38;5;28mself\u001B[39m\u001B[38;5;241m.\u001B[39m_backward_hooks \u001B[38;5;129;01mor\u001B[39;00m \u001B[38;5;28mself\u001B[39m\u001B[38;5;241m.\u001B[39m_backward_pre_hooks \u001B[38;5;129;01mor\u001B[39;00m \u001B[38;5;28mself\u001B[39m\u001B[38;5;241m.\u001B[39m_forward_hooks \u001B[38;5;129;01mor\u001B[39;00m \u001B[38;5;28mself\u001B[39m\u001B[38;5;241m.\u001B[39m_forward_pre_hooks\n\u001B[0;32m   1560\u001B[0m         \u001B[38;5;129;01mor\u001B[39;00m _global_backward_pre_hooks \u001B[38;5;129;01mor\u001B[39;00m _global_backward_hooks\n\u001B[0;32m   1561\u001B[0m         \u001B[38;5;129;01mor\u001B[39;00m _global_forward_hooks \u001B[38;5;129;01mor\u001B[39;00m _global_forward_pre_hooks):\n\u001B[1;32m-> 1562\u001B[0m     \u001B[38;5;28;01mreturn\u001B[39;00m \u001B[43mforward_call\u001B[49m\u001B[43m(\u001B[49m\u001B[38;5;241;43m*\u001B[39;49m\u001B[43margs\u001B[49m\u001B[43m,\u001B[49m\u001B[43m \u001B[49m\u001B[38;5;241;43m*\u001B[39;49m\u001B[38;5;241;43m*\u001B[39;49m\u001B[43mkwargs\u001B[49m\u001B[43m)\u001B[49m\n\u001B[0;32m   1564\u001B[0m \u001B[38;5;28;01mtry\u001B[39;00m:\n\u001B[0;32m   1565\u001B[0m     result \u001B[38;5;241m=\u001B[39m \u001B[38;5;28;01mNone\u001B[39;00m\n",
      "File \u001B[1;32mE:\\WYX_Project\\SAT-CGCN-Demo-1\\csat\\layers.py:250\u001B[0m, in \u001B[0;36mStructureExtractor.forward\u001B[1;34m(self, x, edge_index, edge_attr, subgraph_indicator_index, agg)\u001B[0m\n\u001B[0;32m    248\u001B[0m \u001B[38;5;28;01mif\u001B[39;00m \u001B[38;5;28mself\u001B[39m\u001B[38;5;241m.\u001B[39mkhopgnn:\n\u001B[0;32m    249\u001B[0m     \u001B[38;5;28;01mif\u001B[39;00m agg \u001B[38;5;241m==\u001B[39m \u001B[38;5;124m\"\u001B[39m\u001B[38;5;124msum\u001B[39m\u001B[38;5;124m\"\u001B[39m:\n\u001B[1;32m--> 250\u001B[0m         x \u001B[38;5;241m=\u001B[39m \u001B[43mscatter_add\u001B[49m\u001B[43m(\u001B[49m\u001B[43mx\u001B[49m\u001B[43m,\u001B[49m\u001B[43m \u001B[49m\u001B[43msubgraph_indicator_index\u001B[49m\u001B[43m,\u001B[49m\u001B[43m \u001B[49m\u001B[43mdim\u001B[49m\u001B[38;5;241;43m=\u001B[39;49m\u001B[38;5;241;43m0\u001B[39;49m\u001B[43m)\u001B[49m\n\u001B[0;32m    251\u001B[0m     \u001B[38;5;28;01melif\u001B[39;00m agg \u001B[38;5;241m==\u001B[39m \u001B[38;5;124m\"\u001B[39m\u001B[38;5;124mmean\u001B[39m\u001B[38;5;124m\"\u001B[39m:\n\u001B[0;32m    252\u001B[0m         x \u001B[38;5;241m=\u001B[39m scatter_mean(x, subgraph_indicator_index, dim\u001B[38;5;241m=\u001B[39m\u001B[38;5;241m0\u001B[39m)\n",
      "File \u001B[1;32mE:\\anaconda3\\envs\\pytorch\\lib\\site-packages\\torch_scatter\\scatter.py:33\u001B[0m, in \u001B[0;36mscatter_add\u001B[1;34m(src, index, dim, out, dim_size)\u001B[0m\n\u001B[0;32m     28\u001B[0m \u001B[38;5;28;01mdef\u001B[39;00m \u001B[38;5;21mscatter_add\u001B[39m(src: torch\u001B[38;5;241m.\u001B[39mTensor,\n\u001B[0;32m     29\u001B[0m                 index: torch\u001B[38;5;241m.\u001B[39mTensor,\n\u001B[0;32m     30\u001B[0m                 dim: \u001B[38;5;28mint\u001B[39m \u001B[38;5;241m=\u001B[39m \u001B[38;5;241m-\u001B[39m\u001B[38;5;241m1\u001B[39m,\n\u001B[0;32m     31\u001B[0m                 out: Optional[torch\u001B[38;5;241m.\u001B[39mTensor] \u001B[38;5;241m=\u001B[39m \u001B[38;5;28;01mNone\u001B[39;00m,\n\u001B[0;32m     32\u001B[0m                 dim_size: Optional[\u001B[38;5;28mint\u001B[39m] \u001B[38;5;241m=\u001B[39m \u001B[38;5;28;01mNone\u001B[39;00m) \u001B[38;5;241m-\u001B[39m\u001B[38;5;241m>\u001B[39m torch\u001B[38;5;241m.\u001B[39mTensor:\n\u001B[1;32m---> 33\u001B[0m     \u001B[38;5;28;01mreturn\u001B[39;00m \u001B[43mscatter_sum\u001B[49m\u001B[43m(\u001B[49m\u001B[43msrc\u001B[49m\u001B[43m,\u001B[49m\u001B[43m \u001B[49m\u001B[43mindex\u001B[49m\u001B[43m,\u001B[49m\u001B[43m \u001B[49m\u001B[43mdim\u001B[49m\u001B[43m,\u001B[49m\u001B[43m \u001B[49m\u001B[43mout\u001B[49m\u001B[43m,\u001B[49m\u001B[43m \u001B[49m\u001B[43mdim_size\u001B[49m\u001B[43m)\u001B[49m\n",
      "File \u001B[1;32mE:\\anaconda3\\envs\\pytorch\\lib\\site-packages\\torch_scatter\\scatter.py:13\u001B[0m, in \u001B[0;36mscatter_sum\u001B[1;34m(src, index, dim, out, dim_size)\u001B[0m\n\u001B[0;32m      8\u001B[0m \u001B[38;5;28;01mdef\u001B[39;00m \u001B[38;5;21mscatter_sum\u001B[39m(src: torch\u001B[38;5;241m.\u001B[39mTensor,\n\u001B[0;32m      9\u001B[0m                 index: torch\u001B[38;5;241m.\u001B[39mTensor,\n\u001B[0;32m     10\u001B[0m                 dim: \u001B[38;5;28mint\u001B[39m \u001B[38;5;241m=\u001B[39m \u001B[38;5;241m-\u001B[39m\u001B[38;5;241m1\u001B[39m,\n\u001B[0;32m     11\u001B[0m                 out: Optional[torch\u001B[38;5;241m.\u001B[39mTensor] \u001B[38;5;241m=\u001B[39m \u001B[38;5;28;01mNone\u001B[39;00m,\n\u001B[0;32m     12\u001B[0m                 dim_size: Optional[\u001B[38;5;28mint\u001B[39m] \u001B[38;5;241m=\u001B[39m \u001B[38;5;28;01mNone\u001B[39;00m) \u001B[38;5;241m-\u001B[39m\u001B[38;5;241m>\u001B[39m torch\u001B[38;5;241m.\u001B[39mTensor:\n\u001B[1;32m---> 13\u001B[0m     index \u001B[38;5;241m=\u001B[39m \u001B[43mbroadcast\u001B[49m\u001B[43m(\u001B[49m\u001B[43mindex\u001B[49m\u001B[43m,\u001B[49m\u001B[43m \u001B[49m\u001B[43msrc\u001B[49m\u001B[43m,\u001B[49m\u001B[43m \u001B[49m\u001B[43mdim\u001B[49m\u001B[43m)\u001B[49m\n\u001B[0;32m     14\u001B[0m     \u001B[38;5;28;01mif\u001B[39;00m out \u001B[38;5;129;01mis\u001B[39;00m \u001B[38;5;28;01mNone\u001B[39;00m:\n\u001B[0;32m     15\u001B[0m         size \u001B[38;5;241m=\u001B[39m \u001B[38;5;28mlist\u001B[39m(src\u001B[38;5;241m.\u001B[39msize())\n",
      "File \u001B[1;32mE:\\anaconda3\\envs\\pytorch\\lib\\site-packages\\torch_scatter\\utils.py:12\u001B[0m, in \u001B[0;36mbroadcast\u001B[1;34m(src, other, dim)\u001B[0m\n\u001B[0;32m     10\u001B[0m \u001B[38;5;28;01mfor\u001B[39;00m _ \u001B[38;5;129;01min\u001B[39;00m \u001B[38;5;28mrange\u001B[39m(src\u001B[38;5;241m.\u001B[39mdim(), other\u001B[38;5;241m.\u001B[39mdim()):\n\u001B[0;32m     11\u001B[0m     src \u001B[38;5;241m=\u001B[39m src\u001B[38;5;241m.\u001B[39munsqueeze(\u001B[38;5;241m-\u001B[39m\u001B[38;5;241m1\u001B[39m)\n\u001B[1;32m---> 12\u001B[0m src \u001B[38;5;241m=\u001B[39m \u001B[43msrc\u001B[49m\u001B[38;5;241;43m.\u001B[39;49m\u001B[43mexpand\u001B[49m\u001B[43m(\u001B[49m\u001B[43mother\u001B[49m\u001B[38;5;241;43m.\u001B[39;49m\u001B[43msize\u001B[49m\u001B[43m(\u001B[49m\u001B[43m)\u001B[49m\u001B[43m)\u001B[49m\n\u001B[0;32m     13\u001B[0m \u001B[38;5;28;01mreturn\u001B[39;00m src\n",
      "\u001B[1;31mRuntimeError\u001B[0m: The expanded size of the tensor (9200) must match the existing size (100) at non-singleton dimension 0.  Target sizes: [9200, 64].  Tensor sizes: [100, 1]"
     ]
    }
   ],
   "execution_count": 158
  }
 ],
 "metadata": {
  "kernelspec": {
   "display_name": "Python 3",
   "language": "python",
   "name": "python3"
  },
  "language_info": {
   "codemirror_mode": {
    "name": "ipython",
    "version": 2
   },
   "file_extension": ".py",
   "mimetype": "text/x-python",
   "name": "python",
   "nbconvert_exporter": "python",
   "pygments_lexer": "ipython2",
   "version": "2.7.6"
  }
 },
 "nbformat": 4,
 "nbformat_minor": 5
}
