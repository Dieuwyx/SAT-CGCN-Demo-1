{
 "cells": [
  {
   "metadata": {},
   "cell_type": "markdown",
   "source": [
    "训练zinc数据集的指令为\n",
    "`python train_zinc.py --abs-pe rw --se khopgnn --gnn-type pna2 --dropout 0.2 --k-hop 3 --use-edge-attr`"
   ],
   "id": "b577a1a119f61d02"
  },
  {
   "cell_type": "code",
   "execution_count": null,
   "id": "initial_id",
   "metadata": {
    "collapsed": true
   },
   "outputs": [],
   "source": [
    "\n",
    "'''\n",
    "Namespace(abs_pe='rw',\n",
    "            abs_pe_dim=20,\n",
    "            batch_norm=True,\n",
    "            batch_size=128,\n",
    "            crystal_dataset='ZINC',\n",
    "            dim_hidden=64, dropout=0.2,\n",
    "            edge_dim=32,\n",
    "            epochs=2000,\n",
    "            global_pool='mean',\n",
    "            gnn_type='pna2',\n",
    "            k_hop=3,\n",
    "            layer_norm=False,\n",
    "            lr=0.001,\n",
    "            num_heads=8,\n",
    "            num_layers=6,\n",
    "            outdir='',\n",
    "            save_logs=False,\n",
    "            se='khopgnn',\n",
    "            seed=0,\n",
    "            use_cuda=True,\n",
    "            use_edge_attr=True,\n",
    "            warmup=5000,\n",
    "            weight_decay=1e-05)\n",
    "'''"
   ]
  },
  {
   "metadata": {},
   "cell_type": "markdown",
   "source": "在这个project中，train_zinc是可以运行的，请放心，接下来，我们来对比看看zinc数据和crystal数据的差别，为什么crystal经过转化之后就不可以运行",
   "id": "8a6cdceb7c3a8856"
  },
  {
   "metadata": {},
   "cell_type": "markdown",
   "source": "# import here",
   "id": "b9571164f3d22fdf"
  },
  {
   "metadata": {
    "ExecuteTime": {
     "end_time": "2025-03-10T09:47:18.727174Z",
     "start_time": "2025-03-10T09:47:18.703276Z"
    }
   },
   "cell_type": "code",
   "source": [
    "import importlib\n",
    "from csat.data import GraphDataset\n",
    "\n",
    "from torch_geometric.data import DataLoader\n",
    "from torch_geometric import datasets\n",
    "import csat.crytal_data\n",
    "importlib.reload(csat.crytal_data)\n",
    "from csat.crytal_data import crystal_graph_list,CIFData\n",
    "from csat.models import GraphTransformer\n",
    "import os\n",
    "import copy\n",
    "import argparse\n",
    "import numpy as np\n",
    "import pandas as pd\n",
    "from collections import defaultdict\n",
    "import torch\n",
    "from torch import nn, optim\n",
    "import torch.nn.functional as F\n",
    "import torch_geometric.utils as utils\n",
    "from torch.utils.data import  Subset\n",
    "\n",
    "import warnings\n",
    "warnings.filterwarnings(\"ignore\")\n",
    "\n",
    "abs_pe='rw'\n",
    "k_hop = 2\n",
    "se = 'khopgnn'\n",
    "use_edge_attr = True\n",
    "abs_pe='rw'\n",
    "abs_pe_dim=20\n",
    "batch_norm=True\n",
    "batch_size=128\n",
    "dim_hidden=64\n",
    "dropout=0.2\n",
    "edge_dim=32\n",
    "epochs=50\n",
    "global_pool='mean'\n",
    "gnn_type='pna2'\n",
    "layer_norm=False\n",
    "lr=0.001\n",
    "num_heads=8\n",
    "num_layers=6\n",
    "outdir=''\n",
    "save_logs=False\n",
    "seed=0\n",
    "use_cuda=True\n",
    "epochs = 50\n",
    "warmup=5000\n",
    "weight_decay=1e-05\n",
    "device = torch.device('cuda' if torch.cuda.is_available() else 'cpu')"
   ],
   "id": "cbb212a4b2cd23fb",
   "outputs": [],
   "execution_count": 133
  },
  {
   "metadata": {},
   "cell_type": "markdown",
   "source": "# 文件地址",
   "id": "514e8d5d37c40160"
  },
  {
   "metadata": {
    "ExecuteTime": {
     "end_time": "2025-03-10T08:23:17.043713Z",
     "start_time": "2025-03-10T08:23:17.029770Z"
    }
   },
   "cell_type": "code",
   "source": [
    "zinc_data_path = './zinc_datasets/ZINC'\n",
    "crystal_data_path = './sample-regression'"
   ],
   "id": "7578a72dd2fffd40",
   "outputs": [],
   "execution_count": 123
  },
  {
   "metadata": {},
   "cell_type": "markdown",
   "source": "# ZINC and Crystal",
   "id": "5cd92b2ab0b10099"
  },
  {
   "metadata": {
    "ExecuteTime": {
     "end_time": "2025-03-10T10:18:03.592763Z",
     "start_time": "2025-03-10T10:18:03.565875Z"
    }
   },
   "cell_type": "code",
   "source": [
    "train_zinc = datasets.ZINC(zinc_data_path, subset=True,split='train')\n",
    "print(len(train_zinc))\n",
    "#indices = range(0, 10) # 1~10\n",
    "#train_zinc = torch.utils.data.Subset(train_zinc, indices)\n",
    "\n",
    "\n",
    "\n",
    "print(train_zinc,'zinc数据集是一个图的list集合。')\n",
    "print(type(train_zinc))\n",
    "print('zinc数据集图的数量：',len(train_zinc))\n",
    "print('zinc数据集第1张图的数据类型为：',train_zinc[0])\n",
    "print('zinc数据集第10张图的数据类型为：',train_zinc[9])"
   ],
   "id": "69adcaf49935e0d",
   "outputs": [
    {
     "name": "stdout",
     "output_type": "stream",
     "text": [
      "10000\n",
      "ZINC(10000) zinc数据集是一个图的list集合。\n",
      "<class 'torch_geometric.datasets.zinc.ZINC'>\n",
      "zinc数据集图的数量： 10000\n",
      "zinc数据集第1张图的数据类型为： Data(x=[29, 1], edge_index=[2, 64], edge_attr=[64], y=[1])\n",
      "zinc数据集第10张图的数据类型为： Data(x=[18, 1], edge_index=[2, 38], edge_attr=[38], y=[1])\n"
     ]
    }
   ],
   "execution_count": 152
  },
  {
   "metadata": {},
   "cell_type": "markdown",
   "source": [
    "在这里有一个矛盾的地方：\n",
    "\n",
    "官方说明zinc数据集中num_node_fea应该是28，这是全部为1，启发了我的降维想法"
   ],
   "id": "ab5852c344e7218d"
  },
  {
   "metadata": {
    "ExecuteTime": {
     "end_time": "2025-03-10T08:23:21.332118Z",
     "start_time": "2025-03-10T08:23:21.295155Z"
    }
   },
   "cell_type": "code",
   "source": [
    "crystal_data = CIFData(crystal_data_path)\n",
    "print(crystal_data)\n",
    "print(\"crystal data 是一个元组的形式，其数据结构为(atom_fea, nbr_fea, nbr_fea_idx), target, cif_id\")\n",
    "print(\"对应的图数据类型为                             x,  edge_attr,   edge_index\")\n",
    "c_structures, target, cif_id = crystal_data[0]\n",
    "print('atom_fea: (n_i, atom_fea_len)',c_structures[0].shape)\n",
    "print('nbr_fea: (n_i, M, nbr_fea_len)',c_structures[1].shape)\n",
    "print('nbr_fea_idx: (n_i, M)',c_structures[2].shape)\n",
    "print(\"于是，我们需要把他转化为与zinc一样的graph_list\")"
   ],
   "id": "6bc19469c260a38",
   "outputs": [
    {
     "name": "stdout",
     "output_type": "stream",
     "text": [
      "<csat.crytal_data.CIFData object at 0x000001E1B8575310>\n",
      "crystal data 是一个元组的形式，其数据结构为(atom_fea, nbr_fea, nbr_fea_idx), target, cif_id\n",
      "对应的图数据类型为                             x,  edge_attr,   edge_index\n",
      "atom_fea: (n_i, atom_fea_len) torch.Size([8, 92])\n",
      "nbr_fea: (n_i, M, nbr_fea_len) torch.Size([8, 12, 41])\n",
      "nbr_fea_idx: (n_i, M) torch.Size([8, 12])\n",
      "于是，我们需要把他转化为与zinc一样的graph_list\n"
     ]
    }
   ],
   "execution_count": 124
  },
  {
   "metadata": {},
   "cell_type": "markdown",
   "source": "## 从此处隔断",
   "id": "dd5eb93e46f2cb40"
  },
  {
   "metadata": {
    "ExecuteTime": {
     "end_time": "2025-03-09T10:18:54.927909Z",
     "start_time": "2025-03-09T10:18:54.676412Z"
    }
   },
   "cell_type": "code",
   "outputs": [
    {
     "name": "stdout",
     "output_type": "stream",
     "text": [
      "<csat.crytal_data.CIFData object at 0x000001F21DD33340>\n",
      "crystal data 是一个元组的形式，其数据结构为(atom_fea, nbr_fea, nbr_fea_idx), target, cif_id\n",
      "对应的图数据类型为                             x,       \n",
      "于是，我们需要把他转化为与zinc一样的graph_list\n",
      "正在转化的数据集大小为： 10\n"
     ]
    },
    {
     "name": "stderr",
     "output_type": "stream",
     "text": [
      "100%|██████████| 10/10 [00:00<00:00, 43.00it/s]"
     ]
    },
    {
     "name": "stdout",
     "output_type": "stream",
     "text": [
      "这是crystal list的数据类型 <class 'list'>\n",
      "crystal list图的数量： 10\n",
      "crystal list第1张图的数据类型为 Data(x=[8, 92], edge_index=[8, 12], edge_attr=[8, 12, 41], y=[1])\n",
      "crystal list第10张图的数据类型为 Data(x=[8, 92], edge_index=[8, 12], edge_attr=[8, 12, 41], y=[1])\n"
     ]
    },
    {
     "name": "stderr",
     "output_type": "stream",
     "text": [
      "\n"
     ]
    }
   ],
   "execution_count": 12,
   "source": [
    "crystal_list = crystal_graph_list(crystal_data)\n",
    "print('这是crystal list的数据类型',type(crystal_list))\n",
    "print('crystal list图的数量：',len(crystal_list))\n",
    "print('crystal list第1张图的数据类型为',crystal_list[0])\n",
    "print('crystal list第10张图的数据类型为',crystal_list[9])"
   ],
   "id": "ee7aaaa1fbbe3af"
  },
  {
   "metadata": {},
   "cell_type": "markdown",
   "source": [
    "由此我们可以发现\n",
    "\n",
    "zinc：\n",
    "\n",
    "\n",
    "zinc数据集第1张图的数据类型为： Data(x=[29, 1], edge_index=[2, 64], edge_attr=[64], y=[1])\n",
    "\n",
    "zinc数据集第100张图的数据类型为： Data(x=[27, 1], edge_index=[2, 60], edge_attr=[60], y=[1])\n",
    "\n",
    "crystal：\n",
    "\n",
    "crystal list第1张图的数据类型为 Data(x=[8, 92], edge_index=[8, 12], edge_attr=[8, 12, 41], y=[1])\n",
    "\n",
    "crystal list第10张图的数据类型为 Data(x=[8, 92], edge_index=[8, 12], edge_attr=[8, 12, 41],y=[1])\n",
    "\n",
    "在CIFDATA数据中\n",
    "```text\n",
    "atom_fea: torch.Tensor shape (n_i, atom_fea_len)\n",
    "nbr_fea: torch.Tensor shape (n_i, M, nbr_fea_len)\n",
    "nbr_fea_idx: torch.LongTensor shape (n_i, M)\n",
    "target: torch.Tensor shape (1, )\n",
    "```\n",
    "\n",
    "我们就需要对其做出修改,将egde_index改为[2, num_edges],将edge_attr降维为1维度。"
   ],
   "id": "409942864eb2bb29"
  },
  {
   "metadata": {
    "ExecuteTime": {
     "end_time": "2025-03-09T10:37:48.317826Z",
     "start_time": "2025-03-09T10:37:48.298774Z"
    }
   },
   "cell_type": "code",
   "source": [
    "print('这是重新编写之后的crystal list！')\n",
    "crystal_list = crystal_graph_list(crystal_data)\n",
    "print('这是crystal list的数据类型',type(crystal_list))\n",
    "print('crystal list图的数量：',len(crystal_list))\n",
    "print('crystal list第1张图的数据类型为',crystal_list[0])\n",
    "print('crystal list第10张图的数据类型为',crystal_list[9])"
   ],
   "id": "1f959852d6bb0f18",
   "outputs": [
    {
     "name": "stdout",
     "output_type": "stream",
     "text": [
      "这是重新编写之后的crystal list！\n",
      "正在转化的数据集大小为： 10\n"
     ]
    },
    {
     "name": "stderr",
     "output_type": "stream",
     "text": [
      "100%|██████████| 10/10 [00:00<00:00, 5024.32it/s]"
     ]
    },
    {
     "name": "stdout",
     "output_type": "stream",
     "text": [
      "这是crystal list的数据类型 <class 'list'>\n",
      "crystal list图的数量： 10\n",
      "crystal list第1张图的数据类型为 Data(x=[8, 92], edge_index=[2, 48], edge_attr=[96], y=[1])\n",
      "crystal list第10张图的数据类型为 Data(x=[8, 92], edge_index=[2, 48], edge_attr=[96], y=[1])\n"
     ]
    },
    {
     "name": "stderr",
     "output_type": "stream",
     "text": [
      "\n"
     ]
    }
   ],
   "execution_count": 26
  },
  {
   "metadata": {},
   "cell_type": "markdown",
   "source": [
    "这是\n",
    "然后调用sat的graphdataset提取子图"
   ],
   "id": "82856bf3114c0498"
  },
  {
   "metadata": {
    "ExecuteTime": {
     "end_time": "2025-03-09T13:22:49.015790Z",
     "start_time": "2025-03-09T13:22:48.933141Z"
    }
   },
   "cell_type": "code",
   "source": [
    "train_zinc_dset = GraphDataset(train_zinc,degree=True, k_hop=k_hop, se=se,use_subgraph_edge_attr=use_edge_attr)\n",
    "print(train_zinc_dset)\n",
    "print('含有子图第一张图数据为：',train_zinc_dset[0])"
   ],
   "id": "16d26f70396f620a",
   "outputs": [
    {
     "name": "stdout",
     "output_type": "stream",
     "text": [
      "Extracting 2-hop subgraphs...\n",
      "Done!\n",
      "<csat.data.GraphDataset object at 0x000001F2AA118CD0>\n",
      "含有子图第一张图数据为： Data(x=[29], edge_index=[2, 64], edge_attr=[64], y=[1, 1], complete_edge_index=[2, 841], degree=[29], subgraph_edge_index=[2, 326], num_subgraph_nodes=187, subgraph_node_idx=[187], subgraph_edge_attr=[326], subgraph_indicator=[187])\n"
     ]
    }
   ],
   "execution_count": 97
  },
  {
   "metadata": {},
   "cell_type": "markdown",
   "source": "",
   "id": "8941049b11a2d294"
  },
  {
   "metadata": {
    "ExecuteTime": {
     "end_time": "2025-03-09T14:47:27.391682Z",
     "start_time": "2025-03-09T14:47:27.343885Z"
    }
   },
   "cell_type": "code",
   "source": [
    "train_c_dset = GraphDataset(crystal_list,degree=True, k_hop=k_hop, se=se,use_subgraph_edge_attr=use_edge_attr)\n",
    "print('含有子图的crystal数据集第一张图数据为：',trian_c_dset[0])"
   ],
   "id": "11a5a7f6afb2f86e",
   "outputs": [
    {
     "name": "stdout",
     "output_type": "stream",
     "text": [
      "Extracting 2-hop subgraphs...\n",
      "Done!\n",
      "含有子图的crystal数据集第一张图数据为： Data(x=[8, 92], edge_index=[2, 12], edge_attr=[12], y=[1, 1], complete_edge_index=[2, 64], subgraph_edge_index=[2, 14], num_subgraph_nodes=15, subgraph_node_idx=[15], subgraph_edge_attr=[14], subgraph_indicator=[15], degree=[8])\n"
     ]
    }
   ],
   "execution_count": 163
  },
  {
   "metadata": {},
   "cell_type": "markdown",
   "source": [
    "我的原数据为`Data(x=[8, 92], edge_index=[8, 12], edge_attr=[8, 12, 41], y=[1])`，再经过edge_index转化[2,n]以及edge_attr降维之后变成：`Data(x=[8, 92], edge_index=[2, 48], edge_attr=[96], y=[1])`。\n",
    "\n",
    "于是出现了问题：edge_mask 是一个布尔张量，用于选择与当前子图相关的边。它的长度应该等于graph.edge_index 的边数（即 graph.edge_index.shape[1]）。但是graph.edge_attr 的长度是 96，因此无法用 edge_mask 对 graph.edge_attr 进行索引。\n",
    "\n",
    "因此对crystal_graph_list进行改写，使用了稀疏矩阵的方法重新改写，再测试"
   ],
   "id": "e320268c0563cff9"
  },
  {
   "metadata": {},
   "cell_type": "markdown",
   "source": "## 从此处开始运行",
   "id": "e9514fa7db5542da"
  },
  {
   "metadata": {
    "ExecuteTime": {
     "end_time": "2025-03-10T08:23:32.017417Z",
     "start_time": "2025-03-10T08:23:31.824054Z"
    }
   },
   "cell_type": "code",
   "source": [
    "print('这是第二次重新编写之后的crystal list！')\n",
    "crystal_list = crystal_graph_list(crystal_data)\n",
    "print('这是crystal list的数据类型',type(crystal_list))\n",
    "print('crystal list图的数量：',len(crystal_list))\n",
    "print('crystal list第1张图的数据类型为',crystal_list[0])\n",
    "print('crystal list第10张图的数据类型为',crystal_list[9])"
   ],
   "id": "27791441310f579d",
   "outputs": [
    {
     "name": "stdout",
     "output_type": "stream",
     "text": [
      "这是第二次重新编写之后的crystal list！\n",
      "正在转化的数据集大小为： 10\n"
     ]
    },
    {
     "name": "stderr",
     "output_type": "stream",
     "text": [
      "100%|██████████| 10/10 [00:00<00:00, 55.48it/s]"
     ]
    },
    {
     "name": "stdout",
     "output_type": "stream",
     "text": [
      "这是crystal list的数据类型 <class 'list'>\n",
      "crystal list图的数量： 10\n",
      "crystal list第1张图的数据类型为 Data(x=[8, 1], edge_index=[2, 96], edge_attr=[96, 41], y=[1])\n",
      "crystal list第10张图的数据类型为 Data(x=[8, 1], edge_index=[2, 96], edge_attr=[96, 41], y=[1])\n"
     ]
    },
    {
     "name": "stderr",
     "output_type": "stream",
     "text": [
      "\n"
     ]
    }
   ],
   "execution_count": 125
  },
  {
   "metadata": {},
   "cell_type": "markdown",
   "source": "结果表明很成功",
   "id": "5ce1a5ff3d29d8f0"
  },
  {
   "metadata": {
    "ExecuteTime": {
     "end_time": "2025-03-10T08:23:35.556940Z",
     "start_time": "2025-03-10T08:23:35.407351Z"
    }
   },
   "cell_type": "code",
   "source": [
    "train_c_dset = GraphDataset(crystal_list,degree=True, k_hop=k_hop, se=se,use_subgraph_edge_attr=use_edge_attr)\n",
    "print('c',train_c_dset[0])\n",
    "\n",
    "train_zinc_dset = GraphDataset(train_zinc, degree=True, k_hop=k_hop, se=se, use_subgraph_edge_attr=use_edge_attr)\n",
    "print(train_zinc_dset)\n",
    "print('z', train_zinc_dset[0])"
   ],
   "id": "446185615707cd1c",
   "outputs": [
    {
     "name": "stdout",
     "output_type": "stream",
     "text": [
      "Extracting 2-hop subgraphs...\n",
      "Done!\n",
      "c Data(x=[8], edge_index=[2, 96], edge_attr=[96, 41], y=[1, 1], complete_edge_index=[2, 64], degree=[8], subgraph_edge_index=[2, 768], num_subgraph_nodes=64, subgraph_node_idx=[64], subgraph_edge_attr=[768, 41], subgraph_indicator=[64])\n",
      "Extracting 2-hop subgraphs...\n",
      "Done!\n",
      "<csat.data.GraphDataset object at 0x000001E06B84B280>\n",
      "z Data(x=[29], edge_index=[2, 64], edge_attr=[64], y=[1, 1], complete_edge_index=[2, 841], degree=[29], subgraph_edge_index=[2, 326], num_subgraph_nodes=187, subgraph_node_idx=[187], subgraph_edge_attr=[326], subgraph_indicator=[187])\n"
     ]
    }
   ],
   "execution_count": 126
  },
  {
   "metadata": {},
   "cell_type": "markdown",
   "source": [
    "# 检查model(dataset)\n",
    "在开始训练之前，出现了如下：\n",
    "\n",
    "RuntimeError: The expanded size of the tensor (276) must match the existing size (3) at non-singleton dimension 0.  Target sizes: [276, 64].  Tensor sizes: [3, 1]"
   ],
   "id": "95d4fb0b572712e4"
  },
  {
   "metadata": {
    "ExecuteTime": {
     "end_time": "2025-03-10T04:53:53.544661Z",
     "start_time": "2025-03-10T04:53:53.523751Z"
    }
   },
   "cell_type": "code",
   "source": [
    "print('zinc数据集第1张图的数据类型为：',train_zinc[0])\n",
    "print('\\n')\n",
    "print('含有子图的zinc第1张',train_zinc_dset[0])\n",
    "print('\\n')\n",
    "print('zinc数据集在loader前',train_zinc_dset[0])\n",
    "train_zinc_loader = DataLoader(train_zinc_dset, batch_size=128,shuffle=True)\n",
    "print('\\n')\n",
    "for batch in train_zinc_loader:\n",
    "    print('loader之后：',batch)"
   ],
   "id": "e81c340cc5dc006b",
   "outputs": [
    {
     "name": "stdout",
     "output_type": "stream",
     "text": [
      "zinc数据集第1张图的数据类型为： Data(x=[29, 1], edge_index=[2, 64], edge_attr=[64], y=[1])\n",
      "\n",
      "\n",
      "含有子图的zinc第1张 Data(x=[29], edge_index=[2, 64], edge_attr=[64], y=[1, 1], complete_edge_index=[2, 841], degree=[29], subgraph_edge_index=[2, 326], num_subgraph_nodes=187, subgraph_node_idx=[187], subgraph_edge_attr=[326], subgraph_indicator=[187])\n",
      "\n",
      "\n",
      "zinc数据集在loader前 Data(x=[29], edge_index=[2, 64], edge_attr=[64], y=[1, 1], complete_edge_index=[2, 841], degree=[29], subgraph_edge_index=[2, 326], num_subgraph_nodes=187, subgraph_node_idx=[187], subgraph_edge_attr=[326], subgraph_indicator=[187])\n",
      "\n",
      "\n",
      "loader之后： DataBatch(x=[222], edge_index=[2, 472], edge_attr=[472], y=[10, 1], complete_edge_index=[2, 5152], degree=[222], subgraph_edge_index=[2, 2310], num_subgraph_nodes=[10], subgraph_node_idx=[1334], subgraph_edge_attr=[2310], subgraph_indicator=[1334], batch=[222], ptr=[11])\n"
     ]
    },
    {
     "name": "stderr",
     "output_type": "stream",
     "text": [
      "E:\\anaconda3\\envs\\pytorch\\lib\\site-packages\\torch_geometric\\deprecation.py:26: UserWarning: 'data.DataLoader' is deprecated, use 'loader.DataLoader' instead\n",
      "  warnings.warn(out)\n"
     ]
    }
   ],
   "execution_count": 85
  },
  {
   "metadata": {},
   "cell_type": "markdown",
   "source": "请注意！由于数据量过小，在loader之后，仅有一个",
   "id": "ab63aa4eb948079d"
  },
  {
   "metadata": {
    "ExecuteTime": {
     "end_time": "2025-03-10T08:23:40.990633Z",
     "start_time": "2025-03-10T08:23:40.965738Z"
    }
   },
   "cell_type": "code",
   "source": [
    "print('c数据集第1张图的数据类型为：',crystal_list[0])\n",
    "print('\\n')\n",
    "print('含有子图的c第1张',train_c_dset[0])\n",
    "print('\\n')\n",
    "print('crystal数据集在loader前',train_c_dset[0])\n",
    "print('\\n')\n",
    "\n",
    "train_c_loader = DataLoader(train_c_dset, batch_size=128, shuffle=True)\n",
    "for batch in train_c_loader:\n",
    "    print('loader之后：',batch)\n",
    "    break"
   ],
   "id": "17e02a4a200b4627",
   "outputs": [
    {
     "name": "stdout",
     "output_type": "stream",
     "text": [
      "c数据集第1张图的数据类型为： Data(x=[8], edge_index=[2, 96], edge_attr=[96, 41], y=[1, 1], complete_edge_index=[2, 64], degree=[8], subgraph_edge_index=[2, 768], num_subgraph_nodes=64, subgraph_node_idx=[64], subgraph_edge_attr=[768, 41], subgraph_indicator=[64])\n",
      "\n",
      "\n",
      "含有子图的c第1张 Data(x=[8], edge_index=[2, 96], edge_attr=[96, 41], y=[1, 1], complete_edge_index=[2, 64], subgraph_edge_index=[2, 768], num_subgraph_nodes=64, subgraph_node_idx=[64], subgraph_edge_attr=[768, 41], subgraph_indicator=[64], degree=[8])\n",
      "\n",
      "\n",
      "crystal数据集在loader前 Data(x=[8], edge_index=[2, 96], edge_attr=[96, 41], y=[1, 1], complete_edge_index=[2, 64], subgraph_edge_index=[2, 768], num_subgraph_nodes=64, subgraph_node_idx=[64], subgraph_edge_attr=[768, 41], subgraph_indicator=[64], degree=[8])\n",
      "\n",
      "\n",
      "loader之后： DataBatch(x=[65], edge_index=[2, 780], edge_attr=[780, 41], y=[10, 1], complete_edge_index=[2, 513], degree=[65], subgraph_edge_index=[2, 5772], num_subgraph_nodes=[10], subgraph_node_idx=[481], subgraph_edge_attr=[5772, 41], subgraph_indicator=[481], batch=[65], ptr=[11])\n"
     ]
    }
   ],
   "execution_count": 127
  },
  {
   "metadata": {},
   "cell_type": "markdown",
   "source": "从数据上看，没有什么问题",
   "id": "f3da2bba607c7daf"
  },
  {
   "metadata": {},
   "cell_type": "markdown",
   "source": "#### zincmox",
   "id": "d03bcc173e40eb4c"
  },
  {
   "metadata": {
    "ExecuteTime": {
     "end_time": "2025-03-10T03:05:11.600720Z",
     "start_time": "2025-03-10T03:05:11.502558Z"
    }
   },
   "cell_type": "code",
   "source": [
    "deg = torch.cat([\n",
    "        utils.degree(data.edge_index[1], num_nodes=data.num_nodes) for\n",
    "        data in train_zinc_dset])\n",
    "zinc_model = GraphTransformer(in_size=28,\n",
    "                             num_class=1,\n",
    "                             d_model=dim_hidden,\n",
    "                             dim_feedforward=2 * dim_hidden,\n",
    "                             dropout=dropout,\n",
    "                             num_heads=num_heads,\n",
    "                             num_layers=num_layers,\n",
    "                             batch_norm=batch_norm,\n",
    "                             abs_pe=abs_pe,\n",
    "                             abs_pe_dim=abs_pe_dim,\n",
    "                             gnn_type=gnn_type,\n",
    "                             use_edge_attr=use_edge_attr,\n",
    "                             num_edge_features=4,\n",
    "                             edge_dim=edge_dim,\n",
    "                             k_hop=k_hop,\n",
    "                             se=se,\n",
    "                             deg=deg,\n",
    "                             global_pool=global_pool)"
   ],
   "id": "7920436dc65a1a42",
   "outputs": [],
   "execution_count": 70
  },
  {
   "metadata": {},
   "cell_type": "markdown",
   "source": [
    "在这里需要注意一个问题\n",
    "\n",
    "zinc数据集中\n",
    "\n",
    "number of node attributes for ZINC crystal_dataset\n",
    "\n",
    "n_tags = 28------------>in_size\n",
    "\n",
    "num_edge_features = 4\n",
    "\n",
    "而我们crystal数据集的这两个参数是未知的，于是我使用92，41代替\n"
   ],
   "id": "53492fdfbcb4f565"
  },
  {
   "metadata": {},
   "cell_type": "markdown",
   "source": "#### C模型",
   "id": "287330f8821759ce"
  },
  {
   "metadata": {
    "ExecuteTime": {
     "end_time": "2025-03-10T08:23:44.710231Z",
     "start_time": "2025-03-10T08:23:44.605674Z"
    }
   },
   "cell_type": "code",
   "source": [
    "deg = torch.cat([\n",
    "        utils.degree(data.edge_index[1], num_nodes=data.num_nodes) for\n",
    "        data in train_c_dset])\n",
    "c_model = GraphTransformer(in_size=92,\n",
    "                             num_class=1,\n",
    "                             d_model=dim_hidden,\n",
    "                             dim_feedforward=2 * dim_hidden,\n",
    "                             dropout=dropout,\n",
    "                             num_heads=num_heads,\n",
    "                             num_layers=num_layers,\n",
    "                             batch_norm=batch_norm,\n",
    "                             abs_pe=abs_pe,\n",
    "                             abs_pe_dim=abs_pe_dim,\n",
    "                             gnn_type=gnn_type,\n",
    "                             use_edge_attr=use_edge_attr,\n",
    "                             num_edge_features=41,\n",
    "                             edge_dim=edge_dim,\n",
    "                             k_hop=k_hop,\n",
    "                             se=se,\n",
    "                             deg=deg,\n",
    "                             global_pool=global_pool)"
   ],
   "id": "6305b3612ef5f452",
   "outputs": [],
   "execution_count": 128
  },
  {
   "metadata": {},
   "cell_type": "markdown",
   "source": "#### 训练函数",
   "id": "70fe3fd5d7053270"
  },
  {
   "metadata": {
    "ExecuteTime": {
     "end_time": "2025-03-10T08:21:09.466899Z",
     "start_time": "2025-03-10T08:21:09.458835Z"
    }
   },
   "cell_type": "code",
   "source": [
    "def train_out(loader, model, optimizer):\n",
    "    running_loss = 0.0\n",
    "    model.train()\n",
    "    for i, data in enumerate(loader):\n",
    "        print(i)\n",
    "        print(data)\n",
    "        size = len(data.y)\n",
    "        if use_cuda:\n",
    "            data = data.cuda()\n",
    "\n",
    "        criterion = nn.L1Loss()\n",
    "        optimizer.zero_grad()\n",
    "        output = model(data)\n",
    "        loss = criterion(output, data.y)\n",
    "\n",
    "        loss.backward()\n",
    "        optimizer.step()\n",
    "\n",
    "        running_loss += loss.item() * size\n",
    "\n",
    "    n_sample = len(loader.dataset)\n",
    "    epoch_loss = running_loss / n_sample\n",
    "\n",
    "    print('done!')\n",
    "    print('epoch_loss is',epoch_loss)\n",
    "    return epoch_loss"
   ],
   "id": "fd1c01f4bbde7e64",
   "outputs": [],
   "execution_count": 120
  },
  {
   "metadata": {
    "ExecuteTime": {
     "end_time": "2025-03-10T04:54:04.581924Z",
     "start_time": "2025-03-10T04:54:04.369825Z"
    }
   },
   "cell_type": "code",
   "source": [
    "zinc_model = zinc_model.to(device)\n",
    "optimizer = optim.AdamW(zinc_model.parameters(), lr=lr, weight_decay=weight_decay)\n",
    "zinc_out = train_out(train_zinc_loader, zinc_model,optimizer)\n"
   ],
   "id": "624d37180f2d472c",
   "outputs": [
    {
     "name": "stdout",
     "output_type": "stream",
     "text": [
      "0\n",
      "DataBatch(x=[222], edge_index=[2, 472], edge_attr=[472], y=[10, 1], complete_edge_index=[2, 5152], degree=[222], subgraph_edge_index=[2, 2310], num_subgraph_nodes=[10], subgraph_node_idx=[1334], subgraph_edge_attr=[2310], subgraph_indicator=[1334], batch=[222], ptr=[11])\n",
      "done!\n",
      "epoch_loss is 0.9110336303710938\n"
     ]
    }
   ],
   "execution_count": 89
  },
  {
   "metadata": {
    "ExecuteTime": {
     "end_time": "2025-03-10T08:23:49.625128Z",
     "start_time": "2025-03-10T08:23:48.584907Z"
    }
   },
   "cell_type": "code",
   "source": [
    "c_model = c_model.to(device)\n",
    "optimizer = optim.AdamW(c_model.parameters(), lr=lr, weight_decay=weight_decay)\n",
    "c_out = train_out(train_c_loader, c_model,optimizer)"
   ],
   "id": "a72a9bf13ab73922",
   "outputs": [
    {
     "name": "stdout",
     "output_type": "stream",
     "text": [
      "0\n",
      "DataBatch(x=[65], edge_index=[2, 780], edge_attr=[780, 41], y=[10, 1], complete_edge_index=[2, 513], subgraph_edge_index=[2, 5772], num_subgraph_nodes=[10], subgraph_node_idx=[481], subgraph_edge_attr=[5772, 41], subgraph_indicator=[481], degree=[65], batch=[65], ptr=[11])\n"
     ]
    },
    {
     "ename": "RuntimeError",
     "evalue": "Sizes of tensors must match except in dimension 2. Expected size 5772 but got size 236652 for tensor number 2 in the list.",
     "output_type": "error",
     "traceback": [
      "\u001B[1;31m---------------------------------------------------------------------------\u001B[0m",
      "\u001B[1;31mRuntimeError\u001B[0m                              Traceback (most recent call last)",
      "Cell \u001B[1;32mIn[129], line 3\u001B[0m\n\u001B[0;32m      1\u001B[0m c_model \u001B[38;5;241m=\u001B[39m c_model\u001B[38;5;241m.\u001B[39mto(device)\n\u001B[0;32m      2\u001B[0m optimizer \u001B[38;5;241m=\u001B[39m optim\u001B[38;5;241m.\u001B[39mAdamW(c_model\u001B[38;5;241m.\u001B[39mparameters(), lr\u001B[38;5;241m=\u001B[39mlr, weight_decay\u001B[38;5;241m=\u001B[39mweight_decay)\n\u001B[1;32m----> 3\u001B[0m c_out \u001B[38;5;241m=\u001B[39m \u001B[43mtrain_out\u001B[49m\u001B[43m(\u001B[49m\u001B[43mtrain_c_loader\u001B[49m\u001B[43m,\u001B[49m\u001B[43m \u001B[49m\u001B[43mc_model\u001B[49m\u001B[43m,\u001B[49m\u001B[43moptimizer\u001B[49m\u001B[43m)\u001B[49m\n",
      "Cell \u001B[1;32mIn[120], line 13\u001B[0m, in \u001B[0;36mtrain_out\u001B[1;34m(loader, model, optimizer)\u001B[0m\n\u001B[0;32m     11\u001B[0m criterion \u001B[38;5;241m=\u001B[39m nn\u001B[38;5;241m.\u001B[39mL1Loss()\n\u001B[0;32m     12\u001B[0m optimizer\u001B[38;5;241m.\u001B[39mzero_grad()\n\u001B[1;32m---> 13\u001B[0m output \u001B[38;5;241m=\u001B[39m \u001B[43mmodel\u001B[49m\u001B[43m(\u001B[49m\u001B[43mdata\u001B[49m\u001B[43m)\u001B[49m\n\u001B[0;32m     14\u001B[0m loss \u001B[38;5;241m=\u001B[39m criterion(output, data\u001B[38;5;241m.\u001B[39my)\n\u001B[0;32m     16\u001B[0m loss\u001B[38;5;241m.\u001B[39mbackward()\n",
      "File \u001B[1;32mE:\\anaconda3\\envs\\pytorch\\lib\\site-packages\\torch\\nn\\modules\\module.py:1553\u001B[0m, in \u001B[0;36mModule._wrapped_call_impl\u001B[1;34m(self, *args, **kwargs)\u001B[0m\n\u001B[0;32m   1551\u001B[0m     \u001B[38;5;28;01mreturn\u001B[39;00m \u001B[38;5;28mself\u001B[39m\u001B[38;5;241m.\u001B[39m_compiled_call_impl(\u001B[38;5;241m*\u001B[39margs, \u001B[38;5;241m*\u001B[39m\u001B[38;5;241m*\u001B[39mkwargs)  \u001B[38;5;66;03m# type: ignore[misc]\u001B[39;00m\n\u001B[0;32m   1552\u001B[0m \u001B[38;5;28;01melse\u001B[39;00m:\n\u001B[1;32m-> 1553\u001B[0m     \u001B[38;5;28;01mreturn\u001B[39;00m \u001B[38;5;28;43mself\u001B[39;49m\u001B[38;5;241;43m.\u001B[39;49m\u001B[43m_call_impl\u001B[49m\u001B[43m(\u001B[49m\u001B[38;5;241;43m*\u001B[39;49m\u001B[43margs\u001B[49m\u001B[43m,\u001B[49m\u001B[43m \u001B[49m\u001B[38;5;241;43m*\u001B[39;49m\u001B[38;5;241;43m*\u001B[39;49m\u001B[43mkwargs\u001B[49m\u001B[43m)\u001B[49m\n",
      "File \u001B[1;32mE:\\anaconda3\\envs\\pytorch\\lib\\site-packages\\torch\\nn\\modules\\module.py:1562\u001B[0m, in \u001B[0;36mModule._call_impl\u001B[1;34m(self, *args, **kwargs)\u001B[0m\n\u001B[0;32m   1557\u001B[0m \u001B[38;5;66;03m# If we don't have any hooks, we want to skip the rest of the logic in\u001B[39;00m\n\u001B[0;32m   1558\u001B[0m \u001B[38;5;66;03m# this function, and just call forward.\u001B[39;00m\n\u001B[0;32m   1559\u001B[0m \u001B[38;5;28;01mif\u001B[39;00m \u001B[38;5;129;01mnot\u001B[39;00m (\u001B[38;5;28mself\u001B[39m\u001B[38;5;241m.\u001B[39m_backward_hooks \u001B[38;5;129;01mor\u001B[39;00m \u001B[38;5;28mself\u001B[39m\u001B[38;5;241m.\u001B[39m_backward_pre_hooks \u001B[38;5;129;01mor\u001B[39;00m \u001B[38;5;28mself\u001B[39m\u001B[38;5;241m.\u001B[39m_forward_hooks \u001B[38;5;129;01mor\u001B[39;00m \u001B[38;5;28mself\u001B[39m\u001B[38;5;241m.\u001B[39m_forward_pre_hooks\n\u001B[0;32m   1560\u001B[0m         \u001B[38;5;129;01mor\u001B[39;00m _global_backward_pre_hooks \u001B[38;5;129;01mor\u001B[39;00m _global_backward_hooks\n\u001B[0;32m   1561\u001B[0m         \u001B[38;5;129;01mor\u001B[39;00m _global_forward_hooks \u001B[38;5;129;01mor\u001B[39;00m _global_forward_pre_hooks):\n\u001B[1;32m-> 1562\u001B[0m     \u001B[38;5;28;01mreturn\u001B[39;00m \u001B[43mforward_call\u001B[49m\u001B[43m(\u001B[49m\u001B[38;5;241;43m*\u001B[39;49m\u001B[43margs\u001B[49m\u001B[43m,\u001B[49m\u001B[43m \u001B[49m\u001B[38;5;241;43m*\u001B[39;49m\u001B[38;5;241;43m*\u001B[39;49m\u001B[43mkwargs\u001B[49m\u001B[43m)\u001B[49m\n\u001B[0;32m   1564\u001B[0m \u001B[38;5;28;01mtry\u001B[39;00m:\n\u001B[0;32m   1565\u001B[0m     result \u001B[38;5;241m=\u001B[39m \u001B[38;5;28;01mNone\u001B[39;00m\n",
      "File \u001B[1;32mE:\\WYX_Project\\SAT-CGCN-Demo-1\\csat\\models.py:150\u001B[0m, in \u001B[0;36mGraphTransformer.forward\u001B[1;34m(self, data, return_attn)\u001B[0m\n\u001B[0;32m    147\u001B[0m     cls_tokens \u001B[38;5;241m=\u001B[39m repeat(\u001B[38;5;28mself\u001B[39m\u001B[38;5;241m.\u001B[39mcls_token, \u001B[38;5;124m'\u001B[39m\u001B[38;5;124m() d -> b d\u001B[39m\u001B[38;5;124m'\u001B[39m, b\u001B[38;5;241m=\u001B[39mbsz)\n\u001B[0;32m    148\u001B[0m     output \u001B[38;5;241m=\u001B[39m torch\u001B[38;5;241m.\u001B[39mcat((output, cls_tokens))\n\u001B[1;32m--> 150\u001B[0m output \u001B[38;5;241m=\u001B[39m \u001B[38;5;28;43mself\u001B[39;49m\u001B[38;5;241;43m.\u001B[39;49m\u001B[43mencoder\u001B[49m\u001B[43m(\u001B[49m\n\u001B[0;32m    151\u001B[0m \u001B[43m    \u001B[49m\u001B[43moutput\u001B[49m\u001B[43m,\u001B[49m\u001B[43m \u001B[49m\n\u001B[0;32m    152\u001B[0m \u001B[43m    \u001B[49m\u001B[43medge_index\u001B[49m\u001B[43m,\u001B[49m\u001B[43m \u001B[49m\n\u001B[0;32m    153\u001B[0m \u001B[43m    \u001B[49m\u001B[43mcomplete_edge_index\u001B[49m\u001B[43m,\u001B[49m\n\u001B[0;32m    154\u001B[0m \u001B[43m    \u001B[49m\u001B[43medge_attr\u001B[49m\u001B[38;5;241;43m=\u001B[39;49m\u001B[43medge_attr\u001B[49m\u001B[43m,\u001B[49m\u001B[43m \u001B[49m\n\u001B[0;32m    155\u001B[0m \u001B[43m    \u001B[49m\u001B[43mdegree\u001B[49m\u001B[38;5;241;43m=\u001B[39;49m\u001B[43mdegree\u001B[49m\u001B[43m,\u001B[49m\n\u001B[0;32m    156\u001B[0m \u001B[43m    \u001B[49m\u001B[43msubgraph_node_index\u001B[49m\u001B[38;5;241;43m=\u001B[39;49m\u001B[43msubgraph_node_index\u001B[49m\u001B[43m,\u001B[49m\n\u001B[0;32m    157\u001B[0m \u001B[43m    \u001B[49m\u001B[43msubgraph_edge_index\u001B[49m\u001B[38;5;241;43m=\u001B[39;49m\u001B[43msubgraph_edge_index\u001B[49m\u001B[43m,\u001B[49m\n\u001B[0;32m    158\u001B[0m \u001B[43m    \u001B[49m\u001B[43msubgraph_indicator_index\u001B[49m\u001B[38;5;241;43m=\u001B[39;49m\u001B[43msubgraph_indicator_index\u001B[49m\u001B[43m,\u001B[49m\u001B[43m \u001B[49m\n\u001B[0;32m    159\u001B[0m \u001B[43m    \u001B[49m\u001B[43msubgraph_edge_attr\u001B[49m\u001B[38;5;241;43m=\u001B[39;49m\u001B[43msubgraph_edge_attr\u001B[49m\u001B[43m,\u001B[49m\n\u001B[0;32m    160\u001B[0m \u001B[43m    \u001B[49m\u001B[43mptr\u001B[49m\u001B[38;5;241;43m=\u001B[39;49m\u001B[43mdata\u001B[49m\u001B[38;5;241;43m.\u001B[39;49m\u001B[43mptr\u001B[49m\u001B[43m,\u001B[49m\n\u001B[0;32m    161\u001B[0m \u001B[43m    \u001B[49m\u001B[43mreturn_attn\u001B[49m\u001B[38;5;241;43m=\u001B[39;49m\u001B[43mreturn_attn\u001B[49m\n\u001B[0;32m    162\u001B[0m \u001B[43m\u001B[49m\u001B[43m)\u001B[49m\n\u001B[0;32m    163\u001B[0m \u001B[38;5;66;03m# readout step\u001B[39;00m\n\u001B[0;32m    164\u001B[0m \u001B[38;5;28;01mif\u001B[39;00m \u001B[38;5;28mself\u001B[39m\u001B[38;5;241m.\u001B[39muse_global_pool:\n",
      "File \u001B[1;32mE:\\anaconda3\\envs\\pytorch\\lib\\site-packages\\torch\\nn\\modules\\module.py:1553\u001B[0m, in \u001B[0;36mModule._wrapped_call_impl\u001B[1;34m(self, *args, **kwargs)\u001B[0m\n\u001B[0;32m   1551\u001B[0m     \u001B[38;5;28;01mreturn\u001B[39;00m \u001B[38;5;28mself\u001B[39m\u001B[38;5;241m.\u001B[39m_compiled_call_impl(\u001B[38;5;241m*\u001B[39margs, \u001B[38;5;241m*\u001B[39m\u001B[38;5;241m*\u001B[39mkwargs)  \u001B[38;5;66;03m# type: ignore[misc]\u001B[39;00m\n\u001B[0;32m   1552\u001B[0m \u001B[38;5;28;01melse\u001B[39;00m:\n\u001B[1;32m-> 1553\u001B[0m     \u001B[38;5;28;01mreturn\u001B[39;00m \u001B[38;5;28;43mself\u001B[39;49m\u001B[38;5;241;43m.\u001B[39;49m\u001B[43m_call_impl\u001B[49m\u001B[43m(\u001B[49m\u001B[38;5;241;43m*\u001B[39;49m\u001B[43margs\u001B[49m\u001B[43m,\u001B[49m\u001B[43m \u001B[49m\u001B[38;5;241;43m*\u001B[39;49m\u001B[38;5;241;43m*\u001B[39;49m\u001B[43mkwargs\u001B[49m\u001B[43m)\u001B[49m\n",
      "File \u001B[1;32mE:\\anaconda3\\envs\\pytorch\\lib\\site-packages\\torch\\nn\\modules\\module.py:1562\u001B[0m, in \u001B[0;36mModule._call_impl\u001B[1;34m(self, *args, **kwargs)\u001B[0m\n\u001B[0;32m   1557\u001B[0m \u001B[38;5;66;03m# If we don't have any hooks, we want to skip the rest of the logic in\u001B[39;00m\n\u001B[0;32m   1558\u001B[0m \u001B[38;5;66;03m# this function, and just call forward.\u001B[39;00m\n\u001B[0;32m   1559\u001B[0m \u001B[38;5;28;01mif\u001B[39;00m \u001B[38;5;129;01mnot\u001B[39;00m (\u001B[38;5;28mself\u001B[39m\u001B[38;5;241m.\u001B[39m_backward_hooks \u001B[38;5;129;01mor\u001B[39;00m \u001B[38;5;28mself\u001B[39m\u001B[38;5;241m.\u001B[39m_backward_pre_hooks \u001B[38;5;129;01mor\u001B[39;00m \u001B[38;5;28mself\u001B[39m\u001B[38;5;241m.\u001B[39m_forward_hooks \u001B[38;5;129;01mor\u001B[39;00m \u001B[38;5;28mself\u001B[39m\u001B[38;5;241m.\u001B[39m_forward_pre_hooks\n\u001B[0;32m   1560\u001B[0m         \u001B[38;5;129;01mor\u001B[39;00m _global_backward_pre_hooks \u001B[38;5;129;01mor\u001B[39;00m _global_backward_hooks\n\u001B[0;32m   1561\u001B[0m         \u001B[38;5;129;01mor\u001B[39;00m _global_forward_hooks \u001B[38;5;129;01mor\u001B[39;00m _global_forward_pre_hooks):\n\u001B[1;32m-> 1562\u001B[0m     \u001B[38;5;28;01mreturn\u001B[39;00m \u001B[43mforward_call\u001B[49m\u001B[43m(\u001B[49m\u001B[38;5;241;43m*\u001B[39;49m\u001B[43margs\u001B[49m\u001B[43m,\u001B[49m\u001B[43m \u001B[49m\u001B[38;5;241;43m*\u001B[39;49m\u001B[38;5;241;43m*\u001B[39;49m\u001B[43mkwargs\u001B[49m\u001B[43m)\u001B[49m\n\u001B[0;32m   1564\u001B[0m \u001B[38;5;28;01mtry\u001B[39;00m:\n\u001B[0;32m   1565\u001B[0m     result \u001B[38;5;241m=\u001B[39m \u001B[38;5;28;01mNone\u001B[39;00m\n",
      "File \u001B[1;32mE:\\WYX_Project\\SAT-CGCN-Demo-1\\csat\\models.py:17\u001B[0m, in \u001B[0;36mGraphTransformerEncoder.forward\u001B[1;34m(self, x, edge_index, complete_edge_index, subgraph_node_index, subgraph_edge_index, subgraph_edge_attr, subgraph_indicator_index, edge_attr, degree, ptr, return_attn)\u001B[0m\n\u001B[0;32m     14\u001B[0m output \u001B[38;5;241m=\u001B[39m x\n\u001B[0;32m     16\u001B[0m \u001B[38;5;28;01mfor\u001B[39;00m mod \u001B[38;5;129;01min\u001B[39;00m \u001B[38;5;28mself\u001B[39m\u001B[38;5;241m.\u001B[39mlayers:\n\u001B[1;32m---> 17\u001B[0m     output \u001B[38;5;241m=\u001B[39m \u001B[43mmod\u001B[49m\u001B[43m(\u001B[49m\u001B[43moutput\u001B[49m\u001B[43m,\u001B[49m\u001B[43m \u001B[49m\u001B[43medge_index\u001B[49m\u001B[43m,\u001B[49m\u001B[43m \u001B[49m\u001B[43mcomplete_edge_index\u001B[49m\u001B[43m,\u001B[49m\n\u001B[0;32m     18\u001B[0m \u001B[43m        \u001B[49m\u001B[43medge_attr\u001B[49m\u001B[38;5;241;43m=\u001B[39;49m\u001B[43medge_attr\u001B[49m\u001B[43m,\u001B[49m\u001B[43m \u001B[49m\u001B[43mdegree\u001B[49m\u001B[38;5;241;43m=\u001B[39;49m\u001B[43mdegree\u001B[49m\u001B[43m,\u001B[49m\n\u001B[0;32m     19\u001B[0m \u001B[43m        \u001B[49m\u001B[43msubgraph_node_index\u001B[49m\u001B[38;5;241;43m=\u001B[39;49m\u001B[43msubgraph_node_index\u001B[49m\u001B[43m,\u001B[49m\n\u001B[0;32m     20\u001B[0m \u001B[43m        \u001B[49m\u001B[43msubgraph_edge_index\u001B[49m\u001B[38;5;241;43m=\u001B[39;49m\u001B[43msubgraph_edge_index\u001B[49m\u001B[43m,\u001B[49m\n\u001B[0;32m     21\u001B[0m \u001B[43m        \u001B[49m\u001B[43msubgraph_indicator_index\u001B[49m\u001B[38;5;241;43m=\u001B[39;49m\u001B[43msubgraph_indicator_index\u001B[49m\u001B[43m,\u001B[49m\u001B[43m \u001B[49m\n\u001B[0;32m     22\u001B[0m \u001B[43m        \u001B[49m\u001B[43msubgraph_edge_attr\u001B[49m\u001B[38;5;241;43m=\u001B[39;49m\u001B[43msubgraph_edge_attr\u001B[49m\u001B[43m,\u001B[49m\n\u001B[0;32m     23\u001B[0m \u001B[43m        \u001B[49m\u001B[43mptr\u001B[49m\u001B[38;5;241;43m=\u001B[39;49m\u001B[43mptr\u001B[49m\u001B[43m,\u001B[49m\n\u001B[0;32m     24\u001B[0m \u001B[43m        \u001B[49m\u001B[43mreturn_attn\u001B[49m\u001B[38;5;241;43m=\u001B[39;49m\u001B[43mreturn_attn\u001B[49m\n\u001B[0;32m     25\u001B[0m \u001B[43m    \u001B[49m\u001B[43m)\u001B[49m\n\u001B[0;32m     26\u001B[0m \u001B[38;5;28;01mif\u001B[39;00m \u001B[38;5;28mself\u001B[39m\u001B[38;5;241m.\u001B[39mnorm \u001B[38;5;129;01mis\u001B[39;00m \u001B[38;5;129;01mnot\u001B[39;00m \u001B[38;5;28;01mNone\u001B[39;00m:\n\u001B[0;32m     27\u001B[0m     output \u001B[38;5;241m=\u001B[39m \u001B[38;5;28mself\u001B[39m\u001B[38;5;241m.\u001B[39mnorm(output)\n",
      "File \u001B[1;32mE:\\anaconda3\\envs\\pytorch\\lib\\site-packages\\torch\\nn\\modules\\module.py:1553\u001B[0m, in \u001B[0;36mModule._wrapped_call_impl\u001B[1;34m(self, *args, **kwargs)\u001B[0m\n\u001B[0;32m   1551\u001B[0m     \u001B[38;5;28;01mreturn\u001B[39;00m \u001B[38;5;28mself\u001B[39m\u001B[38;5;241m.\u001B[39m_compiled_call_impl(\u001B[38;5;241m*\u001B[39margs, \u001B[38;5;241m*\u001B[39m\u001B[38;5;241m*\u001B[39mkwargs)  \u001B[38;5;66;03m# type: ignore[misc]\u001B[39;00m\n\u001B[0;32m   1552\u001B[0m \u001B[38;5;28;01melse\u001B[39;00m:\n\u001B[1;32m-> 1553\u001B[0m     \u001B[38;5;28;01mreturn\u001B[39;00m \u001B[38;5;28;43mself\u001B[39;49m\u001B[38;5;241;43m.\u001B[39;49m\u001B[43m_call_impl\u001B[49m\u001B[43m(\u001B[49m\u001B[38;5;241;43m*\u001B[39;49m\u001B[43margs\u001B[49m\u001B[43m,\u001B[49m\u001B[43m \u001B[49m\u001B[38;5;241;43m*\u001B[39;49m\u001B[38;5;241;43m*\u001B[39;49m\u001B[43mkwargs\u001B[49m\u001B[43m)\u001B[49m\n",
      "File \u001B[1;32mE:\\anaconda3\\envs\\pytorch\\lib\\site-packages\\torch\\nn\\modules\\module.py:1562\u001B[0m, in \u001B[0;36mModule._call_impl\u001B[1;34m(self, *args, **kwargs)\u001B[0m\n\u001B[0;32m   1557\u001B[0m \u001B[38;5;66;03m# If we don't have any hooks, we want to skip the rest of the logic in\u001B[39;00m\n\u001B[0;32m   1558\u001B[0m \u001B[38;5;66;03m# this function, and just call forward.\u001B[39;00m\n\u001B[0;32m   1559\u001B[0m \u001B[38;5;28;01mif\u001B[39;00m \u001B[38;5;129;01mnot\u001B[39;00m (\u001B[38;5;28mself\u001B[39m\u001B[38;5;241m.\u001B[39m_backward_hooks \u001B[38;5;129;01mor\u001B[39;00m \u001B[38;5;28mself\u001B[39m\u001B[38;5;241m.\u001B[39m_backward_pre_hooks \u001B[38;5;129;01mor\u001B[39;00m \u001B[38;5;28mself\u001B[39m\u001B[38;5;241m.\u001B[39m_forward_hooks \u001B[38;5;129;01mor\u001B[39;00m \u001B[38;5;28mself\u001B[39m\u001B[38;5;241m.\u001B[39m_forward_pre_hooks\n\u001B[0;32m   1560\u001B[0m         \u001B[38;5;129;01mor\u001B[39;00m _global_backward_pre_hooks \u001B[38;5;129;01mor\u001B[39;00m _global_backward_hooks\n\u001B[0;32m   1561\u001B[0m         \u001B[38;5;129;01mor\u001B[39;00m _global_forward_hooks \u001B[38;5;129;01mor\u001B[39;00m _global_forward_pre_hooks):\n\u001B[1;32m-> 1562\u001B[0m     \u001B[38;5;28;01mreturn\u001B[39;00m \u001B[43mforward_call\u001B[49m\u001B[43m(\u001B[49m\u001B[38;5;241;43m*\u001B[39;49m\u001B[43margs\u001B[49m\u001B[43m,\u001B[49m\u001B[43m \u001B[49m\u001B[38;5;241;43m*\u001B[39;49m\u001B[38;5;241;43m*\u001B[39;49m\u001B[43mkwargs\u001B[49m\u001B[43m)\u001B[49m\n\u001B[0;32m   1564\u001B[0m \u001B[38;5;28;01mtry\u001B[39;00m:\n\u001B[0;32m   1565\u001B[0m     result \u001B[38;5;241m=\u001B[39m \u001B[38;5;28;01mNone\u001B[39;00m\n",
      "File \u001B[1;32mE:\\WYX_Project\\SAT-CGCN-Demo-1\\csat\\layers.py:358\u001B[0m, in \u001B[0;36mTransformerEncoderLayer.forward\u001B[1;34m(self, x, edge_index, complete_edge_index, subgraph_node_index, subgraph_edge_index, subgraph_edge_attr, subgraph_indicator_index, edge_attr, degree, ptr, return_attn)\u001B[0m\n\u001B[0;32m    355\u001B[0m \u001B[38;5;28;01mif\u001B[39;00m \u001B[38;5;28mself\u001B[39m\u001B[38;5;241m.\u001B[39mpre_norm:\n\u001B[0;32m    356\u001B[0m     x \u001B[38;5;241m=\u001B[39m \u001B[38;5;28mself\u001B[39m\u001B[38;5;241m.\u001B[39mnorm1(x)\n\u001B[1;32m--> 358\u001B[0m x2, attn \u001B[38;5;241m=\u001B[39m \u001B[38;5;28;43mself\u001B[39;49m\u001B[38;5;241;43m.\u001B[39;49m\u001B[43mself_attn\u001B[49m\u001B[43m(\u001B[49m\n\u001B[0;32m    359\u001B[0m \u001B[43m    \u001B[49m\u001B[43mx\u001B[49m\u001B[43m,\u001B[49m\n\u001B[0;32m    360\u001B[0m \u001B[43m    \u001B[49m\u001B[43medge_index\u001B[49m\u001B[43m,\u001B[49m\n\u001B[0;32m    361\u001B[0m \u001B[43m    \u001B[49m\u001B[43mcomplete_edge_index\u001B[49m\u001B[43m,\u001B[49m\n\u001B[0;32m    362\u001B[0m \u001B[43m    \u001B[49m\u001B[43medge_attr\u001B[49m\u001B[38;5;241;43m=\u001B[39;49m\u001B[43medge_attr\u001B[49m\u001B[43m,\u001B[49m\n\u001B[0;32m    363\u001B[0m \u001B[43m    \u001B[49m\u001B[43msubgraph_node_index\u001B[49m\u001B[38;5;241;43m=\u001B[39;49m\u001B[43msubgraph_node_index\u001B[49m\u001B[43m,\u001B[49m\n\u001B[0;32m    364\u001B[0m \u001B[43m    \u001B[49m\u001B[43msubgraph_edge_index\u001B[49m\u001B[38;5;241;43m=\u001B[39;49m\u001B[43msubgraph_edge_index\u001B[49m\u001B[43m,\u001B[49m\n\u001B[0;32m    365\u001B[0m \u001B[43m    \u001B[49m\u001B[43msubgraph_indicator_index\u001B[49m\u001B[38;5;241;43m=\u001B[39;49m\u001B[43msubgraph_indicator_index\u001B[49m\u001B[43m,\u001B[49m\n\u001B[0;32m    366\u001B[0m \u001B[43m    \u001B[49m\u001B[43msubgraph_edge_attr\u001B[49m\u001B[38;5;241;43m=\u001B[39;49m\u001B[43msubgraph_edge_attr\u001B[49m\u001B[43m,\u001B[49m\n\u001B[0;32m    367\u001B[0m \u001B[43m    \u001B[49m\u001B[43mptr\u001B[49m\u001B[38;5;241;43m=\u001B[39;49m\u001B[43mptr\u001B[49m\u001B[43m,\u001B[49m\n\u001B[0;32m    368\u001B[0m \u001B[43m    \u001B[49m\u001B[43mreturn_attn\u001B[49m\u001B[38;5;241;43m=\u001B[39;49m\u001B[43mreturn_attn\u001B[49m\n\u001B[0;32m    369\u001B[0m \u001B[43m\u001B[49m\u001B[43m)\u001B[49m\n\u001B[0;32m    371\u001B[0m \u001B[38;5;28;01mif\u001B[39;00m degree \u001B[38;5;129;01mis\u001B[39;00m \u001B[38;5;129;01mnot\u001B[39;00m \u001B[38;5;28;01mNone\u001B[39;00m:\n\u001B[0;32m    372\u001B[0m     x2 \u001B[38;5;241m=\u001B[39m degree\u001B[38;5;241m.\u001B[39munsqueeze(\u001B[38;5;241m-\u001B[39m\u001B[38;5;241m1\u001B[39m) \u001B[38;5;241m*\u001B[39m x2\n",
      "File \u001B[1;32mE:\\anaconda3\\envs\\pytorch\\lib\\site-packages\\torch\\nn\\modules\\module.py:1553\u001B[0m, in \u001B[0;36mModule._wrapped_call_impl\u001B[1;34m(self, *args, **kwargs)\u001B[0m\n\u001B[0;32m   1551\u001B[0m     \u001B[38;5;28;01mreturn\u001B[39;00m \u001B[38;5;28mself\u001B[39m\u001B[38;5;241m.\u001B[39m_compiled_call_impl(\u001B[38;5;241m*\u001B[39margs, \u001B[38;5;241m*\u001B[39m\u001B[38;5;241m*\u001B[39mkwargs)  \u001B[38;5;66;03m# type: ignore[misc]\u001B[39;00m\n\u001B[0;32m   1552\u001B[0m \u001B[38;5;28;01melse\u001B[39;00m:\n\u001B[1;32m-> 1553\u001B[0m     \u001B[38;5;28;01mreturn\u001B[39;00m \u001B[38;5;28;43mself\u001B[39;49m\u001B[38;5;241;43m.\u001B[39;49m\u001B[43m_call_impl\u001B[49m\u001B[43m(\u001B[49m\u001B[38;5;241;43m*\u001B[39;49m\u001B[43margs\u001B[49m\u001B[43m,\u001B[49m\u001B[43m \u001B[49m\u001B[38;5;241;43m*\u001B[39;49m\u001B[38;5;241;43m*\u001B[39;49m\u001B[43mkwargs\u001B[49m\u001B[43m)\u001B[49m\n",
      "File \u001B[1;32mE:\\anaconda3\\envs\\pytorch\\lib\\site-packages\\torch\\nn\\modules\\module.py:1562\u001B[0m, in \u001B[0;36mModule._call_impl\u001B[1;34m(self, *args, **kwargs)\u001B[0m\n\u001B[0;32m   1557\u001B[0m \u001B[38;5;66;03m# If we don't have any hooks, we want to skip the rest of the logic in\u001B[39;00m\n\u001B[0;32m   1558\u001B[0m \u001B[38;5;66;03m# this function, and just call forward.\u001B[39;00m\n\u001B[0;32m   1559\u001B[0m \u001B[38;5;28;01mif\u001B[39;00m \u001B[38;5;129;01mnot\u001B[39;00m (\u001B[38;5;28mself\u001B[39m\u001B[38;5;241m.\u001B[39m_backward_hooks \u001B[38;5;129;01mor\u001B[39;00m \u001B[38;5;28mself\u001B[39m\u001B[38;5;241m.\u001B[39m_backward_pre_hooks \u001B[38;5;129;01mor\u001B[39;00m \u001B[38;5;28mself\u001B[39m\u001B[38;5;241m.\u001B[39m_forward_hooks \u001B[38;5;129;01mor\u001B[39;00m \u001B[38;5;28mself\u001B[39m\u001B[38;5;241m.\u001B[39m_forward_pre_hooks\n\u001B[0;32m   1560\u001B[0m         \u001B[38;5;129;01mor\u001B[39;00m _global_backward_pre_hooks \u001B[38;5;129;01mor\u001B[39;00m _global_backward_hooks\n\u001B[0;32m   1561\u001B[0m         \u001B[38;5;129;01mor\u001B[39;00m _global_forward_hooks \u001B[38;5;129;01mor\u001B[39;00m _global_forward_pre_hooks):\n\u001B[1;32m-> 1562\u001B[0m     \u001B[38;5;28;01mreturn\u001B[39;00m \u001B[43mforward_call\u001B[49m\u001B[43m(\u001B[49m\u001B[38;5;241;43m*\u001B[39;49m\u001B[43margs\u001B[49m\u001B[43m,\u001B[49m\u001B[43m \u001B[49m\u001B[38;5;241;43m*\u001B[39;49m\u001B[38;5;241;43m*\u001B[39;49m\u001B[43mkwargs\u001B[49m\u001B[43m)\u001B[49m\n\u001B[0;32m   1564\u001B[0m \u001B[38;5;28;01mtry\u001B[39;00m:\n\u001B[0;32m   1565\u001B[0m     result \u001B[38;5;241m=\u001B[39m \u001B[38;5;28;01mNone\u001B[39;00m\n",
      "File \u001B[1;32mE:\\WYX_Project\\SAT-CGCN-Demo-1\\csat\\layers.py:113\u001B[0m, in \u001B[0;36mAttention.forward\u001B[1;34m(self, x, edge_index, complete_edge_index, subgraph_node_index, subgraph_edge_index, subgraph_indicator_index, subgraph_edge_attr, edge_attr, ptr, return_attn)\u001B[0m\n\u001B[0;32m    111\u001B[0m \u001B[38;5;66;03m# Compute structure-aware node embeddings \u001B[39;00m\n\u001B[0;32m    112\u001B[0m \u001B[38;5;28;01mif\u001B[39;00m \u001B[38;5;28mself\u001B[39m\u001B[38;5;241m.\u001B[39mse \u001B[38;5;241m==\u001B[39m \u001B[38;5;124m'\u001B[39m\u001B[38;5;124mkhopgnn\u001B[39m\u001B[38;5;124m'\u001B[39m: \u001B[38;5;66;03m# k-subgraph SAT\u001B[39;00m\n\u001B[1;32m--> 113\u001B[0m     x_struct \u001B[38;5;241m=\u001B[39m \u001B[38;5;28;43mself\u001B[39;49m\u001B[38;5;241;43m.\u001B[39;49m\u001B[43mkhop_structure_extractor\u001B[49m\u001B[43m(\u001B[49m\n\u001B[0;32m    114\u001B[0m \u001B[43m        \u001B[49m\u001B[43mx\u001B[49m\u001B[38;5;241;43m=\u001B[39;49m\u001B[43mx\u001B[49m\u001B[43m,\u001B[49m\n\u001B[0;32m    115\u001B[0m \u001B[43m        \u001B[49m\u001B[43medge_index\u001B[49m\u001B[38;5;241;43m=\u001B[39;49m\u001B[43medge_index\u001B[49m\u001B[43m,\u001B[49m\n\u001B[0;32m    116\u001B[0m \u001B[43m        \u001B[49m\u001B[43msubgraph_edge_index\u001B[49m\u001B[38;5;241;43m=\u001B[39;49m\u001B[43msubgraph_edge_index\u001B[49m\u001B[43m,\u001B[49m\n\u001B[0;32m    117\u001B[0m \u001B[43m        \u001B[49m\u001B[43msubgraph_indicator_index\u001B[49m\u001B[38;5;241;43m=\u001B[39;49m\u001B[43msubgraph_indicator_index\u001B[49m\u001B[43m,\u001B[49m\n\u001B[0;32m    118\u001B[0m \u001B[43m        \u001B[49m\u001B[43msubgraph_node_index\u001B[49m\u001B[38;5;241;43m=\u001B[39;49m\u001B[43msubgraph_node_index\u001B[49m\u001B[43m,\u001B[49m\n\u001B[0;32m    119\u001B[0m \u001B[43m        \u001B[49m\u001B[43msubgraph_edge_attr\u001B[49m\u001B[38;5;241;43m=\u001B[39;49m\u001B[43msubgraph_edge_attr\u001B[49m\u001B[43m,\u001B[49m\n\u001B[0;32m    120\u001B[0m \u001B[43m    \u001B[49m\u001B[43m)\u001B[49m\n\u001B[0;32m    121\u001B[0m \u001B[38;5;28;01melse\u001B[39;00m: \u001B[38;5;66;03m# k-subtree SAT\u001B[39;00m\n\u001B[0;32m    122\u001B[0m     x_struct \u001B[38;5;241m=\u001B[39m \u001B[38;5;28mself\u001B[39m\u001B[38;5;241m.\u001B[39mstructure_extractor(x, edge_index, edge_attr)\n",
      "File \u001B[1;32mE:\\anaconda3\\envs\\pytorch\\lib\\site-packages\\torch\\nn\\modules\\module.py:1553\u001B[0m, in \u001B[0;36mModule._wrapped_call_impl\u001B[1;34m(self, *args, **kwargs)\u001B[0m\n\u001B[0;32m   1551\u001B[0m     \u001B[38;5;28;01mreturn\u001B[39;00m \u001B[38;5;28mself\u001B[39m\u001B[38;5;241m.\u001B[39m_compiled_call_impl(\u001B[38;5;241m*\u001B[39margs, \u001B[38;5;241m*\u001B[39m\u001B[38;5;241m*\u001B[39mkwargs)  \u001B[38;5;66;03m# type: ignore[misc]\u001B[39;00m\n\u001B[0;32m   1552\u001B[0m \u001B[38;5;28;01melse\u001B[39;00m:\n\u001B[1;32m-> 1553\u001B[0m     \u001B[38;5;28;01mreturn\u001B[39;00m \u001B[38;5;28;43mself\u001B[39;49m\u001B[38;5;241;43m.\u001B[39;49m\u001B[43m_call_impl\u001B[49m\u001B[43m(\u001B[49m\u001B[38;5;241;43m*\u001B[39;49m\u001B[43margs\u001B[49m\u001B[43m,\u001B[49m\u001B[43m \u001B[49m\u001B[38;5;241;43m*\u001B[39;49m\u001B[38;5;241;43m*\u001B[39;49m\u001B[43mkwargs\u001B[49m\u001B[43m)\u001B[49m\n",
      "File \u001B[1;32mE:\\anaconda3\\envs\\pytorch\\lib\\site-packages\\torch\\nn\\modules\\module.py:1562\u001B[0m, in \u001B[0;36mModule._call_impl\u001B[1;34m(self, *args, **kwargs)\u001B[0m\n\u001B[0;32m   1557\u001B[0m \u001B[38;5;66;03m# If we don't have any hooks, we want to skip the rest of the logic in\u001B[39;00m\n\u001B[0;32m   1558\u001B[0m \u001B[38;5;66;03m# this function, and just call forward.\u001B[39;00m\n\u001B[0;32m   1559\u001B[0m \u001B[38;5;28;01mif\u001B[39;00m \u001B[38;5;129;01mnot\u001B[39;00m (\u001B[38;5;28mself\u001B[39m\u001B[38;5;241m.\u001B[39m_backward_hooks \u001B[38;5;129;01mor\u001B[39;00m \u001B[38;5;28mself\u001B[39m\u001B[38;5;241m.\u001B[39m_backward_pre_hooks \u001B[38;5;129;01mor\u001B[39;00m \u001B[38;5;28mself\u001B[39m\u001B[38;5;241m.\u001B[39m_forward_hooks \u001B[38;5;129;01mor\u001B[39;00m \u001B[38;5;28mself\u001B[39m\u001B[38;5;241m.\u001B[39m_forward_pre_hooks\n\u001B[0;32m   1560\u001B[0m         \u001B[38;5;129;01mor\u001B[39;00m _global_backward_pre_hooks \u001B[38;5;129;01mor\u001B[39;00m _global_backward_hooks\n\u001B[0;32m   1561\u001B[0m         \u001B[38;5;129;01mor\u001B[39;00m _global_forward_hooks \u001B[38;5;129;01mor\u001B[39;00m _global_forward_pre_hooks):\n\u001B[1;32m-> 1562\u001B[0m     \u001B[38;5;28;01mreturn\u001B[39;00m \u001B[43mforward_call\u001B[49m\u001B[43m(\u001B[49m\u001B[38;5;241;43m*\u001B[39;49m\u001B[43margs\u001B[49m\u001B[43m,\u001B[49m\u001B[43m \u001B[49m\u001B[38;5;241;43m*\u001B[39;49m\u001B[38;5;241;43m*\u001B[39;49m\u001B[43mkwargs\u001B[49m\u001B[43m)\u001B[49m\n\u001B[0;32m   1564\u001B[0m \u001B[38;5;28;01mtry\u001B[39;00m:\n\u001B[0;32m   1565\u001B[0m     result \u001B[38;5;241m=\u001B[39m \u001B[38;5;28;01mNone\u001B[39;00m\n",
      "File \u001B[1;32mE:\\WYX_Project\\SAT-CGCN-Demo-1\\csat\\layers.py:301\u001B[0m, in \u001B[0;36mKHopStructureExtractor.forward\u001B[1;34m(self, x, edge_index, subgraph_edge_index, edge_attr, subgraph_indicator_index, subgraph_node_index, subgraph_edge_attr)\u001B[0m\n\u001B[0;32m    297\u001B[0m \u001B[38;5;28;01mdef\u001B[39;00m \u001B[38;5;21mforward\u001B[39m(\u001B[38;5;28mself\u001B[39m, x, edge_index, subgraph_edge_index, edge_attr\u001B[38;5;241m=\u001B[39m\u001B[38;5;28;01mNone\u001B[39;00m,\n\u001B[0;32m    298\u001B[0m         subgraph_indicator_index\u001B[38;5;241m=\u001B[39m\u001B[38;5;28;01mNone\u001B[39;00m, subgraph_node_index\u001B[38;5;241m=\u001B[39m\u001B[38;5;28;01mNone\u001B[39;00m,\n\u001B[0;32m    299\u001B[0m         subgraph_edge_attr\u001B[38;5;241m=\u001B[39m\u001B[38;5;28;01mNone\u001B[39;00m):\n\u001B[1;32m--> 301\u001B[0m     x_struct \u001B[38;5;241m=\u001B[39m \u001B[38;5;28;43mself\u001B[39;49m\u001B[38;5;241;43m.\u001B[39;49m\u001B[43mstructure_extractor\u001B[49m\u001B[43m(\u001B[49m\n\u001B[0;32m    302\u001B[0m \u001B[43m        \u001B[49m\u001B[43mx\u001B[49m\u001B[38;5;241;43m=\u001B[39;49m\u001B[43mx\u001B[49m\u001B[43m[\u001B[49m\u001B[43msubgraph_node_index\u001B[49m\u001B[43m]\u001B[49m\u001B[43m,\u001B[49m\n\u001B[0;32m    303\u001B[0m \u001B[43m        \u001B[49m\u001B[43medge_index\u001B[49m\u001B[38;5;241;43m=\u001B[39;49m\u001B[43msubgraph_edge_index\u001B[49m\u001B[43m,\u001B[49m\n\u001B[0;32m    304\u001B[0m \u001B[43m        \u001B[49m\u001B[43medge_attr\u001B[49m\u001B[38;5;241;43m=\u001B[39;49m\u001B[43msubgraph_edge_attr\u001B[49m\u001B[43m,\u001B[49m\n\u001B[0;32m    305\u001B[0m \u001B[43m        \u001B[49m\u001B[43msubgraph_indicator_index\u001B[49m\u001B[38;5;241;43m=\u001B[39;49m\u001B[43msubgraph_indicator_index\u001B[49m\u001B[43m,\u001B[49m\n\u001B[0;32m    306\u001B[0m \u001B[43m        \u001B[49m\u001B[43magg\u001B[49m\u001B[38;5;241;43m=\u001B[39;49m\u001B[38;5;124;43m\"\u001B[39;49m\u001B[38;5;124;43msum\u001B[39;49m\u001B[38;5;124;43m\"\u001B[39;49m\u001B[43m,\u001B[49m\n\u001B[0;32m    307\u001B[0m \u001B[43m    \u001B[49m\u001B[43m)\u001B[49m\n\u001B[0;32m    308\u001B[0m     x_struct \u001B[38;5;241m=\u001B[39m torch\u001B[38;5;241m.\u001B[39mcat([x, x_struct], dim\u001B[38;5;241m=\u001B[39m\u001B[38;5;241m-\u001B[39m\u001B[38;5;241m1\u001B[39m)\n\u001B[0;32m    309\u001B[0m     \u001B[38;5;28;01mif\u001B[39;00m \u001B[38;5;28mself\u001B[39m\u001B[38;5;241m.\u001B[39mbatch_norm:\n",
      "File \u001B[1;32mE:\\anaconda3\\envs\\pytorch\\lib\\site-packages\\torch\\nn\\modules\\module.py:1553\u001B[0m, in \u001B[0;36mModule._wrapped_call_impl\u001B[1;34m(self, *args, **kwargs)\u001B[0m\n\u001B[0;32m   1551\u001B[0m     \u001B[38;5;28;01mreturn\u001B[39;00m \u001B[38;5;28mself\u001B[39m\u001B[38;5;241m.\u001B[39m_compiled_call_impl(\u001B[38;5;241m*\u001B[39margs, \u001B[38;5;241m*\u001B[39m\u001B[38;5;241m*\u001B[39mkwargs)  \u001B[38;5;66;03m# type: ignore[misc]\u001B[39;00m\n\u001B[0;32m   1552\u001B[0m \u001B[38;5;28;01melse\u001B[39;00m:\n\u001B[1;32m-> 1553\u001B[0m     \u001B[38;5;28;01mreturn\u001B[39;00m \u001B[38;5;28;43mself\u001B[39;49m\u001B[38;5;241;43m.\u001B[39;49m\u001B[43m_call_impl\u001B[49m\u001B[43m(\u001B[49m\u001B[38;5;241;43m*\u001B[39;49m\u001B[43margs\u001B[49m\u001B[43m,\u001B[49m\u001B[43m \u001B[49m\u001B[38;5;241;43m*\u001B[39;49m\u001B[38;5;241;43m*\u001B[39;49m\u001B[43mkwargs\u001B[49m\u001B[43m)\u001B[49m\n",
      "File \u001B[1;32mE:\\anaconda3\\envs\\pytorch\\lib\\site-packages\\torch\\nn\\modules\\module.py:1562\u001B[0m, in \u001B[0;36mModule._call_impl\u001B[1;34m(self, *args, **kwargs)\u001B[0m\n\u001B[0;32m   1557\u001B[0m \u001B[38;5;66;03m# If we don't have any hooks, we want to skip the rest of the logic in\u001B[39;00m\n\u001B[0;32m   1558\u001B[0m \u001B[38;5;66;03m# this function, and just call forward.\u001B[39;00m\n\u001B[0;32m   1559\u001B[0m \u001B[38;5;28;01mif\u001B[39;00m \u001B[38;5;129;01mnot\u001B[39;00m (\u001B[38;5;28mself\u001B[39m\u001B[38;5;241m.\u001B[39m_backward_hooks \u001B[38;5;129;01mor\u001B[39;00m \u001B[38;5;28mself\u001B[39m\u001B[38;5;241m.\u001B[39m_backward_pre_hooks \u001B[38;5;129;01mor\u001B[39;00m \u001B[38;5;28mself\u001B[39m\u001B[38;5;241m.\u001B[39m_forward_hooks \u001B[38;5;129;01mor\u001B[39;00m \u001B[38;5;28mself\u001B[39m\u001B[38;5;241m.\u001B[39m_forward_pre_hooks\n\u001B[0;32m   1560\u001B[0m         \u001B[38;5;129;01mor\u001B[39;00m _global_backward_pre_hooks \u001B[38;5;129;01mor\u001B[39;00m _global_backward_hooks\n\u001B[0;32m   1561\u001B[0m         \u001B[38;5;129;01mor\u001B[39;00m _global_forward_hooks \u001B[38;5;129;01mor\u001B[39;00m _global_forward_pre_hooks):\n\u001B[1;32m-> 1562\u001B[0m     \u001B[38;5;28;01mreturn\u001B[39;00m \u001B[43mforward_call\u001B[49m\u001B[43m(\u001B[49m\u001B[38;5;241;43m*\u001B[39;49m\u001B[43margs\u001B[49m\u001B[43m,\u001B[49m\u001B[43m \u001B[49m\u001B[38;5;241;43m*\u001B[39;49m\u001B[38;5;241;43m*\u001B[39;49m\u001B[43mkwargs\u001B[49m\u001B[43m)\u001B[49m\n\u001B[0;32m   1564\u001B[0m \u001B[38;5;28;01mtry\u001B[39;00m:\n\u001B[0;32m   1565\u001B[0m     result \u001B[38;5;241m=\u001B[39m \u001B[38;5;28;01mNone\u001B[39;00m\n",
      "File \u001B[1;32mE:\\WYX_Project\\SAT-CGCN-Demo-1\\csat\\layers.py:238\u001B[0m, in \u001B[0;36mStructureExtractor.forward\u001B[1;34m(self, x, edge_index, edge_attr, subgraph_indicator_index, agg)\u001B[0m\n\u001B[0;32m    236\u001B[0m         x \u001B[38;5;241m=\u001B[39m \u001B[38;5;28mself\u001B[39m\u001B[38;5;241m.\u001B[39mrelu(gcn_layer(x, edge_index))\n\u001B[0;32m    237\u001B[0m     \u001B[38;5;28;01melse\u001B[39;00m:\n\u001B[1;32m--> 238\u001B[0m         x \u001B[38;5;241m=\u001B[39m \u001B[38;5;28mself\u001B[39m\u001B[38;5;241m.\u001B[39mrelu(\u001B[43mgcn_layer\u001B[49m\u001B[43m(\u001B[49m\u001B[43mx\u001B[49m\u001B[43m,\u001B[49m\u001B[43m \u001B[49m\u001B[43medge_index\u001B[49m\u001B[43m,\u001B[49m\u001B[43m \u001B[49m\u001B[43medge_attr\u001B[49m\u001B[38;5;241;43m=\u001B[39;49m\u001B[43medge_attr\u001B[49m\u001B[43m)\u001B[49m)\n\u001B[0;32m    239\u001B[0m \u001B[38;5;28;01melse\u001B[39;00m:\n\u001B[0;32m    240\u001B[0m     x \u001B[38;5;241m=\u001B[39m \u001B[38;5;28mself\u001B[39m\u001B[38;5;241m.\u001B[39mrelu(gcn_layer(x, edge_index))\n",
      "File \u001B[1;32mE:\\anaconda3\\envs\\pytorch\\lib\\site-packages\\torch\\nn\\modules\\module.py:1553\u001B[0m, in \u001B[0;36mModule._wrapped_call_impl\u001B[1;34m(self, *args, **kwargs)\u001B[0m\n\u001B[0;32m   1551\u001B[0m     \u001B[38;5;28;01mreturn\u001B[39;00m \u001B[38;5;28mself\u001B[39m\u001B[38;5;241m.\u001B[39m_compiled_call_impl(\u001B[38;5;241m*\u001B[39margs, \u001B[38;5;241m*\u001B[39m\u001B[38;5;241m*\u001B[39mkwargs)  \u001B[38;5;66;03m# type: ignore[misc]\u001B[39;00m\n\u001B[0;32m   1552\u001B[0m \u001B[38;5;28;01melse\u001B[39;00m:\n\u001B[1;32m-> 1553\u001B[0m     \u001B[38;5;28;01mreturn\u001B[39;00m \u001B[38;5;28;43mself\u001B[39;49m\u001B[38;5;241;43m.\u001B[39;49m\u001B[43m_call_impl\u001B[49m\u001B[43m(\u001B[49m\u001B[38;5;241;43m*\u001B[39;49m\u001B[43margs\u001B[49m\u001B[43m,\u001B[49m\u001B[43m \u001B[49m\u001B[38;5;241;43m*\u001B[39;49m\u001B[38;5;241;43m*\u001B[39;49m\u001B[43mkwargs\u001B[49m\u001B[43m)\u001B[49m\n",
      "File \u001B[1;32mE:\\anaconda3\\envs\\pytorch\\lib\\site-packages\\torch\\nn\\modules\\module.py:1562\u001B[0m, in \u001B[0;36mModule._call_impl\u001B[1;34m(self, *args, **kwargs)\u001B[0m\n\u001B[0;32m   1557\u001B[0m \u001B[38;5;66;03m# If we don't have any hooks, we want to skip the rest of the logic in\u001B[39;00m\n\u001B[0;32m   1558\u001B[0m \u001B[38;5;66;03m# this function, and just call forward.\u001B[39;00m\n\u001B[0;32m   1559\u001B[0m \u001B[38;5;28;01mif\u001B[39;00m \u001B[38;5;129;01mnot\u001B[39;00m (\u001B[38;5;28mself\u001B[39m\u001B[38;5;241m.\u001B[39m_backward_hooks \u001B[38;5;129;01mor\u001B[39;00m \u001B[38;5;28mself\u001B[39m\u001B[38;5;241m.\u001B[39m_backward_pre_hooks \u001B[38;5;129;01mor\u001B[39;00m \u001B[38;5;28mself\u001B[39m\u001B[38;5;241m.\u001B[39m_forward_hooks \u001B[38;5;129;01mor\u001B[39;00m \u001B[38;5;28mself\u001B[39m\u001B[38;5;241m.\u001B[39m_forward_pre_hooks\n\u001B[0;32m   1560\u001B[0m         \u001B[38;5;129;01mor\u001B[39;00m _global_backward_pre_hooks \u001B[38;5;129;01mor\u001B[39;00m _global_backward_hooks\n\u001B[0;32m   1561\u001B[0m         \u001B[38;5;129;01mor\u001B[39;00m _global_forward_hooks \u001B[38;5;129;01mor\u001B[39;00m _global_forward_pre_hooks):\n\u001B[1;32m-> 1562\u001B[0m     \u001B[38;5;28;01mreturn\u001B[39;00m \u001B[43mforward_call\u001B[49m\u001B[43m(\u001B[49m\u001B[38;5;241;43m*\u001B[39;49m\u001B[43margs\u001B[49m\u001B[43m,\u001B[49m\u001B[43m \u001B[49m\u001B[38;5;241;43m*\u001B[39;49m\u001B[38;5;241;43m*\u001B[39;49m\u001B[43mkwargs\u001B[49m\u001B[43m)\u001B[49m\n\u001B[0;32m   1564\u001B[0m \u001B[38;5;28;01mtry\u001B[39;00m:\n\u001B[0;32m   1565\u001B[0m     result \u001B[38;5;241m=\u001B[39m \u001B[38;5;28;01mNone\u001B[39;00m\n",
      "File \u001B[1;32mE:\\anaconda3\\envs\\pytorch\\lib\\site-packages\\torch_geometric\\nn\\conv\\pna_conv.py:167\u001B[0m, in \u001B[0;36mPNAConv.forward\u001B[1;34m(self, x, edge_index, edge_attr)\u001B[0m\n\u001B[0;32m    164\u001B[0m     x \u001B[38;5;241m=\u001B[39m x\u001B[38;5;241m.\u001B[39mview(\u001B[38;5;241m-\u001B[39m\u001B[38;5;241m1\u001B[39m, \u001B[38;5;241m1\u001B[39m, \u001B[38;5;28mself\u001B[39m\u001B[38;5;241m.\u001B[39mF_in)\u001B[38;5;241m.\u001B[39mrepeat(\u001B[38;5;241m1\u001B[39m, \u001B[38;5;28mself\u001B[39m\u001B[38;5;241m.\u001B[39mtowers, \u001B[38;5;241m1\u001B[39m)\n\u001B[0;32m    166\u001B[0m \u001B[38;5;66;03m# propagate_type: (x: Tensor, edge_attr: OptTensor)\u001B[39;00m\n\u001B[1;32m--> 167\u001B[0m out \u001B[38;5;241m=\u001B[39m \u001B[38;5;28;43mself\u001B[39;49m\u001B[38;5;241;43m.\u001B[39;49m\u001B[43mpropagate\u001B[49m\u001B[43m(\u001B[49m\u001B[43medge_index\u001B[49m\u001B[43m,\u001B[49m\u001B[43m \u001B[49m\u001B[43mx\u001B[49m\u001B[38;5;241;43m=\u001B[39;49m\u001B[43mx\u001B[49m\u001B[43m,\u001B[49m\u001B[43m \u001B[49m\u001B[43medge_attr\u001B[49m\u001B[38;5;241;43m=\u001B[39;49m\u001B[43medge_attr\u001B[49m\u001B[43m)\u001B[49m\n\u001B[0;32m    169\u001B[0m out \u001B[38;5;241m=\u001B[39m torch\u001B[38;5;241m.\u001B[39mcat([x, out], dim\u001B[38;5;241m=\u001B[39m\u001B[38;5;241m-\u001B[39m\u001B[38;5;241m1\u001B[39m)\n\u001B[0;32m    170\u001B[0m outs \u001B[38;5;241m=\u001B[39m [nn(out[:, i]) \u001B[38;5;28;01mfor\u001B[39;00m i, nn \u001B[38;5;129;01min\u001B[39;00m \u001B[38;5;28menumerate\u001B[39m(\u001B[38;5;28mself\u001B[39m\u001B[38;5;241m.\u001B[39mpost_nns)]\n",
      "File \u001B[1;32m~\\AppData\\Local\\Temp\\torch_geometric.nn.conv.pna_conv_PNAConv_propagate_u8iub_1q.py:201\u001B[0m, in \u001B[0;36mpropagate\u001B[1;34m(self, edge_index, x, edge_attr, size)\u001B[0m\n\u001B[0;32m    191\u001B[0m             kwargs \u001B[38;5;241m=\u001B[39m CollectArgs(\n\u001B[0;32m    192\u001B[0m                 x_i\u001B[38;5;241m=\u001B[39mhook_kwargs[\u001B[38;5;124m'\u001B[39m\u001B[38;5;124mx_i\u001B[39m\u001B[38;5;124m'\u001B[39m],\n\u001B[0;32m    193\u001B[0m                 x_j\u001B[38;5;241m=\u001B[39mhook_kwargs[\u001B[38;5;124m'\u001B[39m\u001B[38;5;124mx_j\u001B[39m\u001B[38;5;124m'\u001B[39m],\n\u001B[1;32m   (...)\u001B[0m\n\u001B[0;32m    197\u001B[0m                 dim_size\u001B[38;5;241m=\u001B[39mkwargs\u001B[38;5;241m.\u001B[39mdim_size,\n\u001B[0;32m    198\u001B[0m             )\n\u001B[0;32m    199\u001B[0m \u001B[38;5;66;03m# End Message Forward Pre Hook #########################################\u001B[39;00m\n\u001B[1;32m--> 201\u001B[0m out \u001B[38;5;241m=\u001B[39m \u001B[38;5;28;43mself\u001B[39;49m\u001B[38;5;241;43m.\u001B[39;49m\u001B[43mmessage\u001B[49m\u001B[43m(\u001B[49m\n\u001B[0;32m    202\u001B[0m \u001B[43m    \u001B[49m\u001B[43mx_i\u001B[49m\u001B[38;5;241;43m=\u001B[39;49m\u001B[43mkwargs\u001B[49m\u001B[38;5;241;43m.\u001B[39;49m\u001B[43mx_i\u001B[49m\u001B[43m,\u001B[49m\n\u001B[0;32m    203\u001B[0m \u001B[43m    \u001B[49m\u001B[43mx_j\u001B[49m\u001B[38;5;241;43m=\u001B[39;49m\u001B[43mkwargs\u001B[49m\u001B[38;5;241;43m.\u001B[39;49m\u001B[43mx_j\u001B[49m\u001B[43m,\u001B[49m\n\u001B[0;32m    204\u001B[0m \u001B[43m    \u001B[49m\u001B[43medge_attr\u001B[49m\u001B[38;5;241;43m=\u001B[39;49m\u001B[43mkwargs\u001B[49m\u001B[38;5;241;43m.\u001B[39;49m\u001B[43medge_attr\u001B[49m\u001B[43m,\u001B[49m\n\u001B[0;32m    205\u001B[0m \u001B[43m\u001B[49m\u001B[43m)\u001B[49m\n\u001B[0;32m    207\u001B[0m \u001B[38;5;66;03m# Begin Message Forward Hook ###########################################\u001B[39;00m\n\u001B[0;32m    208\u001B[0m \u001B[38;5;28;01mif\u001B[39;00m \u001B[38;5;129;01mnot\u001B[39;00m torch\u001B[38;5;241m.\u001B[39mjit\u001B[38;5;241m.\u001B[39mis_scripting() \u001B[38;5;129;01mand\u001B[39;00m \u001B[38;5;129;01mnot\u001B[39;00m is_compiling():\n",
      "File \u001B[1;32mE:\\anaconda3\\envs\\pytorch\\lib\\site-packages\\torch_geometric\\nn\\conv\\pna_conv.py:183\u001B[0m, in \u001B[0;36mPNAConv.message\u001B[1;34m(self, x_i, x_j, edge_attr)\u001B[0m\n\u001B[0;32m    181\u001B[0m     edge_attr \u001B[38;5;241m=\u001B[39m edge_attr\u001B[38;5;241m.\u001B[39mview(\u001B[38;5;241m-\u001B[39m\u001B[38;5;241m1\u001B[39m, \u001B[38;5;241m1\u001B[39m, \u001B[38;5;28mself\u001B[39m\u001B[38;5;241m.\u001B[39mF_in)\n\u001B[0;32m    182\u001B[0m     edge_attr \u001B[38;5;241m=\u001B[39m edge_attr\u001B[38;5;241m.\u001B[39mrepeat(\u001B[38;5;241m1\u001B[39m, \u001B[38;5;28mself\u001B[39m\u001B[38;5;241m.\u001B[39mtowers, \u001B[38;5;241m1\u001B[39m)\n\u001B[1;32m--> 183\u001B[0m     h \u001B[38;5;241m=\u001B[39m \u001B[43mtorch\u001B[49m\u001B[38;5;241;43m.\u001B[39;49m\u001B[43mcat\u001B[49m\u001B[43m(\u001B[49m\u001B[43m[\u001B[49m\u001B[43mx_i\u001B[49m\u001B[43m,\u001B[49m\u001B[43m \u001B[49m\u001B[43mx_j\u001B[49m\u001B[43m,\u001B[49m\u001B[43m \u001B[49m\u001B[43medge_attr\u001B[49m\u001B[43m]\u001B[49m\u001B[43m,\u001B[49m\u001B[43m \u001B[49m\u001B[43mdim\u001B[49m\u001B[38;5;241;43m=\u001B[39;49m\u001B[38;5;241;43m-\u001B[39;49m\u001B[38;5;241;43m1\u001B[39;49m\u001B[43m)\u001B[49m\n\u001B[0;32m    184\u001B[0m \u001B[38;5;28;01melse\u001B[39;00m:\n\u001B[0;32m    185\u001B[0m     h \u001B[38;5;241m=\u001B[39m torch\u001B[38;5;241m.\u001B[39mcat([x_i, x_j], dim\u001B[38;5;241m=\u001B[39m\u001B[38;5;241m-\u001B[39m\u001B[38;5;241m1\u001B[39m)\n",
      "\u001B[1;31mRuntimeError\u001B[0m: Sizes of tensors must match except in dimension 2. Expected size 5772 but got size 236652 for tensor number 2 in the list."
     ]
    }
   ],
   "execution_count": 129
  },
  {
   "metadata": {},
   "cell_type": "markdown",
   "source": "# 现在对5000si数据进行同样的测试",
   "id": "db2317310004d4bc"
  },
  {
   "metadata": {
    "ExecuteTime": {
     "end_time": "2025-03-10T06:58:03.783551Z",
     "start_time": "2025-03-10T06:51:58.724475Z"
    }
   },
   "cell_type": "code",
   "source": [
    "crystal_data_path_5000 = './crystal_dataset'\n",
    "crystal_data_5000 = CIFData(crystal_data_path_5000)\n",
    "crystal_list = crystal_graph_list(crystal_data_5000)\n",
    "print('这是crystal list 5000的数据类型',type(crystal_list))\n",
    "print('crystal list 5000图的数量：',len(crystal_list))\n",
    "print('crystal list 5000第1张图的数据类型为',crystal_list[0])\n",
    "print('crystal list 5000第10张图的数据类型为',crystal_list[9])\n",
    "train_c_dset = GraphDataset(crystal_list,degree=True, k_hop=k_hop, se=se,use_subgraph_edge_attr=use_edge_attr)\n",
    "print('c5000含有子图的第一张',train_c_dset[0])\n",
    "train_c_loader = DataLoader(train_c_dset, batch_size=128, shuffle=True)\n",
    "for batch in train_c_loader:\n",
    "    print('loader之后：',batch)\n",
    "    break\n",
    "\n",
    "deg = torch.cat([\n",
    "        utils.degree(data.edge_index[1], num_nodes=data.num_nodes) for\n",
    "        data in train_c_dset])\n",
    "c_model_5000 = GraphTransformer(in_size=92,\n",
    "                             num_class=1,\n",
    "                             d_model=dim_hidden,\n",
    "                             dim_feedforward=2 * dim_hidden,\n",
    "                             dropout=dropout,\n",
    "                             num_heads=num_heads,\n",
    "                             num_layers=num_layers,\n",
    "                             batch_norm=batch_norm,\n",
    "                             abs_pe=abs_pe,\n",
    "                             abs_pe_dim=abs_pe_dim,\n",
    "                             gnn_type=gnn_type,\n",
    "                             use_edge_attr=use_edge_attr,\n",
    "                             num_edge_features=41,\n",
    "                             edge_dim=edge_dim,\n",
    "                             k_hop=k_hop,\n",
    "                             se=se,\n",
    "                             deg=deg,\n",
    "                             global_pool=global_pool)"
   ],
   "id": "176c7f924aacdcd9",
   "outputs": [
    {
     "name": "stdout",
     "output_type": "stream",
     "text": [
      "正在转化的数据集大小为： 5000\n"
     ]
    },
    {
     "name": "stderr",
     "output_type": "stream",
     "text": [
      "100%|██████████| 5000/5000 [05:11<00:00, 16.04it/s]\n"
     ]
    },
    {
     "name": "stdout",
     "output_type": "stream",
     "text": [
      "这是crystal list 5000的数据类型 <class 'list'>\n",
      "crystal list 5000图的数量： 5000\n",
      "crystal list 5000第1张图的数据类型为 Data(x=[16, 1], edge_index=[2, 12], edge_attr=[12], y=[1])\n",
      "crystal list 5000第10张图的数据类型为 Data(x=[80, 1], edge_index=[2, 12], edge_attr=[12], y=[1])\n",
      "Extracting 2-hop subgraphs...\n",
      "Done!\n",
      "c5000含有子图的第一张 Data(x=[16], edge_index=[2, 12], edge_attr=[12], y=[1, 1], complete_edge_index=[2, 256], degree=[16], subgraph_edge_index=[2, 12], num_subgraph_nodes=20, subgraph_node_idx=[20], subgraph_edge_attr=[12], subgraph_indicator=[20])\n",
      "loader之后： DataBatch(x=[3620], edge_index=[2, 1536], edge_attr=[1536], y=[128, 1], complete_edge_index=[2, 296368], degree=[3620], subgraph_edge_index=[2, 1661], num_subgraph_nodes=[128], subgraph_node_idx=[4282], subgraph_edge_attr=[1661], subgraph_indicator=[4282], batch=[3620], ptr=[129])\n"
     ]
    }
   ],
   "execution_count": 102
  },
  {
   "metadata": {
    "ExecuteTime": {
     "end_time": "2025-03-10T06:59:21.838859Z",
     "start_time": "2025-03-10T06:59:18.248977Z"
    }
   },
   "cell_type": "code",
   "source": [
    "c_model_5000 = c_model_5000.to(device)\n",
    "optimizer = optim.AdamW(c_model_5000.parameters(), lr=lr, weight_decay=weight_decay)\n",
    "c_out = train_out(train_c_loader, c_model_5000,optimizer)"
   ],
   "id": "46ede9ce64f08042",
   "outputs": [
    {
     "name": "stdout",
     "output_type": "stream",
     "text": [
      "0\n",
      "DataBatch(x=[3609], edge_index=[2, 1536], edge_attr=[1536], y=[128, 1], complete_edge_index=[2, 212887], subgraph_edge_index=[2, 1659], num_subgraph_nodes=[128], subgraph_node_idx=[4242], subgraph_edge_attr=[1659], subgraph_indicator=[4242], degree=[3609], batch=[3609], ptr=[129])\n",
      "1\n",
      "DataBatch(x=[3817], edge_index=[2, 1536], edge_attr=[1536], y=[128, 1], complete_edge_index=[2, 241015], subgraph_edge_index=[2, 1673], num_subgraph_nodes=[128], subgraph_node_idx=[4440], subgraph_edge_attr=[1673], subgraph_indicator=[4440], degree=[3817], batch=[3817], ptr=[129])\n",
      "2\n",
      "DataBatch(x=[3138], edge_index=[2, 1536], edge_attr=[1536], y=[128, 1], complete_edge_index=[2, 179014], subgraph_edge_index=[2, 1671], num_subgraph_nodes=[128], subgraph_node_idx=[3776], subgraph_edge_attr=[1671], subgraph_indicator=[3776], degree=[3138], batch=[3138], ptr=[129])\n",
      "3\n",
      "DataBatch(x=[3287], edge_index=[2, 1536], edge_attr=[1536], y=[128, 1], complete_edge_index=[2, 173785], subgraph_edge_index=[2, 1690], num_subgraph_nodes=[128], subgraph_node_idx=[3903], subgraph_edge_attr=[1690], subgraph_indicator=[3903], degree=[3287], batch=[3287], ptr=[129])\n"
     ]
    },
    {
     "ename": "IndexError",
     "evalue": "Dimension specified as 0 but tensor has no dimensions",
     "output_type": "error",
     "traceback": [
      "\u001B[1;31m---------------------------------------------------------------------------\u001B[0m",
      "\u001B[1;31mIndexError\u001B[0m                                Traceback (most recent call last)",
      "Cell \u001B[1;32mIn[103], line 3\u001B[0m\n\u001B[0;32m      1\u001B[0m c_model_5000 \u001B[38;5;241m=\u001B[39m c_model_5000\u001B[38;5;241m.\u001B[39mto(device)\n\u001B[0;32m      2\u001B[0m optimizer \u001B[38;5;241m=\u001B[39m optim\u001B[38;5;241m.\u001B[39mAdamW(c_model_5000\u001B[38;5;241m.\u001B[39mparameters(), lr\u001B[38;5;241m=\u001B[39mlr, weight_decay\u001B[38;5;241m=\u001B[39mweight_decay)\n\u001B[1;32m----> 3\u001B[0m c_out \u001B[38;5;241m=\u001B[39m \u001B[43mtrain_out\u001B[49m\u001B[43m(\u001B[49m\u001B[43mtrain_c_loader\u001B[49m\u001B[43m,\u001B[49m\u001B[43m \u001B[49m\u001B[43mc_model_5000\u001B[49m\u001B[43m,\u001B[49m\u001B[43moptimizer\u001B[49m\u001B[43m)\u001B[49m\n",
      "Cell \u001B[1;32mIn[88], line 4\u001B[0m, in \u001B[0;36mtrain_out\u001B[1;34m(loader, model, optimizer)\u001B[0m\n\u001B[0;32m      2\u001B[0m running_loss \u001B[38;5;241m=\u001B[39m \u001B[38;5;241m0.0\u001B[39m\n\u001B[0;32m      3\u001B[0m model\u001B[38;5;241m.\u001B[39mtrain()\n\u001B[1;32m----> 4\u001B[0m \u001B[38;5;28;01mfor\u001B[39;00m i, data \u001B[38;5;129;01min\u001B[39;00m \u001B[38;5;28menumerate\u001B[39m(loader):\n\u001B[0;32m      5\u001B[0m     \u001B[38;5;28mprint\u001B[39m(i)\n\u001B[0;32m      6\u001B[0m     \u001B[38;5;28mprint\u001B[39m(data)\n",
      "File \u001B[1;32mE:\\anaconda3\\envs\\pytorch\\lib\\site-packages\\torch\\utils\\data\\dataloader.py:630\u001B[0m, in \u001B[0;36m_BaseDataLoaderIter.__next__\u001B[1;34m(self)\u001B[0m\n\u001B[0;32m    627\u001B[0m \u001B[38;5;28;01mif\u001B[39;00m \u001B[38;5;28mself\u001B[39m\u001B[38;5;241m.\u001B[39m_sampler_iter \u001B[38;5;129;01mis\u001B[39;00m \u001B[38;5;28;01mNone\u001B[39;00m:\n\u001B[0;32m    628\u001B[0m     \u001B[38;5;66;03m# TODO(https://github.com/pytorch/pytorch/issues/76750)\u001B[39;00m\n\u001B[0;32m    629\u001B[0m     \u001B[38;5;28mself\u001B[39m\u001B[38;5;241m.\u001B[39m_reset()  \u001B[38;5;66;03m# type: ignore[call-arg]\u001B[39;00m\n\u001B[1;32m--> 630\u001B[0m data \u001B[38;5;241m=\u001B[39m \u001B[38;5;28;43mself\u001B[39;49m\u001B[38;5;241;43m.\u001B[39;49m\u001B[43m_next_data\u001B[49m\u001B[43m(\u001B[49m\u001B[43m)\u001B[49m\n\u001B[0;32m    631\u001B[0m \u001B[38;5;28mself\u001B[39m\u001B[38;5;241m.\u001B[39m_num_yielded \u001B[38;5;241m+\u001B[39m\u001B[38;5;241m=\u001B[39m \u001B[38;5;241m1\u001B[39m\n\u001B[0;32m    632\u001B[0m \u001B[38;5;28;01mif\u001B[39;00m \u001B[38;5;28mself\u001B[39m\u001B[38;5;241m.\u001B[39m_dataset_kind \u001B[38;5;241m==\u001B[39m _DatasetKind\u001B[38;5;241m.\u001B[39mIterable \u001B[38;5;129;01mand\u001B[39;00m \\\n\u001B[0;32m    633\u001B[0m         \u001B[38;5;28mself\u001B[39m\u001B[38;5;241m.\u001B[39m_IterableDataset_len_called \u001B[38;5;129;01mis\u001B[39;00m \u001B[38;5;129;01mnot\u001B[39;00m \u001B[38;5;28;01mNone\u001B[39;00m \u001B[38;5;129;01mand\u001B[39;00m \\\n\u001B[0;32m    634\u001B[0m         \u001B[38;5;28mself\u001B[39m\u001B[38;5;241m.\u001B[39m_num_yielded \u001B[38;5;241m>\u001B[39m \u001B[38;5;28mself\u001B[39m\u001B[38;5;241m.\u001B[39m_IterableDataset_len_called:\n",
      "File \u001B[1;32mE:\\anaconda3\\envs\\pytorch\\lib\\site-packages\\torch\\utils\\data\\dataloader.py:673\u001B[0m, in \u001B[0;36m_SingleProcessDataLoaderIter._next_data\u001B[1;34m(self)\u001B[0m\n\u001B[0;32m    671\u001B[0m \u001B[38;5;28;01mdef\u001B[39;00m \u001B[38;5;21m_next_data\u001B[39m(\u001B[38;5;28mself\u001B[39m):\n\u001B[0;32m    672\u001B[0m     index \u001B[38;5;241m=\u001B[39m \u001B[38;5;28mself\u001B[39m\u001B[38;5;241m.\u001B[39m_next_index()  \u001B[38;5;66;03m# may raise StopIteration\u001B[39;00m\n\u001B[1;32m--> 673\u001B[0m     data \u001B[38;5;241m=\u001B[39m \u001B[38;5;28;43mself\u001B[39;49m\u001B[38;5;241;43m.\u001B[39;49m\u001B[43m_dataset_fetcher\u001B[49m\u001B[38;5;241;43m.\u001B[39;49m\u001B[43mfetch\u001B[49m\u001B[43m(\u001B[49m\u001B[43mindex\u001B[49m\u001B[43m)\u001B[49m  \u001B[38;5;66;03m# may raise StopIteration\u001B[39;00m\n\u001B[0;32m    674\u001B[0m     \u001B[38;5;28;01mif\u001B[39;00m \u001B[38;5;28mself\u001B[39m\u001B[38;5;241m.\u001B[39m_pin_memory:\n\u001B[0;32m    675\u001B[0m         data \u001B[38;5;241m=\u001B[39m _utils\u001B[38;5;241m.\u001B[39mpin_memory\u001B[38;5;241m.\u001B[39mpin_memory(data, \u001B[38;5;28mself\u001B[39m\u001B[38;5;241m.\u001B[39m_pin_memory_device)\n",
      "File \u001B[1;32mE:\\anaconda3\\envs\\pytorch\\lib\\site-packages\\torch\\utils\\data\\_utils\\fetch.py:52\u001B[0m, in \u001B[0;36m_MapDatasetFetcher.fetch\u001B[1;34m(self, possibly_batched_index)\u001B[0m\n\u001B[0;32m     50\u001B[0m         data \u001B[38;5;241m=\u001B[39m \u001B[38;5;28mself\u001B[39m\u001B[38;5;241m.\u001B[39mdataset\u001B[38;5;241m.\u001B[39m__getitems__(possibly_batched_index)\n\u001B[0;32m     51\u001B[0m     \u001B[38;5;28;01melse\u001B[39;00m:\n\u001B[1;32m---> 52\u001B[0m         data \u001B[38;5;241m=\u001B[39m [\u001B[38;5;28mself\u001B[39m\u001B[38;5;241m.\u001B[39mdataset[idx] \u001B[38;5;28;01mfor\u001B[39;00m idx \u001B[38;5;129;01min\u001B[39;00m possibly_batched_index]\n\u001B[0;32m     53\u001B[0m \u001B[38;5;28;01melse\u001B[39;00m:\n\u001B[0;32m     54\u001B[0m     data \u001B[38;5;241m=\u001B[39m \u001B[38;5;28mself\u001B[39m\u001B[38;5;241m.\u001B[39mdataset[possibly_batched_index]\n",
      "File \u001B[1;32mE:\\anaconda3\\envs\\pytorch\\lib\\site-packages\\torch\\utils\\data\\_utils\\fetch.py:52\u001B[0m, in \u001B[0;36m<listcomp>\u001B[1;34m(.0)\u001B[0m\n\u001B[0;32m     50\u001B[0m         data \u001B[38;5;241m=\u001B[39m \u001B[38;5;28mself\u001B[39m\u001B[38;5;241m.\u001B[39mdataset\u001B[38;5;241m.\u001B[39m__getitems__(possibly_batched_index)\n\u001B[0;32m     51\u001B[0m     \u001B[38;5;28;01melse\u001B[39;00m:\n\u001B[1;32m---> 52\u001B[0m         data \u001B[38;5;241m=\u001B[39m [\u001B[38;5;28;43mself\u001B[39;49m\u001B[38;5;241;43m.\u001B[39;49m\u001B[43mdataset\u001B[49m\u001B[43m[\u001B[49m\u001B[43midx\u001B[49m\u001B[43m]\u001B[49m \u001B[38;5;28;01mfor\u001B[39;00m idx \u001B[38;5;129;01min\u001B[39;00m possibly_batched_index]\n\u001B[0;32m     53\u001B[0m \u001B[38;5;28;01melse\u001B[39;00m:\n\u001B[0;32m     54\u001B[0m     data \u001B[38;5;241m=\u001B[39m \u001B[38;5;28mself\u001B[39m\u001B[38;5;241m.\u001B[39mdataset[possibly_batched_index]\n",
      "File \u001B[1;32mE:\\WYX_Project\\SAT-CGCN-Demo-1\\csat\\data.py:127\u001B[0m, in \u001B[0;36mGraphDataset.__getitem__\u001B[1;34m(self, index)\u001B[0m\n\u001B[0;32m    125\u001B[0m \u001B[38;5;28;01mif\u001B[39;00m \u001B[38;5;129;01mnot\u001B[39;00m \u001B[38;5;28misinstance\u001B[39m(data\u001B[38;5;241m.\u001B[39my, \u001B[38;5;28mlist\u001B[39m):\n\u001B[0;32m    126\u001B[0m     data\u001B[38;5;241m.\u001B[39my \u001B[38;5;241m=\u001B[39m data\u001B[38;5;241m.\u001B[39my\u001B[38;5;241m.\u001B[39mview(data\u001B[38;5;241m.\u001B[39my\u001B[38;5;241m.\u001B[39mshape[\u001B[38;5;241m0\u001B[39m], \u001B[38;5;241m-\u001B[39m\u001B[38;5;241m1\u001B[39m)\n\u001B[1;32m--> 127\u001B[0m n \u001B[38;5;241m=\u001B[39m \u001B[43mdata\u001B[49m\u001B[38;5;241;43m.\u001B[39;49m\u001B[43mnum_nodes\u001B[49m\n\u001B[0;32m    128\u001B[0m s \u001B[38;5;241m=\u001B[39m torch\u001B[38;5;241m.\u001B[39marange(n)\n\u001B[0;32m    129\u001B[0m \u001B[38;5;28;01mif\u001B[39;00m \u001B[38;5;28mself\u001B[39m\u001B[38;5;241m.\u001B[39mreturn_complete_index:\n",
      "File \u001B[1;32mE:\\anaconda3\\envs\\pytorch\\lib\\site-packages\\torch_geometric\\data\\data.py:616\u001B[0m, in \u001B[0;36mData.num_nodes\u001B[1;34m(self)\u001B[0m\n\u001B[0;32m    614\u001B[0m \u001B[38;5;129m@property\u001B[39m\n\u001B[0;32m    615\u001B[0m \u001B[38;5;28;01mdef\u001B[39;00m \u001B[38;5;21mnum_nodes\u001B[39m(\u001B[38;5;28mself\u001B[39m) \u001B[38;5;241m-\u001B[39m\u001B[38;5;241m>\u001B[39m Optional[\u001B[38;5;28mint\u001B[39m]:\n\u001B[1;32m--> 616\u001B[0m     \u001B[38;5;28;01mreturn\u001B[39;00m \u001B[38;5;28;43msuper\u001B[39;49m\u001B[43m(\u001B[49m\u001B[43m)\u001B[49m\u001B[38;5;241;43m.\u001B[39;49m\u001B[43mnum_nodes\u001B[49m\n",
      "File \u001B[1;32mE:\\anaconda3\\envs\\pytorch\\lib\\site-packages\\torch_geometric\\data\\data.py:186\u001B[0m, in \u001B[0;36mBaseData.num_nodes\u001B[1;34m(self)\u001B[0m\n\u001B[0;32m    170\u001B[0m \u001B[38;5;250m\u001B[39m\u001B[38;5;124mr\u001B[39m\u001B[38;5;124;03m\"\"\"Returns the number of nodes in the graph.\u001B[39;00m\n\u001B[0;32m    171\u001B[0m \n\u001B[0;32m    172\u001B[0m \u001B[38;5;124;03m.. note::\u001B[39;00m\n\u001B[1;32m   (...)\u001B[0m\n\u001B[0;32m    183\u001B[0m \u001B[38;5;124;03m    You will be given a warning that requests you to do so.\u001B[39;00m\n\u001B[0;32m    184\u001B[0m \u001B[38;5;124;03m\"\"\"\u001B[39;00m\n\u001B[0;32m    185\u001B[0m \u001B[38;5;28;01mtry\u001B[39;00m:\n\u001B[1;32m--> 186\u001B[0m     \u001B[38;5;28;01mreturn\u001B[39;00m \u001B[38;5;28msum\u001B[39m([v\u001B[38;5;241m.\u001B[39mnum_nodes \u001B[38;5;28;01mfor\u001B[39;00m v \u001B[38;5;129;01min\u001B[39;00m \u001B[38;5;28mself\u001B[39m\u001B[38;5;241m.\u001B[39mnode_stores])\n\u001B[0;32m    187\u001B[0m \u001B[38;5;28;01mexcept\u001B[39;00m \u001B[38;5;167;01mTypeError\u001B[39;00m:\n\u001B[0;32m    188\u001B[0m     \u001B[38;5;28;01mreturn\u001B[39;00m \u001B[38;5;28;01mNone\u001B[39;00m\n",
      "File \u001B[1;32mE:\\anaconda3\\envs\\pytorch\\lib\\site-packages\\torch_geometric\\data\\data.py:186\u001B[0m, in \u001B[0;36m<listcomp>\u001B[1;34m(.0)\u001B[0m\n\u001B[0;32m    170\u001B[0m \u001B[38;5;250m\u001B[39m\u001B[38;5;124mr\u001B[39m\u001B[38;5;124;03m\"\"\"Returns the number of nodes in the graph.\u001B[39;00m\n\u001B[0;32m    171\u001B[0m \n\u001B[0;32m    172\u001B[0m \u001B[38;5;124;03m.. note::\u001B[39;00m\n\u001B[1;32m   (...)\u001B[0m\n\u001B[0;32m    183\u001B[0m \u001B[38;5;124;03m    You will be given a warning that requests you to do so.\u001B[39;00m\n\u001B[0;32m    184\u001B[0m \u001B[38;5;124;03m\"\"\"\u001B[39;00m\n\u001B[0;32m    185\u001B[0m \u001B[38;5;28;01mtry\u001B[39;00m:\n\u001B[1;32m--> 186\u001B[0m     \u001B[38;5;28;01mreturn\u001B[39;00m \u001B[38;5;28msum\u001B[39m([\u001B[43mv\u001B[49m\u001B[38;5;241;43m.\u001B[39;49m\u001B[43mnum_nodes\u001B[49m \u001B[38;5;28;01mfor\u001B[39;00m v \u001B[38;5;129;01min\u001B[39;00m \u001B[38;5;28mself\u001B[39m\u001B[38;5;241m.\u001B[39mnode_stores])\n\u001B[0;32m    187\u001B[0m \u001B[38;5;28;01mexcept\u001B[39;00m \u001B[38;5;167;01mTypeError\u001B[39;00m:\n\u001B[0;32m    188\u001B[0m     \u001B[38;5;28;01mreturn\u001B[39;00m \u001B[38;5;28;01mNone\u001B[39;00m\n",
      "File \u001B[1;32mE:\\anaconda3\\envs\\pytorch\\lib\\site-packages\\torch_geometric\\data\\storage.py:428\u001B[0m, in \u001B[0;36mNodeStorage.num_nodes\u001B[1;34m(self)\u001B[0m\n\u001B[0;32m    426\u001B[0m \u001B[38;5;28;01mif\u001B[39;00m \u001B[38;5;28misinstance\u001B[39m(value, Tensor) \u001B[38;5;129;01mand\u001B[39;00m key \u001B[38;5;129;01min\u001B[39;00m N_KEYS:\n\u001B[0;32m    427\u001B[0m     cat_dim \u001B[38;5;241m=\u001B[39m \u001B[38;5;28mself\u001B[39m\u001B[38;5;241m.\u001B[39m_parent()\u001B[38;5;241m.\u001B[39m__cat_dim__(key, value, \u001B[38;5;28mself\u001B[39m)\n\u001B[1;32m--> 428\u001B[0m     \u001B[38;5;28;01mreturn\u001B[39;00m \u001B[43mvalue\u001B[49m\u001B[38;5;241;43m.\u001B[39;49m\u001B[43msize\u001B[49m\u001B[43m(\u001B[49m\u001B[43mcat_dim\u001B[49m\u001B[43m)\u001B[49m\n\u001B[0;32m    429\u001B[0m \u001B[38;5;28;01mif\u001B[39;00m \u001B[38;5;28misinstance\u001B[39m(value, np\u001B[38;5;241m.\u001B[39mndarray) \u001B[38;5;129;01mand\u001B[39;00m key \u001B[38;5;129;01min\u001B[39;00m N_KEYS:\n\u001B[0;32m    430\u001B[0m     cat_dim \u001B[38;5;241m=\u001B[39m \u001B[38;5;28mself\u001B[39m\u001B[38;5;241m.\u001B[39m_parent()\u001B[38;5;241m.\u001B[39m__cat_dim__(key, value, \u001B[38;5;28mself\u001B[39m)\n",
      "\u001B[1;31mIndexError\u001B[0m: Dimension specified as 0 but tensor has no dimensions"
     ]
    }
   ],
   "execution_count": 103
  },
  {
   "metadata": {},
   "cell_type": "markdown",
   "source": [
    "问题来了，如果把x降维成1维，5000数据集会出现IndexError: Dimension specified as 0 but tensor has no dimensions；而10个的sample数据集就没问题\n",
    "\n",
    "如果不对x进行降维，那么cuda索引就会报错\n",
    "```\n",
    "RuntimeError: CUDA error: device-side assert triggered\n",
    "CUDA kernel errors might be asynchronously reported at some other API call, so the stacktrace below might be incorrect.\n",
    "For debugging consider passing CUDA_LAUNCH_BLOCKING=1\n",
    "Compile with `TORCH_USE_CUDA_DSA` to enable device-side assertions.\n",
    "```"
   ],
   "id": "920a663fc2b036d"
  },
  {
   "metadata": {},
   "cell_type": "markdown",
   "source": [
    "现在全部拿cpu跑，做如下统计：\n",
    "1. sample-regression\n",
    "    1. 不降维的报错：\n",
    "        ```\n",
    "        IndexError: Found indices in 'edge_index' that are larger than 91 (got 272). Please ensure that all indices in 'edge_index' point to valid indices in the interval [0, 92) in your node feature matrix and try again.\n",
    "        ```\n",
    "    2. 降维无问题：\n",
    "        ```\n",
    "        Train loss: 4.3618 time: 0.11s\n",
    "        Val loss: 2.6525 MSE loss: 7.0357 MAE loss: 2.6525 time: 0.03s\n",
    "        Test loss: 1.6131 MSE loss: 2.6022 MAE loss: 1.6131 time: 0.03s\n",
    "        best epoch: 498 best val loss: 2.6234\n",
    "        Testing...\n",
    "        Test loss: 1.6366 MSE loss: 2.6785 MAE loss: 1.6366 time: 0.03s\n",
    "        test MAE loss 1.6366\n",
    "        ```\n",
    "2. 5000 si数据\n",
    "    1. x不降维度报错：\n",
    "        ```\n",
    "        IndexError: Found indices in 'edge_index' that are larger than 91 (got 95941). Please ensure that all indices in 'edge_index' point to valid indices in the interval [0, 92) in your node feature matrix and try again.\n",
    "        ```\n",
    "    2. x降至1维度\n",
    "        ```\n",
    "        Traceback (most recent call last):\n",
    "        File \"E:\\WYX_Project\\SAT-CGCN-Demo-1\\CSAT_train_si.py\", line 359, in <module>\n",
    "        main()\n",
    "        File \"E:\\WYX_Project\\SAT-CGCN-Demo-1\\CSAT_train_si.py\", line 313, in main\n",
    "        train_loss = train_epoch(model, train_loader, criterion, optimizer, lr_scheduler, epoch, args.use_cuda)\n",
    "        File \"E:\\WYX_Project\\SAT-CGCN-Demo-1\\CSAT_train_si.py\", line 138, in train_epoch\n",
    "                for i, data in enumerate(loader):\n",
    "        File \"E:\\anaconda3\\envs\\pytorch\\lib\\site-packages\\torch\\utils\\data\\dataloader.py\", line 630, in __next__\n",
    "        data = self._next_data()\n",
    "        File \"E:\\anaconda3\\envs\\pytorch\\lib\\site-packages\\torch\\utils\\data\\dataloader.py\", line 673, in _next_data\n",
    "                data = self._dataset_fetcher.fetch(index)  # may raise StopIteration\n",
    "        File \"E:\\anaconda3\\envs\\pytorch\\lib\\site-packages\\torch\\utils\\data\\_utils\\fetch.py\", line 52, in fetch\n",
    "                data = [self.dataset[idx] for idx in possibly_batched_index]\n",
    "        File \"E:\\anaconda3\\envs\\pytorch\\lib\\site-packages\\torch\\utils\\data\\_utils\\fetch.py\", line 52, in <listcomp>\n",
    "                data = [self.dataset[idx] for idx in possibly_batched_index]\n",
    "        File \"E:\\WYX_Project\\SAT-CGCN-Demo-1\\csat\\data.py\", line 128, in __getitem__\n",
    "                n = data.num_nodes\n",
    "        File \"E:\\anaconda3\\envs\\pytorch\\lib\\site-packages\\torch_geometric\\data\\data.py\", line 616, in num_nodes\n",
    "                return super().num_nodes\n",
    "        File \"E:\\anaconda3\\envs\\pytorch\\lib\\site-packages\\torch_geometric\\data\\data.py\", line 186, in num_nodes\n",
    "                return sum([v.num_nodes for v in self.node_stores])\n",
    "        File \"E:\\anaconda3\\envs\\pytorch\\lib\\site-packages\\torch_geometric\\data\\data.py\", line 186, in <listcomp>\n",
    "                return sum([v.num_nodes for v in self.node_stores])\n",
    "        File \"E:\\anaconda3\\envs\\pytorch\\lib\\site-packages\\torch_geometric\\data\\storage.py\", line 428, in num_nodes\n",
    "                return value.size(cat_dim)\n",
    "            IndexError: Dimension specified as 0 but tensor has no dimensions\n",
    "        ```"
   ],
   "id": "d533c737b3f67168"
  },
  {
   "metadata": {
    "ExecuteTime": {
     "end_time": "2025-03-10T10:07:28.018394Z",
     "start_time": "2025-03-10T10:07:27.981499Z"
    }
   },
   "cell_type": "code",
   "source": [
    "full_dataset = crystal_graph_list(crystal_data)\n",
    "indices = list(range(100))\n",
    "subset = Subset(full_dataset, indices)\n",
    "print(full_dataset[0])\n",
    "print(subset[0])"
   ],
   "id": "c002337cec12424e",
   "outputs": [
    {
     "name": "stderr",
     "output_type": "stream",
     "text": [
      "100%|██████████| 10/10 [00:00<00:00, 669.51it/s]"
     ]
    },
    {
     "name": "stdout",
     "output_type": "stream",
     "text": [
      "Warning: edge_index contains self-loops.\n",
      "Warning: edge_index contains self-loops.\n",
      "Warning: edge_index contains self-loops.\n",
      "Warning: edge_index contains self-loops.\n",
      "Warning: edge_index contains self-loops.\n",
      "Data(x=[8, 92], edge_index=[2, 56], edge_attr=[56, 41], y=[1])\n",
      "Data(x=[8, 92], edge_index=[2, 56], edge_attr=[56, 41], y=[1])\n"
     ]
    },
    {
     "name": "stderr",
     "output_type": "stream",
     "text": [
      "\n"
     ]
    }
   ],
   "execution_count": 151
  },
  {
   "metadata": {
    "ExecuteTime": {
     "end_time": "2025-03-10T10:07:00.111743Z",
     "start_time": "2025-03-10T10:07:00.070913Z"
    }
   },
   "cell_type": "code",
   "source": [
    "subset_graph = GraphDataset(subset, degree=True, k_hop=k_hop, se=se, use_subgraph_edge_attr=use_edge_attr)\n",
    "print(subset_graph)"
   ],
   "id": "a4f38162c16dc641",
   "outputs": [
    {
     "name": "stdout",
     "output_type": "stream",
     "text": [
      "Extracting 2-hop subgraphs...\n",
      "Done!\n",
      "<csat.data.GraphDataset object at 0x000001E0946CF5E0>\n"
     ]
    }
   ],
   "execution_count": 149
  },
  {
   "metadata": {
    "ExecuteTime": {
     "end_time": "2025-03-10T10:07:02.673179Z",
     "start_time": "2025-03-10T10:07:01.937236Z"
    }
   },
   "cell_type": "code",
   "source": [
    "subset_loader = DataLoader(subset_graph, batch_size=128, shuffle=True)\n",
    "for batch in subset_loader:\n",
    "    print('loader之后：',batch)\n",
    "    break\n",
    "\n",
    "deg = torch.cat([\n",
    "        utils.degree(data.edge_index[1], num_nodes=data.num_nodes) for\n",
    "        data in subset_graph])\n",
    "sub_model = GraphTransformer(in_size=92,\n",
    "                             num_class=1,\n",
    "                             d_model=dim_hidden,\n",
    "                             dim_feedforward=2 * dim_hidden,\n",
    "                             dropout=dropout,\n",
    "                             num_heads=num_heads,\n",
    "                             num_layers=num_layers,\n",
    "                             batch_norm=batch_norm,\n",
    "                             abs_pe=abs_pe,\n",
    "                             abs_pe_dim=abs_pe_dim,\n",
    "                             gnn_type=gnn_type,\n",
    "                             use_edge_attr=use_edge_attr,\n",
    "                             num_edge_features=41,\n",
    "                             edge_dim=edge_dim,\n",
    "                             k_hop=k_hop,\n",
    "                             se=se,\n",
    "                             deg=deg,\n",
    "                             global_pool=global_pool)\n",
    "\n",
    "sub_model = sub_model.to(device)\n",
    "optimizer = optim.AdamW(sub_model.parameters(), lr=lr, weight_decay=weight_decay)\n",
    "out = train_out(subset_loader, sub_model,optimizer)"
   ],
   "id": "e4e231854a1133ba",
   "outputs": [
    {
     "name": "stdout",
     "output_type": "stream",
     "text": [
      "loader之后： DataBatch(x=[65, 92], edge_index=[2, 348], edge_attr=[348, 41], y=[10, 1], complete_edge_index=[2, 513], degree=[65], subgraph_edge_index=[2, 2844], num_subgraph_nodes=[10], subgraph_node_idx=[481], subgraph_edge_attr=[2844, 41], subgraph_indicator=[481], batch=[65], ptr=[11])\n",
      "0\n",
      "DataBatch(x=[65, 92], edge_index=[2, 348], edge_attr=[348, 41], y=[10, 1], complete_edge_index=[2, 513], subgraph_edge_index=[2, 2844], num_subgraph_nodes=[10], subgraph_node_idx=[481], subgraph_edge_attr=[2844, 41], subgraph_indicator=[481], degree=[65], batch=[65], ptr=[11])\n"
     ]
    },
    {
     "ename": "RuntimeError",
     "evalue": "Sizes of tensors must match except in dimension 2. Expected size 2844 but got size 116604 for tensor number 2 in the list.",
     "output_type": "error",
     "traceback": [
      "\u001B[1;31m---------------------------------------------------------------------------\u001B[0m",
      "\u001B[1;31mRuntimeError\u001B[0m                              Traceback (most recent call last)",
      "Cell \u001B[1;32mIn[150], line 30\u001B[0m\n\u001B[0;32m     28\u001B[0m sub_model \u001B[38;5;241m=\u001B[39m sub_model\u001B[38;5;241m.\u001B[39mto(device)\n\u001B[0;32m     29\u001B[0m optimizer \u001B[38;5;241m=\u001B[39m optim\u001B[38;5;241m.\u001B[39mAdamW(sub_model\u001B[38;5;241m.\u001B[39mparameters(), lr\u001B[38;5;241m=\u001B[39mlr, weight_decay\u001B[38;5;241m=\u001B[39mweight_decay)\n\u001B[1;32m---> 30\u001B[0m out \u001B[38;5;241m=\u001B[39m \u001B[43mtrain_out\u001B[49m\u001B[43m(\u001B[49m\u001B[43msubset_loader\u001B[49m\u001B[43m,\u001B[49m\u001B[43m \u001B[49m\u001B[43msub_model\u001B[49m\u001B[43m,\u001B[49m\u001B[43moptimizer\u001B[49m\u001B[43m)\u001B[49m\n",
      "Cell \u001B[1;32mIn[120], line 13\u001B[0m, in \u001B[0;36mtrain_out\u001B[1;34m(loader, model, optimizer)\u001B[0m\n\u001B[0;32m     11\u001B[0m criterion \u001B[38;5;241m=\u001B[39m nn\u001B[38;5;241m.\u001B[39mL1Loss()\n\u001B[0;32m     12\u001B[0m optimizer\u001B[38;5;241m.\u001B[39mzero_grad()\n\u001B[1;32m---> 13\u001B[0m output \u001B[38;5;241m=\u001B[39m \u001B[43mmodel\u001B[49m\u001B[43m(\u001B[49m\u001B[43mdata\u001B[49m\u001B[43m)\u001B[49m\n\u001B[0;32m     14\u001B[0m loss \u001B[38;5;241m=\u001B[39m criterion(output, data\u001B[38;5;241m.\u001B[39my)\n\u001B[0;32m     16\u001B[0m loss\u001B[38;5;241m.\u001B[39mbackward()\n",
      "File \u001B[1;32mE:\\anaconda3\\envs\\pytorch\\lib\\site-packages\\torch\\nn\\modules\\module.py:1553\u001B[0m, in \u001B[0;36mModule._wrapped_call_impl\u001B[1;34m(self, *args, **kwargs)\u001B[0m\n\u001B[0;32m   1551\u001B[0m     \u001B[38;5;28;01mreturn\u001B[39;00m \u001B[38;5;28mself\u001B[39m\u001B[38;5;241m.\u001B[39m_compiled_call_impl(\u001B[38;5;241m*\u001B[39margs, \u001B[38;5;241m*\u001B[39m\u001B[38;5;241m*\u001B[39mkwargs)  \u001B[38;5;66;03m# type: ignore[misc]\u001B[39;00m\n\u001B[0;32m   1552\u001B[0m \u001B[38;5;28;01melse\u001B[39;00m:\n\u001B[1;32m-> 1553\u001B[0m     \u001B[38;5;28;01mreturn\u001B[39;00m \u001B[38;5;28;43mself\u001B[39;49m\u001B[38;5;241;43m.\u001B[39;49m\u001B[43m_call_impl\u001B[49m\u001B[43m(\u001B[49m\u001B[38;5;241;43m*\u001B[39;49m\u001B[43margs\u001B[49m\u001B[43m,\u001B[49m\u001B[43m \u001B[49m\u001B[38;5;241;43m*\u001B[39;49m\u001B[38;5;241;43m*\u001B[39;49m\u001B[43mkwargs\u001B[49m\u001B[43m)\u001B[49m\n",
      "File \u001B[1;32mE:\\anaconda3\\envs\\pytorch\\lib\\site-packages\\torch\\nn\\modules\\module.py:1562\u001B[0m, in \u001B[0;36mModule._call_impl\u001B[1;34m(self, *args, **kwargs)\u001B[0m\n\u001B[0;32m   1557\u001B[0m \u001B[38;5;66;03m# If we don't have any hooks, we want to skip the rest of the logic in\u001B[39;00m\n\u001B[0;32m   1558\u001B[0m \u001B[38;5;66;03m# this function, and just call forward.\u001B[39;00m\n\u001B[0;32m   1559\u001B[0m \u001B[38;5;28;01mif\u001B[39;00m \u001B[38;5;129;01mnot\u001B[39;00m (\u001B[38;5;28mself\u001B[39m\u001B[38;5;241m.\u001B[39m_backward_hooks \u001B[38;5;129;01mor\u001B[39;00m \u001B[38;5;28mself\u001B[39m\u001B[38;5;241m.\u001B[39m_backward_pre_hooks \u001B[38;5;129;01mor\u001B[39;00m \u001B[38;5;28mself\u001B[39m\u001B[38;5;241m.\u001B[39m_forward_hooks \u001B[38;5;129;01mor\u001B[39;00m \u001B[38;5;28mself\u001B[39m\u001B[38;5;241m.\u001B[39m_forward_pre_hooks\n\u001B[0;32m   1560\u001B[0m         \u001B[38;5;129;01mor\u001B[39;00m _global_backward_pre_hooks \u001B[38;5;129;01mor\u001B[39;00m _global_backward_hooks\n\u001B[0;32m   1561\u001B[0m         \u001B[38;5;129;01mor\u001B[39;00m _global_forward_hooks \u001B[38;5;129;01mor\u001B[39;00m _global_forward_pre_hooks):\n\u001B[1;32m-> 1562\u001B[0m     \u001B[38;5;28;01mreturn\u001B[39;00m \u001B[43mforward_call\u001B[49m\u001B[43m(\u001B[49m\u001B[38;5;241;43m*\u001B[39;49m\u001B[43margs\u001B[49m\u001B[43m,\u001B[49m\u001B[43m \u001B[49m\u001B[38;5;241;43m*\u001B[39;49m\u001B[38;5;241;43m*\u001B[39;49m\u001B[43mkwargs\u001B[49m\u001B[43m)\u001B[49m\n\u001B[0;32m   1564\u001B[0m \u001B[38;5;28;01mtry\u001B[39;00m:\n\u001B[0;32m   1565\u001B[0m     result \u001B[38;5;241m=\u001B[39m \u001B[38;5;28;01mNone\u001B[39;00m\n",
      "File \u001B[1;32mE:\\WYX_Project\\SAT-CGCN-Demo-1\\csat\\models.py:150\u001B[0m, in \u001B[0;36mGraphTransformer.forward\u001B[1;34m(self, data, return_attn)\u001B[0m\n\u001B[0;32m    147\u001B[0m     cls_tokens \u001B[38;5;241m=\u001B[39m repeat(\u001B[38;5;28mself\u001B[39m\u001B[38;5;241m.\u001B[39mcls_token, \u001B[38;5;124m'\u001B[39m\u001B[38;5;124m() d -> b d\u001B[39m\u001B[38;5;124m'\u001B[39m, b\u001B[38;5;241m=\u001B[39mbsz)\n\u001B[0;32m    148\u001B[0m     output \u001B[38;5;241m=\u001B[39m torch\u001B[38;5;241m.\u001B[39mcat((output, cls_tokens))\n\u001B[1;32m--> 150\u001B[0m output \u001B[38;5;241m=\u001B[39m \u001B[38;5;28;43mself\u001B[39;49m\u001B[38;5;241;43m.\u001B[39;49m\u001B[43mencoder\u001B[49m\u001B[43m(\u001B[49m\n\u001B[0;32m    151\u001B[0m \u001B[43m    \u001B[49m\u001B[43moutput\u001B[49m\u001B[43m,\u001B[49m\u001B[43m \u001B[49m\n\u001B[0;32m    152\u001B[0m \u001B[43m    \u001B[49m\u001B[43medge_index\u001B[49m\u001B[43m,\u001B[49m\u001B[43m \u001B[49m\n\u001B[0;32m    153\u001B[0m \u001B[43m    \u001B[49m\u001B[43mcomplete_edge_index\u001B[49m\u001B[43m,\u001B[49m\n\u001B[0;32m    154\u001B[0m \u001B[43m    \u001B[49m\u001B[43medge_attr\u001B[49m\u001B[38;5;241;43m=\u001B[39;49m\u001B[43medge_attr\u001B[49m\u001B[43m,\u001B[49m\u001B[43m \u001B[49m\n\u001B[0;32m    155\u001B[0m \u001B[43m    \u001B[49m\u001B[43mdegree\u001B[49m\u001B[38;5;241;43m=\u001B[39;49m\u001B[43mdegree\u001B[49m\u001B[43m,\u001B[49m\n\u001B[0;32m    156\u001B[0m \u001B[43m    \u001B[49m\u001B[43msubgraph_node_index\u001B[49m\u001B[38;5;241;43m=\u001B[39;49m\u001B[43msubgraph_node_index\u001B[49m\u001B[43m,\u001B[49m\n\u001B[0;32m    157\u001B[0m \u001B[43m    \u001B[49m\u001B[43msubgraph_edge_index\u001B[49m\u001B[38;5;241;43m=\u001B[39;49m\u001B[43msubgraph_edge_index\u001B[49m\u001B[43m,\u001B[49m\n\u001B[0;32m    158\u001B[0m \u001B[43m    \u001B[49m\u001B[43msubgraph_indicator_index\u001B[49m\u001B[38;5;241;43m=\u001B[39;49m\u001B[43msubgraph_indicator_index\u001B[49m\u001B[43m,\u001B[49m\u001B[43m \u001B[49m\n\u001B[0;32m    159\u001B[0m \u001B[43m    \u001B[49m\u001B[43msubgraph_edge_attr\u001B[49m\u001B[38;5;241;43m=\u001B[39;49m\u001B[43msubgraph_edge_attr\u001B[49m\u001B[43m,\u001B[49m\n\u001B[0;32m    160\u001B[0m \u001B[43m    \u001B[49m\u001B[43mptr\u001B[49m\u001B[38;5;241;43m=\u001B[39;49m\u001B[43mdata\u001B[49m\u001B[38;5;241;43m.\u001B[39;49m\u001B[43mptr\u001B[49m\u001B[43m,\u001B[49m\n\u001B[0;32m    161\u001B[0m \u001B[43m    \u001B[49m\u001B[43mreturn_attn\u001B[49m\u001B[38;5;241;43m=\u001B[39;49m\u001B[43mreturn_attn\u001B[49m\n\u001B[0;32m    162\u001B[0m \u001B[43m\u001B[49m\u001B[43m)\u001B[49m\n\u001B[0;32m    163\u001B[0m \u001B[38;5;66;03m# readout step\u001B[39;00m\n\u001B[0;32m    164\u001B[0m \u001B[38;5;28;01mif\u001B[39;00m \u001B[38;5;28mself\u001B[39m\u001B[38;5;241m.\u001B[39muse_global_pool:\n",
      "File \u001B[1;32mE:\\anaconda3\\envs\\pytorch\\lib\\site-packages\\torch\\nn\\modules\\module.py:1553\u001B[0m, in \u001B[0;36mModule._wrapped_call_impl\u001B[1;34m(self, *args, **kwargs)\u001B[0m\n\u001B[0;32m   1551\u001B[0m     \u001B[38;5;28;01mreturn\u001B[39;00m \u001B[38;5;28mself\u001B[39m\u001B[38;5;241m.\u001B[39m_compiled_call_impl(\u001B[38;5;241m*\u001B[39margs, \u001B[38;5;241m*\u001B[39m\u001B[38;5;241m*\u001B[39mkwargs)  \u001B[38;5;66;03m# type: ignore[misc]\u001B[39;00m\n\u001B[0;32m   1552\u001B[0m \u001B[38;5;28;01melse\u001B[39;00m:\n\u001B[1;32m-> 1553\u001B[0m     \u001B[38;5;28;01mreturn\u001B[39;00m \u001B[38;5;28;43mself\u001B[39;49m\u001B[38;5;241;43m.\u001B[39;49m\u001B[43m_call_impl\u001B[49m\u001B[43m(\u001B[49m\u001B[38;5;241;43m*\u001B[39;49m\u001B[43margs\u001B[49m\u001B[43m,\u001B[49m\u001B[43m \u001B[49m\u001B[38;5;241;43m*\u001B[39;49m\u001B[38;5;241;43m*\u001B[39;49m\u001B[43mkwargs\u001B[49m\u001B[43m)\u001B[49m\n",
      "File \u001B[1;32mE:\\anaconda3\\envs\\pytorch\\lib\\site-packages\\torch\\nn\\modules\\module.py:1562\u001B[0m, in \u001B[0;36mModule._call_impl\u001B[1;34m(self, *args, **kwargs)\u001B[0m\n\u001B[0;32m   1557\u001B[0m \u001B[38;5;66;03m# If we don't have any hooks, we want to skip the rest of the logic in\u001B[39;00m\n\u001B[0;32m   1558\u001B[0m \u001B[38;5;66;03m# this function, and just call forward.\u001B[39;00m\n\u001B[0;32m   1559\u001B[0m \u001B[38;5;28;01mif\u001B[39;00m \u001B[38;5;129;01mnot\u001B[39;00m (\u001B[38;5;28mself\u001B[39m\u001B[38;5;241m.\u001B[39m_backward_hooks \u001B[38;5;129;01mor\u001B[39;00m \u001B[38;5;28mself\u001B[39m\u001B[38;5;241m.\u001B[39m_backward_pre_hooks \u001B[38;5;129;01mor\u001B[39;00m \u001B[38;5;28mself\u001B[39m\u001B[38;5;241m.\u001B[39m_forward_hooks \u001B[38;5;129;01mor\u001B[39;00m \u001B[38;5;28mself\u001B[39m\u001B[38;5;241m.\u001B[39m_forward_pre_hooks\n\u001B[0;32m   1560\u001B[0m         \u001B[38;5;129;01mor\u001B[39;00m _global_backward_pre_hooks \u001B[38;5;129;01mor\u001B[39;00m _global_backward_hooks\n\u001B[0;32m   1561\u001B[0m         \u001B[38;5;129;01mor\u001B[39;00m _global_forward_hooks \u001B[38;5;129;01mor\u001B[39;00m _global_forward_pre_hooks):\n\u001B[1;32m-> 1562\u001B[0m     \u001B[38;5;28;01mreturn\u001B[39;00m \u001B[43mforward_call\u001B[49m\u001B[43m(\u001B[49m\u001B[38;5;241;43m*\u001B[39;49m\u001B[43margs\u001B[49m\u001B[43m,\u001B[49m\u001B[43m \u001B[49m\u001B[38;5;241;43m*\u001B[39;49m\u001B[38;5;241;43m*\u001B[39;49m\u001B[43mkwargs\u001B[49m\u001B[43m)\u001B[49m\n\u001B[0;32m   1564\u001B[0m \u001B[38;5;28;01mtry\u001B[39;00m:\n\u001B[0;32m   1565\u001B[0m     result \u001B[38;5;241m=\u001B[39m \u001B[38;5;28;01mNone\u001B[39;00m\n",
      "File \u001B[1;32mE:\\WYX_Project\\SAT-CGCN-Demo-1\\csat\\models.py:17\u001B[0m, in \u001B[0;36mGraphTransformerEncoder.forward\u001B[1;34m(self, x, edge_index, complete_edge_index, subgraph_node_index, subgraph_edge_index, subgraph_edge_attr, subgraph_indicator_index, edge_attr, degree, ptr, return_attn)\u001B[0m\n\u001B[0;32m     14\u001B[0m output \u001B[38;5;241m=\u001B[39m x\n\u001B[0;32m     16\u001B[0m \u001B[38;5;28;01mfor\u001B[39;00m mod \u001B[38;5;129;01min\u001B[39;00m \u001B[38;5;28mself\u001B[39m\u001B[38;5;241m.\u001B[39mlayers:\n\u001B[1;32m---> 17\u001B[0m     output \u001B[38;5;241m=\u001B[39m \u001B[43mmod\u001B[49m\u001B[43m(\u001B[49m\u001B[43moutput\u001B[49m\u001B[43m,\u001B[49m\u001B[43m \u001B[49m\u001B[43medge_index\u001B[49m\u001B[43m,\u001B[49m\u001B[43m \u001B[49m\u001B[43mcomplete_edge_index\u001B[49m\u001B[43m,\u001B[49m\n\u001B[0;32m     18\u001B[0m \u001B[43m        \u001B[49m\u001B[43medge_attr\u001B[49m\u001B[38;5;241;43m=\u001B[39;49m\u001B[43medge_attr\u001B[49m\u001B[43m,\u001B[49m\u001B[43m \u001B[49m\u001B[43mdegree\u001B[49m\u001B[38;5;241;43m=\u001B[39;49m\u001B[43mdegree\u001B[49m\u001B[43m,\u001B[49m\n\u001B[0;32m     19\u001B[0m \u001B[43m        \u001B[49m\u001B[43msubgraph_node_index\u001B[49m\u001B[38;5;241;43m=\u001B[39;49m\u001B[43msubgraph_node_index\u001B[49m\u001B[43m,\u001B[49m\n\u001B[0;32m     20\u001B[0m \u001B[43m        \u001B[49m\u001B[43msubgraph_edge_index\u001B[49m\u001B[38;5;241;43m=\u001B[39;49m\u001B[43msubgraph_edge_index\u001B[49m\u001B[43m,\u001B[49m\n\u001B[0;32m     21\u001B[0m \u001B[43m        \u001B[49m\u001B[43msubgraph_indicator_index\u001B[49m\u001B[38;5;241;43m=\u001B[39;49m\u001B[43msubgraph_indicator_index\u001B[49m\u001B[43m,\u001B[49m\u001B[43m \u001B[49m\n\u001B[0;32m     22\u001B[0m \u001B[43m        \u001B[49m\u001B[43msubgraph_edge_attr\u001B[49m\u001B[38;5;241;43m=\u001B[39;49m\u001B[43msubgraph_edge_attr\u001B[49m\u001B[43m,\u001B[49m\n\u001B[0;32m     23\u001B[0m \u001B[43m        \u001B[49m\u001B[43mptr\u001B[49m\u001B[38;5;241;43m=\u001B[39;49m\u001B[43mptr\u001B[49m\u001B[43m,\u001B[49m\n\u001B[0;32m     24\u001B[0m \u001B[43m        \u001B[49m\u001B[43mreturn_attn\u001B[49m\u001B[38;5;241;43m=\u001B[39;49m\u001B[43mreturn_attn\u001B[49m\n\u001B[0;32m     25\u001B[0m \u001B[43m    \u001B[49m\u001B[43m)\u001B[49m\n\u001B[0;32m     26\u001B[0m \u001B[38;5;28;01mif\u001B[39;00m \u001B[38;5;28mself\u001B[39m\u001B[38;5;241m.\u001B[39mnorm \u001B[38;5;129;01mis\u001B[39;00m \u001B[38;5;129;01mnot\u001B[39;00m \u001B[38;5;28;01mNone\u001B[39;00m:\n\u001B[0;32m     27\u001B[0m     output \u001B[38;5;241m=\u001B[39m \u001B[38;5;28mself\u001B[39m\u001B[38;5;241m.\u001B[39mnorm(output)\n",
      "File \u001B[1;32mE:\\anaconda3\\envs\\pytorch\\lib\\site-packages\\torch\\nn\\modules\\module.py:1553\u001B[0m, in \u001B[0;36mModule._wrapped_call_impl\u001B[1;34m(self, *args, **kwargs)\u001B[0m\n\u001B[0;32m   1551\u001B[0m     \u001B[38;5;28;01mreturn\u001B[39;00m \u001B[38;5;28mself\u001B[39m\u001B[38;5;241m.\u001B[39m_compiled_call_impl(\u001B[38;5;241m*\u001B[39margs, \u001B[38;5;241m*\u001B[39m\u001B[38;5;241m*\u001B[39mkwargs)  \u001B[38;5;66;03m# type: ignore[misc]\u001B[39;00m\n\u001B[0;32m   1552\u001B[0m \u001B[38;5;28;01melse\u001B[39;00m:\n\u001B[1;32m-> 1553\u001B[0m     \u001B[38;5;28;01mreturn\u001B[39;00m \u001B[38;5;28;43mself\u001B[39;49m\u001B[38;5;241;43m.\u001B[39;49m\u001B[43m_call_impl\u001B[49m\u001B[43m(\u001B[49m\u001B[38;5;241;43m*\u001B[39;49m\u001B[43margs\u001B[49m\u001B[43m,\u001B[49m\u001B[43m \u001B[49m\u001B[38;5;241;43m*\u001B[39;49m\u001B[38;5;241;43m*\u001B[39;49m\u001B[43mkwargs\u001B[49m\u001B[43m)\u001B[49m\n",
      "File \u001B[1;32mE:\\anaconda3\\envs\\pytorch\\lib\\site-packages\\torch\\nn\\modules\\module.py:1562\u001B[0m, in \u001B[0;36mModule._call_impl\u001B[1;34m(self, *args, **kwargs)\u001B[0m\n\u001B[0;32m   1557\u001B[0m \u001B[38;5;66;03m# If we don't have any hooks, we want to skip the rest of the logic in\u001B[39;00m\n\u001B[0;32m   1558\u001B[0m \u001B[38;5;66;03m# this function, and just call forward.\u001B[39;00m\n\u001B[0;32m   1559\u001B[0m \u001B[38;5;28;01mif\u001B[39;00m \u001B[38;5;129;01mnot\u001B[39;00m (\u001B[38;5;28mself\u001B[39m\u001B[38;5;241m.\u001B[39m_backward_hooks \u001B[38;5;129;01mor\u001B[39;00m \u001B[38;5;28mself\u001B[39m\u001B[38;5;241m.\u001B[39m_backward_pre_hooks \u001B[38;5;129;01mor\u001B[39;00m \u001B[38;5;28mself\u001B[39m\u001B[38;5;241m.\u001B[39m_forward_hooks \u001B[38;5;129;01mor\u001B[39;00m \u001B[38;5;28mself\u001B[39m\u001B[38;5;241m.\u001B[39m_forward_pre_hooks\n\u001B[0;32m   1560\u001B[0m         \u001B[38;5;129;01mor\u001B[39;00m _global_backward_pre_hooks \u001B[38;5;129;01mor\u001B[39;00m _global_backward_hooks\n\u001B[0;32m   1561\u001B[0m         \u001B[38;5;129;01mor\u001B[39;00m _global_forward_hooks \u001B[38;5;129;01mor\u001B[39;00m _global_forward_pre_hooks):\n\u001B[1;32m-> 1562\u001B[0m     \u001B[38;5;28;01mreturn\u001B[39;00m \u001B[43mforward_call\u001B[49m\u001B[43m(\u001B[49m\u001B[38;5;241;43m*\u001B[39;49m\u001B[43margs\u001B[49m\u001B[43m,\u001B[49m\u001B[43m \u001B[49m\u001B[38;5;241;43m*\u001B[39;49m\u001B[38;5;241;43m*\u001B[39;49m\u001B[43mkwargs\u001B[49m\u001B[43m)\u001B[49m\n\u001B[0;32m   1564\u001B[0m \u001B[38;5;28;01mtry\u001B[39;00m:\n\u001B[0;32m   1565\u001B[0m     result \u001B[38;5;241m=\u001B[39m \u001B[38;5;28;01mNone\u001B[39;00m\n",
      "File \u001B[1;32mE:\\WYX_Project\\SAT-CGCN-Demo-1\\csat\\layers.py:358\u001B[0m, in \u001B[0;36mTransformerEncoderLayer.forward\u001B[1;34m(self, x, edge_index, complete_edge_index, subgraph_node_index, subgraph_edge_index, subgraph_edge_attr, subgraph_indicator_index, edge_attr, degree, ptr, return_attn)\u001B[0m\n\u001B[0;32m    355\u001B[0m \u001B[38;5;28;01mif\u001B[39;00m \u001B[38;5;28mself\u001B[39m\u001B[38;5;241m.\u001B[39mpre_norm:\n\u001B[0;32m    356\u001B[0m     x \u001B[38;5;241m=\u001B[39m \u001B[38;5;28mself\u001B[39m\u001B[38;5;241m.\u001B[39mnorm1(x)\n\u001B[1;32m--> 358\u001B[0m x2, attn \u001B[38;5;241m=\u001B[39m \u001B[38;5;28;43mself\u001B[39;49m\u001B[38;5;241;43m.\u001B[39;49m\u001B[43mself_attn\u001B[49m\u001B[43m(\u001B[49m\n\u001B[0;32m    359\u001B[0m \u001B[43m    \u001B[49m\u001B[43mx\u001B[49m\u001B[43m,\u001B[49m\n\u001B[0;32m    360\u001B[0m \u001B[43m    \u001B[49m\u001B[43medge_index\u001B[49m\u001B[43m,\u001B[49m\n\u001B[0;32m    361\u001B[0m \u001B[43m    \u001B[49m\u001B[43mcomplete_edge_index\u001B[49m\u001B[43m,\u001B[49m\n\u001B[0;32m    362\u001B[0m \u001B[43m    \u001B[49m\u001B[43medge_attr\u001B[49m\u001B[38;5;241;43m=\u001B[39;49m\u001B[43medge_attr\u001B[49m\u001B[43m,\u001B[49m\n\u001B[0;32m    363\u001B[0m \u001B[43m    \u001B[49m\u001B[43msubgraph_node_index\u001B[49m\u001B[38;5;241;43m=\u001B[39;49m\u001B[43msubgraph_node_index\u001B[49m\u001B[43m,\u001B[49m\n\u001B[0;32m    364\u001B[0m \u001B[43m    \u001B[49m\u001B[43msubgraph_edge_index\u001B[49m\u001B[38;5;241;43m=\u001B[39;49m\u001B[43msubgraph_edge_index\u001B[49m\u001B[43m,\u001B[49m\n\u001B[0;32m    365\u001B[0m \u001B[43m    \u001B[49m\u001B[43msubgraph_indicator_index\u001B[49m\u001B[38;5;241;43m=\u001B[39;49m\u001B[43msubgraph_indicator_index\u001B[49m\u001B[43m,\u001B[49m\n\u001B[0;32m    366\u001B[0m \u001B[43m    \u001B[49m\u001B[43msubgraph_edge_attr\u001B[49m\u001B[38;5;241;43m=\u001B[39;49m\u001B[43msubgraph_edge_attr\u001B[49m\u001B[43m,\u001B[49m\n\u001B[0;32m    367\u001B[0m \u001B[43m    \u001B[49m\u001B[43mptr\u001B[49m\u001B[38;5;241;43m=\u001B[39;49m\u001B[43mptr\u001B[49m\u001B[43m,\u001B[49m\n\u001B[0;32m    368\u001B[0m \u001B[43m    \u001B[49m\u001B[43mreturn_attn\u001B[49m\u001B[38;5;241;43m=\u001B[39;49m\u001B[43mreturn_attn\u001B[49m\n\u001B[0;32m    369\u001B[0m \u001B[43m\u001B[49m\u001B[43m)\u001B[49m\n\u001B[0;32m    371\u001B[0m \u001B[38;5;28;01mif\u001B[39;00m degree \u001B[38;5;129;01mis\u001B[39;00m \u001B[38;5;129;01mnot\u001B[39;00m \u001B[38;5;28;01mNone\u001B[39;00m:\n\u001B[0;32m    372\u001B[0m     x2 \u001B[38;5;241m=\u001B[39m degree\u001B[38;5;241m.\u001B[39munsqueeze(\u001B[38;5;241m-\u001B[39m\u001B[38;5;241m1\u001B[39m) \u001B[38;5;241m*\u001B[39m x2\n",
      "File \u001B[1;32mE:\\anaconda3\\envs\\pytorch\\lib\\site-packages\\torch\\nn\\modules\\module.py:1553\u001B[0m, in \u001B[0;36mModule._wrapped_call_impl\u001B[1;34m(self, *args, **kwargs)\u001B[0m\n\u001B[0;32m   1551\u001B[0m     \u001B[38;5;28;01mreturn\u001B[39;00m \u001B[38;5;28mself\u001B[39m\u001B[38;5;241m.\u001B[39m_compiled_call_impl(\u001B[38;5;241m*\u001B[39margs, \u001B[38;5;241m*\u001B[39m\u001B[38;5;241m*\u001B[39mkwargs)  \u001B[38;5;66;03m# type: ignore[misc]\u001B[39;00m\n\u001B[0;32m   1552\u001B[0m \u001B[38;5;28;01melse\u001B[39;00m:\n\u001B[1;32m-> 1553\u001B[0m     \u001B[38;5;28;01mreturn\u001B[39;00m \u001B[38;5;28;43mself\u001B[39;49m\u001B[38;5;241;43m.\u001B[39;49m\u001B[43m_call_impl\u001B[49m\u001B[43m(\u001B[49m\u001B[38;5;241;43m*\u001B[39;49m\u001B[43margs\u001B[49m\u001B[43m,\u001B[49m\u001B[43m \u001B[49m\u001B[38;5;241;43m*\u001B[39;49m\u001B[38;5;241;43m*\u001B[39;49m\u001B[43mkwargs\u001B[49m\u001B[43m)\u001B[49m\n",
      "File \u001B[1;32mE:\\anaconda3\\envs\\pytorch\\lib\\site-packages\\torch\\nn\\modules\\module.py:1562\u001B[0m, in \u001B[0;36mModule._call_impl\u001B[1;34m(self, *args, **kwargs)\u001B[0m\n\u001B[0;32m   1557\u001B[0m \u001B[38;5;66;03m# If we don't have any hooks, we want to skip the rest of the logic in\u001B[39;00m\n\u001B[0;32m   1558\u001B[0m \u001B[38;5;66;03m# this function, and just call forward.\u001B[39;00m\n\u001B[0;32m   1559\u001B[0m \u001B[38;5;28;01mif\u001B[39;00m \u001B[38;5;129;01mnot\u001B[39;00m (\u001B[38;5;28mself\u001B[39m\u001B[38;5;241m.\u001B[39m_backward_hooks \u001B[38;5;129;01mor\u001B[39;00m \u001B[38;5;28mself\u001B[39m\u001B[38;5;241m.\u001B[39m_backward_pre_hooks \u001B[38;5;129;01mor\u001B[39;00m \u001B[38;5;28mself\u001B[39m\u001B[38;5;241m.\u001B[39m_forward_hooks \u001B[38;5;129;01mor\u001B[39;00m \u001B[38;5;28mself\u001B[39m\u001B[38;5;241m.\u001B[39m_forward_pre_hooks\n\u001B[0;32m   1560\u001B[0m         \u001B[38;5;129;01mor\u001B[39;00m _global_backward_pre_hooks \u001B[38;5;129;01mor\u001B[39;00m _global_backward_hooks\n\u001B[0;32m   1561\u001B[0m         \u001B[38;5;129;01mor\u001B[39;00m _global_forward_hooks \u001B[38;5;129;01mor\u001B[39;00m _global_forward_pre_hooks):\n\u001B[1;32m-> 1562\u001B[0m     \u001B[38;5;28;01mreturn\u001B[39;00m \u001B[43mforward_call\u001B[49m\u001B[43m(\u001B[49m\u001B[38;5;241;43m*\u001B[39;49m\u001B[43margs\u001B[49m\u001B[43m,\u001B[49m\u001B[43m \u001B[49m\u001B[38;5;241;43m*\u001B[39;49m\u001B[38;5;241;43m*\u001B[39;49m\u001B[43mkwargs\u001B[49m\u001B[43m)\u001B[49m\n\u001B[0;32m   1564\u001B[0m \u001B[38;5;28;01mtry\u001B[39;00m:\n\u001B[0;32m   1565\u001B[0m     result \u001B[38;5;241m=\u001B[39m \u001B[38;5;28;01mNone\u001B[39;00m\n",
      "File \u001B[1;32mE:\\WYX_Project\\SAT-CGCN-Demo-1\\csat\\layers.py:113\u001B[0m, in \u001B[0;36mAttention.forward\u001B[1;34m(self, x, edge_index, complete_edge_index, subgraph_node_index, subgraph_edge_index, subgraph_indicator_index, subgraph_edge_attr, edge_attr, ptr, return_attn)\u001B[0m\n\u001B[0;32m    111\u001B[0m \u001B[38;5;66;03m# Compute structure-aware node embeddings \u001B[39;00m\n\u001B[0;32m    112\u001B[0m \u001B[38;5;28;01mif\u001B[39;00m \u001B[38;5;28mself\u001B[39m\u001B[38;5;241m.\u001B[39mse \u001B[38;5;241m==\u001B[39m \u001B[38;5;124m'\u001B[39m\u001B[38;5;124mkhopgnn\u001B[39m\u001B[38;5;124m'\u001B[39m: \u001B[38;5;66;03m# k-subgraph SAT\u001B[39;00m\n\u001B[1;32m--> 113\u001B[0m     x_struct \u001B[38;5;241m=\u001B[39m \u001B[38;5;28;43mself\u001B[39;49m\u001B[38;5;241;43m.\u001B[39;49m\u001B[43mkhop_structure_extractor\u001B[49m\u001B[43m(\u001B[49m\n\u001B[0;32m    114\u001B[0m \u001B[43m        \u001B[49m\u001B[43mx\u001B[49m\u001B[38;5;241;43m=\u001B[39;49m\u001B[43mx\u001B[49m\u001B[43m,\u001B[49m\n\u001B[0;32m    115\u001B[0m \u001B[43m        \u001B[49m\u001B[43medge_index\u001B[49m\u001B[38;5;241;43m=\u001B[39;49m\u001B[43medge_index\u001B[49m\u001B[43m,\u001B[49m\n\u001B[0;32m    116\u001B[0m \u001B[43m        \u001B[49m\u001B[43msubgraph_edge_index\u001B[49m\u001B[38;5;241;43m=\u001B[39;49m\u001B[43msubgraph_edge_index\u001B[49m\u001B[43m,\u001B[49m\n\u001B[0;32m    117\u001B[0m \u001B[43m        \u001B[49m\u001B[43msubgraph_indicator_index\u001B[49m\u001B[38;5;241;43m=\u001B[39;49m\u001B[43msubgraph_indicator_index\u001B[49m\u001B[43m,\u001B[49m\n\u001B[0;32m    118\u001B[0m \u001B[43m        \u001B[49m\u001B[43msubgraph_node_index\u001B[49m\u001B[38;5;241;43m=\u001B[39;49m\u001B[43msubgraph_node_index\u001B[49m\u001B[43m,\u001B[49m\n\u001B[0;32m    119\u001B[0m \u001B[43m        \u001B[49m\u001B[43msubgraph_edge_attr\u001B[49m\u001B[38;5;241;43m=\u001B[39;49m\u001B[43msubgraph_edge_attr\u001B[49m\u001B[43m,\u001B[49m\n\u001B[0;32m    120\u001B[0m \u001B[43m    \u001B[49m\u001B[43m)\u001B[49m\n\u001B[0;32m    121\u001B[0m \u001B[38;5;28;01melse\u001B[39;00m: \u001B[38;5;66;03m# k-subtree SAT\u001B[39;00m\n\u001B[0;32m    122\u001B[0m     x_struct \u001B[38;5;241m=\u001B[39m \u001B[38;5;28mself\u001B[39m\u001B[38;5;241m.\u001B[39mstructure_extractor(x, edge_index, edge_attr)\n",
      "File \u001B[1;32mE:\\anaconda3\\envs\\pytorch\\lib\\site-packages\\torch\\nn\\modules\\module.py:1553\u001B[0m, in \u001B[0;36mModule._wrapped_call_impl\u001B[1;34m(self, *args, **kwargs)\u001B[0m\n\u001B[0;32m   1551\u001B[0m     \u001B[38;5;28;01mreturn\u001B[39;00m \u001B[38;5;28mself\u001B[39m\u001B[38;5;241m.\u001B[39m_compiled_call_impl(\u001B[38;5;241m*\u001B[39margs, \u001B[38;5;241m*\u001B[39m\u001B[38;5;241m*\u001B[39mkwargs)  \u001B[38;5;66;03m# type: ignore[misc]\u001B[39;00m\n\u001B[0;32m   1552\u001B[0m \u001B[38;5;28;01melse\u001B[39;00m:\n\u001B[1;32m-> 1553\u001B[0m     \u001B[38;5;28;01mreturn\u001B[39;00m \u001B[38;5;28;43mself\u001B[39;49m\u001B[38;5;241;43m.\u001B[39;49m\u001B[43m_call_impl\u001B[49m\u001B[43m(\u001B[49m\u001B[38;5;241;43m*\u001B[39;49m\u001B[43margs\u001B[49m\u001B[43m,\u001B[49m\u001B[43m \u001B[49m\u001B[38;5;241;43m*\u001B[39;49m\u001B[38;5;241;43m*\u001B[39;49m\u001B[43mkwargs\u001B[49m\u001B[43m)\u001B[49m\n",
      "File \u001B[1;32mE:\\anaconda3\\envs\\pytorch\\lib\\site-packages\\torch\\nn\\modules\\module.py:1562\u001B[0m, in \u001B[0;36mModule._call_impl\u001B[1;34m(self, *args, **kwargs)\u001B[0m\n\u001B[0;32m   1557\u001B[0m \u001B[38;5;66;03m# If we don't have any hooks, we want to skip the rest of the logic in\u001B[39;00m\n\u001B[0;32m   1558\u001B[0m \u001B[38;5;66;03m# this function, and just call forward.\u001B[39;00m\n\u001B[0;32m   1559\u001B[0m \u001B[38;5;28;01mif\u001B[39;00m \u001B[38;5;129;01mnot\u001B[39;00m (\u001B[38;5;28mself\u001B[39m\u001B[38;5;241m.\u001B[39m_backward_hooks \u001B[38;5;129;01mor\u001B[39;00m \u001B[38;5;28mself\u001B[39m\u001B[38;5;241m.\u001B[39m_backward_pre_hooks \u001B[38;5;129;01mor\u001B[39;00m \u001B[38;5;28mself\u001B[39m\u001B[38;5;241m.\u001B[39m_forward_hooks \u001B[38;5;129;01mor\u001B[39;00m \u001B[38;5;28mself\u001B[39m\u001B[38;5;241m.\u001B[39m_forward_pre_hooks\n\u001B[0;32m   1560\u001B[0m         \u001B[38;5;129;01mor\u001B[39;00m _global_backward_pre_hooks \u001B[38;5;129;01mor\u001B[39;00m _global_backward_hooks\n\u001B[0;32m   1561\u001B[0m         \u001B[38;5;129;01mor\u001B[39;00m _global_forward_hooks \u001B[38;5;129;01mor\u001B[39;00m _global_forward_pre_hooks):\n\u001B[1;32m-> 1562\u001B[0m     \u001B[38;5;28;01mreturn\u001B[39;00m \u001B[43mforward_call\u001B[49m\u001B[43m(\u001B[49m\u001B[38;5;241;43m*\u001B[39;49m\u001B[43margs\u001B[49m\u001B[43m,\u001B[49m\u001B[43m \u001B[49m\u001B[38;5;241;43m*\u001B[39;49m\u001B[38;5;241;43m*\u001B[39;49m\u001B[43mkwargs\u001B[49m\u001B[43m)\u001B[49m\n\u001B[0;32m   1564\u001B[0m \u001B[38;5;28;01mtry\u001B[39;00m:\n\u001B[0;32m   1565\u001B[0m     result \u001B[38;5;241m=\u001B[39m \u001B[38;5;28;01mNone\u001B[39;00m\n",
      "File \u001B[1;32mE:\\WYX_Project\\SAT-CGCN-Demo-1\\csat\\layers.py:301\u001B[0m, in \u001B[0;36mKHopStructureExtractor.forward\u001B[1;34m(self, x, edge_index, subgraph_edge_index, edge_attr, subgraph_indicator_index, subgraph_node_index, subgraph_edge_attr)\u001B[0m\n\u001B[0;32m    297\u001B[0m \u001B[38;5;28;01mdef\u001B[39;00m \u001B[38;5;21mforward\u001B[39m(\u001B[38;5;28mself\u001B[39m, x, edge_index, subgraph_edge_index, edge_attr\u001B[38;5;241m=\u001B[39m\u001B[38;5;28;01mNone\u001B[39;00m,\n\u001B[0;32m    298\u001B[0m         subgraph_indicator_index\u001B[38;5;241m=\u001B[39m\u001B[38;5;28;01mNone\u001B[39;00m, subgraph_node_index\u001B[38;5;241m=\u001B[39m\u001B[38;5;28;01mNone\u001B[39;00m,\n\u001B[0;32m    299\u001B[0m         subgraph_edge_attr\u001B[38;5;241m=\u001B[39m\u001B[38;5;28;01mNone\u001B[39;00m):\n\u001B[1;32m--> 301\u001B[0m     x_struct \u001B[38;5;241m=\u001B[39m \u001B[38;5;28;43mself\u001B[39;49m\u001B[38;5;241;43m.\u001B[39;49m\u001B[43mstructure_extractor\u001B[49m\u001B[43m(\u001B[49m\n\u001B[0;32m    302\u001B[0m \u001B[43m        \u001B[49m\u001B[43mx\u001B[49m\u001B[38;5;241;43m=\u001B[39;49m\u001B[43mx\u001B[49m\u001B[43m[\u001B[49m\u001B[43msubgraph_node_index\u001B[49m\u001B[43m]\u001B[49m\u001B[43m,\u001B[49m\n\u001B[0;32m    303\u001B[0m \u001B[43m        \u001B[49m\u001B[43medge_index\u001B[49m\u001B[38;5;241;43m=\u001B[39;49m\u001B[43msubgraph_edge_index\u001B[49m\u001B[43m,\u001B[49m\n\u001B[0;32m    304\u001B[0m \u001B[43m        \u001B[49m\u001B[43medge_attr\u001B[49m\u001B[38;5;241;43m=\u001B[39;49m\u001B[43msubgraph_edge_attr\u001B[49m\u001B[43m,\u001B[49m\n\u001B[0;32m    305\u001B[0m \u001B[43m        \u001B[49m\u001B[43msubgraph_indicator_index\u001B[49m\u001B[38;5;241;43m=\u001B[39;49m\u001B[43msubgraph_indicator_index\u001B[49m\u001B[43m,\u001B[49m\n\u001B[0;32m    306\u001B[0m \u001B[43m        \u001B[49m\u001B[43magg\u001B[49m\u001B[38;5;241;43m=\u001B[39;49m\u001B[38;5;124;43m\"\u001B[39;49m\u001B[38;5;124;43msum\u001B[39;49m\u001B[38;5;124;43m\"\u001B[39;49m\u001B[43m,\u001B[49m\n\u001B[0;32m    307\u001B[0m \u001B[43m    \u001B[49m\u001B[43m)\u001B[49m\n\u001B[0;32m    308\u001B[0m     x_struct \u001B[38;5;241m=\u001B[39m torch\u001B[38;5;241m.\u001B[39mcat([x, x_struct], dim\u001B[38;5;241m=\u001B[39m\u001B[38;5;241m-\u001B[39m\u001B[38;5;241m1\u001B[39m)\n\u001B[0;32m    309\u001B[0m     \u001B[38;5;28;01mif\u001B[39;00m \u001B[38;5;28mself\u001B[39m\u001B[38;5;241m.\u001B[39mbatch_norm:\n",
      "File \u001B[1;32mE:\\anaconda3\\envs\\pytorch\\lib\\site-packages\\torch\\nn\\modules\\module.py:1553\u001B[0m, in \u001B[0;36mModule._wrapped_call_impl\u001B[1;34m(self, *args, **kwargs)\u001B[0m\n\u001B[0;32m   1551\u001B[0m     \u001B[38;5;28;01mreturn\u001B[39;00m \u001B[38;5;28mself\u001B[39m\u001B[38;5;241m.\u001B[39m_compiled_call_impl(\u001B[38;5;241m*\u001B[39margs, \u001B[38;5;241m*\u001B[39m\u001B[38;5;241m*\u001B[39mkwargs)  \u001B[38;5;66;03m# type: ignore[misc]\u001B[39;00m\n\u001B[0;32m   1552\u001B[0m \u001B[38;5;28;01melse\u001B[39;00m:\n\u001B[1;32m-> 1553\u001B[0m     \u001B[38;5;28;01mreturn\u001B[39;00m \u001B[38;5;28;43mself\u001B[39;49m\u001B[38;5;241;43m.\u001B[39;49m\u001B[43m_call_impl\u001B[49m\u001B[43m(\u001B[49m\u001B[38;5;241;43m*\u001B[39;49m\u001B[43margs\u001B[49m\u001B[43m,\u001B[49m\u001B[43m \u001B[49m\u001B[38;5;241;43m*\u001B[39;49m\u001B[38;5;241;43m*\u001B[39;49m\u001B[43mkwargs\u001B[49m\u001B[43m)\u001B[49m\n",
      "File \u001B[1;32mE:\\anaconda3\\envs\\pytorch\\lib\\site-packages\\torch\\nn\\modules\\module.py:1562\u001B[0m, in \u001B[0;36mModule._call_impl\u001B[1;34m(self, *args, **kwargs)\u001B[0m\n\u001B[0;32m   1557\u001B[0m \u001B[38;5;66;03m# If we don't have any hooks, we want to skip the rest of the logic in\u001B[39;00m\n\u001B[0;32m   1558\u001B[0m \u001B[38;5;66;03m# this function, and just call forward.\u001B[39;00m\n\u001B[0;32m   1559\u001B[0m \u001B[38;5;28;01mif\u001B[39;00m \u001B[38;5;129;01mnot\u001B[39;00m (\u001B[38;5;28mself\u001B[39m\u001B[38;5;241m.\u001B[39m_backward_hooks \u001B[38;5;129;01mor\u001B[39;00m \u001B[38;5;28mself\u001B[39m\u001B[38;5;241m.\u001B[39m_backward_pre_hooks \u001B[38;5;129;01mor\u001B[39;00m \u001B[38;5;28mself\u001B[39m\u001B[38;5;241m.\u001B[39m_forward_hooks \u001B[38;5;129;01mor\u001B[39;00m \u001B[38;5;28mself\u001B[39m\u001B[38;5;241m.\u001B[39m_forward_pre_hooks\n\u001B[0;32m   1560\u001B[0m         \u001B[38;5;129;01mor\u001B[39;00m _global_backward_pre_hooks \u001B[38;5;129;01mor\u001B[39;00m _global_backward_hooks\n\u001B[0;32m   1561\u001B[0m         \u001B[38;5;129;01mor\u001B[39;00m _global_forward_hooks \u001B[38;5;129;01mor\u001B[39;00m _global_forward_pre_hooks):\n\u001B[1;32m-> 1562\u001B[0m     \u001B[38;5;28;01mreturn\u001B[39;00m \u001B[43mforward_call\u001B[49m\u001B[43m(\u001B[49m\u001B[38;5;241;43m*\u001B[39;49m\u001B[43margs\u001B[49m\u001B[43m,\u001B[49m\u001B[43m \u001B[49m\u001B[38;5;241;43m*\u001B[39;49m\u001B[38;5;241;43m*\u001B[39;49m\u001B[43mkwargs\u001B[49m\u001B[43m)\u001B[49m\n\u001B[0;32m   1564\u001B[0m \u001B[38;5;28;01mtry\u001B[39;00m:\n\u001B[0;32m   1565\u001B[0m     result \u001B[38;5;241m=\u001B[39m \u001B[38;5;28;01mNone\u001B[39;00m\n",
      "File \u001B[1;32mE:\\WYX_Project\\SAT-CGCN-Demo-1\\csat\\layers.py:238\u001B[0m, in \u001B[0;36mStructureExtractor.forward\u001B[1;34m(self, x, edge_index, edge_attr, subgraph_indicator_index, agg)\u001B[0m\n\u001B[0;32m    236\u001B[0m         x \u001B[38;5;241m=\u001B[39m \u001B[38;5;28mself\u001B[39m\u001B[38;5;241m.\u001B[39mrelu(gcn_layer(x, edge_index))\n\u001B[0;32m    237\u001B[0m     \u001B[38;5;28;01melse\u001B[39;00m:\n\u001B[1;32m--> 238\u001B[0m         x \u001B[38;5;241m=\u001B[39m \u001B[38;5;28mself\u001B[39m\u001B[38;5;241m.\u001B[39mrelu(\u001B[43mgcn_layer\u001B[49m\u001B[43m(\u001B[49m\u001B[43mx\u001B[49m\u001B[43m,\u001B[49m\u001B[43m \u001B[49m\u001B[43medge_index\u001B[49m\u001B[43m,\u001B[49m\u001B[43m \u001B[49m\u001B[43medge_attr\u001B[49m\u001B[38;5;241;43m=\u001B[39;49m\u001B[43medge_attr\u001B[49m\u001B[43m)\u001B[49m)\n\u001B[0;32m    239\u001B[0m \u001B[38;5;28;01melse\u001B[39;00m:\n\u001B[0;32m    240\u001B[0m     x \u001B[38;5;241m=\u001B[39m \u001B[38;5;28mself\u001B[39m\u001B[38;5;241m.\u001B[39mrelu(gcn_layer(x, edge_index))\n",
      "File \u001B[1;32mE:\\anaconda3\\envs\\pytorch\\lib\\site-packages\\torch\\nn\\modules\\module.py:1553\u001B[0m, in \u001B[0;36mModule._wrapped_call_impl\u001B[1;34m(self, *args, **kwargs)\u001B[0m\n\u001B[0;32m   1551\u001B[0m     \u001B[38;5;28;01mreturn\u001B[39;00m \u001B[38;5;28mself\u001B[39m\u001B[38;5;241m.\u001B[39m_compiled_call_impl(\u001B[38;5;241m*\u001B[39margs, \u001B[38;5;241m*\u001B[39m\u001B[38;5;241m*\u001B[39mkwargs)  \u001B[38;5;66;03m# type: ignore[misc]\u001B[39;00m\n\u001B[0;32m   1552\u001B[0m \u001B[38;5;28;01melse\u001B[39;00m:\n\u001B[1;32m-> 1553\u001B[0m     \u001B[38;5;28;01mreturn\u001B[39;00m \u001B[38;5;28;43mself\u001B[39;49m\u001B[38;5;241;43m.\u001B[39;49m\u001B[43m_call_impl\u001B[49m\u001B[43m(\u001B[49m\u001B[38;5;241;43m*\u001B[39;49m\u001B[43margs\u001B[49m\u001B[43m,\u001B[49m\u001B[43m \u001B[49m\u001B[38;5;241;43m*\u001B[39;49m\u001B[38;5;241;43m*\u001B[39;49m\u001B[43mkwargs\u001B[49m\u001B[43m)\u001B[49m\n",
      "File \u001B[1;32mE:\\anaconda3\\envs\\pytorch\\lib\\site-packages\\torch\\nn\\modules\\module.py:1562\u001B[0m, in \u001B[0;36mModule._call_impl\u001B[1;34m(self, *args, **kwargs)\u001B[0m\n\u001B[0;32m   1557\u001B[0m \u001B[38;5;66;03m# If we don't have any hooks, we want to skip the rest of the logic in\u001B[39;00m\n\u001B[0;32m   1558\u001B[0m \u001B[38;5;66;03m# this function, and just call forward.\u001B[39;00m\n\u001B[0;32m   1559\u001B[0m \u001B[38;5;28;01mif\u001B[39;00m \u001B[38;5;129;01mnot\u001B[39;00m (\u001B[38;5;28mself\u001B[39m\u001B[38;5;241m.\u001B[39m_backward_hooks \u001B[38;5;129;01mor\u001B[39;00m \u001B[38;5;28mself\u001B[39m\u001B[38;5;241m.\u001B[39m_backward_pre_hooks \u001B[38;5;129;01mor\u001B[39;00m \u001B[38;5;28mself\u001B[39m\u001B[38;5;241m.\u001B[39m_forward_hooks \u001B[38;5;129;01mor\u001B[39;00m \u001B[38;5;28mself\u001B[39m\u001B[38;5;241m.\u001B[39m_forward_pre_hooks\n\u001B[0;32m   1560\u001B[0m         \u001B[38;5;129;01mor\u001B[39;00m _global_backward_pre_hooks \u001B[38;5;129;01mor\u001B[39;00m _global_backward_hooks\n\u001B[0;32m   1561\u001B[0m         \u001B[38;5;129;01mor\u001B[39;00m _global_forward_hooks \u001B[38;5;129;01mor\u001B[39;00m _global_forward_pre_hooks):\n\u001B[1;32m-> 1562\u001B[0m     \u001B[38;5;28;01mreturn\u001B[39;00m \u001B[43mforward_call\u001B[49m\u001B[43m(\u001B[49m\u001B[38;5;241;43m*\u001B[39;49m\u001B[43margs\u001B[49m\u001B[43m,\u001B[49m\u001B[43m \u001B[49m\u001B[38;5;241;43m*\u001B[39;49m\u001B[38;5;241;43m*\u001B[39;49m\u001B[43mkwargs\u001B[49m\u001B[43m)\u001B[49m\n\u001B[0;32m   1564\u001B[0m \u001B[38;5;28;01mtry\u001B[39;00m:\n\u001B[0;32m   1565\u001B[0m     result \u001B[38;5;241m=\u001B[39m \u001B[38;5;28;01mNone\u001B[39;00m\n",
      "File \u001B[1;32mE:\\anaconda3\\envs\\pytorch\\lib\\site-packages\\torch_geometric\\nn\\conv\\pna_conv.py:167\u001B[0m, in \u001B[0;36mPNAConv.forward\u001B[1;34m(self, x, edge_index, edge_attr)\u001B[0m\n\u001B[0;32m    164\u001B[0m     x \u001B[38;5;241m=\u001B[39m x\u001B[38;5;241m.\u001B[39mview(\u001B[38;5;241m-\u001B[39m\u001B[38;5;241m1\u001B[39m, \u001B[38;5;241m1\u001B[39m, \u001B[38;5;28mself\u001B[39m\u001B[38;5;241m.\u001B[39mF_in)\u001B[38;5;241m.\u001B[39mrepeat(\u001B[38;5;241m1\u001B[39m, \u001B[38;5;28mself\u001B[39m\u001B[38;5;241m.\u001B[39mtowers, \u001B[38;5;241m1\u001B[39m)\n\u001B[0;32m    166\u001B[0m \u001B[38;5;66;03m# propagate_type: (x: Tensor, edge_attr: OptTensor)\u001B[39;00m\n\u001B[1;32m--> 167\u001B[0m out \u001B[38;5;241m=\u001B[39m \u001B[38;5;28;43mself\u001B[39;49m\u001B[38;5;241;43m.\u001B[39;49m\u001B[43mpropagate\u001B[49m\u001B[43m(\u001B[49m\u001B[43medge_index\u001B[49m\u001B[43m,\u001B[49m\u001B[43m \u001B[49m\u001B[43mx\u001B[49m\u001B[38;5;241;43m=\u001B[39;49m\u001B[43mx\u001B[49m\u001B[43m,\u001B[49m\u001B[43m \u001B[49m\u001B[43medge_attr\u001B[49m\u001B[38;5;241;43m=\u001B[39;49m\u001B[43medge_attr\u001B[49m\u001B[43m)\u001B[49m\n\u001B[0;32m    169\u001B[0m out \u001B[38;5;241m=\u001B[39m torch\u001B[38;5;241m.\u001B[39mcat([x, out], dim\u001B[38;5;241m=\u001B[39m\u001B[38;5;241m-\u001B[39m\u001B[38;5;241m1\u001B[39m)\n\u001B[0;32m    170\u001B[0m outs \u001B[38;5;241m=\u001B[39m [nn(out[:, i]) \u001B[38;5;28;01mfor\u001B[39;00m i, nn \u001B[38;5;129;01min\u001B[39;00m \u001B[38;5;28menumerate\u001B[39m(\u001B[38;5;28mself\u001B[39m\u001B[38;5;241m.\u001B[39mpost_nns)]\n",
      "File \u001B[1;32m~\\AppData\\Local\\Temp\\torch_geometric.nn.conv.pna_conv_PNAConv_propagate_u8iub_1q.py:201\u001B[0m, in \u001B[0;36mpropagate\u001B[1;34m(self, edge_index, x, edge_attr, size)\u001B[0m\n\u001B[0;32m    191\u001B[0m             kwargs \u001B[38;5;241m=\u001B[39m CollectArgs(\n\u001B[0;32m    192\u001B[0m                 x_i\u001B[38;5;241m=\u001B[39mhook_kwargs[\u001B[38;5;124m'\u001B[39m\u001B[38;5;124mx_i\u001B[39m\u001B[38;5;124m'\u001B[39m],\n\u001B[0;32m    193\u001B[0m                 x_j\u001B[38;5;241m=\u001B[39mhook_kwargs[\u001B[38;5;124m'\u001B[39m\u001B[38;5;124mx_j\u001B[39m\u001B[38;5;124m'\u001B[39m],\n\u001B[1;32m   (...)\u001B[0m\n\u001B[0;32m    197\u001B[0m                 dim_size\u001B[38;5;241m=\u001B[39mkwargs\u001B[38;5;241m.\u001B[39mdim_size,\n\u001B[0;32m    198\u001B[0m             )\n\u001B[0;32m    199\u001B[0m \u001B[38;5;66;03m# End Message Forward Pre Hook #########################################\u001B[39;00m\n\u001B[1;32m--> 201\u001B[0m out \u001B[38;5;241m=\u001B[39m \u001B[38;5;28;43mself\u001B[39;49m\u001B[38;5;241;43m.\u001B[39;49m\u001B[43mmessage\u001B[49m\u001B[43m(\u001B[49m\n\u001B[0;32m    202\u001B[0m \u001B[43m    \u001B[49m\u001B[43mx_i\u001B[49m\u001B[38;5;241;43m=\u001B[39;49m\u001B[43mkwargs\u001B[49m\u001B[38;5;241;43m.\u001B[39;49m\u001B[43mx_i\u001B[49m\u001B[43m,\u001B[49m\n\u001B[0;32m    203\u001B[0m \u001B[43m    \u001B[49m\u001B[43mx_j\u001B[49m\u001B[38;5;241;43m=\u001B[39;49m\u001B[43mkwargs\u001B[49m\u001B[38;5;241;43m.\u001B[39;49m\u001B[43mx_j\u001B[49m\u001B[43m,\u001B[49m\n\u001B[0;32m    204\u001B[0m \u001B[43m    \u001B[49m\u001B[43medge_attr\u001B[49m\u001B[38;5;241;43m=\u001B[39;49m\u001B[43mkwargs\u001B[49m\u001B[38;5;241;43m.\u001B[39;49m\u001B[43medge_attr\u001B[49m\u001B[43m,\u001B[49m\n\u001B[0;32m    205\u001B[0m \u001B[43m\u001B[49m\u001B[43m)\u001B[49m\n\u001B[0;32m    207\u001B[0m \u001B[38;5;66;03m# Begin Message Forward Hook ###########################################\u001B[39;00m\n\u001B[0;32m    208\u001B[0m \u001B[38;5;28;01mif\u001B[39;00m \u001B[38;5;129;01mnot\u001B[39;00m torch\u001B[38;5;241m.\u001B[39mjit\u001B[38;5;241m.\u001B[39mis_scripting() \u001B[38;5;129;01mand\u001B[39;00m \u001B[38;5;129;01mnot\u001B[39;00m is_compiling():\n",
      "File \u001B[1;32mE:\\anaconda3\\envs\\pytorch\\lib\\site-packages\\torch_geometric\\nn\\conv\\pna_conv.py:183\u001B[0m, in \u001B[0;36mPNAConv.message\u001B[1;34m(self, x_i, x_j, edge_attr)\u001B[0m\n\u001B[0;32m    181\u001B[0m     edge_attr \u001B[38;5;241m=\u001B[39m edge_attr\u001B[38;5;241m.\u001B[39mview(\u001B[38;5;241m-\u001B[39m\u001B[38;5;241m1\u001B[39m, \u001B[38;5;241m1\u001B[39m, \u001B[38;5;28mself\u001B[39m\u001B[38;5;241m.\u001B[39mF_in)\n\u001B[0;32m    182\u001B[0m     edge_attr \u001B[38;5;241m=\u001B[39m edge_attr\u001B[38;5;241m.\u001B[39mrepeat(\u001B[38;5;241m1\u001B[39m, \u001B[38;5;28mself\u001B[39m\u001B[38;5;241m.\u001B[39mtowers, \u001B[38;5;241m1\u001B[39m)\n\u001B[1;32m--> 183\u001B[0m     h \u001B[38;5;241m=\u001B[39m \u001B[43mtorch\u001B[49m\u001B[38;5;241;43m.\u001B[39;49m\u001B[43mcat\u001B[49m\u001B[43m(\u001B[49m\u001B[43m[\u001B[49m\u001B[43mx_i\u001B[49m\u001B[43m,\u001B[49m\u001B[43m \u001B[49m\u001B[43mx_j\u001B[49m\u001B[43m,\u001B[49m\u001B[43m \u001B[49m\u001B[43medge_attr\u001B[49m\u001B[43m]\u001B[49m\u001B[43m,\u001B[49m\u001B[43m \u001B[49m\u001B[43mdim\u001B[49m\u001B[38;5;241;43m=\u001B[39;49m\u001B[38;5;241;43m-\u001B[39;49m\u001B[38;5;241;43m1\u001B[39;49m\u001B[43m)\u001B[49m\n\u001B[0;32m    184\u001B[0m \u001B[38;5;28;01melse\u001B[39;00m:\n\u001B[0;32m    185\u001B[0m     h \u001B[38;5;241m=\u001B[39m torch\u001B[38;5;241m.\u001B[39mcat([x_i, x_j], dim\u001B[38;5;241m=\u001B[39m\u001B[38;5;241m-\u001B[39m\u001B[38;5;241m1\u001B[39m)\n",
      "\u001B[1;31mRuntimeError\u001B[0m: Sizes of tensors must match except in dimension 2. Expected size 2844 but got size 116604 for tensor number 2 in the list."
     ]
    }
   ],
   "execution_count": 150
  }
 ],
 "metadata": {
  "kernelspec": {
   "display_name": "Python 3",
   "language": "python",
   "name": "python3"
  },
  "language_info": {
   "codemirror_mode": {
    "name": "ipython",
    "version": 2
   },
   "file_extension": ".py",
   "mimetype": "text/x-python",
   "name": "python",
   "nbconvert_exporter": "python",
   "pygments_lexer": "ipython2",
   "version": "2.7.6"
  }
 },
 "nbformat": 4,
 "nbformat_minor": 5
}
