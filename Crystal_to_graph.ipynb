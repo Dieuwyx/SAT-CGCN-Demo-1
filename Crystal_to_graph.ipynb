{
 "cells": [
  {
   "metadata": {},
   "cell_type": "markdown",
   "source": "首先使用CGCNN的CIFdataset将晶体数据整合",
   "id": "c71ee3611942cb7a"
  },
  {
   "metadata": {
    "ExecuteTime": {
     "end_time": "2025-03-07T11:45:45.624765Z",
     "start_time": "2025-03-07T11:44:55.412504Z"
    }
   },
   "cell_type": "code",
   "source": [
    "from networkx.generators.directed import gn_graph\n",
    "\n",
    "from cgcnn.data import CIFData\n",
    "from tqdm import tqdm\n",
    "import warnings\n",
    "warnings.filterwarnings(\"ignore\")\n",
    "\n",
    "si_dataset = './crystal_dataset'\n",
    "si_data = CIFData(si_dataset)\n",
    "data_len = len(si_data)\n",
    "print(si_data)\n",
    "print(len(si_data))"
   ],
   "id": "dea40cbc5de256d8",
   "outputs": [
    {
     "name": "stdout",
     "output_type": "stream",
     "text": [
      "<cgcnn.data.CIFData object at 0x000001F945221E50>\n",
      "5000\n"
     ]
    }
   ],
   "execution_count": 1
  },
  {
   "metadata": {},
   "cell_type": "markdown",
   "source": [
    "si_data 在经历了`CIFData`之后，有5000的长度，说明有5000张图\n",
    "\n",
    "下面依次构建5000个graph的信息\n",
    "\n",
    "structure含有`(atom_fea,nbr_fea,nbr_fea_idx)`\n",
    "target含有CSV表中的target值\n",
    "cif_id是晶体代号\n"
   ],
   "id": "60e6f8c8f8e69168"
  },
  {
   "metadata": {
    "ExecuteTime": {
     "end_time": "2025-03-07T11:51:59.029393Z",
     "start_time": "2025-03-07T11:45:53.517617Z"
    }
   },
   "cell_type": "code",
   "source": [
    "# 要构建5000张graph\n",
    "structures = []\n",
    "target = []\n",
    "cif_id = []\n",
    "for i in tqdm(range(0,data_len)):\n",
    "    structures.append(si_data[i][0])\n",
    "    target.append(si_data[i][1])\n",
    "    cif_id.append(si_data[i][2])\n",
    "\n",
    "print(len(structures),len(target),len(cif_id))\n"
   ],
   "id": "529ac54c165022f2",
   "outputs": [
    {
     "name": "stderr",
     "output_type": "stream",
     "text": [
      "100%|██████████| 5000/5000 [06:05<00:00, 13.68it/s]"
     ]
    },
    {
     "name": "stdout",
     "output_type": "stream",
     "text": [
      "5000 5000 5000\n"
     ]
    },
    {
     "name": "stderr",
     "output_type": "stream",
     "text": [
      "\n"
     ]
    }
   ],
   "execution_count": 2
  },
  {
   "metadata": {},
   "cell_type": "markdown",
   "source": [
    "x 对应 atom_fea\n",
    "edge_index 对应 nbr_fea_idx\n",
    "edge_attr 对应 nbr_fea"
   ],
   "id": "4257d2fedebebbf4"
  },
  {
   "metadata": {
    "ExecuteTime": {
     "end_time": "2025-03-07T14:28:34.180277Z",
     "start_time": "2025-03-07T14:28:34.000764Z"
    }
   },
   "cell_type": "code",
   "source": [
    "from torch_geometric.data import Data\n",
    "geometric_data = []\n",
    "for i in tqdm(range(0,data_len)):\n",
    "    geometric_data.append(Data(x = structures[i][0],\n",
    "                             edge_attr = structures[i][2],\n",
    "                             edge_index = structures[2][1],\n",
    "                             y = target[i]))\n",
    "print('len of geometric_data',len(geometric_data))\n",
    "print(geometric_data[0])\n",
    "print(\"x的维度\",geometric_data[0].x.shape)\n",
    "print(\"edge_index的维度\",geometric_data[0].edge_index.shape)"
   ],
   "id": "931a13d94624895c",
   "outputs": [
    {
     "name": "stderr",
     "output_type": "stream",
     "text": [
      "100%|██████████| 5000/5000 [00:00<00:00, 29939.51it/s]"
     ]
    },
    {
     "name": "stdout",
     "output_type": "stream",
     "text": [
      "len of geometric_data 5000\n",
      "Data(x=[114, 92], edge_index=[16, 12, 41], edge_attr=[114, 12], y=[1])\n",
      "x的维度 torch.Size([114, 92])\n",
      "edge_index的维度 torch.Size([16, 12, 41])\n"
     ]
    },
    {
     "name": "stderr",
     "output_type": "stream",
     "text": [
      "\n"
     ]
    }
   ],
   "execution_count": 27
  },
  {
   "metadata": {},
   "cell_type": "markdown",
   "source": "从这里可以看到，晶体数据集有一个特殊的地方在于，他的邻接矩阵是三维的，后面需要对其进行降维",
   "id": "17cb3bd8238b645"
  },
  {
   "metadata": {
    "ExecuteTime": {
     "end_time": "2025-03-07T14:39:03.068344Z",
     "start_time": "2025-03-07T14:38:59.377491Z"
    }
   },
   "cell_type": "code",
   "source": [
    "from sat.data import GraphDataset\n",
    "k_hop = 2\n",
    "se = 'gnn'\n",
    "use_edge_attr = True\n",
    "\n",
    "for i in tqdm(range(0,data_len)):\n",
    "    # 修改为long()格式\n",
    "    geometric_data[i].edge_index = geometric_data[i].edge_index.long()\n",
    "\n",
    "si_graph_data = GraphDataset(geometric_data,degree=True, k_hop=k_hop, se=se,\n",
    "       use_subgraph_edge_attr=use_edge_attr)"
   ],
   "id": "57485cb7f6511810",
   "outputs": [
    {
     "name": "stderr",
     "output_type": "stream",
     "text": [
      "100%|██████████| 5000/5000 [00:00<00:00, 6957.79it/s]\n"
     ]
    }
   ],
   "execution_count": 31
  },
  {
   "metadata": {},
   "cell_type": "markdown",
   "source": [
    "发现问题：\n",
    "晶体数据的edge_index是三维的，而在SAT的graphdataset中图数据edge_index是二维的，所以我们这里需要设计算法，给晶体的邻接矩阵降维。\n",
    "接下来，以第一张图的邻接矩阵做示范："
   ],
   "id": "655d1e55d6cf8fe0"
  },
  {
   "metadata": {
    "ExecuteTime": {
     "end_time": "2025-03-07T14:39:11.241367Z",
     "start_time": "2025-03-07T14:39:11.233322Z"
    }
   },
   "cell_type": "code",
   "source": [
    "edge_index_0 = geometric_data[0].edge_index\n",
    "print('降维前：',edge_index_0.shape)\n",
    "edge_index_0 = edge_index_0.view(-1, edge_index_0.size(-1))\n",
    "print('降维后：',edge_index_0.shape)"
   ],
   "id": "19fabe0560c8ad83",
   "outputs": [
    {
     "name": "stdout",
     "output_type": "stream",
     "text": [
      "降维前： torch.Size([192, 41])\n",
      "降维后： torch.Size([192, 41])\n"
     ]
    }
   ],
   "execution_count": 32
  },
  {
   "metadata": {},
   "cell_type": "markdown",
   "source": "然后进行批量的降维",
   "id": "c12b495d77368a1b"
  },
  {
   "metadata": {
    "ExecuteTime": {
     "end_time": "2025-03-07T14:39:14.309373Z",
     "start_time": "2025-03-07T14:39:13.476330Z"
    }
   },
   "cell_type": "code",
   "source": [
    "for i in tqdm(range(0,data_len)):\n",
    "    # 降维成二维\n",
    "    edge_index = geometric_data[i].edge_index\n",
    "    edge_index = edge_index.view(-1, edge_index.size(-1))\n",
    "    geometric_data[i].edge_index = edge_index\n",
    "\n",
    "\n",
    "print(geometric_data[0].edge_index.shape)\n",
    "si_graph_data = GraphDataset(geometric_data,degree=True, k_hop=k_hop, se=se,\n",
    "       use_subgraph_edge_attr=use_edge_attr)"
   ],
   "id": "e570ad45e78f7f7f",
   "outputs": [
    {
     "name": "stderr",
     "output_type": "stream",
     "text": [
      "100%|██████████| 5000/5000 [00:00<00:00, 45165.12it/s]\n"
     ]
    },
    {
     "name": "stdout",
     "output_type": "stream",
     "text": [
      "torch.Size([192, 41])\n"
     ]
    }
   ],
   "execution_count": 33
  },
  {
   "metadata": {},
   "cell_type": "markdown",
   "source": [
    "错误分析\n",
    "index 的值超出范围：\n",
    "\n",
    "g.edge_index[0] 是边的源节点索引，它的值必须在 [0, num_nodes - 1] 范围内。\n",
    "如果 g.edge_index[0] 包含的值大于或等于 num_nodes，scatter_add_ 会抛出 RuntimeError。\n",
    "num_nodes 的值不正确：\n",
    "\n",
    "num_nodes 是图中节点的数量，通常通过 g.num_nodes 获取。\n",
    "如果 num_nodes 的值不正确（例如小于 g.edge_index[0] 的最大值），也会导致错误"
   ],
   "id": "c855fbfb3ec180df"
  },
  {
   "metadata": {
    "ExecuteTime": {
     "end_time": "2025-03-07T14:35:24.795196Z",
     "start_time": "2025-03-07T14:35:24.767660Z"
    }
   },
   "cell_type": "code",
   "source": [
    "print(\"边的索引值\",edge_index_0[0].max().item())\n",
    "print(\"num_nodes\", geometric_data[0].num_nodes)"
   ],
   "id": "55cea011da316ff4",
   "outputs": [
    {
     "name": "stdout",
     "output_type": "stream",
     "text": [
      "边的索引值 0.9992625713348389\n",
      "num_nodes 114\n"
     ]
    }
   ],
   "execution_count": 30
  },
  {
   "metadata": {
    "ExecuteTime": {
     "end_time": "2025-03-08T03:25:51.905525Z",
     "start_time": "2025-03-08T03:25:51.885930Z"
    }
   },
   "cell_type": "code",
   "source": [
    "def c_to_g(g):\n",
    "    structures = []  # (atom_fea, nbr_fea, nbr_fea_idx)\n",
    "    target = []\n",
    "    cif_id = []\n",
    "    g_list = []\n",
    "    data_len = len(g)\n",
    "\n",
    "\n",
    "    for i in tqdm(range(0, data_len)):\n",
    "        # 修改为long()格式\n",
    "        structures.append(g[i][0])\n",
    "        target.append(g[i][1])\n",
    "        cif_id.append(g[i][2])\n",
    "        g_list.append(Data(x = structures[i][0],\n",
    "                             edge_attr = structures[i][2],\n",
    "                             edge_index = structures[i][1],\n",
    "                             y = target[i]))\n",
    "        g_list[i].edge_index = g[i].edge_index.long()\n",
    "        # 降维成二维\n",
    "        edge_index = g_list[i].edge_index\n",
    "        edge_index = edge_index.view(-1, edge_index.size(-1))\n",
    "        g_list[i].edge_index = edge_index\n",
    "\n",
    "    print(\"转换完成！\")\n",
    "\n",
    "    return g_list"
   ],
   "id": "ab1470c2c70fb4a2",
   "outputs": [],
   "execution_count": 1
  },
  {
   "metadata": {
    "ExecuteTime": {
     "end_time": "2025-03-08T03:29:02.286874Z",
     "start_time": "2025-03-08T03:27:42.188093Z"
    }
   },
   "cell_type": "code",
   "source": [
    "from cgcnn.data import collate_pool\n",
    "from cgcnn.data import get_train_val_test_loader\n",
    "collate_fn = collate_pool\n",
    "#\n",
    "from torch.utils.data.sampler import SubsetRandomSampler\n",
    "from torch_geometric.data import DataLoader\n",
    "train_ratio = 0.8\n",
    "total_size = 5000\n",
    "indices = list(range(total_size))\n",
    "train_size = int(train_ratio * total_size)\n",
    "train_sampler = SubsetRandomSampler(indices[:train_size])\n",
    "print(train_sampler)\n",
    "\n",
    "train_loader = DataLoader(si_graph_data, batch_size=128,\n",
    "                              sampler=train_sampler,\n",
    "                              num_workers=1,\n",
    "                              collate_fn=collate_fn, pin_memory=True)"
   ],
   "id": "36c8916732666f1e",
   "outputs": [
    {
     "name": "stdout",
     "output_type": "stream",
     "text": [
      "<torch.utils.data.sampler.SubsetRandomSampler object at 0x0000026E9E630CD0>\n"
     ]
    },
    {
     "ename": "NameError",
     "evalue": "name 'si_graph_data' is not defined",
     "output_type": "error",
     "traceback": [
      "\u001B[1;31m---------------------------------------------------------------------------\u001B[0m",
      "\u001B[1;31mNameError\u001B[0m                                 Traceback (most recent call last)",
      "Cell \u001B[1;32mIn[2], line 14\u001B[0m\n\u001B[0;32m     11\u001B[0m train_sampler \u001B[38;5;241m=\u001B[39m SubsetRandomSampler(indices[:train_size])\n\u001B[0;32m     12\u001B[0m \u001B[38;5;28mprint\u001B[39m(train_sampler)\n\u001B[1;32m---> 14\u001B[0m train_loader \u001B[38;5;241m=\u001B[39m DataLoader(\u001B[43msi_graph_data\u001B[49m, batch_size\u001B[38;5;241m=\u001B[39m\u001B[38;5;241m128\u001B[39m,\n\u001B[0;32m     15\u001B[0m                               sampler\u001B[38;5;241m=\u001B[39mtrain_sampler,\n\u001B[0;32m     16\u001B[0m                               num_workers\u001B[38;5;241m=\u001B[39m\u001B[38;5;241m1\u001B[39m,\n\u001B[0;32m     17\u001B[0m                               collate_fn\u001B[38;5;241m=\u001B[39mcollate_fn, pin_memory\u001B[38;5;241m=\u001B[39m\u001B[38;5;28;01mTrue\u001B[39;00m)\n",
      "\u001B[1;31mNameError\u001B[0m: name 'si_graph_data' is not defined"
     ]
    }
   ],
   "execution_count": 2
  }
 ],
 "metadata": {
  "kernelspec": {
   "display_name": "Python 3",
   "language": "python",
   "name": "python3"
  },
  "language_info": {
   "codemirror_mode": {
    "name": "ipython",
    "version": 2
   },
   "file_extension": ".py",
   "mimetype": "text/x-python",
   "name": "python",
   "nbconvert_exporter": "python",
   "pygments_lexer": "ipython2",
   "version": "2.7.6"
  }
 },
 "nbformat": 4,
 "nbformat_minor": 5
}
